{
  "cells": [
    {
      "cell_type": "markdown",
      "metadata": {
        "id": "view-in-github",
        "colab_type": "text"
      },
      "source": [
        "<a href=\"https://colab.research.google.com/github/Ananassio/Data-Science_lab/blob/main/week_5/5_a_Classification.ipynb\" target=\"_parent\"><img src=\"https://colab.research.google.com/assets/colab-badge.svg\" alt=\"Open In Colab\"/></a>"
      ]
    },
    {
      "cell_type": "markdown",
      "metadata": {
        "id": "Nk2ioDy5FkNP"
      },
      "source": [
        "# Week 5: Returning to MNIST Classification"
      ]
    },
    {
      "cell_type": "markdown",
      "metadata": {
        "id": "8WrEpHAAFkNV"
      },
      "source": [
        "## MNIST Data\n",
        "In these exercises we are using the MNIST data set on handwritten digits to compare supervised classification algorithms...   "
      ]
    },
    {
      "cell_type": "code",
      "execution_count": 5,
      "metadata": {
        "id": "IAUxzso-FkNZ"
      },
      "outputs": [],
      "source": [
        "#imports \n",
        "import matplotlib.pyplot as plt\n",
        "import numpy as np\n",
        "from sklearn.datasets import fetch_openml"
      ]
    },
    {
      "cell_type": "code",
      "execution_count": 6,
      "metadata": {
        "id": "OY5E1OKYFkNd"
      },
      "outputs": [],
      "source": [
        "# Load data from https://www.openml.org/d/554\n",
        "X, y = fetch_openml('mnist_784', version=1, return_X_y=True)\n"
      ]
    },
    {
      "cell_type": "markdown",
      "metadata": {
        "id": "hWPo6P7VFkNf"
      },
      "source": [
        "#the full MNIST data set contains 70k samples of digits 0-9 as 28*28 gray scale images (represented as 784 dim vectors)\n",
        "np.shape(X)"
      ]
    },
    {
      "cell_type": "code",
      "execution_count": 7,
      "metadata": {
        "id": "EDzc6BT3FkNh",
        "outputId": "b55c4c96-f4b8-4741-a5ac-6eb608b44d9f",
        "colab": {
          "base_uri": "https://localhost:8080/"
        }
      },
      "outputs": [
        {
          "output_type": "execute_result",
          "data": {
            "text/plain": [
              "(70000, 784)"
            ]
          },
          "metadata": {},
          "execution_count": 7
        }
      ],
      "source": [
        "np.shape(X)"
      ]
    },
    {
      "cell_type": "code",
      "execution_count": 8,
      "metadata": {
        "id": "ESy0YOjOFkNj"
      },
      "outputs": [],
      "source": [
        "#the full MNIST data set contains 70k samples of digits 0-9 as 28*28 gray scale images (represented as 784 dim vectors)\n",
        "X = np.array(X)\n",
        "y = np.array(y)"
      ]
    },
    {
      "cell_type": "markdown",
      "metadata": {
        "id": "TT_W1PMSFkNl"
      },
      "source": [
        "### E1.1: Use SkLearn methods to split the MNIST data into random train and test sets. Use 60k samples for training.  \n"
      ]
    },
    {
      "cell_type": "code",
      "source": [
        "#randomly split into train and test data\n",
        "from sklearn.model_selection import train_test_split\n",
        "X_train, X_test, y_train, y_test = train_test_split(X, y, test_size=0.15, random_state=42)"
      ],
      "metadata": {
        "id": "4rDDOPqMGU4m"
      },
      "execution_count": 9,
      "outputs": []
    },
    {
      "cell_type": "markdown",
      "metadata": {
        "id": "QvEPB5Y2FkNn"
      },
      "source": [
        "### E1.2: Train models on the train data.\n",
        "Train the following models with default parameters on the train data.\n",
        "* [Naive Bayes](https://scikit-learn.org/stable/modules/generated/sklearn.naive_bayes.GaussianNB.html#sklearn.naive_bayes.GaussianNB) (assuming a Gaussian distribution of the data)\n",
        "* [Simple linear model](https://scikit-learn.org/stable/modules/generated/sklearn.linear_model.SGDClassifier.html#sklearn.linear_model.SGDClassifier)\n",
        "   * use ``loss='log'`` to reproduce our logistic loss function \n",
        "* [Random Forest](https://scikit-learn.org/stable/modules/generated/sklearn.ensemble.RandomForestClassifier.html#sklearn.ensemble.RandomForestClassifier)\n",
        "\n",
        "Compare the training accuracy (https://scikit-learn.org/stable/modules/generated/sklearn.metrics.accuracy_score.html#sklearn.metrics.accuracy_score) and [confusion matrix](https://scikit-learn.org/stable/modules/generated/sklearn.metrics.confusion_matrix.html#sklearn.metrics.confusion_matrix) for all three models."
      ]
    },
    {
      "cell_type": "code",
      "source": [
        "# Naive Bayes\n",
        "from sklearn.naive_bayes import GaussianNB\n",
        "bayes = GaussianNB()\n",
        "bayes.fit(X_train, y_train)\n",
        "pred = bayes.predict(X_test)"
      ],
      "metadata": {
        "id": "2x_isH7_GbSU"
      },
      "execution_count": 10,
      "outputs": []
    },
    {
      "cell_type": "code",
      "source": [
        "#train error\n",
        "from sklearn.metrics import accuracy_score\n",
        "from sklearn.metrics import confusion_matrix"
      ],
      "metadata": {
        "id": "7ATuSjKPHRyD"
      },
      "execution_count": 11,
      "outputs": []
    },
    {
      "cell_type": "code",
      "source": [
        "#Bayes\n",
        "accuracy_score(y_test,bayes.predict(X_test))"
      ],
      "metadata": {
        "id": "D2VjNppAH5Yo",
        "outputId": "f905dd97-b0ff-4935-ebb2-ef9c1e9bf263",
        "colab": {
          "base_uri": "https://localhost:8080/"
        }
      },
      "execution_count": 42,
      "outputs": [
        {
          "output_type": "execute_result",
          "data": {
            "text/plain": [
              "0.5605714285714286"
            ]
          },
          "metadata": {},
          "execution_count": 42
        }
      ]
    },
    {
      "cell_type": "code",
      "source": [
        "confusion_matrix(y_test,bayes.predict(X_test))"
      ],
      "metadata": {
        "id": "XTgEfzEwH72G",
        "outputId": "c8fc7e75-8b34-4716-c7f7-454f8425041b",
        "colab": {
          "base_uri": "https://localhost:8080/"
        }
      },
      "execution_count": 41,
      "outputs": [
        {
          "output_type": "execute_result",
          "data": {
            "text/plain": [
              "array([[ 939,    1,    6,    0,    3,    1,   36,    2,   28,   19],\n",
              "       [   2, 1151,    3,    4,    0,    2,   11,    0,   22,   10],\n",
              "       [ 104,   32,  313,   70,    4,    5,  244,    0,  237,   10],\n",
              "       [  66,   49,    9,  383,    0,    6,   55,    8,  376,  129],\n",
              "       [  36,    6,   14,    5,  139,    6,  103,    4,  213,  442],\n",
              "       [ 115,   25,    6,   18,    3,   53,   53,    3,  592,  102],\n",
              "       [  11,   21,    4,    0,    1,    4,  942,    0,   23,    3],\n",
              "       [   5,    8,    2,   14,    6,    2,    2,  332,   30,  709],\n",
              "       [  22,  121,    4,   10,    2,    2,   20,    2,  608,  225],\n",
              "       [   6,    5,    6,    1,    5,    0,    1,   15,   22, 1026]])"
            ]
          },
          "metadata": {},
          "execution_count": 41
        }
      ]
    },
    {
      "cell_type": "code",
      "source": [
        "# Simple linear model\n",
        "from sklearn.linear_model import SGDClassifier\n",
        "from sklearn.preprocessing import StandardScaler\n",
        "from sklearn.pipeline import make_pipeline"
      ],
      "metadata": {
        "id": "1BaIgvneIHEl"
      },
      "execution_count": 14,
      "outputs": []
    },
    {
      "cell_type": "code",
      "source": [
        "slm = SGDClassifier(loss = 'log',max_iter=1000, tol=1e-3)"
      ],
      "metadata": {
        "id": "16hRE0bJItoG"
      },
      "execution_count": 15,
      "outputs": []
    },
    {
      "cell_type": "code",
      "source": [
        "slm.fit(X_train, y_train)"
      ],
      "metadata": {
        "id": "specMvfEI4n8",
        "outputId": "678e0382-7c1d-4f36-bf3d-8616a8cfe35d",
        "colab": {
          "base_uri": "https://localhost:8080/"
        }
      },
      "execution_count": 16,
      "outputs": [
        {
          "output_type": "execute_result",
          "data": {
            "text/plain": [
              "SGDClassifier(loss='log')"
            ]
          },
          "metadata": {},
          "execution_count": 16
        }
      ]
    },
    {
      "cell_type": "code",
      "source": [
        "pred_slm = slm.predict(X_test)"
      ],
      "metadata": {
        "id": "ftguZnqwJHau"
      },
      "execution_count": 43,
      "outputs": []
    },
    {
      "cell_type": "code",
      "source": [
        "accuracy_score(y_test,pred_slm)"
      ],
      "metadata": {
        "id": "1FB8ZBa6LY5D",
        "outputId": "536a282f-e735-4b2d-9ceb-7ae47891c644",
        "colab": {
          "base_uri": "https://localhost:8080/"
        }
      },
      "execution_count": 44,
      "outputs": [
        {
          "output_type": "execute_result",
          "data": {
            "text/plain": [
              "0.8842857142857142"
            ]
          },
          "metadata": {},
          "execution_count": 44
        }
      ]
    },
    {
      "cell_type": "code",
      "source": [
        "confusion_matrix(y_test,bayes.predict(X_test))"
      ],
      "metadata": {
        "id": "U9LKPmtGLfXR",
        "outputId": "ef6c7b32-9802-4708-b835-0e11fe869a59",
        "colab": {
          "base_uri": "https://localhost:8080/"
        }
      },
      "execution_count": 45,
      "outputs": [
        {
          "output_type": "execute_result",
          "data": {
            "text/plain": [
              "array([[ 939,    1,    6,    0,    3,    1,   36,    2,   28,   19],\n",
              "       [   2, 1151,    3,    4,    0,    2,   11,    0,   22,   10],\n",
              "       [ 104,   32,  313,   70,    4,    5,  244,    0,  237,   10],\n",
              "       [  66,   49,    9,  383,    0,    6,   55,    8,  376,  129],\n",
              "       [  36,    6,   14,    5,  139,    6,  103,    4,  213,  442],\n",
              "       [ 115,   25,    6,   18,    3,   53,   53,    3,  592,  102],\n",
              "       [  11,   21,    4,    0,    1,    4,  942,    0,   23,    3],\n",
              "       [   5,    8,    2,   14,    6,    2,    2,  332,   30,  709],\n",
              "       [  22,  121,    4,   10,    2,    2,   20,    2,  608,  225],\n",
              "       [   6,    5,    6,    1,    5,    0,    1,   15,   22, 1026]])"
            ]
          },
          "metadata": {},
          "execution_count": 45
        }
      ]
    },
    {
      "cell_type": "code",
      "source": [
        "# Random forest\n",
        "from sklearn.ensemble import RandomForestClassifier\n",
        "from sklearn.datasets import make_classification"
      ],
      "metadata": {
        "id": "QlFxP_ZiMft-"
      },
      "execution_count": 26,
      "outputs": []
    },
    {
      "cell_type": "code",
      "source": [
        "RFC = RandomForestClassifier( random_state=0)"
      ],
      "metadata": {
        "id": "a2lgbqzEM1Tz"
      },
      "execution_count": 32,
      "outputs": []
    },
    {
      "cell_type": "code",
      "source": [
        "RFC.fit(X_train, y_train)"
      ],
      "metadata": {
        "id": "UNK-CXRkNRQ5",
        "outputId": "ef4307e3-0ea3-4e62-decb-2b53dcd6be35",
        "colab": {
          "base_uri": "https://localhost:8080/"
        }
      },
      "execution_count": 33,
      "outputs": [
        {
          "output_type": "execute_result",
          "data": {
            "text/plain": [
              "RandomForestClassifier(random_state=0)"
            ]
          },
          "metadata": {},
          "execution_count": 33
        }
      ]
    },
    {
      "cell_type": "code",
      "source": [
        "pred_RFC = RFC.predict(X_test)"
      ],
      "metadata": {
        "id": "vbFcRCbpNYPE"
      },
      "execution_count": 37,
      "outputs": []
    },
    {
      "cell_type": "code",
      "source": [
        "accuracy_score(y_test,pred_RFC)"
      ],
      "metadata": {
        "id": "CzxYlpYkNoK8",
        "outputId": "9800197f-1d22-4ed1-c49a-428928f123d9",
        "colab": {
          "base_uri": "https://localhost:8080/"
        }
      },
      "execution_count": 38,
      "outputs": [
        {
          "output_type": "execute_result",
          "data": {
            "text/plain": [
              "0.9674285714285714"
            ]
          },
          "metadata": {},
          "execution_count": 38
        }
      ]
    },
    {
      "cell_type": "code",
      "source": [
        "confusion_matrix(y_test,bayes.predict(X_test))"
      ],
      "metadata": {
        "id": "o3R_QUL5Nrot",
        "outputId": "3df8ec3e-e237-4259-e3c0-945c064d97d3",
        "colab": {
          "base_uri": "https://localhost:8080/"
        }
      },
      "execution_count": 39,
      "outputs": [
        {
          "output_type": "execute_result",
          "data": {
            "text/plain": [
              "array([[ 939,    1,    6,    0,    3,    1,   36,    2,   28,   19],\n",
              "       [   2, 1151,    3,    4,    0,    2,   11,    0,   22,   10],\n",
              "       [ 104,   32,  313,   70,    4,    5,  244,    0,  237,   10],\n",
              "       [  66,   49,    9,  383,    0,    6,   55,    8,  376,  129],\n",
              "       [  36,    6,   14,    5,  139,    6,  103,    4,  213,  442],\n",
              "       [ 115,   25,    6,   18,    3,   53,   53,    3,  592,  102],\n",
              "       [  11,   21,    4,    0,    1,    4,  942,    0,   23,    3],\n",
              "       [   5,    8,    2,   14,    6,    2,    2,  332,   30,  709],\n",
              "       [  22,  121,    4,   10,    2,    2,   20,    2,  608,  225],\n",
              "       [   6,    5,    6,    1,    5,    0,    1,   15,   22, 1026]])"
            ]
          },
          "metadata": {},
          "execution_count": 39
        }
      ]
    },
    {
      "cell_type": "code",
      "source": [
        "#ROC\n",
        "from sklearn.metrics import roc_auc_score,  roc_curve, auc\n",
        "\n",
        "#get the 5\n",
        "y_five = y_test=='5' #get bool lables=='5' - NOTE original lables are strings! Generates Mask\n",
        "bayes_five = bayes.predict_proba(X_test)[:,5] #get probability prediction for '5' \n",
        "\n",
        "slm_five = slm.predict_proba(X_test)[:,5]\n",
        "\n",
        "RFC_five = RFC.predict_proba(X_test)[:,5]"
      ],
      "metadata": {
        "id": "Da_HL_IsOblg",
        "outputId": "3155863e-bb94-4554-92bf-0059ddc9ae76",
        "colab": {
          "base_uri": "https://localhost:8080/"
        }
      },
      "execution_count": 46,
      "outputs": [
        {
          "output_type": "stream",
          "name": "stderr",
          "text": [
            "/usr/local/lib/python3.7/dist-packages/sklearn/linear_model/_base.py:445: RuntimeWarning: invalid value encountered in true_divide\n",
            "  prob /= prob.sum(axis=1).reshape((prob.shape[0], -1))\n"
          ]
        }
      ]
    },
    {
      "cell_type": "code",
      "source": [
        "bayes_fpr, bayes_tpr, _ = roc_curve(y_five.astype(int), bayes_five)\n",
        "bayes_roc_auc = auc(bayes_fpr, bayes_tpr)\n",
        "\n",
        "#slm_fpr, slm_tpr, _ = roc_curve(y_five.astype(int), slm_five)\n",
        "#slm_roc_auc = auc(slm_fpr, slm_tpr)\n",
        "\n",
        "RFC_fpr, RFC_tpr, _ = roc_curve(y_five.astype(int), RFC_five)\n",
        "RFC_roc_auc = auc(RFC_fpr, RFC_tpr)\n",
        "\n"
      ],
      "metadata": {
        "id": "zewVkvnmPI9O"
      },
      "execution_count": 48,
      "outputs": []
    },
    {
      "cell_type": "code",
      "source": [
        "lw = 2\n",
        "plt.plot(bayes_fpr, bayes_tpr, color='darkorange',\n",
        "         lw=lw, label='Bayes (area = %0.2f)' % bayes_roc_auc)\n",
        "\n",
        "plt.plot([0, 1], [0, 1], color='navy', lw=lw, linestyle='--')\n",
        "plt.xlim([0.0, 1.0])\n",
        "plt.ylim([0.0, 1.05])\n",
        "plt.xlabel('False Positive Rate')\n",
        "plt.ylabel('True Positive Rate')\n",
        "plt.title('Receiver operating characteristic example')\n",
        "plt.legend(loc=\"lower right\")\n",
        "plt.show()"
      ],
      "metadata": {
        "id": "gUrL2lQ9PLGO",
        "outputId": "1431ae0f-8504-47d4-9479-02a093a789e4",
        "colab": {
          "base_uri": "https://localhost:8080/",
          "height": 295
        }
      },
      "execution_count": 49,
      "outputs": [
        {
          "output_type": "display_data",
          "data": {
            "text/plain": [
              "<Figure size 432x288 with 1 Axes>"
            ],
            "image/png": "[encoded data removed]"
          },
          "metadata": {
            "needs_background": "light"
          }
        }
      ]
    },
    {
      "cell_type": "code",
      "source": [
        "lw = 2\n",
        "plt.plot(RFC_fpr, RFC_tpr, color='darkorange',\n",
        "         lw=lw, label='RFC (area = %0.2f)' % RFC_roc_auc)\n",
        "\n",
        "plt.plot([0, 1], [0, 1], color='navy', lw=lw, linestyle='--')\n",
        "plt.xlim([0.0, 1.0])\n",
        "plt.ylim([0.0, 1.05])\n",
        "plt.xlabel('False Positive Rate')\n",
        "plt.ylabel('True Positive Rate')\n",
        "plt.title('Receiver operating characteristic example')\n",
        "plt.legend(loc=\"lower right\")\n",
        "plt.show()"
      ],
      "metadata": {
        "id": "PgHpisuVQnDJ",
        "outputId": "2a6819a0-9cab-4cc7-90b9-5c2fc1c8830e",
        "colab": {
          "base_uri": "https://localhost:8080/",
          "height": 295
        }
      },
      "execution_count": 50,
      "outputs": [
        {
          "output_type": "display_data",
          "data": {
            "text/plain": [
              "<Figure size 432x288 with 1 Axes>"
            ],
            "image/png": "[encoded data removed]"
          },
          "metadata": {
            "needs_background": "light"
          }
        }
      ]
    },
    {
      "cell_type": "code",
      "source": [
        ""
      ],
      "metadata": {
        "id": "PP9wpyGxQuca"
      },
      "execution_count": null,
      "outputs": []
    }
  ],
  "metadata": {
    "kernelspec": {
      "display_name": "Python 3",
      "language": "python",
      "name": "python3"
    },
    "language_info": {
      "codemirror_mode": {
        "name": "ipython",
        "version": 3
      },
      "file_extension": ".py",
      "mimetype": "text/x-python",
      "name": "python",
      "nbconvert_exporter": "python",
      "pygments_lexer": "ipython3",
      "version": "3.7.6"
    },
    "colab": {
      "name": "5_a_Classification.ipynb",
      "provenance": [],
      "include_colab_link": true
    }
  },
  "nbformat": 4,
  "nbformat_minor": 0
}