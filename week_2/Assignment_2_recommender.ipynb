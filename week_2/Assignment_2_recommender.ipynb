{
  "cells": [
    {
      "cell_type": "markdown",
      "metadata": {
        "id": "view-in-github",
        "colab_type": "text"
      },
      "source": [
        "<a href=\"https://colab.research.google.com/github/Ananassio/Data-Science_lab/blob/main/week_2/Assignment_2_recommender.ipynb\" target=\"_parent\"><img src=\"https://colab.research.google.com/assets/colab-badge.svg\" alt=\"Open In Colab\"/></a>"
      ]
    },
    {
      "cell_type": "markdown",
      "metadata": {
        "id": "vUNy2bjLeeCM"
      },
      "source": [
        "# Assignment 2: recommender System"
      ]
    },
    {
      "cell_type": "code",
      "execution_count": 1,
      "metadata": {
        "id": "WCGXTc82eeCb",
        "outputId": "d710eb5a-f5e4-4568-96c2-e0fa90b00944",
        "colab": {
          "base_uri": "https://localhost:8080/"
        }
      },
      "outputs": [
        {
          "output_type": "stream",
          "name": "stdout",
          "text": [
            "Cloning into 'DATA'...\n",
            "remote: Enumerating objects: 87, done.\u001b[K\n",
            "remote: Total 87 (delta 0), reused 0 (delta 0), pack-reused 87\u001b[K\n",
            "Unpacking objects: 100% (87/87), done.\n",
            "Checking out files: 100% (61/61), done.\n"
          ]
        }
      ],
      "source": [
        "#get data from GitHub -> https://github.com/keuperj/DATA\n",
        "!git clone https://github.com/keuperj/DATA.git"
      ]
    },
    {
      "cell_type": "markdown",
      "metadata": {
        "id": "oFDkYg_WeeCk"
      },
      "source": [
        "## Code from the lecture"
      ]
    },
    {
      "cell_type": "code",
      "execution_count": 2,
      "metadata": {
        "id": "a-vSrv2NeeCn"
      },
      "outputs": [],
      "source": [
        "#read data to DataFrames\n",
        "import pandas as pd\n",
        "import numpy as np\n",
        "%matplotlib inline\n",
        "import matplotlib.pyplot as plt\n",
        "\n",
        "u_cols = ['user_id', 'age', 'sex', 'occupation', 'zip_code']\n",
        "users = pd.read_csv('DATA/movielens100k/u.user', sep='|', names=u_cols, encoding = \"ISO-8859-1\")\n",
        "\n",
        "r_cols = ['user_id', 'movie_id', 'rating', 'timestamp']\n",
        "ratings = pd.read_csv('DATA/movielens100k/u.data', sep='\\t', names=r_cols, encoding = \"ISO-8859-1\")\n",
        "\n",
        "m_cols=['movie_id', 'title', 'release date', 'video release date', 'IMDb_URL', 'unknown', 'Action', 'Adventure', 'Animation', 'Childrens', 'Comedy', 'Crime', 'Documentary', 'Drama', 'Fantasy', 'Film-Noir', 'Horror', 'Musical', 'Mystery', 'Romance', 'Sci-Fi', 'Thriller', 'War', 'Western']\n",
        "movies = pd.read_csv('DATA/movielens100k/u.item', sep='|', names=m_cols ,encoding = \"ISO-8859-1\" )"
      ]
    },
    {
      "cell_type": "code",
      "execution_count": 3,
      "metadata": {
        "id": "bQIHfuj9eeCs"
      },
      "outputs": [],
      "source": [
        "#gerate matrix (this can be done more efficiently!)\n",
        "R=np.zeros((np.shape(users)[0],np.shape(movies)[0]))\n",
        "for i in range(np.shape(ratings)[0]):\n",
        "    R[ratings['user_id'][i]-1, ratings['movie_id'][i]-1]=ratings['rating'][i]"
      ]
    },
    {
      "cell_type": "code",
      "execution_count": 4,
      "metadata": {
        "id": "N7IBsS6TeeCx"
      },
      "outputs": [],
      "source": [
        "epsilon=0.0000001 \n",
        "def CosineDist(a,b):\n",
        "    return a.dot(b)/(np.linalg.norm(a)*np.linalg.norm(b)+epsilon) #added epsilon for numerical stability: avoiding div by zero -> NaN"
      ]
    },
    {
      "cell_type": "code",
      "execution_count": 5,
      "metadata": {
        "id": "5Fls8zzpeeC1",
        "outputId": "c96eb23b-eef0-4840-d7ed-74141dd729e7",
        "colab": {
          "base_uri": "https://localhost:8080/"
        }
      },
      "outputs": [
        {
          "output_type": "stream",
          "name": "stdout",
          "text": [
            "CPU times: user 1min 47s, sys: 110 ms, total: 1min 48s\n",
            "Wall time: 1min 52s\n"
          ]
        }
      ],
      "source": [
        "%%time\n",
        "#again, implementation not efficient: better use lamda opperators \n",
        "D=np.zeros((np.shape(movies)[0],np.shape(movies)[0]))\n",
        "for i in range(0,np.shape(movies)[0]):\n",
        "    for j in range(0,np.shape(movies)[0]):\n",
        "        if i!=j:\n",
        "            D[i,j]=CosineDist(R[:,i],R[:,j])"
      ]
    },
    {
      "cell_type": "code",
      "execution_count": 6,
      "metadata": {
        "id": "j3SVgCKJeeC2"
      },
      "outputs": [],
      "source": [
        "def getTopN(movie_id, D, N=5):\n",
        "    return D[movie_id,:].argsort()[-N:]\n",
        "\n",
        "def getIDbyName(name):\n",
        "    if np.size(movies.movie_id[movies.title.str.contains(name)]) > 0:\n",
        "        m = int(movies.movie_id[movies.title.str.contains(name)][:1]), str(movies.title[movies.title.str.contains(name)][:1])\n",
        "        return m[0]-1\n",
        "    else:\n",
        "        return -1\n",
        "    \n",
        "def getNameByID(IDs):\n",
        "    res=movies.iloc[IDs]\n",
        "    return res.title\n",
        "\n",
        "def CII(title, D):\n",
        "    if getIDbyName(title) > 0:\n",
        "        print (\"recommending movies for: '\" + str(getNameByID(getIDbyName(title)))+\"'\")\n",
        "        return getNameByID(getTopN(getIDbyName(title),D))[::-1]\n",
        "    else:\n",
        "        print (\"no movie title containing \" + str(title) + \"found...\")\n",
        "        \n",
        "def Score_byID(ID, D, Test):\n",
        "    #print (\"Hit Scores for: \", getNameByID(ID))\n",
        "    res_id = getTopN(ID,D)[::-1]\n",
        "    res_title = getNameByID(getTopN(ID,D))[::-1]\n",
        "    res_score = Test[res_id]\n",
        "    return res_id, res_title, res_score, np.mean(res_score)\n",
        "    \n",
        "#compute scores for all test users\n",
        "def test_Score(D_train, R_test):\n",
        "    userScores=[]\n",
        "    for i in range(R_test.shape[0]):\n",
        "        userScore=0\n",
        "        userTop = np.argsort(R_test[i])[-5:]\n",
        "        for e in userTop:\n",
        "            res_id, res_title, res_score, av_score = Score_byID(e,D_train, R_test[i])\n",
        "            userScore+=av_score\n",
        "        userScores.append(userScore/(5))\n",
        "    return userScores"
      ]
    },
    {
      "cell_type": "markdown",
      "metadata": {
        "id": "RyB5-YhHeeC6"
      },
      "source": [
        "## 4.1 Alternative Distance Measures\n",
        "Implement a different distance measure, e.g. eucledian and compare the ressults."
      ]
    },
    {
      "cell_type": "code",
      "source": [
        "CII('Star',D)"
      ],
      "metadata": {
        "id": "e6HEzHswia3J",
        "outputId": "0876d124-e73a-424d-c398-2886687c8276",
        "colab": {
          "base_uri": "https://localhost:8080/"
        }
      },
      "execution_count": 7,
      "outputs": [
        {
          "output_type": "stream",
          "name": "stdout",
          "text": [
            "recommending movies for: 'Star Wars (1977)'\n"
          ]
        },
        {
          "output_type": "execute_result",
          "data": {
            "text/plain": [
              "180          Return of the Jedi (1983)\n",
              "173     Raiders of the Lost Ark (1981)\n",
              "171    Empire Strikes Back, The (1980)\n",
              "0                     Toy Story (1995)\n",
              "126              Godfather, The (1972)\n",
              "Name: title, dtype: object"
            ]
          },
          "metadata": {},
          "execution_count": 7
        }
      ]
    },
    {
      "cell_type": "code",
      "source": [
        "\n",
        "D2=np.zeros((np.shape(movies)[0],np.shape(movies)[0]))\n",
        "for i in range(0,np.shape(movies)[0]):\n",
        "    for j in range(0,np.shape(movies)[0]):\n",
        "        if i!=j:\n",
        "            D2[i,j]= np.linalg.norm(R[:,i]-R[:,j])\n",
        "\n",
        "\n",
        "\n",
        "CII('Star', D2)\n"
      ],
      "metadata": {
        "id": "NjmaJoU_of_k",
        "outputId": "81a0716a-1c18-41c1-e0c7-551d6a4093ef",
        "colab": {
          "base_uri": "https://localhost:8080/"
        }
      },
      "execution_count": 8,
      "outputs": [
        {
          "output_type": "stream",
          "name": "stdout",
          "text": [
            "recommending movies for: 'Star Wars (1977)'\n"
          ]
        },
        {
          "output_type": "execute_result",
          "data": {
            "text/plain": [
              "989              Anna Karenina (1997)\n",
              "1061    Four Days in September (1997)\n",
              "1126          Truman Show, The (1998)\n",
              "937        Smile Like Yours, A (1997)\n",
              "1242               Night Flier (1997)\n",
              "Name: title, dtype: object"
            ]
          },
          "metadata": {},
          "execution_count": 8
        }
      ]
    },
    {
      "cell_type": "markdown",
      "metadata": {
        "id": "oYPCXONHeeC8"
      },
      "source": [
        "## 4.2 Baseline Results\n",
        "Implement and compare results of two very simple baseline methods \n",
        "* random recommendations: randomly recommend 5 movies (HINT user np.random sub-library to generate random movie IDs)\n",
        "* always recommending the top 5 movies: HINT: need to find the IDs of the top 5 movies over all users first"
      ]
    },
    {
      "cell_type": "code",
      "source": [
        "print('------------------------------------------------------------\\n5 random recomendations\\n')\n",
        "#generate 5 random recomendations\n",
        "for k in range(5):\n",
        "  #generate random numbers in range of the numbers of movies\n",
        "  random_num = np.random.randint(np.shape(movies)[0])\n",
        "  # print out the random numbers\n",
        "  print('movie id = ',random_num)\n",
        "  #get and print the movies from the generated ids\n",
        "  name = getNameByID(random_num-1)\n",
        "  print(name)\n",
        "print('------------------------------------------------------------\\n')\n"
      ],
      "metadata": {
        "id": "27fGvGfoBsb9",
        "outputId": "7db92548-96eb-46b4-d857-235946d9f353",
        "colab": {
          "base_uri": "https://localhost:8080/"
        }
      },
      "execution_count": 9,
      "outputs": [
        {
          "output_type": "stream",
          "name": "stdout",
          "text": [
            "------------------------------------------------------------\n",
            "5 random recomendations\n",
            "\n",
            "movie id =  594\n",
            "Heavy (1995)\n",
            "movie id =  963\n",
            "Some Folks Call It a Sling Blade (1993)\n",
            "movie id =  663\n",
            "Being There (1979)\n",
            "movie id =  1569\n",
            "Vie est belle, La (Life is Rosey) (1987)\n",
            "movie id =  366\n",
            "Dangerous Minds (1995)\n",
            "------------------------------------------------------------\n",
            "\n"
          ]
        }
      ]
    },
    {
      "cell_type": "code",
      "source": [
        "print('------------------------------------------------------------\\n5 The top 5 movies are:\\n')\n",
        "\n",
        "#get the ids of the top movies\n",
        "\n",
        "# get the mean value of each column\n",
        "Mean = np.mean(D,axis=0)\n",
        "\n",
        "\n",
        "for l in range(5):\n",
        "  # get the position in the array of the best movie\n",
        "  pos = np.where(Mean == np.amax(Mean))\n",
        "  # set the rating of the best movie to 0 to find the second best\n",
        "  Mean[pos[0]] = 0\n",
        "  # get the movie name by the found movie ID\n",
        "  TOPMov = getNameByID(pos[0][0])\n",
        "  print(TOPMov)\n",
        "\n",
        "print('------------------------------------------------------------')\n"
      ],
      "metadata": {
        "id": "FcJsJfX1K2tY",
        "outputId": "6787d75d-986a-4764-ae9b-dd3b65e08a98",
        "colab": {
          "base_uri": "https://localhost:8080/"
        }
      },
      "execution_count": 39,
      "outputs": [
        {
          "output_type": "stream",
          "name": "stdout",
          "text": [
            "------------------------------------------------------------\n",
            "5 The top 5 movies are:\n",
            "\n",
            "Back to the Future (1985)\n",
            "Raiders of the Lost Ark (1981)\n",
            "Empire Strikes Back, The (1980)\n",
            "Pulp Fiction (1994)\n",
            "Fugitive, The (1993)\n",
            "------------------------------------------------------------\n"
          ]
        }
      ]
    },
    {
      "cell_type": "markdown",
      "metadata": {
        "id": "JQiAfjVueeC_"
      },
      "source": [
        "## 4.3 SVD\n",
        "Implement the SVD approach using *Surprise* (see lab intro)\n",
        "* compare the results\n"
      ]
    },
    {
      "cell_type": "code",
      "execution_count": null,
      "metadata": {
        "id": "yq5dO1aIeeDA"
      },
      "outputs": [],
      "source": [
        ""
      ]
    },
    {
      "cell_type": "code",
      "source": [
        ""
      ],
      "metadata": {
        "id": "ywplfKPXhSh6"
      },
      "execution_count": null,
      "outputs": []
    }
  ],
  "metadata": {
    "kernelspec": {
      "display_name": "Python 3",
      "language": "python",
      "name": "python3"
    },
    "language_info": {
      "codemirror_mode": {
        "name": "ipython",
        "version": 3
      },
      "file_extension": ".py",
      "mimetype": "text/x-python",
      "name": "python",
      "nbconvert_exporter": "python",
      "pygments_lexer": "ipython3",
      "version": "3.7.6"
    },
    "colab": {
      "name": "Assignment_2_recommender.ipynb",
      "provenance": [],
      "include_colab_link": true
    }
  },
  "nbformat": 4,
  "nbformat_minor": 0
}