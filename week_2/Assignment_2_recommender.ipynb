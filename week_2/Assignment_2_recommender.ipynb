{
  "cells": [
    {
      "cell_type": "markdown",
      "metadata": {
        "id": "view-in-github",
        "colab_type": "text"
      },
      "source": [
        "<a href=\"https://colab.research.google.com/github/Ananassio/Data-Science_lab/blob/main/week_2/Assignment_2_recommender.ipynb\" target=\"_parent\"><img src=\"https://colab.research.google.com/assets/colab-badge.svg\" alt=\"Open In Colab\"/></a>"
      ]
    },
    {
      "cell_type": "markdown",
      "metadata": {
        "id": "vUNy2bjLeeCM"
      },
      "source": [
        "# Assignment 2: recommender System"
      ]
    },
    {
      "cell_type": "code",
      "execution_count": null,
      "metadata": {
        "id": "WCGXTc82eeCb",
        "outputId": "8e23be2e-043a-4ac2-f8fb-4bbabec3d689",
        "colab": {
          "base_uri": "https://localhost:8080/"
        }
      },
      "outputs": [
        {
          "output_type": "stream",
          "name": "stdout",
          "text": [
            "Cloning into 'DATA'...\n",
            "remote: Enumerating objects: 87, done.\u001b[K\n",
            "remote: Counting objects: 100% (87/87), done.\u001b[K\n",
            "remote: Compressing objects: 100% (73/73), done.\u001b[K\n",
            "remote: Total 87 (delta 21), reused 79 (delta 13), pack-reused 0\u001b[K\n",
            "Unpacking objects: 100% (87/87), done.\n",
            "Checking out files: 100% (61/61), done.\n"
          ]
        }
      ],
      "source": [
        "#get data from GitHub -> https://github.com/keuperj/DATA\n",
        "!git clone https://github.com/keuperj/DATA.git"
      ]
    },
    {
      "cell_type": "markdown",
      "metadata": {
        "id": "oFDkYg_WeeCk"
      },
      "source": [
        "## Code from the lecture"
      ]
    },
    {
      "cell_type": "code",
      "execution_count": null,
      "metadata": {
        "id": "a-vSrv2NeeCn"
      },
      "outputs": [],
      "source": [
        "#read data to DataFrames\n",
        "import pandas as pd\n",
        "import numpy as np\n",
        "%matplotlib inline\n",
        "import matplotlib.pyplot as plt\n",
        "\n",
        "u_cols = ['user_id', 'age', 'sex', 'occupation', 'zip_code']\n",
        "users = pd.read_csv('DATA/movielens100k/u.user', sep='|', names=u_cols, encoding = \"ISO-8859-1\")\n",
        "\n",
        "r_cols = ['user_id', 'movie_id', 'rating', 'timestamp']\n",
        "ratings = pd.read_csv('DATA/movielens100k/u.data', sep='\\t', names=r_cols, encoding = \"ISO-8859-1\")\n",
        "\n",
        "m_cols=['movie_id', 'title', 'release date', 'video release date', 'IMDb_URL', 'unknown', 'Action', 'Adventure', 'Animation', 'Childrens', 'Comedy', 'Crime', 'Documentary', 'Drama', 'Fantasy', 'Film-Noir', 'Horror', 'Musical', 'Mystery', 'Romance', 'Sci-Fi', 'Thriller', 'War', 'Western']\n",
        "movies = pd.read_csv('DATA/movielens100k/u.item', sep='|', names=m_cols ,encoding = \"ISO-8859-1\" )"
      ]
    },
    {
      "cell_type": "code",
      "execution_count": null,
      "metadata": {
        "id": "bQIHfuj9eeCs"
      },
      "outputs": [],
      "source": [
        "#gerate matrix (this can be done more efficiently!)\n",
        "R=np.zeros((np.shape(users)[0],np.shape(movies)[0]))\n",
        "for i in range(np.shape(ratings)[0]):\n",
        "    R[ratings['user_id'][i]-1, ratings['movie_id'][i]-1]=ratings['rating'][i]"
      ]
    },
    {
      "cell_type": "code",
      "execution_count": null,
      "metadata": {
        "id": "N7IBsS6TeeCx"
      },
      "outputs": [],
      "source": [
        "epsilon=0.0000001 \n",
        "def CosineDist(a,b):\n",
        "    return a.dot(b)/(np.linalg.norm(a)*np.linalg.norm(b)+epsilon) #added epsilon for numerical stability: avoiding div by zero -> NaN"
      ]
    },
    {
      "cell_type": "code",
      "execution_count": null,
      "metadata": {
        "id": "5Fls8zzpeeC1",
        "outputId": "b21646ec-6966-43f8-c9bc-a4c34d01b71c",
        "colab": {
          "base_uri": "https://localhost:8080/"
        }
      },
      "outputs": [
        {
          "output_type": "stream",
          "name": "stdout",
          "text": [
            "CPU times: user 1min 59s, sys: 283 ms, total: 2min\n",
            "Wall time: 2min 1s\n"
          ]
        }
      ],
      "source": [
        "%%time\n",
        "#again, implementation not efficient: better use lamda opperators \n",
        "D=np.zeros((np.shape(movies)[0],np.shape(movies)[0]))\n",
        "for i in range(0,np.shape(movies)[0]):\n",
        "    for j in range(0,np.shape(movies)[0]):\n",
        "        if i!=j:\n",
        "            D[i,j]=CosineDist(R[:,i],R[:,j])"
      ]
    },
    {
      "cell_type": "code",
      "execution_count": null,
      "metadata": {
        "id": "j3SVgCKJeeC2"
      },
      "outputs": [],
      "source": [
        "def getTopN(movie_id, D, N=5):\n",
        "    return D[movie_id,:].argsort()[-N:]\n",
        "\n",
        "def getIDbyName(name):\n",
        "    if np.size(movies.movie_id[movies.title.str.contains(name)]) > 0:\n",
        "        m = int(movies.movie_id[movies.title.str.contains(name)][:1]), str(movies.title[movies.title.str.contains(name)][:1])\n",
        "        return m[0]-1\n",
        "    else:\n",
        "        return -1\n",
        "    \n",
        "def getNameByID(IDs):\n",
        "    res=movies.iloc[IDs]\n",
        "    return res.title\n",
        "\n",
        "def CII(title, D):\n",
        "    if getIDbyName(title) > 0:\n",
        "        print (\"recommending movies for: '\" + str(getNameByID(getIDbyName(title)))+\"'\")\n",
        "        return getNameByID(getTopN(getIDbyName(title),D))[::-1]\n",
        "    else:\n",
        "        print (\"no movie title containing \" + str(title) + \"found...\")\n",
        "        \n",
        "def Score_byID(ID, D, Test):\n",
        "    #print (\"Hit Scores for: \", getNameByID(ID))\n",
        "    res_id = getTopN(ID,D)[::-1]\n",
        "    res_title = getNameByID(getTopN(ID,D))[::-1]\n",
        "    res_score = Test[res_id]\n",
        "    return res_id, res_title, res_score, np.mean(res_score)\n",
        "    \n",
        "#compute scores for all test users\n",
        "def test_Score(D_train, R_test):\n",
        "    userScores=[]\n",
        "    for i in range(R_test.shape[0]):\n",
        "        userScore=0\n",
        "        userTop = np.argsort(R_test[i])[-5:]\n",
        "        for e in userTop:\n",
        "            res_id, res_title, res_score, av_score = Score_byID(e,D_train, R_test[i])\n",
        "            userScore+=av_score\n",
        "        userScores.append(userScore/(5))\n",
        "    return userScores"
      ]
    },
    {
      "cell_type": "markdown",
      "metadata": {
        "id": "RyB5-YhHeeC6"
      },
      "source": [
        "## 4.1 Alternative Distance Measures\n",
        "Implement a different distance measure, e.g. eucledian and compare the ressults."
      ]
    },
    {
      "cell_type": "code",
      "source": [
        "CII('Star',D)"
      ],
      "metadata": {
        "id": "e6HEzHswia3J",
        "outputId": "83e3c875-4e98-4e22-a509-e9a504e31dcb",
        "colab": {
          "base_uri": "https://localhost:8080/"
        }
      },
      "execution_count": null,
      "outputs": [
        {
          "output_type": "stream",
          "name": "stdout",
          "text": [
            "recommending movies for: 'Star Wars (1977)'\n"
          ]
        },
        {
          "output_type": "execute_result",
          "data": {
            "text/plain": [
              "180          Return of the Jedi (1983)\n",
              "173     Raiders of the Lost Ark (1981)\n",
              "171    Empire Strikes Back, The (1980)\n",
              "0                     Toy Story (1995)\n",
              "126              Godfather, The (1972)\n",
              "Name: title, dtype: object"
            ]
          },
          "metadata": {},
          "execution_count": 7
        }
      ]
    },
    {
      "cell_type": "code",
      "source": [
        "#again, implementation not efficient: better use lamda opperators \n",
        "D2=np.zeros((np.shape(movies)[0],np.shape(movies)[0]))\n",
        "for i in range(0,np.shape(movies)[0]):\n",
        "    for j in range(0,np.shape(movies)[0]):\n",
        "        if i!=j:\n",
        "            D2[i,j]= np.linalg.norm(R[:,i]-R[:,j])\n",
        "\n",
        "\n",
        "\n",
        "CII('Star', D2)\n"
      ],
      "metadata": {
        "id": "NjmaJoU_of_k",
        "outputId": "abf76773-2d31-4b43-a52f-5263aa273f7f",
        "colab": {
          "base_uri": "https://localhost:8080/"
        }
      },
      "execution_count": null,
      "outputs": [
        {
          "output_type": "stream",
          "name": "stdout",
          "text": [
            "recommending movies for: 'Star Wars (1977)'\n"
          ]
        },
        {
          "output_type": "execute_result",
          "data": {
            "text/plain": [
              "989              Anna Karenina (1997)\n",
              "1061    Four Days in September (1997)\n",
              "1126          Truman Show, The (1998)\n",
              "937        Smile Like Yours, A (1997)\n",
              "1242               Night Flier (1997)\n",
              "Name: title, dtype: object"
            ]
          },
          "metadata": {},
          "execution_count": 35
        }
      ]
    },
    {
      "cell_type": "markdown",
      "metadata": {
        "id": "oYPCXONHeeC8"
      },
      "source": [
        "## 4.2 Baseline Results\n",
        "Implement and compare results of two very simple baseline methods \n",
        "* random recommendations: randomly recommend 5 movies (HINT user np.random sub-library to generate random movie IDs)\n",
        "* always recommending the top 5 movies: HINT: need to find the IDs of the top 5 movies over all users first"
      ]
    },
    {
      "cell_type": "code",
      "source": [
        "print('------------------------------------------------------------\\n5 random recomendations\\n')\n",
        "#generate 5 random recomendations\n",
        "for k in range(5):\n",
        "  #generate random numbers in range of the numbers of movies\n",
        "  random_num = np.random.randint(np.shape(movies)[0])\n",
        "  # print out the random numbers\n",
        "  print('movie id = ',random_num)\n",
        "  #get and print the movies from the generated ids\n",
        "  name = getNameByID(random_num-1)\n",
        "  print(name)\n",
        "print('------------------------------------------------------------\\n')\n"
      ],
      "metadata": {
        "id": "27fGvGfoBsb9",
        "outputId": "25af9b12-603a-4afa-88ab-4abef03f1197",
        "colab": {
          "base_uri": "https://localhost:8080/"
        }
      },
      "execution_count": null,
      "outputs": [
        {
          "output_type": "stream",
          "name": "stdout",
          "text": [
            "------------------------------------------------------------\n",
            "5 random recomendations\n",
            "\n",
            "movie id =  142\n",
            "Bedknobs and Broomsticks (1971)\n",
            "movie id =  1647\n",
            "Hana-bi (1997)\n",
            "movie id =  1668\n",
            "Wedding Bell Blues (1996)\n",
            "movie id =  352\n",
            "Spice World (1997)\n",
            "movie id =  358\n",
            "Spawn (1997)\n",
            "------------------------------------------------------------\n"
          ]
        }
      ]
    },
    {
      "cell_type": "code",
      "source": [
        "print('------------------------------------------------------------\\n5 The top 5 movies are:\\n')\n",
        "\n",
        "#get the ids of the top movies\n",
        "Top5 = getTopN(1,D)\n",
        "#print(Top5)\n",
        "\n",
        "# print the top movie names with the getNameById funktion\n",
        "for l in range(5):\n",
        "  TopName = getNameByID(Top5[l])\n",
        "  print(TopName)\n",
        "\n",
        "b = getNameByID(1)\n",
        "print(b)\n",
        "\n",
        "\n",
        "D[rating,:].argsort()[-N:]"
      ],
      "metadata": {
        "id": "FcJsJfX1K2tY",
        "outputId": "b45ae539-2b05-4ea5-8e71-ed93ea4b2645",
        "colab": {
          "base_uri": "https://localhost:8080/"
        }
      },
      "execution_count": null,
      "outputs": [
        {
          "output_type": "stream",
          "name": "stdout",
          "text": [
            "------------------------------------------------------------\n",
            "5 The top 5 movies are:\n",
            "\n",
            "Stargate (1994)\n",
            "Batman (1989)\n",
            "True Lies (1994)\n",
            "Top Gun (1986)\n",
            "Under Siege (1992)\n",
            "GoldenEye (1995)\n"
          ]
        }
      ]
    },
    {
      "cell_type": "markdown",
      "metadata": {
        "id": "JQiAfjVueeC_"
      },
      "source": [
        "## 4.3 SVD\n",
        "Implement the SVD approach using *Surprise* (see lab intro)\n",
        "* compare the results\n"
      ]
    },
    {
      "cell_type": "code",
      "execution_count": null,
      "metadata": {
        "id": "yq5dO1aIeeDA"
      },
      "outputs": [],
      "source": [
        ""
      ]
    },
    {
      "cell_type": "code",
      "source": [
        ""
      ],
      "metadata": {
        "id": "ywplfKPXhSh6"
      },
      "execution_count": null,
      "outputs": []
    }
  ],
  "metadata": {
    "kernelspec": {
      "display_name": "Python 3",
      "language": "python",
      "name": "python3"
    },
    "language_info": {
      "codemirror_mode": {
        "name": "ipython",
        "version": 3
      },
      "file_extension": ".py",
      "mimetype": "text/x-python",
      "name": "python",
      "nbconvert_exporter": "python",
      "pygments_lexer": "ipython3",
      "version": "3.7.6"
    },
    "colab": {
      "name": "Assignment_2_recommender.ipynb",
      "provenance": [],
      "include_colab_link": true
    }
  },
  "nbformat": 4,
  "nbformat_minor": 0
}