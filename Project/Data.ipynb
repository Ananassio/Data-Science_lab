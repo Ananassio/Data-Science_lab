{
  "cells": [
    {
      "cell_type": "markdown",
      "metadata": {
        "id": "view-in-github",
        "colab_type": "text"
      },
      "source": [
        "<a href=\"https://colab.research.google.com/github/Ananassio/Data-Science_lab/blob/main/Project/Data.ipynb\" target=\"_parent\"><img src=\"https://colab.research.google.com/assets/colab-badge.svg\" alt=\"Open In Colab\"/></a>"
      ]
    },
    {
      "cell_type": "markdown",
      "metadata": {
        "id": "K6y0d-GHapCH"
      },
      "source": [
        "# Importieren der Daten"
      ]
    },
    {
      "cell_type": "code",
      "execution_count": 1,
      "metadata": {
        "id": "fHL6mPnbapCQ",
        "outputId": "586734f5-b095-42f2-b5f1-aa441e9a96ce",
        "colab": {
          "base_uri": "https://localhost:8080/"
        }
      },
      "outputs": [
        {
          "output_type": "stream",
          "name": "stdout",
          "text": [
            "--2022-06-03 12:22:18--  https://www.keuper-labs.org/project_ss22.zip\n",
            "Resolving www.keuper-labs.org (www.keuper-labs.org)... 91.250.118.129\n",
            "Connecting to www.keuper-labs.org (www.keuper-labs.org)|91.250.118.129|:443... connected.\n",
            "WARNING: cannot verify www.keuper-labs.org's certificate, issued by ‘CN=Starfield Secure Certificate Authority - G2,OU=http://certs.starfieldtech.com/repository/,O=Starfield Technologies\\\\, Inc.,L=Scottsdale,ST=Arizona,C=US’:\n",
            "  Unable to locally verify the issuer's authority.\n",
            "HTTP request sent, awaiting response... 200 OK\n",
            "Length: 70859177 (68M) [application/zip]\n",
            "Saving to: ‘project_ss22.zip’\n",
            "\n",
            "project_ss22.zip    100%[===================>]  67.58M  11.4MB/s    in 6.8s    \n",
            "\n",
            "2022-06-03 12:22:25 (10.0 MB/s) - ‘project_ss22.zip’ saved [70859177/70859177]\n",
            "\n"
          ]
        }
      ],
      "source": [
        "#get data from server\n",
        "!wget --no-check-certificate https://www.keuper-labs.org/project_ss22.zip"
      ]
    },
    {
      "cell_type": "code",
      "execution_count": 2,
      "metadata": {
        "id": "rtGf005RapCU",
        "outputId": "5aecaecb-7d72-46af-dbf2-92b46db4e0b2",
        "colab": {
          "base_uri": "https://localhost:8080/"
        }
      },
      "outputs": [
        {
          "output_type": "stream",
          "name": "stdout",
          "text": [
            "Archive:  project_ss22.zip\n",
            "   creating: dressipi_recsys2022/\n",
            "  inflating: dressipi_recsys2022/candidate_items.csv  \n",
            "  inflating: dressipi_recsys2022/item_features.csv  \n",
            "  inflating: dressipi_recsys2022/test_leaderboard_sessions.csv  \n",
            "  inflating: dressipi_recsys2022/test_final_sessions.csv  \n",
            "  inflating: dressipi_recsys2022/README.txt  \n",
            "  inflating: dressipi_recsys2022/train_purchases.csv  \n",
            "  inflating: dressipi_recsys2022/train_sessions.csv  \n",
            "  inflating: dressipi_recsys2022/README_win.txt  \n"
          ]
        }
      ],
      "source": [
        "#unpack\n",
        "!unzip project_ss22.zip"
      ]
    },
    {
      "cell_type": "code",
      "execution_count": 3,
      "metadata": {
        "id": "2uv_rMvIapCX"
      },
      "outputs": [],
      "source": [
        "# import some libarys\n",
        "import pandas as pd\n",
        "import numpy as np\n",
        "import matplotlib\n",
        "import matplotlib.pyplot as plt\n",
        "from scipy.spatial.distance import cosine"
      ]
    },
    {
      "cell_type": "code",
      "execution_count": 4,
      "metadata": {
        "id": "q8jHgLf_apCX"
      },
      "outputs": [],
      "source": [
        "# asign the Data to variables\n",
        "items = pd.read_csv('dressipi_recsys2022/candidate_items.csv')\n",
        "features = pd.read_csv('dressipi_recsys2022/item_features.csv')\n",
        "train_purchases = pd.read_csv('dressipi_recsys2022/train_purchases.csv')\n",
        "train_sessions = pd.read_csv('dressipi_recsys2022/train_sessions.csv')\n",
        "test_leaderboard_sessions = pd.read_csv('dressipi_recsys2022/test_leaderboard_sessions.csv')"
      ]
    },
    {
      "cell_type": "markdown",
      "metadata": {
        "id": "JJ_e2-2FapCY"
      },
      "source": [
        "## Blick auf die Daten\n",
        "Hier werden zunächst die Datensätze einmal ausgegeben, um einen Überblick \n",
        "zubekommen wie diese aufgebaut sind."
      ]
    },
    {
      "cell_type": "markdown",
      "source": [
        "\n",
        "\n",
        "---\n",
        "\n",
        "\n",
        "\n",
        "\n",
        "In dem items Datensatz sind die item ids, welche in bei den testsessions gekauft wurden "
      ],
      "metadata": {
        "id": "M9KcgtzIdPyl"
      }
    },
    {
      "cell_type": "code",
      "execution_count": 5,
      "metadata": {
        "id": "y-f0rRHLapCa",
        "outputId": "c4da81cb-aa83-42d5-c963-e8254800f072",
        "colab": {
          "base_uri": "https://localhost:8080/",
          "height": 424
        }
      },
      "outputs": [
        {
          "output_type": "execute_result",
          "data": {
            "text/plain": [
              "      item_id\n",
              "0           4\n",
              "1           8\n",
              "2           9\n",
              "3          19\n",
              "4          20\n",
              "...       ...\n",
              "4985    28128\n",
              "4986    28131\n",
              "4987    28132\n",
              "4988    28133\n",
              "4989    28137\n",
              "\n",
              "[4990 rows x 1 columns]"
            ],
            "text/html": [
              "\n",
              "  <div id=\"df-f462c066-8b73-47ad-8f99-2a09473f190e\">\n",
              "    <div class=\"colab-df-container\">\n",
              "      <div>\n",
              "<style scoped>\n",
              "    .dataframe tbody tr th:only-of-type {\n",
              "        vertical-align: middle;\n",
              "    }\n",
              "\n",
              "    .dataframe tbody tr th {\n",
              "        vertical-align: top;\n",
              "    }\n",
              "\n",
              "    .dataframe thead th {\n",
              "        text-align: right;\n",
              "    }\n",
              "</style>\n",
              "<table border=\"1\" class=\"dataframe\">\n",
              "  <thead>\n",
              "    <tr style=\"text-align: right;\">\n",
              "      <th></th>\n",
              "      <th>item_id</th>\n",
              "    </tr>\n",
              "  </thead>\n",
              "  <tbody>\n",
              "    <tr>\n",
              "      <th>0</th>\n",
              "      <td>4</td>\n",
              "    </tr>\n",
              "    <tr>\n",
              "      <th>1</th>\n",
              "      <td>8</td>\n",
              "    </tr>\n",
              "    <tr>\n",
              "      <th>2</th>\n",
              "      <td>9</td>\n",
              "    </tr>\n",
              "    <tr>\n",
              "      <th>3</th>\n",
              "      <td>19</td>\n",
              "    </tr>\n",
              "    <tr>\n",
              "      <th>4</th>\n",
              "      <td>20</td>\n",
              "    </tr>\n",
              "    <tr>\n",
              "      <th>...</th>\n",
              "      <td>...</td>\n",
              "    </tr>\n",
              "    <tr>\n",
              "      <th>4985</th>\n",
              "      <td>28128</td>\n",
              "    </tr>\n",
              "    <tr>\n",
              "      <th>4986</th>\n",
              "      <td>28131</td>\n",
              "    </tr>\n",
              "    <tr>\n",
              "      <th>4987</th>\n",
              "      <td>28132</td>\n",
              "    </tr>\n",
              "    <tr>\n",
              "      <th>4988</th>\n",
              "      <td>28133</td>\n",
              "    </tr>\n",
              "    <tr>\n",
              "      <th>4989</th>\n",
              "      <td>28137</td>\n",
              "    </tr>\n",
              "  </tbody>\n",
              "</table>\n",
              "<p>4990 rows × 1 columns</p>\n",
              "</div>\n",
              "      <button class=\"colab-df-convert\" onclick=\"convertToInteractive('df-f462c066-8b73-47ad-8f99-2a09473f190e')\"\n",
              "              title=\"Convert this dataframe to an interactive table.\"\n",
              "              style=\"display:none;\">\n",
              "        \n",
              "  <svg xmlns=\"http://www.w3.org/2000/svg\" height=\"24px\"viewBox=\"0 0 24 24\"\n",
              "       width=\"24px\">\n",
              "    <path d=\"M0 0h24v24H0V0z\" fill=\"none\"/>\n",
              "    <path d=\"M18.56 5.44l.94 2.06.94-2.06 2.06-.94-2.06-.94-.94-2.06-.94 2.06-2.06.94zm-11 1L8.5 8.5l.94-2.06 2.06-.94-2.06-.94L8.5 2.5l-.94 2.06-2.06.94zm10 10l.94 2.06.94-2.06 2.06-.94-2.06-.94-.94-2.06-.94 2.06-2.06.94z\"/><path d=\"M17.41 7.96l-1.37-1.37c-.4-.4-.92-.59-1.43-.59-.52 0-1.04.2-1.43.59L10.3 9.45l-7.72 7.72c-.78.78-.78 2.05 0 2.83L4 21.41c.39.39.9.59 1.41.59.51 0 1.02-.2 1.41-.59l7.78-7.78 2.81-2.81c.8-.78.8-2.07 0-2.86zM5.41 20L4 18.59l7.72-7.72 1.47 1.35L5.41 20z\"/>\n",
              "  </svg>\n",
              "      </button>\n",
              "      \n",
              "  <style>\n",
              "    .colab-df-container {\n",
              "      display:flex;\n",
              "      flex-wrap:wrap;\n",
              "      gap: 12px;\n",
              "    }\n",
              "\n",
              "    .colab-df-convert {\n",
              "      background-color: #E8F0FE;\n",
              "      border: none;\n",
              "      border-radius: 50%;\n",
              "      cursor: pointer;\n",
              "      display: none;\n",
              "      fill: #1967D2;\n",
              "      height: 32px;\n",
              "      padding: 0 0 0 0;\n",
              "      width: 32px;\n",
              "    }\n",
              "\n",
              "    .colab-df-convert:hover {\n",
              "      background-color: #E2EBFA;\n",
              "      box-shadow: 0px 1px 2px rgba(60, 64, 67, 0.3), 0px 1px 3px 1px rgba(60, 64, 67, 0.15);\n",
              "      fill: #174EA6;\n",
              "    }\n",
              "\n",
              "    [theme=dark] .colab-df-convert {\n",
              "      background-color: #3B4455;\n",
              "      fill: #D2E3FC;\n",
              "    }\n",
              "\n",
              "    [theme=dark] .colab-df-convert:hover {\n",
              "      background-color: #434B5C;\n",
              "      box-shadow: 0px 1px 3px 1px rgba(0, 0, 0, 0.15);\n",
              "      filter: drop-shadow(0px 1px 2px rgba(0, 0, 0, 0.3));\n",
              "      fill: #FFFFFF;\n",
              "    }\n",
              "  </style>\n",
              "\n",
              "      <script>\n",
              "        const buttonEl =\n",
              "          document.querySelector('#df-f462c066-8b73-47ad-8f99-2a09473f190e button.colab-df-convert');\n",
              "        buttonEl.style.display =\n",
              "          google.colab.kernel.accessAllowed ? 'block' : 'none';\n",
              "\n",
              "        async function convertToInteractive(key) {\n",
              "          const element = document.querySelector('#df-f462c066-8b73-47ad-8f99-2a09473f190e');\n",
              "          const dataTable =\n",
              "            await google.colab.kernel.invokeFunction('convertToInteractive',\n",
              "                                                     [key], {});\n",
              "          if (!dataTable) return;\n",
              "\n",
              "          const docLinkHtml = 'Like what you see? Visit the ' +\n",
              "            '<a target=\"_blank\" href=https://colab.research.google.com/notebooks/data_table.ipynb>data table notebook</a>'\n",
              "            + ' to learn more about interactive tables.';\n",
              "          element.innerHTML = '';\n",
              "          dataTable['output_type'] = 'display_data';\n",
              "          await google.colab.output.renderOutput(dataTable, element);\n",
              "          const docLink = document.createElement('div');\n",
              "          docLink.innerHTML = docLinkHtml;\n",
              "          element.appendChild(docLink);\n",
              "        }\n",
              "      </script>\n",
              "    </div>\n",
              "  </div>\n",
              "  "
            ]
          },
          "metadata": {},
          "execution_count": 5
        }
      ],
      "source": [
        "items"
      ]
    },
    {
      "cell_type": "code",
      "source": [
        "#how many items do we have?\n",
        "items.describe()"
      ],
      "metadata": {
        "id": "jAR9a43teAGq",
        "outputId": "6f098662-cc72-4bda-86ee-30d49ea72f5a",
        "colab": {
          "base_uri": "https://localhost:8080/",
          "height": 300
        }
      },
      "execution_count": 6,
      "outputs": [
        {
          "output_type": "execute_result",
          "data": {
            "text/plain": [
              "            item_id\n",
              "count   4990.000000\n",
              "mean   14007.035271\n",
              "std     8218.231425\n",
              "min        4.000000\n",
              "25%     6833.500000\n",
              "50%    14108.500000\n",
              "75%    21200.000000\n",
              "max    28137.000000"
            ],
            "text/html": [
              "\n",
              "  <div id=\"df-c433ca4b-1e9c-47d9-a215-bb67cb2bb0dc\">\n",
              "    <div class=\"colab-df-container\">\n",
              "      <div>\n",
              "<style scoped>\n",
              "    .dataframe tbody tr th:only-of-type {\n",
              "        vertical-align: middle;\n",
              "    }\n",
              "\n",
              "    .dataframe tbody tr th {\n",
              "        vertical-align: top;\n",
              "    }\n",
              "\n",
              "    .dataframe thead th {\n",
              "        text-align: right;\n",
              "    }\n",
              "</style>\n",
              "<table border=\"1\" class=\"dataframe\">\n",
              "  <thead>\n",
              "    <tr style=\"text-align: right;\">\n",
              "      <th></th>\n",
              "      <th>item_id</th>\n",
              "    </tr>\n",
              "  </thead>\n",
              "  <tbody>\n",
              "    <tr>\n",
              "      <th>count</th>\n",
              "      <td>4990.000000</td>\n",
              "    </tr>\n",
              "    <tr>\n",
              "      <th>mean</th>\n",
              "      <td>14007.035271</td>\n",
              "    </tr>\n",
              "    <tr>\n",
              "      <th>std</th>\n",
              "      <td>8218.231425</td>\n",
              "    </tr>\n",
              "    <tr>\n",
              "      <th>min</th>\n",
              "      <td>4.000000</td>\n",
              "    </tr>\n",
              "    <tr>\n",
              "      <th>25%</th>\n",
              "      <td>6833.500000</td>\n",
              "    </tr>\n",
              "    <tr>\n",
              "      <th>50%</th>\n",
              "      <td>14108.500000</td>\n",
              "    </tr>\n",
              "    <tr>\n",
              "      <th>75%</th>\n",
              "      <td>21200.000000</td>\n",
              "    </tr>\n",
              "    <tr>\n",
              "      <th>max</th>\n",
              "      <td>28137.000000</td>\n",
              "    </tr>\n",
              "  </tbody>\n",
              "</table>\n",
              "</div>\n",
              "      <button class=\"colab-df-convert\" onclick=\"convertToInteractive('df-c433ca4b-1e9c-47d9-a215-bb67cb2bb0dc')\"\n",
              "              title=\"Convert this dataframe to an interactive table.\"\n",
              "              style=\"display:none;\">\n",
              "        \n",
              "  <svg xmlns=\"http://www.w3.org/2000/svg\" height=\"24px\"viewBox=\"0 0 24 24\"\n",
              "       width=\"24px\">\n",
              "    <path d=\"M0 0h24v24H0V0z\" fill=\"none\"/>\n",
              "    <path d=\"M18.56 5.44l.94 2.06.94-2.06 2.06-.94-2.06-.94-.94-2.06-.94 2.06-2.06.94zm-11 1L8.5 8.5l.94-2.06 2.06-.94-2.06-.94L8.5 2.5l-.94 2.06-2.06.94zm10 10l.94 2.06.94-2.06 2.06-.94-2.06-.94-.94-2.06-.94 2.06-2.06.94z\"/><path d=\"M17.41 7.96l-1.37-1.37c-.4-.4-.92-.59-1.43-.59-.52 0-1.04.2-1.43.59L10.3 9.45l-7.72 7.72c-.78.78-.78 2.05 0 2.83L4 21.41c.39.39.9.59 1.41.59.51 0 1.02-.2 1.41-.59l7.78-7.78 2.81-2.81c.8-.78.8-2.07 0-2.86zM5.41 20L4 18.59l7.72-7.72 1.47 1.35L5.41 20z\"/>\n",
              "  </svg>\n",
              "      </button>\n",
              "      \n",
              "  <style>\n",
              "    .colab-df-container {\n",
              "      display:flex;\n",
              "      flex-wrap:wrap;\n",
              "      gap: 12px;\n",
              "    }\n",
              "\n",
              "    .colab-df-convert {\n",
              "      background-color: #E8F0FE;\n",
              "      border: none;\n",
              "      border-radius: 50%;\n",
              "      cursor: pointer;\n",
              "      display: none;\n",
              "      fill: #1967D2;\n",
              "      height: 32px;\n",
              "      padding: 0 0 0 0;\n",
              "      width: 32px;\n",
              "    }\n",
              "\n",
              "    .colab-df-convert:hover {\n",
              "      background-color: #E2EBFA;\n",
              "      box-shadow: 0px 1px 2px rgba(60, 64, 67, 0.3), 0px 1px 3px 1px rgba(60, 64, 67, 0.15);\n",
              "      fill: #174EA6;\n",
              "    }\n",
              "\n",
              "    [theme=dark] .colab-df-convert {\n",
              "      background-color: #3B4455;\n",
              "      fill: #D2E3FC;\n",
              "    }\n",
              "\n",
              "    [theme=dark] .colab-df-convert:hover {\n",
              "      background-color: #434B5C;\n",
              "      box-shadow: 0px 1px 3px 1px rgba(0, 0, 0, 0.15);\n",
              "      filter: drop-shadow(0px 1px 2px rgba(0, 0, 0, 0.3));\n",
              "      fill: #FFFFFF;\n",
              "    }\n",
              "  </style>\n",
              "\n",
              "      <script>\n",
              "        const buttonEl =\n",
              "          document.querySelector('#df-c433ca4b-1e9c-47d9-a215-bb67cb2bb0dc button.colab-df-convert');\n",
              "        buttonEl.style.display =\n",
              "          google.colab.kernel.accessAllowed ? 'block' : 'none';\n",
              "\n",
              "        async function convertToInteractive(key) {\n",
              "          const element = document.querySelector('#df-c433ca4b-1e9c-47d9-a215-bb67cb2bb0dc');\n",
              "          const dataTable =\n",
              "            await google.colab.kernel.invokeFunction('convertToInteractive',\n",
              "                                                     [key], {});\n",
              "          if (!dataTable) return;\n",
              "\n",
              "          const docLinkHtml = 'Like what you see? Visit the ' +\n",
              "            '<a target=\"_blank\" href=https://colab.research.google.com/notebooks/data_table.ipynb>data table notebook</a>'\n",
              "            + ' to learn more about interactive tables.';\n",
              "          element.innerHTML = '';\n",
              "          dataTable['output_type'] = 'display_data';\n",
              "          await google.colab.output.renderOutput(dataTable, element);\n",
              "          const docLink = document.createElement('div');\n",
              "          docLink.innerHTML = docLinkHtml;\n",
              "          element.appendChild(docLink);\n",
              "        }\n",
              "      </script>\n",
              "    </div>\n",
              "  </div>\n",
              "  "
            ]
          },
          "metadata": {},
          "execution_count": 6
        }
      ]
    },
    {
      "cell_type": "markdown",
      "source": [
        "\n",
        "\n",
        "---\n",
        "\n",
        "\n",
        "In dem features Dataset sind die entsprechenden item features der jeweiligen items aufgelistet. Dabei werden die feature Kategorien wie Farbe, Ausschnitt, etc mit einer value id z.B. grün beschrieben. Die einzelnen items haben mehrere Kategorien, welche die items beschreiben, siehe hier z.B. item 2 hat 13 feature Kategorien."
      ],
      "metadata": {
        "id": "6B4y_XIsf_ua"
      }
    },
    {
      "cell_type": "code",
      "execution_count": 7,
      "metadata": {
        "id": "0l6OOqkzapCe",
        "outputId": "86d62013-969f-4bb4-b156-0bf3cd7f10f2",
        "colab": {
          "base_uri": "https://localhost:8080/",
          "height": 1000
        }
      },
      "outputs": [
        {
          "output_type": "execute_result",
          "data": {
            "text/plain": [
              "    item_id  feature_category_id  feature_value_id\n",
              "0         2                   56               365\n",
              "1         2                   62               801\n",
              "2         2                   68               351\n",
              "3         2                   33               802\n",
              "4         2                   72                75\n",
              "5         2                   29               123\n",
              "6         2                   16                38\n",
              "7         2                   50                76\n",
              "8         2                   61               462\n",
              "9         2                   53                 6\n",
              "10        2                    7               394\n",
              "11        2                   69               885\n",
              "12        2                   47               123\n",
              "13        3                   56               365\n",
              "14        3                   69               592\n",
              "15        3                   68                14\n",
              "16        3                   17               378\n",
              "17        3                   32               902\n",
              "18        3                   11               859\n",
              "19        3                   45               559\n",
              "20        3                    7               452\n",
              "21        3                   19               254\n",
              "22        3                   46               825\n",
              "23        3                   61               706\n",
              "24        3                   73               544\n",
              "25        3                   55               129\n",
              "26        3                   63               861\n",
              "27        3                   50               240\n",
              "28        3                   59               180\n",
              "29        3                    4               618\n",
              "30        3                   72                75\n",
              "31        3                    5               605\n",
              "32        3                   26               268\n",
              "33        3                    3               889\n",
              "34        3                   65               521\n",
              "35        3                   18               817\n",
              "36        3                   47               549\n",
              "37        4                   55               267\n",
              "38        4                   17               378\n",
              "39        4                    5               605\n",
              "40        4                   69               538\n",
              "41        4                   18               289\n",
              "42        4                   68               373\n",
              "43        4                   50               317\n",
              "44        4                   73               544\n",
              "45        4                   65               521\n",
              "46        4                    7               837\n",
              "47        4                   59               180\n",
              "48        4                   47               218\n",
              "49        4                   46               825"
            ],
            "text/html": [
              "\n",
              "  <div id=\"df-1e25f41a-7bbc-44c3-87d2-763cf79437f0\">\n",
              "    <div class=\"colab-df-container\">\n",
              "      <div>\n",
              "<style scoped>\n",
              "    .dataframe tbody tr th:only-of-type {\n",
              "        vertical-align: middle;\n",
              "    }\n",
              "\n",
              "    .dataframe tbody tr th {\n",
              "        vertical-align: top;\n",
              "    }\n",
              "\n",
              "    .dataframe thead th {\n",
              "        text-align: right;\n",
              "    }\n",
              "</style>\n",
              "<table border=\"1\" class=\"dataframe\">\n",
              "  <thead>\n",
              "    <tr style=\"text-align: right;\">\n",
              "      <th></th>\n",
              "      <th>item_id</th>\n",
              "      <th>feature_category_id</th>\n",
              "      <th>feature_value_id</th>\n",
              "    </tr>\n",
              "  </thead>\n",
              "  <tbody>\n",
              "    <tr>\n",
              "      <th>0</th>\n",
              "      <td>2</td>\n",
              "      <td>56</td>\n",
              "      <td>365</td>\n",
              "    </tr>\n",
              "    <tr>\n",
              "      <th>1</th>\n",
              "      <td>2</td>\n",
              "      <td>62</td>\n",
              "      <td>801</td>\n",
              "    </tr>\n",
              "    <tr>\n",
              "      <th>2</th>\n",
              "      <td>2</td>\n",
              "      <td>68</td>\n",
              "      <td>351</td>\n",
              "    </tr>\n",
              "    <tr>\n",
              "      <th>3</th>\n",
              "      <td>2</td>\n",
              "      <td>33</td>\n",
              "      <td>802</td>\n",
              "    </tr>\n",
              "    <tr>\n",
              "      <th>4</th>\n",
              "      <td>2</td>\n",
              "      <td>72</td>\n",
              "      <td>75</td>\n",
              "    </tr>\n",
              "    <tr>\n",
              "      <th>5</th>\n",
              "      <td>2</td>\n",
              "      <td>29</td>\n",
              "      <td>123</td>\n",
              "    </tr>\n",
              "    <tr>\n",
              "      <th>6</th>\n",
              "      <td>2</td>\n",
              "      <td>16</td>\n",
              "      <td>38</td>\n",
              "    </tr>\n",
              "    <tr>\n",
              "      <th>7</th>\n",
              "      <td>2</td>\n",
              "      <td>50</td>\n",
              "      <td>76</td>\n",
              "    </tr>\n",
              "    <tr>\n",
              "      <th>8</th>\n",
              "      <td>2</td>\n",
              "      <td>61</td>\n",
              "      <td>462</td>\n",
              "    </tr>\n",
              "    <tr>\n",
              "      <th>9</th>\n",
              "      <td>2</td>\n",
              "      <td>53</td>\n",
              "      <td>6</td>\n",
              "    </tr>\n",
              "    <tr>\n",
              "      <th>10</th>\n",
              "      <td>2</td>\n",
              "      <td>7</td>\n",
              "      <td>394</td>\n",
              "    </tr>\n",
              "    <tr>\n",
              "      <th>11</th>\n",
              "      <td>2</td>\n",
              "      <td>69</td>\n",
              "      <td>885</td>\n",
              "    </tr>\n",
              "    <tr>\n",
              "      <th>12</th>\n",
              "      <td>2</td>\n",
              "      <td>47</td>\n",
              "      <td>123</td>\n",
              "    </tr>\n",
              "    <tr>\n",
              "      <th>13</th>\n",
              "      <td>3</td>\n",
              "      <td>56</td>\n",
              "      <td>365</td>\n",
              "    </tr>\n",
              "    <tr>\n",
              "      <th>14</th>\n",
              "      <td>3</td>\n",
              "      <td>69</td>\n",
              "      <td>592</td>\n",
              "    </tr>\n",
              "    <tr>\n",
              "      <th>15</th>\n",
              "      <td>3</td>\n",
              "      <td>68</td>\n",
              "      <td>14</td>\n",
              "    </tr>\n",
              "    <tr>\n",
              "      <th>16</th>\n",
              "      <td>3</td>\n",
              "      <td>17</td>\n",
              "      <td>378</td>\n",
              "    </tr>\n",
              "    <tr>\n",
              "      <th>17</th>\n",
              "      <td>3</td>\n",
              "      <td>32</td>\n",
              "      <td>902</td>\n",
              "    </tr>\n",
              "    <tr>\n",
              "      <th>18</th>\n",
              "      <td>3</td>\n",
              "      <td>11</td>\n",
              "      <td>859</td>\n",
              "    </tr>\n",
              "    <tr>\n",
              "      <th>19</th>\n",
              "      <td>3</td>\n",
              "      <td>45</td>\n",
              "      <td>559</td>\n",
              "    </tr>\n",
              "    <tr>\n",
              "      <th>20</th>\n",
              "      <td>3</td>\n",
              "      <td>7</td>\n",
              "      <td>452</td>\n",
              "    </tr>\n",
              "    <tr>\n",
              "      <th>21</th>\n",
              "      <td>3</td>\n",
              "      <td>19</td>\n",
              "      <td>254</td>\n",
              "    </tr>\n",
              "    <tr>\n",
              "      <th>22</th>\n",
              "      <td>3</td>\n",
              "      <td>46</td>\n",
              "      <td>825</td>\n",
              "    </tr>\n",
              "    <tr>\n",
              "      <th>23</th>\n",
              "      <td>3</td>\n",
              "      <td>61</td>\n",
              "      <td>706</td>\n",
              "    </tr>\n",
              "    <tr>\n",
              "      <th>24</th>\n",
              "      <td>3</td>\n",
              "      <td>73</td>\n",
              "      <td>544</td>\n",
              "    </tr>\n",
              "    <tr>\n",
              "      <th>25</th>\n",
              "      <td>3</td>\n",
              "      <td>55</td>\n",
              "      <td>129</td>\n",
              "    </tr>\n",
              "    <tr>\n",
              "      <th>26</th>\n",
              "      <td>3</td>\n",
              "      <td>63</td>\n",
              "      <td>861</td>\n",
              "    </tr>\n",
              "    <tr>\n",
              "      <th>27</th>\n",
              "      <td>3</td>\n",
              "      <td>50</td>\n",
              "      <td>240</td>\n",
              "    </tr>\n",
              "    <tr>\n",
              "      <th>28</th>\n",
              "      <td>3</td>\n",
              "      <td>59</td>\n",
              "      <td>180</td>\n",
              "    </tr>\n",
              "    <tr>\n",
              "      <th>29</th>\n",
              "      <td>3</td>\n",
              "      <td>4</td>\n",
              "      <td>618</td>\n",
              "    </tr>\n",
              "    <tr>\n",
              "      <th>30</th>\n",
              "      <td>3</td>\n",
              "      <td>72</td>\n",
              "      <td>75</td>\n",
              "    </tr>\n",
              "    <tr>\n",
              "      <th>31</th>\n",
              "      <td>3</td>\n",
              "      <td>5</td>\n",
              "      <td>605</td>\n",
              "    </tr>\n",
              "    <tr>\n",
              "      <th>32</th>\n",
              "      <td>3</td>\n",
              "      <td>26</td>\n",
              "      <td>268</td>\n",
              "    </tr>\n",
              "    <tr>\n",
              "      <th>33</th>\n",
              "      <td>3</td>\n",
              "      <td>3</td>\n",
              "      <td>889</td>\n",
              "    </tr>\n",
              "    <tr>\n",
              "      <th>34</th>\n",
              "      <td>3</td>\n",
              "      <td>65</td>\n",
              "      <td>521</td>\n",
              "    </tr>\n",
              "    <tr>\n",
              "      <th>35</th>\n",
              "      <td>3</td>\n",
              "      <td>18</td>\n",
              "      <td>817</td>\n",
              "    </tr>\n",
              "    <tr>\n",
              "      <th>36</th>\n",
              "      <td>3</td>\n",
              "      <td>47</td>\n",
              "      <td>549</td>\n",
              "    </tr>\n",
              "    <tr>\n",
              "      <th>37</th>\n",
              "      <td>4</td>\n",
              "      <td>55</td>\n",
              "      <td>267</td>\n",
              "    </tr>\n",
              "    <tr>\n",
              "      <th>38</th>\n",
              "      <td>4</td>\n",
              "      <td>17</td>\n",
              "      <td>378</td>\n",
              "    </tr>\n",
              "    <tr>\n",
              "      <th>39</th>\n",
              "      <td>4</td>\n",
              "      <td>5</td>\n",
              "      <td>605</td>\n",
              "    </tr>\n",
              "    <tr>\n",
              "      <th>40</th>\n",
              "      <td>4</td>\n",
              "      <td>69</td>\n",
              "      <td>538</td>\n",
              "    </tr>\n",
              "    <tr>\n",
              "      <th>41</th>\n",
              "      <td>4</td>\n",
              "      <td>18</td>\n",
              "      <td>289</td>\n",
              "    </tr>\n",
              "    <tr>\n",
              "      <th>42</th>\n",
              "      <td>4</td>\n",
              "      <td>68</td>\n",
              "      <td>373</td>\n",
              "    </tr>\n",
              "    <tr>\n",
              "      <th>43</th>\n",
              "      <td>4</td>\n",
              "      <td>50</td>\n",
              "      <td>317</td>\n",
              "    </tr>\n",
              "    <tr>\n",
              "      <th>44</th>\n",
              "      <td>4</td>\n",
              "      <td>73</td>\n",
              "      <td>544</td>\n",
              "    </tr>\n",
              "    <tr>\n",
              "      <th>45</th>\n",
              "      <td>4</td>\n",
              "      <td>65</td>\n",
              "      <td>521</td>\n",
              "    </tr>\n",
              "    <tr>\n",
              "      <th>46</th>\n",
              "      <td>4</td>\n",
              "      <td>7</td>\n",
              "      <td>837</td>\n",
              "    </tr>\n",
              "    <tr>\n",
              "      <th>47</th>\n",
              "      <td>4</td>\n",
              "      <td>59</td>\n",
              "      <td>180</td>\n",
              "    </tr>\n",
              "    <tr>\n",
              "      <th>48</th>\n",
              "      <td>4</td>\n",
              "      <td>47</td>\n",
              "      <td>218</td>\n",
              "    </tr>\n",
              "    <tr>\n",
              "      <th>49</th>\n",
              "      <td>4</td>\n",
              "      <td>46</td>\n",
              "      <td>825</td>\n",
              "    </tr>\n",
              "  </tbody>\n",
              "</table>\n",
              "</div>\n",
              "      <button class=\"colab-df-convert\" onclick=\"convertToInteractive('df-1e25f41a-7bbc-44c3-87d2-763cf79437f0')\"\n",
              "              title=\"Convert this dataframe to an interactive table.\"\n",
              "              style=\"display:none;\">\n",
              "        \n",
              "  <svg xmlns=\"http://www.w3.org/2000/svg\" height=\"24px\"viewBox=\"0 0 24 24\"\n",
              "       width=\"24px\">\n",
              "    <path d=\"M0 0h24v24H0V0z\" fill=\"none\"/>\n",
              "    <path d=\"M18.56 5.44l.94 2.06.94-2.06 2.06-.94-2.06-.94-.94-2.06-.94 2.06-2.06.94zm-11 1L8.5 8.5l.94-2.06 2.06-.94-2.06-.94L8.5 2.5l-.94 2.06-2.06.94zm10 10l.94 2.06.94-2.06 2.06-.94-2.06-.94-.94-2.06-.94 2.06-2.06.94z\"/><path d=\"M17.41 7.96l-1.37-1.37c-.4-.4-.92-.59-1.43-.59-.52 0-1.04.2-1.43.59L10.3 9.45l-7.72 7.72c-.78.78-.78 2.05 0 2.83L4 21.41c.39.39.9.59 1.41.59.51 0 1.02-.2 1.41-.59l7.78-7.78 2.81-2.81c.8-.78.8-2.07 0-2.86zM5.41 20L4 18.59l7.72-7.72 1.47 1.35L5.41 20z\"/>\n",
              "  </svg>\n",
              "      </button>\n",
              "      \n",
              "  <style>\n",
              "    .colab-df-container {\n",
              "      display:flex;\n",
              "      flex-wrap:wrap;\n",
              "      gap: 12px;\n",
              "    }\n",
              "\n",
              "    .colab-df-convert {\n",
              "      background-color: #E8F0FE;\n",
              "      border: none;\n",
              "      border-radius: 50%;\n",
              "      cursor: pointer;\n",
              "      display: none;\n",
              "      fill: #1967D2;\n",
              "      height: 32px;\n",
              "      padding: 0 0 0 0;\n",
              "      width: 32px;\n",
              "    }\n",
              "\n",
              "    .colab-df-convert:hover {\n",
              "      background-color: #E2EBFA;\n",
              "      box-shadow: 0px 1px 2px rgba(60, 64, 67, 0.3), 0px 1px 3px 1px rgba(60, 64, 67, 0.15);\n",
              "      fill: #174EA6;\n",
              "    }\n",
              "\n",
              "    [theme=dark] .colab-df-convert {\n",
              "      background-color: #3B4455;\n",
              "      fill: #D2E3FC;\n",
              "    }\n",
              "\n",
              "    [theme=dark] .colab-df-convert:hover {\n",
              "      background-color: #434B5C;\n",
              "      box-shadow: 0px 1px 3px 1px rgba(0, 0, 0, 0.15);\n",
              "      filter: drop-shadow(0px 1px 2px rgba(0, 0, 0, 0.3));\n",
              "      fill: #FFFFFF;\n",
              "    }\n",
              "  </style>\n",
              "\n",
              "      <script>\n",
              "        const buttonEl =\n",
              "          document.querySelector('#df-1e25f41a-7bbc-44c3-87d2-763cf79437f0 button.colab-df-convert');\n",
              "        buttonEl.style.display =\n",
              "          google.colab.kernel.accessAllowed ? 'block' : 'none';\n",
              "\n",
              "        async function convertToInteractive(key) {\n",
              "          const element = document.querySelector('#df-1e25f41a-7bbc-44c3-87d2-763cf79437f0');\n",
              "          const dataTable =\n",
              "            await google.colab.kernel.invokeFunction('convertToInteractive',\n",
              "                                                     [key], {});\n",
              "          if (!dataTable) return;\n",
              "\n",
              "          const docLinkHtml = 'Like what you see? Visit the ' +\n",
              "            '<a target=\"_blank\" href=https://colab.research.google.com/notebooks/data_table.ipynb>data table notebook</a>'\n",
              "            + ' to learn more about interactive tables.';\n",
              "          element.innerHTML = '';\n",
              "          dataTable['output_type'] = 'display_data';\n",
              "          await google.colab.output.renderOutput(dataTable, element);\n",
              "          const docLink = document.createElement('div');\n",
              "          docLink.innerHTML = docLinkHtml;\n",
              "          element.appendChild(docLink);\n",
              "        }\n",
              "      </script>\n",
              "    </div>\n",
              "  </div>\n",
              "  "
            ]
          },
          "metadata": {},
          "execution_count": 7
        }
      ],
      "source": [
        "features.head(50)"
      ]
    },
    {
      "cell_type": "code",
      "source": [
        "features.describe()"
      ],
      "metadata": {
        "id": "xbyfCcGeeipK",
        "outputId": "700b508a-49bc-4a3f-dee6-3bebd80c680d",
        "colab": {
          "base_uri": "https://localhost:8080/",
          "height": 300
        }
      },
      "execution_count": 8,
      "outputs": [
        {
          "output_type": "execute_result",
          "data": {
            "text/plain": [
              "             item_id  feature_category_id  feature_value_id\n",
              "count  471751.000000        471751.000000     471751.000000\n",
              "mean    14058.539477            42.424597        486.345578\n",
              "std      8107.465455            22.186285        258.865151\n",
              "min         2.000000             1.000000          1.000000\n",
              "25%      7060.000000            25.000000        273.000000\n",
              "50%     14045.000000            47.000000        512.000000\n",
              "75%     21063.000000            61.000000        708.000000\n",
              "max     28143.000000            73.000000        905.000000"
            ],
            "text/html": [
              "\n",
              "  <div id=\"df-15682563-0bca-44d4-a149-07945e429e4f\">\n",
              "    <div class=\"colab-df-container\">\n",
              "      <div>\n",
              "<style scoped>\n",
              "    .dataframe tbody tr th:only-of-type {\n",
              "        vertical-align: middle;\n",
              "    }\n",
              "\n",
              "    .dataframe tbody tr th {\n",
              "        vertical-align: top;\n",
              "    }\n",
              "\n",
              "    .dataframe thead th {\n",
              "        text-align: right;\n",
              "    }\n",
              "</style>\n",
              "<table border=\"1\" class=\"dataframe\">\n",
              "  <thead>\n",
              "    <tr style=\"text-align: right;\">\n",
              "      <th></th>\n",
              "      <th>item_id</th>\n",
              "      <th>feature_category_id</th>\n",
              "      <th>feature_value_id</th>\n",
              "    </tr>\n",
              "  </thead>\n",
              "  <tbody>\n",
              "    <tr>\n",
              "      <th>count</th>\n",
              "      <td>471751.000000</td>\n",
              "      <td>471751.000000</td>\n",
              "      <td>471751.000000</td>\n",
              "    </tr>\n",
              "    <tr>\n",
              "      <th>mean</th>\n",
              "      <td>14058.539477</td>\n",
              "      <td>42.424597</td>\n",
              "      <td>486.345578</td>\n",
              "    </tr>\n",
              "    <tr>\n",
              "      <th>std</th>\n",
              "      <td>8107.465455</td>\n",
              "      <td>22.186285</td>\n",
              "      <td>258.865151</td>\n",
              "    </tr>\n",
              "    <tr>\n",
              "      <th>min</th>\n",
              "      <td>2.000000</td>\n",
              "      <td>1.000000</td>\n",
              "      <td>1.000000</td>\n",
              "    </tr>\n",
              "    <tr>\n",
              "      <th>25%</th>\n",
              "      <td>7060.000000</td>\n",
              "      <td>25.000000</td>\n",
              "      <td>273.000000</td>\n",
              "    </tr>\n",
              "    <tr>\n",
              "      <th>50%</th>\n",
              "      <td>14045.000000</td>\n",
              "      <td>47.000000</td>\n",
              "      <td>512.000000</td>\n",
              "    </tr>\n",
              "    <tr>\n",
              "      <th>75%</th>\n",
              "      <td>21063.000000</td>\n",
              "      <td>61.000000</td>\n",
              "      <td>708.000000</td>\n",
              "    </tr>\n",
              "    <tr>\n",
              "      <th>max</th>\n",
              "      <td>28143.000000</td>\n",
              "      <td>73.000000</td>\n",
              "      <td>905.000000</td>\n",
              "    </tr>\n",
              "  </tbody>\n",
              "</table>\n",
              "</div>\n",
              "      <button class=\"colab-df-convert\" onclick=\"convertToInteractive('df-15682563-0bca-44d4-a149-07945e429e4f')\"\n",
              "              title=\"Convert this dataframe to an interactive table.\"\n",
              "              style=\"display:none;\">\n",
              "        \n",
              "  <svg xmlns=\"http://www.w3.org/2000/svg\" height=\"24px\"viewBox=\"0 0 24 24\"\n",
              "       width=\"24px\">\n",
              "    <path d=\"M0 0h24v24H0V0z\" fill=\"none\"/>\n",
              "    <path d=\"M18.56 5.44l.94 2.06.94-2.06 2.06-.94-2.06-.94-.94-2.06-.94 2.06-2.06.94zm-11 1L8.5 8.5l.94-2.06 2.06-.94-2.06-.94L8.5 2.5l-.94 2.06-2.06.94zm10 10l.94 2.06.94-2.06 2.06-.94-2.06-.94-.94-2.06-.94 2.06-2.06.94z\"/><path d=\"M17.41 7.96l-1.37-1.37c-.4-.4-.92-.59-1.43-.59-.52 0-1.04.2-1.43.59L10.3 9.45l-7.72 7.72c-.78.78-.78 2.05 0 2.83L4 21.41c.39.39.9.59 1.41.59.51 0 1.02-.2 1.41-.59l7.78-7.78 2.81-2.81c.8-.78.8-2.07 0-2.86zM5.41 20L4 18.59l7.72-7.72 1.47 1.35L5.41 20z\"/>\n",
              "  </svg>\n",
              "      </button>\n",
              "      \n",
              "  <style>\n",
              "    .colab-df-container {\n",
              "      display:flex;\n",
              "      flex-wrap:wrap;\n",
              "      gap: 12px;\n",
              "    }\n",
              "\n",
              "    .colab-df-convert {\n",
              "      background-color: #E8F0FE;\n",
              "      border: none;\n",
              "      border-radius: 50%;\n",
              "      cursor: pointer;\n",
              "      display: none;\n",
              "      fill: #1967D2;\n",
              "      height: 32px;\n",
              "      padding: 0 0 0 0;\n",
              "      width: 32px;\n",
              "    }\n",
              "\n",
              "    .colab-df-convert:hover {\n",
              "      background-color: #E2EBFA;\n",
              "      box-shadow: 0px 1px 2px rgba(60, 64, 67, 0.3), 0px 1px 3px 1px rgba(60, 64, 67, 0.15);\n",
              "      fill: #174EA6;\n",
              "    }\n",
              "\n",
              "    [theme=dark] .colab-df-convert {\n",
              "      background-color: #3B4455;\n",
              "      fill: #D2E3FC;\n",
              "    }\n",
              "\n",
              "    [theme=dark] .colab-df-convert:hover {\n",
              "      background-color: #434B5C;\n",
              "      box-shadow: 0px 1px 3px 1px rgba(0, 0, 0, 0.15);\n",
              "      filter: drop-shadow(0px 1px 2px rgba(0, 0, 0, 0.3));\n",
              "      fill: #FFFFFF;\n",
              "    }\n",
              "  </style>\n",
              "\n",
              "      <script>\n",
              "        const buttonEl =\n",
              "          document.querySelector('#df-15682563-0bca-44d4-a149-07945e429e4f button.colab-df-convert');\n",
              "        buttonEl.style.display =\n",
              "          google.colab.kernel.accessAllowed ? 'block' : 'none';\n",
              "\n",
              "        async function convertToInteractive(key) {\n",
              "          const element = document.querySelector('#df-15682563-0bca-44d4-a149-07945e429e4f');\n",
              "          const dataTable =\n",
              "            await google.colab.kernel.invokeFunction('convertToInteractive',\n",
              "                                                     [key], {});\n",
              "          if (!dataTable) return;\n",
              "\n",
              "          const docLinkHtml = 'Like what you see? Visit the ' +\n",
              "            '<a target=\"_blank\" href=https://colab.research.google.com/notebooks/data_table.ipynb>data table notebook</a>'\n",
              "            + ' to learn more about interactive tables.';\n",
              "          element.innerHTML = '';\n",
              "          dataTable['output_type'] = 'display_data';\n",
              "          await google.colab.output.renderOutput(dataTable, element);\n",
              "          const docLink = document.createElement('div');\n",
              "          docLink.innerHTML = docLinkHtml;\n",
              "          element.appendChild(docLink);\n",
              "        }\n",
              "      </script>\n",
              "    </div>\n",
              "  </div>\n",
              "  "
            ]
          },
          "metadata": {},
          "execution_count": 8
        }
      ]
    },
    {
      "cell_type": "markdown",
      "source": [
        "\n",
        "\n",
        "---\n",
        "\n",
        "\n",
        "Der Train_purchases Datensatz beinhaltet eine item id, welche am Ende der jeweiligen session letzlich gekauft wurde. Zusätzlich gibt es dabei noch einen Zeitstempel.\n",
        "Die gesamten Daten wurden in einem Zeitraum von 18 Monaten aufgezeichnet, dabei wurden Daten der ersten 17 Monate für den Trainingsdatensatz verwendet und der letzte Monat wurde für den Testdatensatz verwendet."
      ],
      "metadata": {
        "id": "GcFC9pzGgbf6"
      }
    },
    {
      "cell_type": "code",
      "execution_count": 9,
      "metadata": {
        "id": "i8k3O8e0apCh",
        "outputId": "a18b4520-fc1d-473a-922a-5b81f9f67d3c",
        "colab": {
          "base_uri": "https://localhost:8080/",
          "height": 424
        }
      },
      "outputs": [
        {
          "output_type": "execute_result",
          "data": {
            "text/plain": [
              "        session_id  item_id                     date\n",
              "0                3    15085  2020-12-18 21:26:47.986\n",
              "1               13    18626  2020-03-13 19:36:15.507\n",
              "2               18    24911  2020-08-26 19:20:32.049\n",
              "3               19    12534   2020-11-02 17:16:45.92\n",
              "4               24    13226  2020-02-26 18:27:44.114\n",
              "...            ...      ...                      ...\n",
              "999995     4439986     2915  2021-05-13 11:56:37.464\n",
              "999996     4439990     8786  2020-08-22 14:28:22.382\n",
              "999997     4439994    21630  2020-11-27 20:10:28.961\n",
              "999998     4439999    16962  2020-11-27 11:01:41.356\n",
              "999999     4440001    16631  2020-10-30 23:46:05.218\n",
              "\n",
              "[1000000 rows x 3 columns]"
            ],
            "text/html": [
              "\n",
              "  <div id=\"df-06563e67-5eb0-4fa0-9954-6a8c419f37f4\">\n",
              "    <div class=\"colab-df-container\">\n",
              "      <div>\n",
              "<style scoped>\n",
              "    .dataframe tbody tr th:only-of-type {\n",
              "        vertical-align: middle;\n",
              "    }\n",
              "\n",
              "    .dataframe tbody tr th {\n",
              "        vertical-align: top;\n",
              "    }\n",
              "\n",
              "    .dataframe thead th {\n",
              "        text-align: right;\n",
              "    }\n",
              "</style>\n",
              "<table border=\"1\" class=\"dataframe\">\n",
              "  <thead>\n",
              "    <tr style=\"text-align: right;\">\n",
              "      <th></th>\n",
              "      <th>session_id</th>\n",
              "      <th>item_id</th>\n",
              "      <th>date</th>\n",
              "    </tr>\n",
              "  </thead>\n",
              "  <tbody>\n",
              "    <tr>\n",
              "      <th>0</th>\n",
              "      <td>3</td>\n",
              "      <td>15085</td>\n",
              "      <td>2020-12-18 21:26:47.986</td>\n",
              "    </tr>\n",
              "    <tr>\n",
              "      <th>1</th>\n",
              "      <td>13</td>\n",
              "      <td>18626</td>\n",
              "      <td>2020-03-13 19:36:15.507</td>\n",
              "    </tr>\n",
              "    <tr>\n",
              "      <th>2</th>\n",
              "      <td>18</td>\n",
              "      <td>24911</td>\n",
              "      <td>2020-08-26 19:20:32.049</td>\n",
              "    </tr>\n",
              "    <tr>\n",
              "      <th>3</th>\n",
              "      <td>19</td>\n",
              "      <td>12534</td>\n",
              "      <td>2020-11-02 17:16:45.92</td>\n",
              "    </tr>\n",
              "    <tr>\n",
              "      <th>4</th>\n",
              "      <td>24</td>\n",
              "      <td>13226</td>\n",
              "      <td>2020-02-26 18:27:44.114</td>\n",
              "    </tr>\n",
              "    <tr>\n",
              "      <th>...</th>\n",
              "      <td>...</td>\n",
              "      <td>...</td>\n",
              "      <td>...</td>\n",
              "    </tr>\n",
              "    <tr>\n",
              "      <th>999995</th>\n",
              "      <td>4439986</td>\n",
              "      <td>2915</td>\n",
              "      <td>2021-05-13 11:56:37.464</td>\n",
              "    </tr>\n",
              "    <tr>\n",
              "      <th>999996</th>\n",
              "      <td>4439990</td>\n",
              "      <td>8786</td>\n",
              "      <td>2020-08-22 14:28:22.382</td>\n",
              "    </tr>\n",
              "    <tr>\n",
              "      <th>999997</th>\n",
              "      <td>4439994</td>\n",
              "      <td>21630</td>\n",
              "      <td>2020-11-27 20:10:28.961</td>\n",
              "    </tr>\n",
              "    <tr>\n",
              "      <th>999998</th>\n",
              "      <td>4439999</td>\n",
              "      <td>16962</td>\n",
              "      <td>2020-11-27 11:01:41.356</td>\n",
              "    </tr>\n",
              "    <tr>\n",
              "      <th>999999</th>\n",
              "      <td>4440001</td>\n",
              "      <td>16631</td>\n",
              "      <td>2020-10-30 23:46:05.218</td>\n",
              "    </tr>\n",
              "  </tbody>\n",
              "</table>\n",
              "<p>1000000 rows × 3 columns</p>\n",
              "</div>\n",
              "      <button class=\"colab-df-convert\" onclick=\"convertToInteractive('df-06563e67-5eb0-4fa0-9954-6a8c419f37f4')\"\n",
              "              title=\"Convert this dataframe to an interactive table.\"\n",
              "              style=\"display:none;\">\n",
              "        \n",
              "  <svg xmlns=\"http://www.w3.org/2000/svg\" height=\"24px\"viewBox=\"0 0 24 24\"\n",
              "       width=\"24px\">\n",
              "    <path d=\"M0 0h24v24H0V0z\" fill=\"none\"/>\n",
              "    <path d=\"M18.56 5.44l.94 2.06.94-2.06 2.06-.94-2.06-.94-.94-2.06-.94 2.06-2.06.94zm-11 1L8.5 8.5l.94-2.06 2.06-.94-2.06-.94L8.5 2.5l-.94 2.06-2.06.94zm10 10l.94 2.06.94-2.06 2.06-.94-2.06-.94-.94-2.06-.94 2.06-2.06.94z\"/><path d=\"M17.41 7.96l-1.37-1.37c-.4-.4-.92-.59-1.43-.59-.52 0-1.04.2-1.43.59L10.3 9.45l-7.72 7.72c-.78.78-.78 2.05 0 2.83L4 21.41c.39.39.9.59 1.41.59.51 0 1.02-.2 1.41-.59l7.78-7.78 2.81-2.81c.8-.78.8-2.07 0-2.86zM5.41 20L4 18.59l7.72-7.72 1.47 1.35L5.41 20z\"/>\n",
              "  </svg>\n",
              "      </button>\n",
              "      \n",
              "  <style>\n",
              "    .colab-df-container {\n",
              "      display:flex;\n",
              "      flex-wrap:wrap;\n",
              "      gap: 12px;\n",
              "    }\n",
              "\n",
              "    .colab-df-convert {\n",
              "      background-color: #E8F0FE;\n",
              "      border: none;\n",
              "      border-radius: 50%;\n",
              "      cursor: pointer;\n",
              "      display: none;\n",
              "      fill: #1967D2;\n",
              "      height: 32px;\n",
              "      padding: 0 0 0 0;\n",
              "      width: 32px;\n",
              "    }\n",
              "\n",
              "    .colab-df-convert:hover {\n",
              "      background-color: #E2EBFA;\n",
              "      box-shadow: 0px 1px 2px rgba(60, 64, 67, 0.3), 0px 1px 3px 1px rgba(60, 64, 67, 0.15);\n",
              "      fill: #174EA6;\n",
              "    }\n",
              "\n",
              "    [theme=dark] .colab-df-convert {\n",
              "      background-color: #3B4455;\n",
              "      fill: #D2E3FC;\n",
              "    }\n",
              "\n",
              "    [theme=dark] .colab-df-convert:hover {\n",
              "      background-color: #434B5C;\n",
              "      box-shadow: 0px 1px 3px 1px rgba(0, 0, 0, 0.15);\n",
              "      filter: drop-shadow(0px 1px 2px rgba(0, 0, 0, 0.3));\n",
              "      fill: #FFFFFF;\n",
              "    }\n",
              "  </style>\n",
              "\n",
              "      <script>\n",
              "        const buttonEl =\n",
              "          document.querySelector('#df-06563e67-5eb0-4fa0-9954-6a8c419f37f4 button.colab-df-convert');\n",
              "        buttonEl.style.display =\n",
              "          google.colab.kernel.accessAllowed ? 'block' : 'none';\n",
              "\n",
              "        async function convertToInteractive(key) {\n",
              "          const element = document.querySelector('#df-06563e67-5eb0-4fa0-9954-6a8c419f37f4');\n",
              "          const dataTable =\n",
              "            await google.colab.kernel.invokeFunction('convertToInteractive',\n",
              "                                                     [key], {});\n",
              "          if (!dataTable) return;\n",
              "\n",
              "          const docLinkHtml = 'Like what you see? Visit the ' +\n",
              "            '<a target=\"_blank\" href=https://colab.research.google.com/notebooks/data_table.ipynb>data table notebook</a>'\n",
              "            + ' to learn more about interactive tables.';\n",
              "          element.innerHTML = '';\n",
              "          dataTable['output_type'] = 'display_data';\n",
              "          await google.colab.output.renderOutput(dataTable, element);\n",
              "          const docLink = document.createElement('div');\n",
              "          docLink.innerHTML = docLinkHtml;\n",
              "          element.appendChild(docLink);\n",
              "        }\n",
              "      </script>\n",
              "    </div>\n",
              "  </div>\n",
              "  "
            ]
          },
          "metadata": {},
          "execution_count": 9
        }
      ],
      "source": [
        "train_purchases"
      ]
    },
    {
      "cell_type": "markdown",
      "source": [
        "\n",
        "\n",
        "---\n",
        "\n",
        "\n",
        "In dem Datensatz train_session sind die item ids aufgelistet, welche innerhalb einer session angesehen wurden. Auch hier gibt es jeweils einen Zeitstempel."
      ],
      "metadata": {
        "id": "n18CPNwYgrk0"
      }
    },
    {
      "cell_type": "code",
      "execution_count": 10,
      "metadata": {
        "id": "eKwWrtvEapCi",
        "outputId": "0deab248-1b65-48fe-d406-d52d1c2d4e96",
        "colab": {
          "base_uri": "https://localhost:8080/",
          "height": 424
        }
      },
      "outputs": [
        {
          "output_type": "execute_result",
          "data": {
            "text/plain": [
              "         session_id  item_id                     date\n",
              "0                 3     9655  2020-12-18 21:25:00.373\n",
              "1                 3     9655  2020-12-18 21:19:48.093\n",
              "2                13    15654  2020-03-13 19:35:27.136\n",
              "3                18    18316  2020-08-26 19:18:30.833\n",
              "4                18     2507  2020-08-26 19:16:31.211\n",
              "...             ...      ...                      ...\n",
              "4743815     4440001    20409  2020-10-30 23:37:20.658\n",
              "4743816     4440001    14155  2020-10-30 23:31:56.607\n",
              "4743817     4440001    14303  2020-10-30 23:36:17.934\n",
              "4743818     4440001    27852  2020-10-30 23:39:55.186\n",
              "4743819     4440001      305  2020-10-30 23:27:37.873\n",
              "\n",
              "[4743820 rows x 3 columns]"
            ],
            "text/html": [
              "\n",
              "  <div id=\"df-a37c3069-7675-412c-811f-c42fd48b9e41\">\n",
              "    <div class=\"colab-df-container\">\n",
              "      <div>\n",
              "<style scoped>\n",
              "    .dataframe tbody tr th:only-of-type {\n",
              "        vertical-align: middle;\n",
              "    }\n",
              "\n",
              "    .dataframe tbody tr th {\n",
              "        vertical-align: top;\n",
              "    }\n",
              "\n",
              "    .dataframe thead th {\n",
              "        text-align: right;\n",
              "    }\n",
              "</style>\n",
              "<table border=\"1\" class=\"dataframe\">\n",
              "  <thead>\n",
              "    <tr style=\"text-align: right;\">\n",
              "      <th></th>\n",
              "      <th>session_id</th>\n",
              "      <th>item_id</th>\n",
              "      <th>date</th>\n",
              "    </tr>\n",
              "  </thead>\n",
              "  <tbody>\n",
              "    <tr>\n",
              "      <th>0</th>\n",
              "      <td>3</td>\n",
              "      <td>9655</td>\n",
              "      <td>2020-12-18 21:25:00.373</td>\n",
              "    </tr>\n",
              "    <tr>\n",
              "      <th>1</th>\n",
              "      <td>3</td>\n",
              "      <td>9655</td>\n",
              "      <td>2020-12-18 21:19:48.093</td>\n",
              "    </tr>\n",
              "    <tr>\n",
              "      <th>2</th>\n",
              "      <td>13</td>\n",
              "      <td>15654</td>\n",
              "      <td>2020-03-13 19:35:27.136</td>\n",
              "    </tr>\n",
              "    <tr>\n",
              "      <th>3</th>\n",
              "      <td>18</td>\n",
              "      <td>18316</td>\n",
              "      <td>2020-08-26 19:18:30.833</td>\n",
              "    </tr>\n",
              "    <tr>\n",
              "      <th>4</th>\n",
              "      <td>18</td>\n",
              "      <td>2507</td>\n",
              "      <td>2020-08-26 19:16:31.211</td>\n",
              "    </tr>\n",
              "    <tr>\n",
              "      <th>...</th>\n",
              "      <td>...</td>\n",
              "      <td>...</td>\n",
              "      <td>...</td>\n",
              "    </tr>\n",
              "    <tr>\n",
              "      <th>4743815</th>\n",
              "      <td>4440001</td>\n",
              "      <td>20409</td>\n",
              "      <td>2020-10-30 23:37:20.658</td>\n",
              "    </tr>\n",
              "    <tr>\n",
              "      <th>4743816</th>\n",
              "      <td>4440001</td>\n",
              "      <td>14155</td>\n",
              "      <td>2020-10-30 23:31:56.607</td>\n",
              "    </tr>\n",
              "    <tr>\n",
              "      <th>4743817</th>\n",
              "      <td>4440001</td>\n",
              "      <td>14303</td>\n",
              "      <td>2020-10-30 23:36:17.934</td>\n",
              "    </tr>\n",
              "    <tr>\n",
              "      <th>4743818</th>\n",
              "      <td>4440001</td>\n",
              "      <td>27852</td>\n",
              "      <td>2020-10-30 23:39:55.186</td>\n",
              "    </tr>\n",
              "    <tr>\n",
              "      <th>4743819</th>\n",
              "      <td>4440001</td>\n",
              "      <td>305</td>\n",
              "      <td>2020-10-30 23:27:37.873</td>\n",
              "    </tr>\n",
              "  </tbody>\n",
              "</table>\n",
              "<p>4743820 rows × 3 columns</p>\n",
              "</div>\n",
              "      <button class=\"colab-df-convert\" onclick=\"convertToInteractive('df-a37c3069-7675-412c-811f-c42fd48b9e41')\"\n",
              "              title=\"Convert this dataframe to an interactive table.\"\n",
              "              style=\"display:none;\">\n",
              "        \n",
              "  <svg xmlns=\"http://www.w3.org/2000/svg\" height=\"24px\"viewBox=\"0 0 24 24\"\n",
              "       width=\"24px\">\n",
              "    <path d=\"M0 0h24v24H0V0z\" fill=\"none\"/>\n",
              "    <path d=\"M18.56 5.44l.94 2.06.94-2.06 2.06-.94-2.06-.94-.94-2.06-.94 2.06-2.06.94zm-11 1L8.5 8.5l.94-2.06 2.06-.94-2.06-.94L8.5 2.5l-.94 2.06-2.06.94zm10 10l.94 2.06.94-2.06 2.06-.94-2.06-.94-.94-2.06-.94 2.06-2.06.94z\"/><path d=\"M17.41 7.96l-1.37-1.37c-.4-.4-.92-.59-1.43-.59-.52 0-1.04.2-1.43.59L10.3 9.45l-7.72 7.72c-.78.78-.78 2.05 0 2.83L4 21.41c.39.39.9.59 1.41.59.51 0 1.02-.2 1.41-.59l7.78-7.78 2.81-2.81c.8-.78.8-2.07 0-2.86zM5.41 20L4 18.59l7.72-7.72 1.47 1.35L5.41 20z\"/>\n",
              "  </svg>\n",
              "      </button>\n",
              "      \n",
              "  <style>\n",
              "    .colab-df-container {\n",
              "      display:flex;\n",
              "      flex-wrap:wrap;\n",
              "      gap: 12px;\n",
              "    }\n",
              "\n",
              "    .colab-df-convert {\n",
              "      background-color: #E8F0FE;\n",
              "      border: none;\n",
              "      border-radius: 50%;\n",
              "      cursor: pointer;\n",
              "      display: none;\n",
              "      fill: #1967D2;\n",
              "      height: 32px;\n",
              "      padding: 0 0 0 0;\n",
              "      width: 32px;\n",
              "    }\n",
              "\n",
              "    .colab-df-convert:hover {\n",
              "      background-color: #E2EBFA;\n",
              "      box-shadow: 0px 1px 2px rgba(60, 64, 67, 0.3), 0px 1px 3px 1px rgba(60, 64, 67, 0.15);\n",
              "      fill: #174EA6;\n",
              "    }\n",
              "\n",
              "    [theme=dark] .colab-df-convert {\n",
              "      background-color: #3B4455;\n",
              "      fill: #D2E3FC;\n",
              "    }\n",
              "\n",
              "    [theme=dark] .colab-df-convert:hover {\n",
              "      background-color: #434B5C;\n",
              "      box-shadow: 0px 1px 3px 1px rgba(0, 0, 0, 0.15);\n",
              "      filter: drop-shadow(0px 1px 2px rgba(0, 0, 0, 0.3));\n",
              "      fill: #FFFFFF;\n",
              "    }\n",
              "  </style>\n",
              "\n",
              "      <script>\n",
              "        const buttonEl =\n",
              "          document.querySelector('#df-a37c3069-7675-412c-811f-c42fd48b9e41 button.colab-df-convert');\n",
              "        buttonEl.style.display =\n",
              "          google.colab.kernel.accessAllowed ? 'block' : 'none';\n",
              "\n",
              "        async function convertToInteractive(key) {\n",
              "          const element = document.querySelector('#df-a37c3069-7675-412c-811f-c42fd48b9e41');\n",
              "          const dataTable =\n",
              "            await google.colab.kernel.invokeFunction('convertToInteractive',\n",
              "                                                     [key], {});\n",
              "          if (!dataTable) return;\n",
              "\n",
              "          const docLinkHtml = 'Like what you see? Visit the ' +\n",
              "            '<a target=\"_blank\" href=https://colab.research.google.com/notebooks/data_table.ipynb>data table notebook</a>'\n",
              "            + ' to learn more about interactive tables.';\n",
              "          element.innerHTML = '';\n",
              "          dataTable['output_type'] = 'display_data';\n",
              "          await google.colab.output.renderOutput(dataTable, element);\n",
              "          const docLink = document.createElement('div');\n",
              "          docLink.innerHTML = docLinkHtml;\n",
              "          element.appendChild(docLink);\n",
              "        }\n",
              "      </script>\n",
              "    </div>\n",
              "  </div>\n",
              "  "
            ]
          },
          "metadata": {},
          "execution_count": 10
        }
      ],
      "source": [
        "train_sessions"
      ]
    },
    {
      "cell_type": "markdown",
      "source": [
        "\n",
        "\n",
        "---\n",
        "\n",
        "\n",
        "Auf den Daten des Datensatzes test_leaderboard_session sollen die Vorhersagen für die Bestenliste des Wettbewerbs getätigt werden. "
      ],
      "metadata": {
        "id": "DjrcPyUfhAa2"
      }
    },
    {
      "cell_type": "code",
      "execution_count": 11,
      "metadata": {
        "id": "_tjZ_BfIapCk",
        "outputId": "da60b7ce-25ea-4065-c9c6-a463de7f57be",
        "colab": {
          "base_uri": "https://localhost:8080/",
          "height": 424
        }
      },
      "outputs": [
        {
          "output_type": "execute_result",
          "data": {
            "text/plain": [
              "        session_id  item_id                     date\n",
              "0               26    19185  2021-06-16 09:53:54.158\n",
              "1              200    17089  2021-06-25 12:23:40.811\n",
              "2              200    17089  2021-06-25 12:24:36.631\n",
              "3              200     8060  2021-06-25 12:24:41.677\n",
              "4              200     4758  2021-06-25 12:24:50.692\n",
              "...            ...      ...                      ...\n",
              "229349     4439653    25955   2021-06-11 10:22:57.47\n",
              "229350     4439653    12179  2021-06-11 10:23:00.663\n",
              "229351     4439757     2078  2021-06-30 11:42:15.073\n",
              "229352     4439757     2078  2021-06-30 11:43:13.725\n",
              "229353     4439757     6790  2021-06-30 11:44:52.704\n",
              "\n",
              "[229354 rows x 3 columns]"
            ],
            "text/html": [
              "\n",
              "  <div id=\"df-de47b3f6-0989-4b61-bda4-319566ab91b6\">\n",
              "    <div class=\"colab-df-container\">\n",
              "      <div>\n",
              "<style scoped>\n",
              "    .dataframe tbody tr th:only-of-type {\n",
              "        vertical-align: middle;\n",
              "    }\n",
              "\n",
              "    .dataframe tbody tr th {\n",
              "        vertical-align: top;\n",
              "    }\n",
              "\n",
              "    .dataframe thead th {\n",
              "        text-align: right;\n",
              "    }\n",
              "</style>\n",
              "<table border=\"1\" class=\"dataframe\">\n",
              "  <thead>\n",
              "    <tr style=\"text-align: right;\">\n",
              "      <th></th>\n",
              "      <th>session_id</th>\n",
              "      <th>item_id</th>\n",
              "      <th>date</th>\n",
              "    </tr>\n",
              "  </thead>\n",
              "  <tbody>\n",
              "    <tr>\n",
              "      <th>0</th>\n",
              "      <td>26</td>\n",
              "      <td>19185</td>\n",
              "      <td>2021-06-16 09:53:54.158</td>\n",
              "    </tr>\n",
              "    <tr>\n",
              "      <th>1</th>\n",
              "      <td>200</td>\n",
              "      <td>17089</td>\n",
              "      <td>2021-06-25 12:23:40.811</td>\n",
              "    </tr>\n",
              "    <tr>\n",
              "      <th>2</th>\n",
              "      <td>200</td>\n",
              "      <td>17089</td>\n",
              "      <td>2021-06-25 12:24:36.631</td>\n",
              "    </tr>\n",
              "    <tr>\n",
              "      <th>3</th>\n",
              "      <td>200</td>\n",
              "      <td>8060</td>\n",
              "      <td>2021-06-25 12:24:41.677</td>\n",
              "    </tr>\n",
              "    <tr>\n",
              "      <th>4</th>\n",
              "      <td>200</td>\n",
              "      <td>4758</td>\n",
              "      <td>2021-06-25 12:24:50.692</td>\n",
              "    </tr>\n",
              "    <tr>\n",
              "      <th>...</th>\n",
              "      <td>...</td>\n",
              "      <td>...</td>\n",
              "      <td>...</td>\n",
              "    </tr>\n",
              "    <tr>\n",
              "      <th>229349</th>\n",
              "      <td>4439653</td>\n",
              "      <td>25955</td>\n",
              "      <td>2021-06-11 10:22:57.47</td>\n",
              "    </tr>\n",
              "    <tr>\n",
              "      <th>229350</th>\n",
              "      <td>4439653</td>\n",
              "      <td>12179</td>\n",
              "      <td>2021-06-11 10:23:00.663</td>\n",
              "    </tr>\n",
              "    <tr>\n",
              "      <th>229351</th>\n",
              "      <td>4439757</td>\n",
              "      <td>2078</td>\n",
              "      <td>2021-06-30 11:42:15.073</td>\n",
              "    </tr>\n",
              "    <tr>\n",
              "      <th>229352</th>\n",
              "      <td>4439757</td>\n",
              "      <td>2078</td>\n",
              "      <td>2021-06-30 11:43:13.725</td>\n",
              "    </tr>\n",
              "    <tr>\n",
              "      <th>229353</th>\n",
              "      <td>4439757</td>\n",
              "      <td>6790</td>\n",
              "      <td>2021-06-30 11:44:52.704</td>\n",
              "    </tr>\n",
              "  </tbody>\n",
              "</table>\n",
              "<p>229354 rows × 3 columns</p>\n",
              "</div>\n",
              "      <button class=\"colab-df-convert\" onclick=\"convertToInteractive('df-de47b3f6-0989-4b61-bda4-319566ab91b6')\"\n",
              "              title=\"Convert this dataframe to an interactive table.\"\n",
              "              style=\"display:none;\">\n",
              "        \n",
              "  <svg xmlns=\"http://www.w3.org/2000/svg\" height=\"24px\"viewBox=\"0 0 24 24\"\n",
              "       width=\"24px\">\n",
              "    <path d=\"M0 0h24v24H0V0z\" fill=\"none\"/>\n",
              "    <path d=\"M18.56 5.44l.94 2.06.94-2.06 2.06-.94-2.06-.94-.94-2.06-.94 2.06-2.06.94zm-11 1L8.5 8.5l.94-2.06 2.06-.94-2.06-.94L8.5 2.5l-.94 2.06-2.06.94zm10 10l.94 2.06.94-2.06 2.06-.94-2.06-.94-.94-2.06-.94 2.06-2.06.94z\"/><path d=\"M17.41 7.96l-1.37-1.37c-.4-.4-.92-.59-1.43-.59-.52 0-1.04.2-1.43.59L10.3 9.45l-7.72 7.72c-.78.78-.78 2.05 0 2.83L4 21.41c.39.39.9.59 1.41.59.51 0 1.02-.2 1.41-.59l7.78-7.78 2.81-2.81c.8-.78.8-2.07 0-2.86zM5.41 20L4 18.59l7.72-7.72 1.47 1.35L5.41 20z\"/>\n",
              "  </svg>\n",
              "      </button>\n",
              "      \n",
              "  <style>\n",
              "    .colab-df-container {\n",
              "      display:flex;\n",
              "      flex-wrap:wrap;\n",
              "      gap: 12px;\n",
              "    }\n",
              "\n",
              "    .colab-df-convert {\n",
              "      background-color: #E8F0FE;\n",
              "      border: none;\n",
              "      border-radius: 50%;\n",
              "      cursor: pointer;\n",
              "      display: none;\n",
              "      fill: #1967D2;\n",
              "      height: 32px;\n",
              "      padding: 0 0 0 0;\n",
              "      width: 32px;\n",
              "    }\n",
              "\n",
              "    .colab-df-convert:hover {\n",
              "      background-color: #E2EBFA;\n",
              "      box-shadow: 0px 1px 2px rgba(60, 64, 67, 0.3), 0px 1px 3px 1px rgba(60, 64, 67, 0.15);\n",
              "      fill: #174EA6;\n",
              "    }\n",
              "\n",
              "    [theme=dark] .colab-df-convert {\n",
              "      background-color: #3B4455;\n",
              "      fill: #D2E3FC;\n",
              "    }\n",
              "\n",
              "    [theme=dark] .colab-df-convert:hover {\n",
              "      background-color: #434B5C;\n",
              "      box-shadow: 0px 1px 3px 1px rgba(0, 0, 0, 0.15);\n",
              "      filter: drop-shadow(0px 1px 2px rgba(0, 0, 0, 0.3));\n",
              "      fill: #FFFFFF;\n",
              "    }\n",
              "  </style>\n",
              "\n",
              "      <script>\n",
              "        const buttonEl =\n",
              "          document.querySelector('#df-de47b3f6-0989-4b61-bda4-319566ab91b6 button.colab-df-convert');\n",
              "        buttonEl.style.display =\n",
              "          google.colab.kernel.accessAllowed ? 'block' : 'none';\n",
              "\n",
              "        async function convertToInteractive(key) {\n",
              "          const element = document.querySelector('#df-de47b3f6-0989-4b61-bda4-319566ab91b6');\n",
              "          const dataTable =\n",
              "            await google.colab.kernel.invokeFunction('convertToInteractive',\n",
              "                                                     [key], {});\n",
              "          if (!dataTable) return;\n",
              "\n",
              "          const docLinkHtml = 'Like what you see? Visit the ' +\n",
              "            '<a target=\"_blank\" href=https://colab.research.google.com/notebooks/data_table.ipynb>data table notebook</a>'\n",
              "            + ' to learn more about interactive tables.';\n",
              "          element.innerHTML = '';\n",
              "          dataTable['output_type'] = 'display_data';\n",
              "          await google.colab.output.renderOutput(dataTable, element);\n",
              "          const docLink = document.createElement('div');\n",
              "          docLink.innerHTML = docLinkHtml;\n",
              "          element.appendChild(docLink);\n",
              "        }\n",
              "      </script>\n",
              "    </div>\n",
              "  </div>\n",
              "  "
            ]
          },
          "metadata": {},
          "execution_count": 11
        }
      ],
      "source": [
        "test_leaderboard_sessions"
      ]
    },
    {
      "cell_type": "markdown",
      "source": [
        "# Datenanalyse\n",
        "Hier soll ein überblick geschaffen werden, wie die Daten verteilt sind"
      ],
      "metadata": {
        "id": "IWHOv2_uQJrf"
      }
    },
    {
      "cell_type": "markdown",
      "source": [
        "## Anzahl der Sessions pro Kauf"
      ],
      "metadata": {
        "id": "4XfOMcFQlwqp"
      }
    },
    {
      "cell_type": "code",
      "source": [
        "# first count the ammount of the session numbers\n",
        "A = pd.DataFrame(train_sessions['session_id'].value_counts().sort_values())['session_id'].value_counts()"
      ],
      "metadata": {
        "id": "POq-dGIZQMq3"
      },
      "execution_count": 12,
      "outputs": []
    },
    {
      "cell_type": "code",
      "source": [
        "A.to_frame()"
      ],
      "metadata": {
        "colab": {
          "base_uri": "https://localhost:8080/",
          "height": 505
        },
        "id": "6G1VdMlHQ-eN",
        "outputId": "816768af-2ba5-49bf-ad6b-7a82ea7280fe"
      },
      "execution_count": 13,
      "outputs": [
        {
          "output_type": "execute_result",
          "data": {
            "text/plain": [
              "     session_id\n",
              "1        307698\n",
              "2        174775\n",
              "3        115499\n",
              "4         82306\n",
              "5         60695\n",
              "..          ...\n",
              "100           6\n",
              "91            6\n",
              "98            5\n",
              "99            5\n",
              "89            5\n",
              "\n",
              "[100 rows x 1 columns]"
            ],
            "text/html": [
              "\n",
              "  <div id=\"df-7304b755-9dd6-4f35-8538-8846689f9f9c\">\n",
              "    <div class=\"colab-df-container\">\n",
              "      <div>\n",
              "<style scoped>\n",
              "    .dataframe tbody tr th:only-of-type {\n",
              "        vertical-align: middle;\n",
              "    }\n",
              "\n",
              "    .dataframe tbody tr th {\n",
              "        vertical-align: top;\n",
              "    }\n",
              "\n",
              "    .dataframe thead th {\n",
              "        text-align: right;\n",
              "    }\n",
              "</style>\n",
              "<table border=\"1\" class=\"dataframe\">\n",
              "  <thead>\n",
              "    <tr style=\"text-align: right;\">\n",
              "      <th></th>\n",
              "      <th>session_id</th>\n",
              "    </tr>\n",
              "  </thead>\n",
              "  <tbody>\n",
              "    <tr>\n",
              "      <th>1</th>\n",
              "      <td>307698</td>\n",
              "    </tr>\n",
              "    <tr>\n",
              "      <th>2</th>\n",
              "      <td>174775</td>\n",
              "    </tr>\n",
              "    <tr>\n",
              "      <th>3</th>\n",
              "      <td>115499</td>\n",
              "    </tr>\n",
              "    <tr>\n",
              "      <th>4</th>\n",
              "      <td>82306</td>\n",
              "    </tr>\n",
              "    <tr>\n",
              "      <th>5</th>\n",
              "      <td>60695</td>\n",
              "    </tr>\n",
              "    <tr>\n",
              "      <th>...</th>\n",
              "      <td>...</td>\n",
              "    </tr>\n",
              "    <tr>\n",
              "      <th>100</th>\n",
              "      <td>6</td>\n",
              "    </tr>\n",
              "    <tr>\n",
              "      <th>91</th>\n",
              "      <td>6</td>\n",
              "    </tr>\n",
              "    <tr>\n",
              "      <th>98</th>\n",
              "      <td>5</td>\n",
              "    </tr>\n",
              "    <tr>\n",
              "      <th>99</th>\n",
              "      <td>5</td>\n",
              "    </tr>\n",
              "    <tr>\n",
              "      <th>89</th>\n",
              "      <td>5</td>\n",
              "    </tr>\n",
              "  </tbody>\n",
              "</table>\n",
              "<p>100 rows × 1 columns</p>\n",
              "</div>\n",
              "      <button class=\"colab-df-convert\" onclick=\"convertToInteractive('df-7304b755-9dd6-4f35-8538-8846689f9f9c')\"\n",
              "              title=\"Convert this dataframe to an interactive table.\"\n",
              "              style=\"display:none;\">\n",
              "        \n",
              "  <svg xmlns=\"http://www.w3.org/2000/svg\" height=\"24px\"viewBox=\"0 0 24 24\"\n",
              "       width=\"24px\">\n",
              "    <path d=\"M0 0h24v24H0V0z\" fill=\"none\"/>\n",
              "    <path d=\"M18.56 5.44l.94 2.06.94-2.06 2.06-.94-2.06-.94-.94-2.06-.94 2.06-2.06.94zm-11 1L8.5 8.5l.94-2.06 2.06-.94-2.06-.94L8.5 2.5l-.94 2.06-2.06.94zm10 10l.94 2.06.94-2.06 2.06-.94-2.06-.94-.94-2.06-.94 2.06-2.06.94z\"/><path d=\"M17.41 7.96l-1.37-1.37c-.4-.4-.92-.59-1.43-.59-.52 0-1.04.2-1.43.59L10.3 9.45l-7.72 7.72c-.78.78-.78 2.05 0 2.83L4 21.41c.39.39.9.59 1.41.59.51 0 1.02-.2 1.41-.59l7.78-7.78 2.81-2.81c.8-.78.8-2.07 0-2.86zM5.41 20L4 18.59l7.72-7.72 1.47 1.35L5.41 20z\"/>\n",
              "  </svg>\n",
              "      </button>\n",
              "      \n",
              "  <style>\n",
              "    .colab-df-container {\n",
              "      display:flex;\n",
              "      flex-wrap:wrap;\n",
              "      gap: 12px;\n",
              "    }\n",
              "\n",
              "    .colab-df-convert {\n",
              "      background-color: #E8F0FE;\n",
              "      border: none;\n",
              "      border-radius: 50%;\n",
              "      cursor: pointer;\n",
              "      display: none;\n",
              "      fill: #1967D2;\n",
              "      height: 32px;\n",
              "      padding: 0 0 0 0;\n",
              "      width: 32px;\n",
              "    }\n",
              "\n",
              "    .colab-df-convert:hover {\n",
              "      background-color: #E2EBFA;\n",
              "      box-shadow: 0px 1px 2px rgba(60, 64, 67, 0.3), 0px 1px 3px 1px rgba(60, 64, 67, 0.15);\n",
              "      fill: #174EA6;\n",
              "    }\n",
              "\n",
              "    [theme=dark] .colab-df-convert {\n",
              "      background-color: #3B4455;\n",
              "      fill: #D2E3FC;\n",
              "    }\n",
              "\n",
              "    [theme=dark] .colab-df-convert:hover {\n",
              "      background-color: #434B5C;\n",
              "      box-shadow: 0px 1px 3px 1px rgba(0, 0, 0, 0.15);\n",
              "      filter: drop-shadow(0px 1px 2px rgba(0, 0, 0, 0.3));\n",
              "      fill: #FFFFFF;\n",
              "    }\n",
              "  </style>\n",
              "\n",
              "      <script>\n",
              "        const buttonEl =\n",
              "          document.querySelector('#df-7304b755-9dd6-4f35-8538-8846689f9f9c button.colab-df-convert');\n",
              "        buttonEl.style.display =\n",
              "          google.colab.kernel.accessAllowed ? 'block' : 'none';\n",
              "\n",
              "        async function convertToInteractive(key) {\n",
              "          const element = document.querySelector('#df-7304b755-9dd6-4f35-8538-8846689f9f9c');\n",
              "          const dataTable =\n",
              "            await google.colab.kernel.invokeFunction('convertToInteractive',\n",
              "                                                     [key], {});\n",
              "          if (!dataTable) return;\n",
              "\n",
              "          const docLinkHtml = 'Like what you see? Visit the ' +\n",
              "            '<a target=\"_blank\" href=https://colab.research.google.com/notebooks/data_table.ipynb>data table notebook</a>'\n",
              "            + ' to learn more about interactive tables.';\n",
              "          element.innerHTML = '';\n",
              "          dataTable['output_type'] = 'display_data';\n",
              "          await google.colab.output.renderOutput(dataTable, element);\n",
              "          const docLink = document.createElement('div');\n",
              "          docLink.innerHTML = docLinkHtml;\n",
              "          element.appendChild(docLink);\n",
              "        }\n",
              "      </script>\n",
              "    </div>\n",
              "  </div>\n",
              "  "
            ]
          },
          "metadata": {},
          "execution_count": 13
        }
      ]
    },
    {
      "cell_type": "code",
      "source": [
        "# lets use the describe function for better analysing of the numbers \n",
        "train_sessions['session_id'].value_counts().sort_values().describe()"
      ],
      "metadata": {
        "colab": {
          "base_uri": "https://localhost:8080/"
        },
        "id": "8d6ZkcUdRA1n",
        "outputId": "f57a1ee3-b1ae-4da2-d56f-83d11d1e086c"
      },
      "execution_count": 14,
      "outputs": [
        {
          "output_type": "execute_result",
          "data": {
            "text/plain": [
              "count    1000000.000000\n",
              "mean           4.743820\n",
              "std            6.084665\n",
              "min            1.000000\n",
              "25%            1.000000\n",
              "50%            3.000000\n",
              "75%            6.000000\n",
              "max          100.000000\n",
              "Name: session_id, dtype: float64"
            ]
          },
          "metadata": {},
          "execution_count": 14
        }
      ]
    },
    {
      "cell_type": "code",
      "source": [
        "# print the generated curve of the session ammounts\n",
        "fig, axes = plt.subplots(figsize=(18,10))\n",
        "\n",
        "axes.plot(A)\n",
        "axes.plot([4.743820,4.743820], [0,300000], '-ro', label='line & marker')\n",
        "axes.plot(4.743820,65000, 'go', label='marker only')\n",
        "axes.set_xlabel('number of sessions')\n",
        "axes.set_ylabel('amount of session numbers')\n",
        "axes.set_title('Number of Sessions for one purchases');\n",
        "axes.grid(alpha=0.5)"
      ],
      "metadata": {
        "colab": {
          "base_uri": "https://localhost:8080/",
          "height": 54
        },
        "id": "i-O7FBgcREXw",
        "outputId": "1cb4cbc4-7aa7-4468-e794-4b82081c01fe"
      },
      "execution_count": 15,
      "outputs": [
        {
          "output_type": "display_data",
          "data": {
            "text/plain": [
              "<Figure size 1296x720 with 1 Axes>"
            ],
            "image/png": "[encoded data removed]"
          },
          "metadata": {
            "needs_background": "light"
          }
        }
      ]
    },
    {
      "cell_type": "markdown",
      "source": [
        "## Verteilung der Käufe\n",
        "Als nächsten Schritt wird geschaut an welchen Tagen, zu welchen Uhrzeiten und in welchem Monat die Items gekauft werden.\n"
      ],
      "metadata": {
        "id": "HNL8owwuS0f_"
      }
    },
    {
      "cell_type": "code",
      "source": [
        "# then look at the train_purchases Dataset\n",
        "t_purchase_times = pd.DataFrame();\n",
        "t_purchase_times['day']=pd.to_datetime(train_sessions['date']).dt.day_name()\n",
        "t_purchase_times['month']=pd.to_datetime(train_sessions['date']).dt.month_name()\n",
        "t_purchase_times['year']=pd.to_datetime(train_sessions['date']).dt.year\n",
        "t_purchase_times['part_of_day'] = (pd.to_datetime(train_sessions['date']).dt.hour % 24 + 4) // 4\n",
        "t_purchase_times['part_of_day'].replace({1: 'Late Night', # 0-4 Uhr\n",
        "                      2: 'Early Morning',                 # 4-8 Uhr\n",
        "                      3: 'Morning',                       # 8-12 Uhr\n",
        "                      4: 'Noon',                          # 12-16 Uhr\n",
        "                      5: 'Evening',                       # 16-20 Uhr\n",
        "                      6: 'Night'}, inplace=True)          # 20-0 Uhr\n",
        "t_purchase_times"
      ],
      "metadata": {
        "colab": {
          "base_uri": "https://localhost:8080/",
          "height": 424
        },
        "id": "LpdhGd-gTgdA",
        "outputId": "37e81f6f-0936-444b-ed20-b861d964ea7e"
      },
      "execution_count": 16,
      "outputs": [
        {
          "output_type": "execute_result",
          "data": {
            "text/plain": [
              "               day     month  year part_of_day\n",
              "0           Friday  December  2020       Night\n",
              "1           Friday  December  2020       Night\n",
              "2           Friday     March  2020     Evening\n",
              "3        Wednesday    August  2020     Evening\n",
              "4        Wednesday    August  2020     Evening\n",
              "...            ...       ...   ...         ...\n",
              "4743815     Friday   October  2020       Night\n",
              "4743816     Friday   October  2020       Night\n",
              "4743817     Friday   October  2020       Night\n",
              "4743818     Friday   October  2020       Night\n",
              "4743819     Friday   October  2020       Night\n",
              "\n",
              "[4743820 rows x 4 columns]"
            ],
            "text/html": [
              "\n",
              "  <div id=\"df-cce2fb5c-add6-44a3-b552-0f0935b5664f\">\n",
              "    <div class=\"colab-df-container\">\n",
              "      <div>\n",
              "<style scoped>\n",
              "    .dataframe tbody tr th:only-of-type {\n",
              "        vertical-align: middle;\n",
              "    }\n",
              "\n",
              "    .dataframe tbody tr th {\n",
              "        vertical-align: top;\n",
              "    }\n",
              "\n",
              "    .dataframe thead th {\n",
              "        text-align: right;\n",
              "    }\n",
              "</style>\n",
              "<table border=\"1\" class=\"dataframe\">\n",
              "  <thead>\n",
              "    <tr style=\"text-align: right;\">\n",
              "      <th></th>\n",
              "      <th>day</th>\n",
              "      <th>month</th>\n",
              "      <th>year</th>\n",
              "      <th>part_of_day</th>\n",
              "    </tr>\n",
              "  </thead>\n",
              "  <tbody>\n",
              "    <tr>\n",
              "      <th>0</th>\n",
              "      <td>Friday</td>\n",
              "      <td>December</td>\n",
              "      <td>2020</td>\n",
              "      <td>Night</td>\n",
              "    </tr>\n",
              "    <tr>\n",
              "      <th>1</th>\n",
              "      <td>Friday</td>\n",
              "      <td>December</td>\n",
              "      <td>2020</td>\n",
              "      <td>Night</td>\n",
              "    </tr>\n",
              "    <tr>\n",
              "      <th>2</th>\n",
              "      <td>Friday</td>\n",
              "      <td>March</td>\n",
              "      <td>2020</td>\n",
              "      <td>Evening</td>\n",
              "    </tr>\n",
              "    <tr>\n",
              "      <th>3</th>\n",
              "      <td>Wednesday</td>\n",
              "      <td>August</td>\n",
              "      <td>2020</td>\n",
              "      <td>Evening</td>\n",
              "    </tr>\n",
              "    <tr>\n",
              "      <th>4</th>\n",
              "      <td>Wednesday</td>\n",
              "      <td>August</td>\n",
              "      <td>2020</td>\n",
              "      <td>Evening</td>\n",
              "    </tr>\n",
              "    <tr>\n",
              "      <th>...</th>\n",
              "      <td>...</td>\n",
              "      <td>...</td>\n",
              "      <td>...</td>\n",
              "      <td>...</td>\n",
              "    </tr>\n",
              "    <tr>\n",
              "      <th>4743815</th>\n",
              "      <td>Friday</td>\n",
              "      <td>October</td>\n",
              "      <td>2020</td>\n",
              "      <td>Night</td>\n",
              "    </tr>\n",
              "    <tr>\n",
              "      <th>4743816</th>\n",
              "      <td>Friday</td>\n",
              "      <td>October</td>\n",
              "      <td>2020</td>\n",
              "      <td>Night</td>\n",
              "    </tr>\n",
              "    <tr>\n",
              "      <th>4743817</th>\n",
              "      <td>Friday</td>\n",
              "      <td>October</td>\n",
              "      <td>2020</td>\n",
              "      <td>Night</td>\n",
              "    </tr>\n",
              "    <tr>\n",
              "      <th>4743818</th>\n",
              "      <td>Friday</td>\n",
              "      <td>October</td>\n",
              "      <td>2020</td>\n",
              "      <td>Night</td>\n",
              "    </tr>\n",
              "    <tr>\n",
              "      <th>4743819</th>\n",
              "      <td>Friday</td>\n",
              "      <td>October</td>\n",
              "      <td>2020</td>\n",
              "      <td>Night</td>\n",
              "    </tr>\n",
              "  </tbody>\n",
              "</table>\n",
              "<p>4743820 rows × 4 columns</p>\n",
              "</div>\n",
              "      <button class=\"colab-df-convert\" onclick=\"convertToInteractive('df-cce2fb5c-add6-44a3-b552-0f0935b5664f')\"\n",
              "              title=\"Convert this dataframe to an interactive table.\"\n",
              "              style=\"display:none;\">\n",
              "        \n",
              "  <svg xmlns=\"http://www.w3.org/2000/svg\" height=\"24px\"viewBox=\"0 0 24 24\"\n",
              "       width=\"24px\">\n",
              "    <path d=\"M0 0h24v24H0V0z\" fill=\"none\"/>\n",
              "    <path d=\"M18.56 5.44l.94 2.06.94-2.06 2.06-.94-2.06-.94-.94-2.06-.94 2.06-2.06.94zm-11 1L8.5 8.5l.94-2.06 2.06-.94-2.06-.94L8.5 2.5l-.94 2.06-2.06.94zm10 10l.94 2.06.94-2.06 2.06-.94-2.06-.94-.94-2.06-.94 2.06-2.06.94z\"/><path d=\"M17.41 7.96l-1.37-1.37c-.4-.4-.92-.59-1.43-.59-.52 0-1.04.2-1.43.59L10.3 9.45l-7.72 7.72c-.78.78-.78 2.05 0 2.83L4 21.41c.39.39.9.59 1.41.59.51 0 1.02-.2 1.41-.59l7.78-7.78 2.81-2.81c.8-.78.8-2.07 0-2.86zM5.41 20L4 18.59l7.72-7.72 1.47 1.35L5.41 20z\"/>\n",
              "  </svg>\n",
              "      </button>\n",
              "      \n",
              "  <style>\n",
              "    .colab-df-container {\n",
              "      display:flex;\n",
              "      flex-wrap:wrap;\n",
              "      gap: 12px;\n",
              "    }\n",
              "\n",
              "    .colab-df-convert {\n",
              "      background-color: #E8F0FE;\n",
              "      border: none;\n",
              "      border-radius: 50%;\n",
              "      cursor: pointer;\n",
              "      display: none;\n",
              "      fill: #1967D2;\n",
              "      height: 32px;\n",
              "      padding: 0 0 0 0;\n",
              "      width: 32px;\n",
              "    }\n",
              "\n",
              "    .colab-df-convert:hover {\n",
              "      background-color: #E2EBFA;\n",
              "      box-shadow: 0px 1px 2px rgba(60, 64, 67, 0.3), 0px 1px 3px 1px rgba(60, 64, 67, 0.15);\n",
              "      fill: #174EA6;\n",
              "    }\n",
              "\n",
              "    [theme=dark] .colab-df-convert {\n",
              "      background-color: #3B4455;\n",
              "      fill: #D2E3FC;\n",
              "    }\n",
              "\n",
              "    [theme=dark] .colab-df-convert:hover {\n",
              "      background-color: #434B5C;\n",
              "      box-shadow: 0px 1px 3px 1px rgba(0, 0, 0, 0.15);\n",
              "      filter: drop-shadow(0px 1px 2px rgba(0, 0, 0, 0.3));\n",
              "      fill: #FFFFFF;\n",
              "    }\n",
              "  </style>\n",
              "\n",
              "      <script>\n",
              "        const buttonEl =\n",
              "          document.querySelector('#df-cce2fb5c-add6-44a3-b552-0f0935b5664f button.colab-df-convert');\n",
              "        buttonEl.style.display =\n",
              "          google.colab.kernel.accessAllowed ? 'block' : 'none';\n",
              "\n",
              "        async function convertToInteractive(key) {\n",
              "          const element = document.querySelector('#df-cce2fb5c-add6-44a3-b552-0f0935b5664f');\n",
              "          const dataTable =\n",
              "            await google.colab.kernel.invokeFunction('convertToInteractive',\n",
              "                                                     [key], {});\n",
              "          if (!dataTable) return;\n",
              "\n",
              "          const docLinkHtml = 'Like what you see? Visit the ' +\n",
              "            '<a target=\"_blank\" href=https://colab.research.google.com/notebooks/data_table.ipynb>data table notebook</a>'\n",
              "            + ' to learn more about interactive tables.';\n",
              "          element.innerHTML = '';\n",
              "          dataTable['output_type'] = 'display_data';\n",
              "          await google.colab.output.renderOutput(dataTable, element);\n",
              "          const docLink = document.createElement('div');\n",
              "          docLink.innerHTML = docLinkHtml;\n",
              "          element.appendChild(docLink);\n",
              "        }\n",
              "      </script>\n",
              "    </div>\n",
              "  </div>\n",
              "  "
            ]
          },
          "metadata": {},
          "execution_count": 16
        }
      ]
    },
    {
      "cell_type": "code",
      "source": [
        "t_purchase_times['year'].value_counts()"
      ],
      "metadata": {
        "colab": {
          "base_uri": "https://localhost:8080/"
        },
        "id": "wS2zYtDxZj_P",
        "outputId": "2d5f7e9d-d3a9-443a-aa6f-acaf3a2a88c8"
      },
      "execution_count": 17,
      "outputs": [
        {
          "output_type": "execute_result",
          "data": {
            "text/plain": [
              "2020    3197810\n",
              "2021    1546010\n",
              "Name: year, dtype: int64"
            ]
          },
          "metadata": {},
          "execution_count": 17
        }
      ]
    },
    {
      "cell_type": "markdown",
      "source": [
        "Werden die Käufe auf die Wochentage verteilt, lässt sich erkennen, dass die meisten Käufe am Wochenende getätigt werden und die wenigsten in der Mitte der Woche."
      ],
      "metadata": {
        "id": "NrYFtZSBe1Yy"
      }
    },
    {
      "cell_type": "code",
      "source": [
        "# print the generated curve of the session ammounts\n",
        "fig, axes = plt.subplots(figsize=(18,10))\n",
        "\n",
        "axes.bar(t_purchase_times['day'].value_counts().index,t_purchase_times['day'].value_counts())\n",
        "\n",
        "axes.set_xlabel('day')\n",
        "axes.set_ylabel('purchases')\n",
        "axes.set_title('Number of purchases per day');\n",
        "axes.grid(alpha=0.5)"
      ],
      "metadata": {
        "colab": {
          "base_uri": "https://localhost:8080/",
          "height": 621
        },
        "id": "_FEuoa_oTv7g",
        "outputId": "81a0c275-b31a-47be-fd94-181ae768b9c7"
      },
      "execution_count": 18,
      "outputs": [
        {
          "output_type": "display_data",
          "data": {
            "text/plain": [
              "<Figure size 1296x720 with 1 Axes>"
            ],
            "image/png": "[encoded data removed]"
          },
          "metadata": {
            "needs_background": "light"
          }
        }
      ]
    },
    {
      "cell_type": "markdown",
      "source": [
        "Über ein Jahr verteilt sind die meisten Käufe gegen Ende des Jahres, ein Grund hierfür könnten die Weihnachtseinkäufe sein. \n",
        "\n",
        "Auffällig ist außerdem, dass im Jahr 2021 jeden Monat die Käufe des jahres 2020 übertroffen wurden. Ein Grund hierfür könnten die Lockdown Maßnahmen sein, welche wegen der Corona-Pandemie ab November 2020 beschlossen wurden.\n",
        "\n",
        "Da die Trainingsdaten nur über einen Zeitraum von 17 Monaten aufgezeichhnet wurden gibt es für das Jahr 2021 nur für die ersten fünf Monate Daten. \n",
        "\n"
      ],
      "metadata": {
        "id": "j3TZHO3mfLLA"
      }
    },
    {
      "cell_type": "code",
      "source": [
        "# print the generated curve of the session ammounts\n",
        "fig, axes = plt.subplots(figsize=(18,10))\n",
        "\n",
        "axes.bar(t_purchase_times[t_purchase_times['year']==2020]['month'].value_counts().index,t_purchase_times[t_purchase_times['year']==2020]['month'].value_counts(),align='edge', width=-0.25,label='2020')\n",
        "axes.bar(t_purchase_times[t_purchase_times['year']==2021]['month'].value_counts().index,t_purchase_times[t_purchase_times['year']==2021]['month'].value_counts(),align='edge', width=0.25,label='2021')\n",
        "\n",
        "axes.set_xlabel('months')\n",
        "axes.set_ylabel('purchases')\n",
        "axes.set_title('Number of purchases per month');\n",
        "axes.grid(alpha=0.5)\n",
        "axes.legend(loc=1);"
      ],
      "metadata": {
        "colab": {
          "base_uri": "https://localhost:8080/",
          "height": 621
        },
        "id": "d1Ll16mMYPIN",
        "outputId": "fcb56acc-e1dd-4d65-9cf5-426d39175286"
      },
      "execution_count": 19,
      "outputs": [
        {
          "output_type": "display_data",
          "data": {
            "text/plain": [
              "<Figure size 1296x720 with 1 Axes>"
            ],
            "image/png": "[encoded data removed]"
          },
          "metadata": {
            "needs_background": "light"
          }
        }
      ]
    },
    {
      "cell_type": "markdown",
      "source": [
        "Ein Blick auf die Verteilung der Käufe über einen Tag zeigen, dass mit abstand die wenigsten Käufe zwischen \"late night\" (0-4 Uhr) und \"early morning\" (4-8 Uhr) getätigt werden. Die restlichen Käufe wiederum teilen sich auf den verbleibenden Tage auf, wobei dabei die meisten im \"evening\" (16-20 Uhr) getätigt werden."
      ],
      "metadata": {
        "id": "HSJnpjB9hnQu"
      }
    },
    {
      "cell_type": "code",
      "source": [
        "# print the generated curve of the session ammounts\n",
        "fig, axes = plt.subplots(figsize=(18,10))\n",
        "\n",
        "axes.bar(t_purchase_times['part_of_day'].value_counts().index,t_purchase_times['part_of_day'].value_counts())\n",
        "\n",
        "axes.set_xlabel('daytime')\n",
        "axes.set_ylabel('amount of purchases')\n",
        "axes.set_title('Number of purchases at each daytime');\n",
        "axes.grid(alpha=0.5)"
      ],
      "metadata": {
        "colab": {
          "base_uri": "https://localhost:8080/",
          "height": 621
        },
        "id": "fsKB3t1hYZxM",
        "outputId": "ce42727e-ce95-4dcd-905c-8c610da49238"
      },
      "execution_count": 20,
      "outputs": [
        {
          "output_type": "display_data",
          "data": {
            "text/plain": [
              "<Figure size 1296x720 with 1 Axes>"
            ],
            "image/png": "[encoded data removed]"
          },
          "metadata": {
            "needs_background": "light"
          }
        }
      ]
    },
    {
      "cell_type": "markdown",
      "source": [
        "## Welche Items wurden oft gekauft\n",
        "\n",
        "Hier wird angesehen wie oft welches Item gekauft wurde. Also ob es bestimmte Items gibt die besonders oft gekauft werden."
      ],
      "metadata": {
        "id": "swylj7o7l8Ud"
      }
    },
    {
      "cell_type": "markdown",
      "source": [
        "Im Durchschnit wird ein item ~53 mal gekauft und das am häufigsten verkaufte item wurde 8451 mal verkauft."
      ],
      "metadata": {
        "id": "ZYp4DiMGotla"
      }
    },
    {
      "cell_type": "code",
      "source": [
        "train_purchases['item_id'].value_counts()"
      ],
      "metadata": {
        "colab": {
          "base_uri": "https://localhost:8080/"
        },
        "id": "n8kDFCPppZ36",
        "outputId": "d4c8e428-85ff-4828-c619-772f73debc0b"
      },
      "execution_count": 21,
      "outputs": [
        {
          "output_type": "execute_result",
          "data": {
            "text/plain": [
              "8060     8451\n",
              "26853    3829\n",
              "19882    3355\n",
              "8622     2745\n",
              "2447     2726\n",
              "         ... \n",
              "20141       1\n",
              "24646       1\n",
              "1581        1\n",
              "14660       1\n",
              "3302        1\n",
              "Name: item_id, Length: 18907, dtype: int64"
            ]
          },
          "metadata": {},
          "execution_count": 21
        }
      ]
    },
    {
      "cell_type": "code",
      "source": [
        "train_purchases['item_id'].value_counts().describe()"
      ],
      "metadata": {
        "colab": {
          "base_uri": "https://localhost:8080/"
        },
        "id": "lZlY9DZZmCzw",
        "outputId": "c496a1d0-5250-4e1a-88d4-8cd38163f2d8"
      },
      "execution_count": 22,
      "outputs": [
        {
          "output_type": "execute_result",
          "data": {
            "text/plain": [
              "count    18907.000000\n",
              "mean        52.890464\n",
              "std        126.716155\n",
              "min          1.000000\n",
              "25%          7.000000\n",
              "50%         26.000000\n",
              "75%         61.000000\n",
              "max       8451.000000\n",
              "Name: item_id, dtype: float64"
            ]
          },
          "metadata": {},
          "execution_count": 22
        }
      ]
    },
    {
      "cell_type": "markdown",
      "source": [
        "werden die anzahl der Käufe pro item ausgegeben, sind einige Ausreißer, welche deutlich öfter gekauft wurden als z.B. der Durchschnitt."
      ],
      "metadata": {
        "id": "RHqTd1LQ26LQ"
      }
    },
    {
      "cell_type": "code",
      "source": [
        "# print the Number of purchases per item_id\n",
        "fig, axes = plt.subplots(figsize=(25,10))\n",
        "\n",
        "axes.stem(train_purchases['item_id'].value_counts().index, train_purchases['item_id'].value_counts())\n",
        "\n",
        "axes.set_xlabel('Item_id')\n",
        "axes.set_ylabel('amount of purchases')\n",
        "axes.set_title('Number of purchases per item_id');\n",
        "axes.grid(alpha=0.5)"
      ],
      "metadata": {
        "colab": {
          "base_uri": "https://localhost:8080/",
          "height": 678
        },
        "id": "KR_cxBzSpvz0",
        "outputId": "9b6fad2c-4700-47c6-d0b1-1c66ec01a4c0"
      },
      "execution_count": 23,
      "outputs": [
        {
          "output_type": "stream",
          "name": "stderr",
          "text": [
            "/usr/local/lib/python3.7/dist-packages/ipykernel_launcher.py:4: UserWarning: In Matplotlib 3.3 individual lines on a stem plot will be added as a LineCollection instead of individual lines. This significantly improves the performance of a stem plot. To remove this warning and switch to the new behaviour, set the \"use_line_collection\" keyword argument to True.\n",
            "  after removing the cwd from sys.path.\n"
          ]
        },
        {
          "output_type": "display_data",
          "data": {
            "text/plain": [
              "<Figure size 1800x720 with 1 Axes>"
            ],
            "image/png": "[encoded data removed]"
          },
          "metadata": {
            "needs_background": "light"
          }
        }
      ]
    },
    {
      "cell_type": "markdown",
      "source": [
        "Ebenfalls deutlich wird dies bei der Ausgabe eines Boxplottes."
      ],
      "metadata": {
        "id": "LWaKXjjj3gys"
      }
    },
    {
      "cell_type": "code",
      "source": [
        "fig, axes = plt.subplots(figsize=(8,12))\n",
        "\n",
        "axes.boxplot(train_purchases['item_id'].value_counts())\n",
        "\n",
        "axes.set_xlabel('items')\n",
        "axes.set_ylabel('amount of purchases')\n",
        "axes.set_title('Number of purchases per item');\n",
        "axes.grid(alpha=0.5)"
      ],
      "metadata": {
        "colab": {
          "base_uri": "https://localhost:8080/",
          "height": 730
        },
        "id": "5iQZAOthpTEU",
        "outputId": "7a75e61a-b623-4813-94d4-b3c3822be2eb"
      },
      "execution_count": 24,
      "outputs": [
        {
          "output_type": "display_data",
          "data": {
            "text/plain": [
              "<Figure size 576x864 with 1 Axes>"
            ],
            "image/png": "[encoded data removed]"
          },
          "metadata": {
            "needs_background": "light"
          }
        }
      ]
    },
    {
      "cell_type": "markdown",
      "source": [
        "Ein Histogramm der letzen 18500 von den 18907 items zeigt, dass die meisten items unter 100 mal gekauft wurden. "
      ],
      "metadata": {
        "id": "RcQqllYa6loQ"
      }
    },
    {
      "cell_type": "code",
      "source": [
        "fig, axes = plt.subplots(figsize=(25,10))\n",
        "\n",
        "axes.hist(train_purchases['item_id'].value_counts().tail(18500), bins=100)\n",
        "\n",
        "axes.set_xlabel('purchases')\n",
        "axes.set_ylabel('amount of items')\n",
        "axes.set_title('Number of purchases per item for the last 18500 values');\n",
        "axes.grid(alpha=0.5)"
      ],
      "metadata": {
        "colab": {
          "base_uri": "https://localhost:8080/",
          "height": 621
        },
        "id": "gdTrtZh1moGn",
        "outputId": "a11d2eff-9839-4475-e292-9ccb6d496910"
      },
      "execution_count": 25,
      "outputs": [
        {
          "output_type": "display_data",
          "data": {
            "text/plain": [
              "<Figure size 1800x720 with 1 Axes>"
            ],
            "image/png": "[encoded data removed]"
          },
          "metadata": {
            "needs_background": "light"
          }
        }
      ]
    },
    {
      "cell_type": "markdown",
      "source": [
        "### Meistgekauften Items"
      ],
      "metadata": {
        "id": "je3QBaZkHe9O"
      }
    },
    {
      "cell_type": "markdown",
      "source": [
        "Interesant ist auch, dass von den 18907 items\n",
        "\n",
        "*   die 500 meistverkaufte items (2,64 % der verkauften items) sind über 25 % der Gesamtverkäufe\n",
        "*   die 900 meistverkaufte items (4,76 % der verkauften items) sind über 33 % der Gesamtverkäufe\n",
        "*   die 2500 meistverkaufte items (13,22 % der verkauften items) sind über 50 % der Gesamtverkäufe\n",
        "*   die 5500 meistverkaufte items (29,02 % der verkauften items) sind über 75 % der Gesamtverkäufe\n",
        "*   die 9454 meistverkaufte items (50,00 % der verkauften items) sind über 90 % der Gesamtverkäufe\n",
        "\n",
        "ausmachen.\n",
        "\n"
      ],
      "metadata": {
        "id": "3RIQNWVu7wU0"
      }
    },
    {
      "cell_type": "code",
      "source": [
        "#purchased items\n",
        "print('all in all there were',train_purchases['item_id'].value_counts().sum(), 'items sold.')"
      ],
      "metadata": {
        "colab": {
          "base_uri": "https://localhost:8080/"
        },
        "id": "c6-GYxeDrEmI",
        "outputId": "2b520db6-6f48-4857-c64d-ac95b39331e7"
      },
      "execution_count": 26,
      "outputs": [
        {
          "output_type": "stream",
          "name": "stdout",
          "text": [
            "all in all there were 1000000 items sold.\n"
          ]
        }
      ]
    },
    {
      "cell_type": "code",
      "source": [
        "#purchases of the 500 most sold items\n",
        "print('the 500 most sold items (',round(500/18907*100,2),'% of the sold items) make', \n",
        "      train_purchases['item_id'].value_counts().head(500).sum(), \n",
        "      'sales. So they make over one quater of the total sales.(',\n",
        "      round(train_purchases['item_id'].value_counts().head(500).sum()/train_purchases['item_id'].value_counts().sum()*100,2),'%)\\n')\n",
        "#set values and labels for the plot\n",
        "labels = 'rest', '500 most sold items'\n",
        "sizes = [train_purchases['item_id'].value_counts().sum()-train_purchases['item_id'].value_counts().head(500).sum(),\n",
        "         train_purchases['item_id'].value_counts().head(500).sum()]\n",
        "sizes2 = [ (18907-500)/18907,500/18907]\n",
        "\n",
        "#plot the values as pie chart\n",
        "fig1, ax1 = plt.subplots(1,2,figsize=(12,5))\n",
        "ax1[0].pie(sizes, labels=labels, autopct='%1.1f%%',\n",
        "         startangle=90)\n",
        "ax1[0].set_title('sales')\n",
        "ax1[1].pie(sizes2, labels=labels, autopct='%1.1f%%',\n",
        "         startangle=90)\n",
        "ax1[1].set_title('amount of items')\n",
        "\n",
        "plt.show()"
      ],
      "metadata": {
        "colab": {
          "base_uri": "https://localhost:8080/",
          "height": 355
        },
        "id": "seQK3THU-R2c",
        "outputId": "22479f88-b9b9-48da-f57a-156b6c3f277e"
      },
      "execution_count": 27,
      "outputs": [
        {
          "output_type": "stream",
          "name": "stdout",
          "text": [
            "the 500 most sold items ( 2.64 % of the sold items) make 262909 sales. So they make over one quater of the total sales.( 26.29 %)\n",
            "\n"
          ]
        },
        {
          "output_type": "display_data",
          "data": {
            "text/plain": [
              "<Figure size 864x360 with 2 Axes>"
            ],
            "image/png": "[encoded data removed]"
          },
          "metadata": {}
        }
      ]
    },
    {
      "cell_type": "code",
      "source": [
        "#purchases of the 900 most sold items\n",
        "print('the 900 most sold items (',round(900/18907*100,2),'% of the sold items) make', \n",
        "      train_purchases['item_id'].value_counts().head(900).sum(), \n",
        "      'sales. So they make over one third of the total sales.(',\n",
        "      round(train_purchases['item_id'].value_counts().head(900).sum()/train_purchases['item_id'].value_counts().sum()*100,2),'%)\\n')\n",
        "#set values and labels for the plot\n",
        "labels = 'rest', '900 most sold items'\n",
        "sizes = [train_purchases['item_id'].value_counts().sum()-train_purchases['item_id'].value_counts().head(900).sum(),\n",
        "         train_purchases['item_id'].value_counts().head(900).sum()]\n",
        "sizes2 = [ (18907-900)/18907,900/18907]\n",
        "\n",
        "#plot the values as pie chart\n",
        "fig1, ax1 = plt.subplots(1,2,figsize=(12,5))\n",
        "ax1[0].pie(sizes, labels=labels, autopct='%1.1f%%',\n",
        "         startangle=90)\n",
        "ax1[0].set_title('sales')\n",
        "ax1[1].pie(sizes2, labels=labels, autopct='%1.1f%%',\n",
        "         startangle=90)\n",
        "ax1[1].set_title('amount of items')\n",
        "\n",
        "plt.show()"
      ],
      "metadata": {
        "colab": {
          "base_uri": "https://localhost:8080/",
          "height": 355
        },
        "id": "BE-3ASfe-Fmo",
        "outputId": "94f9c42d-cb93-4ad4-a2f8-e20343d3729d"
      },
      "execution_count": 28,
      "outputs": [
        {
          "output_type": "stream",
          "name": "stdout",
          "text": [
            "the 900 most sold items ( 4.76 % of the sold items) make 344324 sales. So they make over one third of the total sales.( 34.43 %)\n",
            "\n"
          ]
        },
        {
          "output_type": "display_data",
          "data": {
            "text/plain": [
              "<Figure size 864x360 with 2 Axes>"
            ],
            "image/png": "[encoded data removed]"
          },
          "metadata": {}
        }
      ]
    },
    {
      "cell_type": "code",
      "source": [
        "#purchases of the 2500 most sold items\n",
        "print('the 2500 most sold items (',round(2500/18907*100,2),'% of the sold items) make', \n",
        "      train_purchases['item_id'].value_counts().head(2500).sum(), \n",
        "      'sales. So they make over the half of the total sales.(',\n",
        "      round(train_purchases['item_id'].value_counts().head(2500).sum()/train_purchases['item_id'].value_counts().sum()*100,2),'%)\\n')\n",
        "#set values and labels for the plot\n",
        "labels = 'rest', '2500 most sold items'\n",
        "sizes = [train_purchases['item_id'].value_counts().sum()-train_purchases['item_id'].value_counts().head(2500).sum(),\n",
        "         train_purchases['item_id'].value_counts().head(2500).sum()]\n",
        "sizes2 = [ (18907-2500)/18907,2500/18907]\n",
        "\n",
        "#plot the values as pie chart\n",
        "fig1, ax1 = plt.subplots(1,2,figsize=(12,5))\n",
        "ax1[0].pie(sizes, labels=labels, autopct='%1.1f%%',\n",
        "         startangle=90)\n",
        "ax1[0].set_title('sales')\n",
        "ax1[1].pie(sizes2, labels=labels, autopct='%1.1f%%',\n",
        "         startangle=90)\n",
        "ax1[1].set_title('amount of items')\n",
        "\n",
        "plt.show()"
      ],
      "metadata": {
        "colab": {
          "base_uri": "https://localhost:8080/",
          "height": 355
        },
        "id": "n9vrJf7e7ikn",
        "outputId": "c1db951a-64c4-4f5b-e94f-887ef0e43c61"
      },
      "execution_count": 29,
      "outputs": [
        {
          "output_type": "stream",
          "name": "stdout",
          "text": [
            "the 2500 most sold items ( 13.22 % of the sold items) make 545255 sales. So they make over the half of the total sales.( 54.53 %)\n",
            "\n"
          ]
        },
        {
          "output_type": "display_data",
          "data": {
            "text/plain": [
              "<Figure size 864x360 with 2 Axes>"
            ],
            "image/png": "[encoded data removed]"
          },
          "metadata": {}
        }
      ]
    },
    {
      "cell_type": "code",
      "source": [
        "#purchases of the 5500 most sold items\n",
        "print('the 5500 most sold items (',round(5500/18907*100,2),'% of the sold items) make', \n",
        "      train_purchases['item_id'].value_counts().head(5500).sum(), \n",
        "      'sales. So they make over three quaters of the total sales.(',\n",
        "      round(train_purchases['item_id'].value_counts().head(5500).sum()/train_purchases['item_id'].value_counts().sum()*100,2),'%)\\n')\n",
        "#set values and labels for the plot\n",
        "labels = 'rest', '5500 most sold items'\n",
        "sizes = [train_purchases['item_id'].value_counts().sum()-train_purchases['item_id'].value_counts().head(5500).sum(),\n",
        "         train_purchases['item_id'].value_counts().head(5500).sum()]\n",
        "sizes2 = [ (18907-5500)/18907,5500/18907]\n",
        "#plot the values as pie chart\n",
        "fig1, ax1 = plt.subplots(1,2,figsize=(12,5))\n",
        "ax1[0].pie(sizes, labels=labels, autopct='%1.1f%%',\n",
        "         startangle=90)\n",
        "ax1[0].set_title('sales')\n",
        "ax1[1].pie(sizes2, labels=labels, autopct='%1.1f%%',\n",
        "         startangle=90)\n",
        "ax1[1].set_title('amount of items')\n",
        "\n",
        "plt.show()"
      ],
      "metadata": {
        "colab": {
          "base_uri": "https://localhost:8080/",
          "height": 355
        },
        "id": "JoPmRbCy8pLV",
        "outputId": "28607d56-c514-4c17-d630-774d5d3e27b9"
      },
      "execution_count": 30,
      "outputs": [
        {
          "output_type": "stream",
          "name": "stdout",
          "text": [
            "the 5500 most sold items ( 29.09 % of the sold items) make 758659 sales. So they make over three quaters of the total sales.( 75.87 %)\n",
            "\n"
          ]
        },
        {
          "output_type": "display_data",
          "data": {
            "text/plain": [
              "<Figure size 864x360 with 2 Axes>"
            ],
            "image/png": "[encoded data removed]"
          },
          "metadata": {}
        }
      ]
    },
    {
      "cell_type": "code",
      "source": [
        "#purchases of the 9454 most sold items\n",
        "print('the 9454 most sold items (',round(9454/18907*100,2),'% of the sold items) make', \n",
        "      train_purchases['item_id'].value_counts().head(9454).sum(), \n",
        "      'sales. So they make over 90 % of the total sales.(',\n",
        "      round(train_purchases['item_id'].value_counts().head(9454).sum()/train_purchases['item_id'].value_counts().sum()*100,2),'%)\\n')\n",
        "#set values and labels for the plot\n",
        "labels = 'rest', '9454 most sold items'\n",
        "sizes = [train_purchases['item_id'].value_counts().sum()-train_purchases['item_id'].value_counts().head(9454).sum(),\n",
        "         train_purchases['item_id'].value_counts().head(9454).sum()]\n",
        "sizes2 = [ (18907-9454)/18907,9454/18907]\n",
        "#plot the values as pie chart\n",
        "fig1, ax1 = plt.subplots(1,2,figsize=(12,5))\n",
        "ax1[0].pie(sizes, labels=labels, autopct='%1.1f%%',\n",
        "         startangle=90)\n",
        "ax1[0].set_title('sales')\n",
        "ax1[1].pie(sizes2, labels=labels, autopct='%1.1f%%',\n",
        "         startangle=90)\n",
        "ax1[1].set_title('amount of items')\n",
        "\n",
        "plt.show()"
      ],
      "metadata": {
        "colab": {
          "base_uri": "https://localhost:8080/",
          "height": 355
        },
        "id": "1UW-kKz9BNIm",
        "outputId": "957bb556-8f33-48e9-e5b8-84615441cfd1"
      },
      "execution_count": 31,
      "outputs": [
        {
          "output_type": "stream",
          "name": "stdout",
          "text": [
            "the 9454 most sold items ( 50.0 % of the sold items) make 912344 sales. So they make over 90 % of the total sales.( 91.23 %)\n",
            "\n"
          ]
        },
        {
          "output_type": "display_data",
          "data": {
            "text/plain": [
              "<Figure size 864x360 with 2 Axes>"
            ],
            "image/png": "[encoded data removed]"
          },
          "metadata": {}
        }
      ]
    },
    {
      "cell_type": "markdown",
      "source": [
        "# Data Wrangling"
      ],
      "metadata": {
        "id": "f2aBR5BnWf9-"
      }
    },
    {
      "cell_type": "markdown",
      "source": [
        "Um die features nutzbar zu machen, soll der Datensatz in einer Tabelle mit der item_id als index und die feature_category_ids als spalten dargestellt werde.\n",
        "Allerdings gibt es in dem features Dataframe doppelte Einträge, wodurch die pivot funktion nicht direkt angewendet werden kann. \n",
        "(Damit der code an einem Stück durchlaufen kann, wurde hierfür ein Screenshot der Fehlermelung eingefügt)\n",
        "![Screenshot (18).png](data:image/png;base64,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)"
      ],
      "metadata": {
        "id": "LV9g7GFFcUcL"
      }
    },
    {
      "cell_type": "markdown",
      "source": [
        "## Finden der doppelten feature_category_ids"
      ],
      "metadata": {
        "id": "qBtyHxdmcjto"
      }
    },
    {
      "cell_type": "code",
      "source": [
        "#search for the duplicated feature_ids in the features DataFrame\n",
        "# first drop the feature_value_id so that the duplicated feature_ids can be found\n",
        "a = features.drop(['feature_value_id'],axis=1)\n",
        "doub_cats = [0]*6;\n",
        "j = 0;\n",
        "for i in a['feature_category_id'].unique():\n",
        "  if a[a['feature_category_id']== i].duplicated().sum() > 0:\n",
        "    doub_cats[j] = i;\n",
        "    j= j+1;\n",
        "print('the duplicadet feature_category_ids are:');\n",
        "doub_cats"
      ],
      "metadata": {
        "colab": {
          "base_uri": "https://localhost:8080/"
        },
        "id": "H9P23cTkFD_f",
        "outputId": "61fbebde-c960-43f5-c2e6-3a22936526d7"
      },
      "execution_count": 32,
      "outputs": [
        {
          "output_type": "stream",
          "name": "stdout",
          "text": [
            "the duplicadet feature_category_ids are:\n"
          ]
        },
        {
          "output_type": "execute_result",
          "data": {
            "text/plain": [
              "[53, 46, 4, 30, 28, 1]"
            ]
          },
          "metadata": {},
          "execution_count": 32
        }
      ]
    },
    {
      "cell_type": "code",
      "source": [
        " #check if the duplicates are correct\n",
        " features[features['feature_category_id'] == 30]#.head()"
      ],
      "metadata": {
        "colab": {
          "base_uri": "https://localhost:8080/",
          "height": 488
        },
        "id": "jRfMJzFJ7h2g",
        "outputId": "1e8b94c2-dab9-48c0-d6da-00c3c24f8086"
      },
      "execution_count": 33,
      "outputs": [
        {
          "output_type": "execute_result",
          "data": {
            "text/plain": [
              "        item_id  feature_category_id  feature_value_id\n",
              "129          10                   30               564\n",
              "134          10                   30               482\n",
              "153          11                   30               847\n",
              "154          11                   30               478\n",
              "156          11                   30               715\n",
              "...         ...                  ...               ...\n",
              "471557    28133                   30               482\n",
              "471561    28133                   30               194\n",
              "471590    28135                   30               564\n",
              "471593    28135                   30               478\n",
              "471597    28135                   30               482\n",
              "\n",
              "[15412 rows x 3 columns]"
            ],
            "text/html": [
              "\n",
              "  <div id=\"df-588ec8ff-200c-497c-bff5-fadfb1cff0eb\">\n",
              "    <div class=\"colab-df-container\">\n",
              "      <div>\n",
              "<style scoped>\n",
              "    .dataframe tbody tr th:only-of-type {\n",
              "        vertical-align: middle;\n",
              "    }\n",
              "\n",
              "    .dataframe tbody tr th {\n",
              "        vertical-align: top;\n",
              "    }\n",
              "\n",
              "    .dataframe thead th {\n",
              "        text-align: right;\n",
              "    }\n",
              "</style>\n",
              "<table border=\"1\" class=\"dataframe\">\n",
              "  <thead>\n",
              "    <tr style=\"text-align: right;\">\n",
              "      <th></th>\n",
              "      <th>item_id</th>\n",
              "      <th>feature_category_id</th>\n",
              "      <th>feature_value_id</th>\n",
              "    </tr>\n",
              "  </thead>\n",
              "  <tbody>\n",
              "    <tr>\n",
              "      <th>129</th>\n",
              "      <td>10</td>\n",
              "      <td>30</td>\n",
              "      <td>564</td>\n",
              "    </tr>\n",
              "    <tr>\n",
              "      <th>134</th>\n",
              "      <td>10</td>\n",
              "      <td>30</td>\n",
              "      <td>482</td>\n",
              "    </tr>\n",
              "    <tr>\n",
              "      <th>153</th>\n",
              "      <td>11</td>\n",
              "      <td>30</td>\n",
              "      <td>847</td>\n",
              "    </tr>\n",
              "    <tr>\n",
              "      <th>154</th>\n",
              "      <td>11</td>\n",
              "      <td>30</td>\n",
              "      <td>478</td>\n",
              "    </tr>\n",
              "    <tr>\n",
              "      <th>156</th>\n",
              "      <td>11</td>\n",
              "      <td>30</td>\n",
              "      <td>715</td>\n",
              "    </tr>\n",
              "    <tr>\n",
              "      <th>...</th>\n",
              "      <td>...</td>\n",
              "      <td>...</td>\n",
              "      <td>...</td>\n",
              "    </tr>\n",
              "    <tr>\n",
              "      <th>471557</th>\n",
              "      <td>28133</td>\n",
              "      <td>30</td>\n",
              "      <td>482</td>\n",
              "    </tr>\n",
              "    <tr>\n",
              "      <th>471561</th>\n",
              "      <td>28133</td>\n",
              "      <td>30</td>\n",
              "      <td>194</td>\n",
              "    </tr>\n",
              "    <tr>\n",
              "      <th>471590</th>\n",
              "      <td>28135</td>\n",
              "      <td>30</td>\n",
              "      <td>564</td>\n",
              "    </tr>\n",
              "    <tr>\n",
              "      <th>471593</th>\n",
              "      <td>28135</td>\n",
              "      <td>30</td>\n",
              "      <td>478</td>\n",
              "    </tr>\n",
              "    <tr>\n",
              "      <th>471597</th>\n",
              "      <td>28135</td>\n",
              "      <td>30</td>\n",
              "      <td>482</td>\n",
              "    </tr>\n",
              "  </tbody>\n",
              "</table>\n",
              "<p>15412 rows × 3 columns</p>\n",
              "</div>\n",
              "      <button class=\"colab-df-convert\" onclick=\"convertToInteractive('df-588ec8ff-200c-497c-bff5-fadfb1cff0eb')\"\n",
              "              title=\"Convert this dataframe to an interactive table.\"\n",
              "              style=\"display:none;\">\n",
              "        \n",
              "  <svg xmlns=\"http://www.w3.org/2000/svg\" height=\"24px\"viewBox=\"0 0 24 24\"\n",
              "       width=\"24px\">\n",
              "    <path d=\"M0 0h24v24H0V0z\" fill=\"none\"/>\n",
              "    <path d=\"M18.56 5.44l.94 2.06.94-2.06 2.06-.94-2.06-.94-.94-2.06-.94 2.06-2.06.94zm-11 1L8.5 8.5l.94-2.06 2.06-.94-2.06-.94L8.5 2.5l-.94 2.06-2.06.94zm10 10l.94 2.06.94-2.06 2.06-.94-2.06-.94-.94-2.06-.94 2.06-2.06.94z\"/><path d=\"M17.41 7.96l-1.37-1.37c-.4-.4-.92-.59-1.43-.59-.52 0-1.04.2-1.43.59L10.3 9.45l-7.72 7.72c-.78.78-.78 2.05 0 2.83L4 21.41c.39.39.9.59 1.41.59.51 0 1.02-.2 1.41-.59l7.78-7.78 2.81-2.81c.8-.78.8-2.07 0-2.86zM5.41 20L4 18.59l7.72-7.72 1.47 1.35L5.41 20z\"/>\n",
              "  </svg>\n",
              "      </button>\n",
              "      \n",
              "  <style>\n",
              "    .colab-df-container {\n",
              "      display:flex;\n",
              "      flex-wrap:wrap;\n",
              "      gap: 12px;\n",
              "    }\n",
              "\n",
              "    .colab-df-convert {\n",
              "      background-color: #E8F0FE;\n",
              "      border: none;\n",
              "      border-radius: 50%;\n",
              "      cursor: pointer;\n",
              "      display: none;\n",
              "      fill: #1967D2;\n",
              "      height: 32px;\n",
              "      padding: 0 0 0 0;\n",
              "      width: 32px;\n",
              "    }\n",
              "\n",
              "    .colab-df-convert:hover {\n",
              "      background-color: #E2EBFA;\n",
              "      box-shadow: 0px 1px 2px rgba(60, 64, 67, 0.3), 0px 1px 3px 1px rgba(60, 64, 67, 0.15);\n",
              "      fill: #174EA6;\n",
              "    }\n",
              "\n",
              "    [theme=dark] .colab-df-convert {\n",
              "      background-color: #3B4455;\n",
              "      fill: #D2E3FC;\n",
              "    }\n",
              "\n",
              "    [theme=dark] .colab-df-convert:hover {\n",
              "      background-color: #434B5C;\n",
              "      box-shadow: 0px 1px 3px 1px rgba(0, 0, 0, 0.15);\n",
              "      filter: drop-shadow(0px 1px 2px rgba(0, 0, 0, 0.3));\n",
              "      fill: #FFFFFF;\n",
              "    }\n",
              "  </style>\n",
              "\n",
              "      <script>\n",
              "        const buttonEl =\n",
              "          document.querySelector('#df-588ec8ff-200c-497c-bff5-fadfb1cff0eb button.colab-df-convert');\n",
              "        buttonEl.style.display =\n",
              "          google.colab.kernel.accessAllowed ? 'block' : 'none';\n",
              "\n",
              "        async function convertToInteractive(key) {\n",
              "          const element = document.querySelector('#df-588ec8ff-200c-497c-bff5-fadfb1cff0eb');\n",
              "          const dataTable =\n",
              "            await google.colab.kernel.invokeFunction('convertToInteractive',\n",
              "                                                     [key], {});\n",
              "          if (!dataTable) return;\n",
              "\n",
              "          const docLinkHtml = 'Like what you see? Visit the ' +\n",
              "            '<a target=\"_blank\" href=https://colab.research.google.com/notebooks/data_table.ipynb>data table notebook</a>'\n",
              "            + ' to learn more about interactive tables.';\n",
              "          element.innerHTML = '';\n",
              "          dataTable['output_type'] = 'display_data';\n",
              "          await google.colab.output.renderOutput(dataTable, element);\n",
              "          const docLink = document.createElement('div');\n",
              "          docLink.innerHTML = docLinkHtml;\n",
              "          element.appendChild(docLink);\n",
              "        }\n",
              "      </script>\n",
              "    </div>\n",
              "  </div>\n",
              "  "
            ]
          },
          "metadata": {},
          "execution_count": 33
        }
      ]
    },
    {
      "cell_type": "code",
      "source": [
        "vals_id30 = features[features['feature_category_id'] == 30]['feature_value_id'].unique()\n",
        "vals_id30.sort()\n",
        "vals_id30"
      ],
      "metadata": {
        "colab": {
          "base_uri": "https://localhost:8080/"
        },
        "id": "NFkFf6Kr3IhE",
        "outputId": "8c4795be-c147-43e6-a9de-68f36b638176"
      },
      "execution_count": 34,
      "outputs": [
        {
          "output_type": "execute_result",
          "data": {
            "text/plain": [
              "array([ 37,  42,  48,  62, 107, 118, 127, 136, 141, 150, 154, 173, 194,\n",
              "       203, 228, 235, 259, 271, 285, 291, 325, 360, 375, 377, 391, 392,\n",
              "       413, 417, 419, 426, 435, 453, 466, 478, 482, 493, 497, 532, 562,\n",
              "       564, 582, 613, 638, 640, 641, 648, 654, 661, 669, 670, 715, 721,\n",
              "       775, 790, 807, 809, 820, 827, 832, 835, 847, 867, 869, 880, 891,\n",
              "       892, 900])"
            ]
          },
          "metadata": {},
          "execution_count": 34
        }
      ]
    },
    {
      "cell_type": "code",
      "source": [
        "df = pd.DataFrame({'A': [1, 1, 1, 3, 4],\n",
        "\n",
        "                   'B': [0, 1, 2, 0, 1]})\n",
        "print(df)\n",
        "df['B'] = df[df['A']==1]['B'].replace([0, 1], [9, 8])\n",
        "df"
      ],
      "metadata": {
        "id": "WM8jLws4w_8n",
        "outputId": "7bf4d57a-de6d-4bce-bbac-e76c6a17e6b4",
        "colab": {
          "base_uri": "https://localhost:8080/",
          "height": 377
        }
      },
      "execution_count": 35,
      "outputs": [
        {
          "output_type": "stream",
          "name": "stdout",
          "text": [
            "   A  B\n",
            "0  1  0\n",
            "1  1  1\n",
            "2  1  2\n",
            "3  3  0\n",
            "4  4  1\n"
          ]
        },
        {
          "output_type": "execute_result",
          "data": {
            "text/plain": [
              "   A    B\n",
              "0  1  9.0\n",
              "1  1  8.0\n",
              "2  1  2.0\n",
              "3  3  NaN\n",
              "4  4  NaN"
            ],
            "text/html": [
              "\n",
              "  <div id=\"df-8095bd5c-85aa-4b5a-a193-1fc06df72d9e\">\n",
              "    <div class=\"colab-df-container\">\n",
              "      <div>\n",
              "<style scoped>\n",
              "    .dataframe tbody tr th:only-of-type {\n",
              "        vertical-align: middle;\n",
              "    }\n",
              "\n",
              "    .dataframe tbody tr th {\n",
              "        vertical-align: top;\n",
              "    }\n",
              "\n",
              "    .dataframe thead th {\n",
              "        text-align: right;\n",
              "    }\n",
              "</style>\n",
              "<table border=\"1\" class=\"dataframe\">\n",
              "  <thead>\n",
              "    <tr style=\"text-align: right;\">\n",
              "      <th></th>\n",
              "      <th>A</th>\n",
              "      <th>B</th>\n",
              "    </tr>\n",
              "  </thead>\n",
              "  <tbody>\n",
              "    <tr>\n",
              "      <th>0</th>\n",
              "      <td>1</td>\n",
              "      <td>9.0</td>\n",
              "    </tr>\n",
              "    <tr>\n",
              "      <th>1</th>\n",
              "      <td>1</td>\n",
              "      <td>8.0</td>\n",
              "    </tr>\n",
              "    <tr>\n",
              "      <th>2</th>\n",
              "      <td>1</td>\n",
              "      <td>2.0</td>\n",
              "    </tr>\n",
              "    <tr>\n",
              "      <th>3</th>\n",
              "      <td>3</td>\n",
              "      <td>NaN</td>\n",
              "    </tr>\n",
              "    <tr>\n",
              "      <th>4</th>\n",
              "      <td>4</td>\n",
              "      <td>NaN</td>\n",
              "    </tr>\n",
              "  </tbody>\n",
              "</table>\n",
              "</div>\n",
              "      <button class=\"colab-df-convert\" onclick=\"convertToInteractive('df-8095bd5c-85aa-4b5a-a193-1fc06df72d9e')\"\n",
              "              title=\"Convert this dataframe to an interactive table.\"\n",
              "              style=\"display:none;\">\n",
              "        \n",
              "  <svg xmlns=\"http://www.w3.org/2000/svg\" height=\"24px\"viewBox=\"0 0 24 24\"\n",
              "       width=\"24px\">\n",
              "    <path d=\"M0 0h24v24H0V0z\" fill=\"none\"/>\n",
              "    <path d=\"M18.56 5.44l.94 2.06.94-2.06 2.06-.94-2.06-.94-.94-2.06-.94 2.06-2.06.94zm-11 1L8.5 8.5l.94-2.06 2.06-.94-2.06-.94L8.5 2.5l-.94 2.06-2.06.94zm10 10l.94 2.06.94-2.06 2.06-.94-2.06-.94-.94-2.06-.94 2.06-2.06.94z\"/><path d=\"M17.41 7.96l-1.37-1.37c-.4-.4-.92-.59-1.43-.59-.52 0-1.04.2-1.43.59L10.3 9.45l-7.72 7.72c-.78.78-.78 2.05 0 2.83L4 21.41c.39.39.9.59 1.41.59.51 0 1.02-.2 1.41-.59l7.78-7.78 2.81-2.81c.8-.78.8-2.07 0-2.86zM5.41 20L4 18.59l7.72-7.72 1.47 1.35L5.41 20z\"/>\n",
              "  </svg>\n",
              "      </button>\n",
              "      \n",
              "  <style>\n",
              "    .colab-df-container {\n",
              "      display:flex;\n",
              "      flex-wrap:wrap;\n",
              "      gap: 12px;\n",
              "    }\n",
              "\n",
              "    .colab-df-convert {\n",
              "      background-color: #E8F0FE;\n",
              "      border: none;\n",
              "      border-radius: 50%;\n",
              "      cursor: pointer;\n",
              "      display: none;\n",
              "      fill: #1967D2;\n",
              "      height: 32px;\n",
              "      padding: 0 0 0 0;\n",
              "      width: 32px;\n",
              "    }\n",
              "\n",
              "    .colab-df-convert:hover {\n",
              "      background-color: #E2EBFA;\n",
              "      box-shadow: 0px 1px 2px rgba(60, 64, 67, 0.3), 0px 1px 3px 1px rgba(60, 64, 67, 0.15);\n",
              "      fill: #174EA6;\n",
              "    }\n",
              "\n",
              "    [theme=dark] .colab-df-convert {\n",
              "      background-color: #3B4455;\n",
              "      fill: #D2E3FC;\n",
              "    }\n",
              "\n",
              "    [theme=dark] .colab-df-convert:hover {\n",
              "      background-color: #434B5C;\n",
              "      box-shadow: 0px 1px 3px 1px rgba(0, 0, 0, 0.15);\n",
              "      filter: drop-shadow(0px 1px 2px rgba(0, 0, 0, 0.3));\n",
              "      fill: #FFFFFF;\n",
              "    }\n",
              "  </style>\n",
              "\n",
              "      <script>\n",
              "        const buttonEl =\n",
              "          document.querySelector('#df-8095bd5c-85aa-4b5a-a193-1fc06df72d9e button.colab-df-convert');\n",
              "        buttonEl.style.display =\n",
              "          google.colab.kernel.accessAllowed ? 'block' : 'none';\n",
              "\n",
              "        async function convertToInteractive(key) {\n",
              "          const element = document.querySelector('#df-8095bd5c-85aa-4b5a-a193-1fc06df72d9e');\n",
              "          const dataTable =\n",
              "            await google.colab.kernel.invokeFunction('convertToInteractive',\n",
              "                                                     [key], {});\n",
              "          if (!dataTable) return;\n",
              "\n",
              "          const docLinkHtml = 'Like what you see? Visit the ' +\n",
              "            '<a target=\"_blank\" href=https://colab.research.google.com/notebooks/data_table.ipynb>data table notebook</a>'\n",
              "            + ' to learn more about interactive tables.';\n",
              "          element.innerHTML = '';\n",
              "          dataTable['output_type'] = 'display_data';\n",
              "          await google.colab.output.renderOutput(dataTable, element);\n",
              "          const docLink = document.createElement('div');\n",
              "          docLink.innerHTML = docLinkHtml;\n",
              "          element.appendChild(docLink);\n",
              "        }\n",
              "      </script>\n",
              "    </div>\n",
              "  </div>\n",
              "  "
            ]
          },
          "metadata": {},
          "execution_count": 35
        }
      ]
    },
    {
      "cell_type": "code",
      "source": [
        "for i in doub_cats:\n",
        "  print('There are max',features[features['feature_category_id'] == i]['item_id'].value_counts().max(), 'times the feature_category_id', i, ' in one item')"
      ],
      "metadata": {
        "colab": {
          "base_uri": "https://localhost:8080/"
        },
        "id": "clRt8Lh3PuUI",
        "outputId": "2323eb35-d427-4445-ab00-cf08b85a6d47"
      },
      "execution_count": 36,
      "outputs": [
        {
          "output_type": "stream",
          "name": "stdout",
          "text": [
            "There are max 2 times the feature_category_id 53  in one item\n",
            "There are max 2 times the feature_category_id 46  in one item\n",
            "There are max 4 times the feature_category_id 4  in one item\n",
            "There are max 8 times the feature_category_id 30  in one item\n",
            "There are max 3 times the feature_category_id 28  in one item\n",
            "There are max 2 times the feature_category_id 1  in one item\n"
          ]
        }
      ]
    },
    {
      "cell_type": "code",
      "source": [
        "for i in doub_cats:\n",
        "  print('There are ',features[features['feature_category_id'] == i]['feature_value_id'].nunique(), 'different values in the feature_category_id', i, )\n",
        "\n"
      ],
      "metadata": {
        "colab": {
          "base_uri": "https://localhost:8080/"
        },
        "id": "-sAJs8NgXYf8",
        "outputId": "5ff3bea6-1c3f-4d3a-e4f4-0ec5ef8c20a0"
      },
      "execution_count": 37,
      "outputs": [
        {
          "output_type": "stream",
          "name": "stdout",
          "text": [
            "There are  5 different values in the feature_category_id 53\n",
            "There are  4 different values in the feature_category_id 46\n",
            "There are  16 different values in the feature_category_id 4\n",
            "There are  67 different values in the feature_category_id 30\n",
            "There are  6 different values in the feature_category_id 28\n",
            "There are  6 different values in the feature_category_id 1\n"
          ]
        }
      ]
    },
    {
      "cell_type": "code",
      "source": [
        "nums = features[features['feature_category_id'] == 30]['item_id'].value_counts()\n",
        "nums.max()"
      ],
      "metadata": {
        "id": "KjkKmjtsx0Hi",
        "outputId": "6bcbed73-7604-473e-e04e-4ad7a04e303e",
        "colab": {
          "base_uri": "https://localhost:8080/"
        }
      },
      "execution_count": 38,
      "outputs": [
        {
          "output_type": "execute_result",
          "data": {
            "text/plain": [
              "8"
            ]
          },
          "metadata": {},
          "execution_count": 38
        }
      ]
    },
    {
      "cell_type": "code",
      "source": [
        "nums.index"
      ],
      "metadata": {
        "id": "ShnkgOVg2PnV",
        "outputId": "8ceb1c4d-263b-4781-c5fe-41d15519e72c",
        "colab": {
          "base_uri": "https://localhost:8080/"
        }
      },
      "execution_count": 39,
      "outputs": [
        {
          "output_type": "execute_result",
          "data": {
            "text/plain": [
              "Int64Index([24947,  7970, 26951,  4585, 16345, 16355,  5124, 17903, 22880,\n",
              "             3713,\n",
              "            ...\n",
              "             5527, 20501,  3108, 23737, 23735,  7496,  3111, 23727, 15054,\n",
              "             3286],\n",
              "           dtype='int64', length=5683)"
            ]
          },
          "metadata": {},
          "execution_count": 39
        }
      ]
    },
    {
      "cell_type": "code",
      "source": [
        "bin(482<<(7*12)| 715<<(6*12) | 271<< (5*12) | 360 << (4*12) | 194 << (3*12) | 435 << (2*12) | 478 << (1*12) | 466<<(0*12))"
      ],
      "metadata": {
        "id": "JSfgQqtV04PS",
        "colab": {
          "base_uri": "https://localhost:8080/",
          "height": 1000
        },
        "outputId": "d9af1356-d30b-4b1a-deee-d655cec764e9"
      },
      "execution_count": 40,
      "outputs": [
        {
          "output_type": "execute_result",
          "data": {
            "text/plain": [
              "'0b111100010001011001011000100001111000101101000000011000010000110110011000111011110000111010010'"
            ],
            "application/vnd.google.colaboratory.intrinsic+json": {
              "type": "string"
            }
          },
          "metadata": {},
          "execution_count": 40
        }
      ]
    },
    {
      "cell_type": "code",
      "source": [
        "bin(478) "
      ],
      "metadata": {
        "id": "66r0H5bO1idW",
        "colab": {
          "base_uri": "https://localhost:8080/",
          "height": 287
        },
        "outputId": "5389cfb9-bc95-40a5-b356-9ab0b8584843"
      },
      "execution_count": 41,
      "outputs": [
        {
          "output_type": "execute_result",
          "data": {
            "text/plain": [
              "'0b111011110'"
            ],
            "application/vnd.google.colaboratory.intrinsic+json": {
              "type": "string"
            }
          },
          "metadata": {},
          "execution_count": 41
        }
      ]
    },
    {
      "cell_type": "markdown",
      "source": [
        "## Umgangs Möglichkeiten mit den doppelten Einträgen"
      ],
      "metadata": {
        "id": "8AxK_zZlVOCW"
      }
    },
    {
      "cell_type": "markdown",
      "source": [
        "### Doppelte Einträge löschen"
      ],
      "metadata": {
        "id": "MGanUWzsWB7l"
      }
    },
    {
      "cell_type": "markdown",
      "source": [
        "Eine Möglickeit besteht darin die feature_category_ids mit dopelten Einträgen zu löschen"
      ],
      "metadata": {
        "id": "PuthOYpJVwfq"
      }
    },
    {
      "cell_type": "code",
      "source": [
        "#first drop the duplicated to che if now no mare duplicates are here\n",
        "c = features.drop(features[features['feature_category_id'] == 30].index)\n",
        "c = c.drop(c[c['feature_category_id'] == 53].index)\n",
        "c = c.drop(c[c['feature_category_id'] == 46].index)\n",
        "c = c.drop(c[c['feature_category_id'] == 4].index)\n",
        "c = c.drop(c[c['feature_category_id'] == 28].index)\n",
        "c = c.drop(c[c['feature_category_id'] == 1].index)"
      ],
      "metadata": {
        "id": "4UdsZj3_Ej7M"
      },
      "execution_count": 42,
      "outputs": []
    },
    {
      "cell_type": "markdown",
      "source": [
        "Mit dem entfernen der feature_value_ids mit doppeltem vorkommen lässt sich nun die pivot function anwenden. Allerdings könnten so wichtige Eigenschaften, wie z.B. die Farben der Items nicht berücksichtigt sein."
      ],
      "metadata": {
        "id": "SBy7HC4hlrcD"
      }
    },
    {
      "cell_type": "code",
      "source": [
        "#now the pivot function works, but 6 feature_category_ids are dropped\n",
        "c.pivot(index='item_id',columns='feature_category_id')"
      ],
      "metadata": {
        "colab": {
          "base_uri": "https://localhost:8080/",
          "height": 551
        },
        "id": "7h8awyPtVNA6",
        "outputId": "dda7f640-9d0b-4059-a8dc-3db53561fcd5"
      },
      "execution_count": 43,
      "outputs": [
        {
          "output_type": "execute_result",
          "data": {
            "text/plain": [
              "                    feature_value_id                                       \\\n",
              "feature_category_id               2      3      5   6      7   8   9   10   \n",
              "item_id                                                                     \n",
              "2                                NaN    NaN    NaN NaN  394.0 NaN NaN NaN   \n",
              "3                                NaN  889.0  605.0 NaN  452.0 NaN NaN NaN   \n",
              "4                                NaN  793.0  605.0 NaN  837.0 NaN NaN NaN   \n",
              "7                                NaN    NaN    NaN NaN  536.0 NaN NaN NaN   \n",
              "8                                NaN  793.0  605.0 NaN  798.0 NaN NaN NaN   \n",
              "...                              ...    ...    ...  ..    ...  ..  ..  ..   \n",
              "28139                            NaN  793.0  605.0 NaN  798.0 NaN NaN NaN   \n",
              "28140                           53.0    NaN    NaN NaN    NaN NaN NaN NaN   \n",
              "28141                            NaN  889.0  605.0 NaN    2.0 NaN NaN NaN   \n",
              "28142                            NaN    NaN    NaN NaN  619.0 NaN NaN NaN   \n",
              "28143                            NaN    NaN    NaN NaN  798.0 NaN NaN NaN   \n",
              "\n",
              "                                ...                                            \\\n",
              "feature_category_id     11  12  ...    64     65  66     67     68     69  70   \n",
              "item_id                         ...                                             \n",
              "2                      NaN NaN  ...   NaN    NaN NaN    NaN  351.0  885.0 NaN   \n",
              "3                    859.0 NaN  ...   NaN  521.0 NaN    NaN   14.0  592.0 NaN   \n",
              "4                      NaN NaN  ...   NaN  521.0 NaN    NaN  373.0  538.0 NaN   \n",
              "7                      NaN NaN  ...   NaN    NaN NaN    NaN  739.0  592.0 NaN   \n",
              "8                    735.0 NaN  ...   NaN  521.0 NaN    NaN  351.0  592.0 NaN   \n",
              "...                    ...  ..  ...   ...    ...  ..    ...    ...    ...  ..   \n",
              "28139                  NaN NaN  ...   NaN  521.0 NaN    NaN  106.0  805.0 NaN   \n",
              "28140                  NaN NaN  ...  80.0    NaN NaN  349.0  351.0    NaN NaN   \n",
              "28141                  NaN NaN  ...   NaN    NaN NaN    NaN  379.0  499.0 NaN   \n",
              "28142                  NaN NaN  ...   NaN  610.0 NaN    NaN  895.0  740.0 NaN   \n",
              "28143                109.0 NaN  ...   NaN    NaN NaN    NaN  351.0  499.0 NaN   \n",
              "\n",
              "                                          \n",
              "feature_category_id     71     72     73  \n",
              "item_id                                   \n",
              "2                      NaN   75.0    NaN  \n",
              "3                      NaN   75.0  544.0  \n",
              "4                      NaN   75.0  544.0  \n",
              "7                      NaN   75.0    NaN  \n",
              "8                      NaN   75.0  544.0  \n",
              "...                    ...    ...    ...  \n",
              "28139                  NaN   75.0  544.0  \n",
              "28140                226.0    NaN  544.0  \n",
              "28141                  NaN   75.0  544.0  \n",
              "28142                  NaN   75.0   91.0  \n",
              "28143                  NaN  371.0   91.0  \n",
              "\n",
              "[23691 rows x 67 columns]"
            ],
            "text/html": [
              "\n",
              "  <div id=\"df-142bc7b6-519c-48fe-9e5d-0f7055734c31\">\n",
              "    <div class=\"colab-df-container\">\n",
              "      <div>\n",
              "<style scoped>\n",
              "    .dataframe tbody tr th:only-of-type {\n",
              "        vertical-align: middle;\n",
              "    }\n",
              "\n",
              "    .dataframe tbody tr th {\n",
              "        vertical-align: top;\n",
              "    }\n",
              "\n",
              "    .dataframe thead tr th {\n",
              "        text-align: left;\n",
              "    }\n",
              "\n",
              "    .dataframe thead tr:last-of-type th {\n",
              "        text-align: right;\n",
              "    }\n",
              "</style>\n",
              "<table border=\"1\" class=\"dataframe\">\n",
              "  <thead>\n",
              "    <tr>\n",
              "      <th></th>\n",
              "      <th colspan=\"21\" halign=\"left\">feature_value_id</th>\n",
              "    </tr>\n",
              "    <tr>\n",
              "      <th>feature_category_id</th>\n",
              "      <th>2</th>\n",
              "      <th>3</th>\n",
              "      <th>5</th>\n",
              "      <th>6</th>\n",
              "      <th>7</th>\n",
              "      <th>8</th>\n",
              "      <th>9</th>\n",
              "      <th>10</th>\n",
              "      <th>11</th>\n",
              "      <th>12</th>\n",
              "      <th>...</th>\n",
              "      <th>64</th>\n",
              "      <th>65</th>\n",
              "      <th>66</th>\n",
              "      <th>67</th>\n",
              "      <th>68</th>\n",
              "      <th>69</th>\n",
              "      <th>70</th>\n",
              "      <th>71</th>\n",
              "      <th>72</th>\n",
              "      <th>73</th>\n",
              "    </tr>\n",
              "    <tr>\n",
              "      <th>item_id</th>\n",
              "      <th></th>\n",
              "      <th></th>\n",
              "      <th></th>\n",
              "      <th></th>\n",
              "      <th></th>\n",
              "      <th></th>\n",
              "      <th></th>\n",
              "      <th></th>\n",
              "      <th></th>\n",
              "      <th></th>\n",
              "      <th></th>\n",
              "      <th></th>\n",
              "      <th></th>\n",
              "      <th></th>\n",
              "      <th></th>\n",
              "      <th></th>\n",
              "      <th></th>\n",
              "      <th></th>\n",
              "      <th></th>\n",
              "      <th></th>\n",
              "      <th></th>\n",
              "    </tr>\n",
              "  </thead>\n",
              "  <tbody>\n",
              "    <tr>\n",
              "      <th>2</th>\n",
              "      <td>NaN</td>\n",
              "      <td>NaN</td>\n",
              "      <td>NaN</td>\n",
              "      <td>NaN</td>\n",
              "      <td>394.0</td>\n",
              "      <td>NaN</td>\n",
              "      <td>NaN</td>\n",
              "      <td>NaN</td>\n",
              "      <td>NaN</td>\n",
              "      <td>NaN</td>\n",
              "      <td>...</td>\n",
              "      <td>NaN</td>\n",
              "      <td>NaN</td>\n",
              "      <td>NaN</td>\n",
              "      <td>NaN</td>\n",
              "      <td>351.0</td>\n",
              "      <td>885.0</td>\n",
              "      <td>NaN</td>\n",
              "      <td>NaN</td>\n",
              "      <td>75.0</td>\n",
              "      <td>NaN</td>\n",
              "    </tr>\n",
              "    <tr>\n",
              "      <th>3</th>\n",
              "      <td>NaN</td>\n",
              "      <td>889.0</td>\n",
              "      <td>605.0</td>\n",
              "      <td>NaN</td>\n",
              "      <td>452.0</td>\n",
              "      <td>NaN</td>\n",
              "      <td>NaN</td>\n",
              "      <td>NaN</td>\n",
              "      <td>859.0</td>\n",
              "      <td>NaN</td>\n",
              "      <td>...</td>\n",
              "      <td>NaN</td>\n",
              "      <td>521.0</td>\n",
              "      <td>NaN</td>\n",
              "      <td>NaN</td>\n",
              "      <td>14.0</td>\n",
              "      <td>592.0</td>\n",
              "      <td>NaN</td>\n",
              "      <td>NaN</td>\n",
              "      <td>75.0</td>\n",
              "      <td>544.0</td>\n",
              "    </tr>\n",
              "    <tr>\n",
              "      <th>4</th>\n",
              "      <td>NaN</td>\n",
              "      <td>793.0</td>\n",
              "      <td>605.0</td>\n",
              "      <td>NaN</td>\n",
              "      <td>837.0</td>\n",
              "      <td>NaN</td>\n",
              "      <td>NaN</td>\n",
              "      <td>NaN</td>\n",
              "      <td>NaN</td>\n",
              "      <td>NaN</td>\n",
              "      <td>...</td>\n",
              "      <td>NaN</td>\n",
              "      <td>521.0</td>\n",
              "      <td>NaN</td>\n",
              "      <td>NaN</td>\n",
              "      <td>373.0</td>\n",
              "      <td>538.0</td>\n",
              "      <td>NaN</td>\n",
              "      <td>NaN</td>\n",
              "      <td>75.0</td>\n",
              "      <td>544.0</td>\n",
              "    </tr>\n",
              "    <tr>\n",
              "      <th>7</th>\n",
              "      <td>NaN</td>\n",
              "      <td>NaN</td>\n",
              "      <td>NaN</td>\n",
              "      <td>NaN</td>\n",
              "      <td>536.0</td>\n",
              "      <td>NaN</td>\n",
              "      <td>NaN</td>\n",
              "      <td>NaN</td>\n",
              "      <td>NaN</td>\n",
              "      <td>NaN</td>\n",
              "      <td>...</td>\n",
              "      <td>NaN</td>\n",
              "      <td>NaN</td>\n",
              "      <td>NaN</td>\n",
              "      <td>NaN</td>\n",
              "      <td>739.0</td>\n",
              "      <td>592.0</td>\n",
              "      <td>NaN</td>\n",
              "      <td>NaN</td>\n",
              "      <td>75.0</td>\n",
              "      <td>NaN</td>\n",
              "    </tr>\n",
              "    <tr>\n",
              "      <th>8</th>\n",
              "      <td>NaN</td>\n",
              "      <td>793.0</td>\n",
              "      <td>605.0</td>\n",
              "      <td>NaN</td>\n",
              "      <td>798.0</td>\n",
              "      <td>NaN</td>\n",
              "      <td>NaN</td>\n",
              "      <td>NaN</td>\n",
              "      <td>735.0</td>\n",
              "      <td>NaN</td>\n",
              "      <td>...</td>\n",
              "      <td>NaN</td>\n",
              "      <td>521.0</td>\n",
              "      <td>NaN</td>\n",
              "      <td>NaN</td>\n",
              "      <td>351.0</td>\n",
              "      <td>592.0</td>\n",
              "      <td>NaN</td>\n",
              "      <td>NaN</td>\n",
              "      <td>75.0</td>\n",
              "      <td>544.0</td>\n",
              "    </tr>\n",
              "    <tr>\n",
              "      <th>...</th>\n",
              "      <td>...</td>\n",
              "      <td>...</td>\n",
              "      <td>...</td>\n",
              "      <td>...</td>\n",
              "      <td>...</td>\n",
              "      <td>...</td>\n",
              "      <td>...</td>\n",
              "      <td>...</td>\n",
              "      <td>...</td>\n",
              "      <td>...</td>\n",
              "      <td>...</td>\n",
              "      <td>...</td>\n",
              "      <td>...</td>\n",
              "      <td>...</td>\n",
              "      <td>...</td>\n",
              "      <td>...</td>\n",
              "      <td>...</td>\n",
              "      <td>...</td>\n",
              "      <td>...</td>\n",
              "      <td>...</td>\n",
              "      <td>...</td>\n",
              "    </tr>\n",
              "    <tr>\n",
              "      <th>28139</th>\n",
              "      <td>NaN</td>\n",
              "      <td>793.0</td>\n",
              "      <td>605.0</td>\n",
              "      <td>NaN</td>\n",
              "      <td>798.0</td>\n",
              "      <td>NaN</td>\n",
              "      <td>NaN</td>\n",
              "      <td>NaN</td>\n",
              "      <td>NaN</td>\n",
              "      <td>NaN</td>\n",
              "      <td>...</td>\n",
              "      <td>NaN</td>\n",
              "      <td>521.0</td>\n",
              "      <td>NaN</td>\n",
              "      <td>NaN</td>\n",
              "      <td>106.0</td>\n",
              "      <td>805.0</td>\n",
              "      <td>NaN</td>\n",
              "      <td>NaN</td>\n",
              "      <td>75.0</td>\n",
              "      <td>544.0</td>\n",
              "    </tr>\n",
              "    <tr>\n",
              "      <th>28140</th>\n",
              "      <td>53.0</td>\n",
              "      <td>NaN</td>\n",
              "      <td>NaN</td>\n",
              "      <td>NaN</td>\n",
              "      <td>NaN</td>\n",
              "      <td>NaN</td>\n",
              "      <td>NaN</td>\n",
              "      <td>NaN</td>\n",
              "      <td>NaN</td>\n",
              "      <td>NaN</td>\n",
              "      <td>...</td>\n",
              "      <td>80.0</td>\n",
              "      <td>NaN</td>\n",
              "      <td>NaN</td>\n",
              "      <td>349.0</td>\n",
              "      <td>351.0</td>\n",
              "      <td>NaN</td>\n",
              "      <td>NaN</td>\n",
              "      <td>226.0</td>\n",
              "      <td>NaN</td>\n",
              "      <td>544.0</td>\n",
              "    </tr>\n",
              "    <tr>\n",
              "      <th>28141</th>\n",
              "      <td>NaN</td>\n",
              "      <td>889.0</td>\n",
              "      <td>605.0</td>\n",
              "      <td>NaN</td>\n",
              "      <td>2.0</td>\n",
              "      <td>NaN</td>\n",
              "      <td>NaN</td>\n",
              "      <td>NaN</td>\n",
              "      <td>NaN</td>\n",
              "      <td>NaN</td>\n",
              "      <td>...</td>\n",
              "      <td>NaN</td>\n",
              "      <td>NaN</td>\n",
              "      <td>NaN</td>\n",
              "      <td>NaN</td>\n",
              "      <td>379.0</td>\n",
              "      <td>499.0</td>\n",
              "      <td>NaN</td>\n",
              "      <td>NaN</td>\n",
              "      <td>75.0</td>\n",
              "      <td>544.0</td>\n",
              "    </tr>\n",
              "    <tr>\n",
              "      <th>28142</th>\n",
              "      <td>NaN</td>\n",
              "      <td>NaN</td>\n",
              "      <td>NaN</td>\n",
              "      <td>NaN</td>\n",
              "      <td>619.0</td>\n",
              "      <td>NaN</td>\n",
              "      <td>NaN</td>\n",
              "      <td>NaN</td>\n",
              "      <td>NaN</td>\n",
              "      <td>NaN</td>\n",
              "      <td>...</td>\n",
              "      <td>NaN</td>\n",
              "      <td>610.0</td>\n",
              "      <td>NaN</td>\n",
              "      <td>NaN</td>\n",
              "      <td>895.0</td>\n",
              "      <td>740.0</td>\n",
              "      <td>NaN</td>\n",
              "      <td>NaN</td>\n",
              "      <td>75.0</td>\n",
              "      <td>91.0</td>\n",
              "    </tr>\n",
              "    <tr>\n",
              "      <th>28143</th>\n",
              "      <td>NaN</td>\n",
              "      <td>NaN</td>\n",
              "      <td>NaN</td>\n",
              "      <td>NaN</td>\n",
              "      <td>798.0</td>\n",
              "      <td>NaN</td>\n",
              "      <td>NaN</td>\n",
              "      <td>NaN</td>\n",
              "      <td>109.0</td>\n",
              "      <td>NaN</td>\n",
              "      <td>...</td>\n",
              "      <td>NaN</td>\n",
              "      <td>NaN</td>\n",
              "      <td>NaN</td>\n",
              "      <td>NaN</td>\n",
              "      <td>351.0</td>\n",
              "      <td>499.0</td>\n",
              "      <td>NaN</td>\n",
              "      <td>NaN</td>\n",
              "      <td>371.0</td>\n",
              "      <td>91.0</td>\n",
              "    </tr>\n",
              "  </tbody>\n",
              "</table>\n",
              "<p>23691 rows × 67 columns</p>\n",
              "</div>\n",
              "      <button class=\"colab-df-convert\" onclick=\"convertToInteractive('df-142bc7b6-519c-48fe-9e5d-0f7055734c31')\"\n",
              "              title=\"Convert this dataframe to an interactive table.\"\n",
              "              style=\"display:none;\">\n",
              "        \n",
              "  <svg xmlns=\"http://www.w3.org/2000/svg\" height=\"24px\"viewBox=\"0 0 24 24\"\n",
              "       width=\"24px\">\n",
              "    <path d=\"M0 0h24v24H0V0z\" fill=\"none\"/>\n",
              "    <path d=\"M18.56 5.44l.94 2.06.94-2.06 2.06-.94-2.06-.94-.94-2.06-.94 2.06-2.06.94zm-11 1L8.5 8.5l.94-2.06 2.06-.94-2.06-.94L8.5 2.5l-.94 2.06-2.06.94zm10 10l.94 2.06.94-2.06 2.06-.94-2.06-.94-.94-2.06-.94 2.06-2.06.94z\"/><path d=\"M17.41 7.96l-1.37-1.37c-.4-.4-.92-.59-1.43-.59-.52 0-1.04.2-1.43.59L10.3 9.45l-7.72 7.72c-.78.78-.78 2.05 0 2.83L4 21.41c.39.39.9.59 1.41.59.51 0 1.02-.2 1.41-.59l7.78-7.78 2.81-2.81c.8-.78.8-2.07 0-2.86zM5.41 20L4 18.59l7.72-7.72 1.47 1.35L5.41 20z\"/>\n",
              "  </svg>\n",
              "      </button>\n",
              "      \n",
              "  <style>\n",
              "    .colab-df-container {\n",
              "      display:flex;\n",
              "      flex-wrap:wrap;\n",
              "      gap: 12px;\n",
              "    }\n",
              "\n",
              "    .colab-df-convert {\n",
              "      background-color: #E8F0FE;\n",
              "      border: none;\n",
              "      border-radius: 50%;\n",
              "      cursor: pointer;\n",
              "      display: none;\n",
              "      fill: #1967D2;\n",
              "      height: 32px;\n",
              "      padding: 0 0 0 0;\n",
              "      width: 32px;\n",
              "    }\n",
              "\n",
              "    .colab-df-convert:hover {\n",
              "      background-color: #E2EBFA;\n",
              "      box-shadow: 0px 1px 2px rgba(60, 64, 67, 0.3), 0px 1px 3px 1px rgba(60, 64, 67, 0.15);\n",
              "      fill: #174EA6;\n",
              "    }\n",
              "\n",
              "    [theme=dark] .colab-df-convert {\n",
              "      background-color: #3B4455;\n",
              "      fill: #D2E3FC;\n",
              "    }\n",
              "\n",
              "    [theme=dark] .colab-df-convert:hover {\n",
              "      background-color: #434B5C;\n",
              "      box-shadow: 0px 1px 3px 1px rgba(0, 0, 0, 0.15);\n",
              "      filter: drop-shadow(0px 1px 2px rgba(0, 0, 0, 0.3));\n",
              "      fill: #FFFFFF;\n",
              "    }\n",
              "  </style>\n",
              "\n",
              "      <script>\n",
              "        const buttonEl =\n",
              "          document.querySelector('#df-142bc7b6-519c-48fe-9e5d-0f7055734c31 button.colab-df-convert');\n",
              "        buttonEl.style.display =\n",
              "          google.colab.kernel.accessAllowed ? 'block' : 'none';\n",
              "\n",
              "        async function convertToInteractive(key) {\n",
              "          const element = document.querySelector('#df-142bc7b6-519c-48fe-9e5d-0f7055734c31');\n",
              "          const dataTable =\n",
              "            await google.colab.kernel.invokeFunction('convertToInteractive',\n",
              "                                                     [key], {});\n",
              "          if (!dataTable) return;\n",
              "\n",
              "          const docLinkHtml = 'Like what you see? Visit the ' +\n",
              "            '<a target=\"_blank\" href=https://colab.research.google.com/notebooks/data_table.ipynb>data table notebook</a>'\n",
              "            + ' to learn more about interactive tables.';\n",
              "          element.innerHTML = '';\n",
              "          dataTable['output_type'] = 'display_data';\n",
              "          await google.colab.output.renderOutput(dataTable, element);\n",
              "          const docLink = document.createElement('div');\n",
              "          docLink.innerHTML = docLinkHtml;\n",
              "          element.appendChild(docLink);\n",
              "        }\n",
              "      </script>\n",
              "    </div>\n",
              "  </div>\n",
              "  "
            ]
          },
          "metadata": {},
          "execution_count": 43
        }
      ]
    },
    {
      "cell_type": "markdown",
      "source": [
        "### pivot_table Funktion verwenden"
      ],
      "metadata": {
        "id": "TTiukW-EWG9o"
      }
    },
    {
      "cell_type": "markdown",
      "source": [
        "Eine andere Möglichkeit wäre die Funktion pivot_table, hier werden allerdings die doppelten Werte z.B. auf summiert oder deren Mittelwert gebildet, was auch zu einer verfälschung der Werte führt. Damit wären keine logischen zusammenhänge mehr möglich.\n",
        "Wird jeweils der minimale oder maximale Wert verwendet gehen Daten verloren, aber es würde zumindest ein unrsprünglicher Wert erhaltenbleiben."
      ],
      "metadata": {
        "id": "AiDEAJuhwgJo"
      }
    },
    {
      "cell_type": "code",
      "source": [
        "feature_pivtable = features.pivot_table(index='item_id',columns='feature_category_id',  fill_value=0,aggfunc='min')\n",
        "feature_pivtable"
      ],
      "metadata": {
        "id": "AmkypdbmmYju",
        "outputId": "89f36f8d-01f1-4d1a-937b-858d093ccb78",
        "colab": {
          "base_uri": "https://localhost:8080/",
          "height": 487
        }
      },
      "execution_count": 64,
      "outputs": [
        {
          "output_type": "execute_result",
          "data": {
            "text/plain": [
              "                    feature_value_id                                      ...  \\\n",
              "feature_category_id               1   2    3    4    5  6    7  8  9  10  ...   \n",
              "item_id                                                                   ...   \n",
              "2                                  0   0    0    0    0  0  394  0  0  0  ...   \n",
              "3                                  0   0  889  618  605  0  452  0  0  0  ...   \n",
              "4                                  0   0  793  618  605  0  837  0  0  0  ...   \n",
              "7                                  0   0    0    0    0  0  536  0  0  0  ...   \n",
              "8                                  0   0  793  618  605  0  798  0  0  0  ...   \n",
              "...                              ...  ..  ...  ...  ... ..  ... .. .. ..  ...   \n",
              "28139                              0   0  793  618  605  0  798  0  0  0  ...   \n",
              "28140                              0  53    0    0    0  0    0  0  0  0  ...   \n",
              "28141                            461   0  889  719  605  0    2  0  0  0  ...   \n",
              "28142                              0   0    0    0    0  0  619  0  0  0  ...   \n",
              "28143                              0   0    0    0    0  0  798  0  0  0  ...   \n",
              "\n",
              "                                                                  \n",
              "feature_category_id  64   65 66   67   68   69 70   71   72   73  \n",
              "item_id                                                           \n",
              "2                     0    0  0    0  351  885  0    0   75    0  \n",
              "3                     0  521  0    0   14  592  0    0   75  544  \n",
              "4                     0  521  0    0  373  538  0    0   75  544  \n",
              "7                     0    0  0    0  739  592  0    0   75    0  \n",
              "8                     0  521  0    0  351  592  0    0   75  544  \n",
              "...                  ..  ... ..  ...  ...  ... ..  ...  ...  ...  \n",
              "28139                 0  521  0    0  106  805  0    0   75  544  \n",
              "28140                80    0  0  349  351    0  0  226    0  544  \n",
              "28141                 0    0  0    0  379  499  0    0   75  544  \n",
              "28142                 0  610  0    0  895  740  0    0   75   91  \n",
              "28143                 0    0  0    0  351  499  0    0  371   91  \n",
              "\n",
              "[23691 rows x 73 columns]"
            ],
            "text/html": [
              "\n",
              "  <div id=\"df-84bbaf25-20ce-414b-ae0d-37fee40aab98\">\n",
              "    <div class=\"colab-df-container\">\n",
              "      <div>\n",
              "<style scoped>\n",
              "    .dataframe tbody tr th:only-of-type {\n",
              "        vertical-align: middle;\n",
              "    }\n",
              "\n",
              "    .dataframe tbody tr th {\n",
              "        vertical-align: top;\n",
              "    }\n",
              "\n",
              "    .dataframe thead tr th {\n",
              "        text-align: left;\n",
              "    }\n",
              "\n",
              "    .dataframe thead tr:last-of-type th {\n",
              "        text-align: right;\n",
              "    }\n",
              "</style>\n",
              "<table border=\"1\" class=\"dataframe\">\n",
              "  <thead>\n",
              "    <tr>\n",
              "      <th></th>\n",
              "      <th colspan=\"21\" halign=\"left\">feature_value_id</th>\n",
              "    </tr>\n",
              "    <tr>\n",
              "      <th>feature_category_id</th>\n",
              "      <th>1</th>\n",
              "      <th>2</th>\n",
              "      <th>3</th>\n",
              "      <th>4</th>\n",
              "      <th>5</th>\n",
              "      <th>6</th>\n",
              "      <th>7</th>\n",
              "      <th>8</th>\n",
              "      <th>9</th>\n",
              "      <th>10</th>\n",
              "      <th>...</th>\n",
              "      <th>64</th>\n",
              "      <th>65</th>\n",
              "      <th>66</th>\n",
              "      <th>67</th>\n",
              "      <th>68</th>\n",
              "      <th>69</th>\n",
              "      <th>70</th>\n",
              "      <th>71</th>\n",
              "      <th>72</th>\n",
              "      <th>73</th>\n",
              "    </tr>\n",
              "    <tr>\n",
              "      <th>item_id</th>\n",
              "      <th></th>\n",
              "      <th></th>\n",
              "      <th></th>\n",
              "      <th></th>\n",
              "      <th></th>\n",
              "      <th></th>\n",
              "      <th></th>\n",
              "      <th></th>\n",
              "      <th></th>\n",
              "      <th></th>\n",
              "      <th></th>\n",
              "      <th></th>\n",
              "      <th></th>\n",
              "      <th></th>\n",
              "      <th></th>\n",
              "      <th></th>\n",
              "      <th></th>\n",
              "      <th></th>\n",
              "      <th></th>\n",
              "      <th></th>\n",
              "      <th></th>\n",
              "    </tr>\n",
              "  </thead>\n",
              "  <tbody>\n",
              "    <tr>\n",
              "      <th>2</th>\n",
              "      <td>0</td>\n",
              "      <td>0</td>\n",
              "      <td>0</td>\n",
              "      <td>0</td>\n",
              "      <td>0</td>\n",
              "      <td>0</td>\n",
              "      <td>394</td>\n",
              "      <td>0</td>\n",
              "      <td>0</td>\n",
              "      <td>0</td>\n",
              "      <td>...</td>\n",
              "      <td>0</td>\n",
              "      <td>0</td>\n",
              "      <td>0</td>\n",
              "      <td>0</td>\n",
              "      <td>351</td>\n",
              "      <td>885</td>\n",
              "      <td>0</td>\n",
              "      <td>0</td>\n",
              "      <td>75</td>\n",
              "      <td>0</td>\n",
              "    </tr>\n",
              "    <tr>\n",
              "      <th>3</th>\n",
              "      <td>0</td>\n",
              "      <td>0</td>\n",
              "      <td>889</td>\n",
              "      <td>618</td>\n",
              "      <td>605</td>\n",
              "      <td>0</td>\n",
              "      <td>452</td>\n",
              "      <td>0</td>\n",
              "      <td>0</td>\n",
              "      <td>0</td>\n",
              "      <td>...</td>\n",
              "      <td>0</td>\n",
              "      <td>521</td>\n",
              "      <td>0</td>\n",
              "      <td>0</td>\n",
              "      <td>14</td>\n",
              "      <td>592</td>\n",
              "      <td>0</td>\n",
              "      <td>0</td>\n",
              "      <td>75</td>\n",
              "      <td>544</td>\n",
              "    </tr>\n",
              "    <tr>\n",
              "      <th>4</th>\n",
              "      <td>0</td>\n",
              "      <td>0</td>\n",
              "      <td>793</td>\n",
              "      <td>618</td>\n",
              "      <td>605</td>\n",
              "      <td>0</td>\n",
              "      <td>837</td>\n",
              "      <td>0</td>\n",
              "      <td>0</td>\n",
              "      <td>0</td>\n",
              "      <td>...</td>\n",
              "      <td>0</td>\n",
              "      <td>521</td>\n",
              "      <td>0</td>\n",
              "      <td>0</td>\n",
              "      <td>373</td>\n",
              "      <td>538</td>\n",
              "      <td>0</td>\n",
              "      <td>0</td>\n",
              "      <td>75</td>\n",
              "      <td>544</td>\n",
              "    </tr>\n",
              "    <tr>\n",
              "      <th>7</th>\n",
              "      <td>0</td>\n",
              "      <td>0</td>\n",
              "      <td>0</td>\n",
              "      <td>0</td>\n",
              "      <td>0</td>\n",
              "      <td>0</td>\n",
              "      <td>536</td>\n",
              "      <td>0</td>\n",
              "      <td>0</td>\n",
              "      <td>0</td>\n",
              "      <td>...</td>\n",
              "      <td>0</td>\n",
              "      <td>0</td>\n",
              "      <td>0</td>\n",
              "      <td>0</td>\n",
              "      <td>739</td>\n",
              "      <td>592</td>\n",
              "      <td>0</td>\n",
              "      <td>0</td>\n",
              "      <td>75</td>\n",
              "      <td>0</td>\n",
              "    </tr>\n",
              "    <tr>\n",
              "      <th>8</th>\n",
              "      <td>0</td>\n",
              "      <td>0</td>\n",
              "      <td>793</td>\n",
              "      <td>618</td>\n",
              "      <td>605</td>\n",
              "      <td>0</td>\n",
              "      <td>798</td>\n",
              "      <td>0</td>\n",
              "      <td>0</td>\n",
              "      <td>0</td>\n",
              "      <td>...</td>\n",
              "      <td>0</td>\n",
              "      <td>521</td>\n",
              "      <td>0</td>\n",
              "      <td>0</td>\n",
              "      <td>351</td>\n",
              "      <td>592</td>\n",
              "      <td>0</td>\n",
              "      <td>0</td>\n",
              "      <td>75</td>\n",
              "      <td>544</td>\n",
              "    </tr>\n",
              "    <tr>\n",
              "      <th>...</th>\n",
              "      <td>...</td>\n",
              "      <td>...</td>\n",
              "      <td>...</td>\n",
              "      <td>...</td>\n",
              "      <td>...</td>\n",
              "      <td>...</td>\n",
              "      <td>...</td>\n",
              "      <td>...</td>\n",
              "      <td>...</td>\n",
              "      <td>...</td>\n",
              "      <td>...</td>\n",
              "      <td>...</td>\n",
              "      <td>...</td>\n",
              "      <td>...</td>\n",
              "      <td>...</td>\n",
              "      <td>...</td>\n",
              "      <td>...</td>\n",
              "      <td>...</td>\n",
              "      <td>...</td>\n",
              "      <td>...</td>\n",
              "      <td>...</td>\n",
              "    </tr>\n",
              "    <tr>\n",
              "      <th>28139</th>\n",
              "      <td>0</td>\n",
              "      <td>0</td>\n",
              "      <td>793</td>\n",
              "      <td>618</td>\n",
              "      <td>605</td>\n",
              "      <td>0</td>\n",
              "      <td>798</td>\n",
              "      <td>0</td>\n",
              "      <td>0</td>\n",
              "      <td>0</td>\n",
              "      <td>...</td>\n",
              "      <td>0</td>\n",
              "      <td>521</td>\n",
              "      <td>0</td>\n",
              "      <td>0</td>\n",
              "      <td>106</td>\n",
              "      <td>805</td>\n",
              "      <td>0</td>\n",
              "      <td>0</td>\n",
              "      <td>75</td>\n",
              "      <td>544</td>\n",
              "    </tr>\n",
              "    <tr>\n",
              "      <th>28140</th>\n",
              "      <td>0</td>\n",
              "      <td>53</td>\n",
              "      <td>0</td>\n",
              "      <td>0</td>\n",
              "      <td>0</td>\n",
              "      <td>0</td>\n",
              "      <td>0</td>\n",
              "      <td>0</td>\n",
              "      <td>0</td>\n",
              "      <td>0</td>\n",
              "      <td>...</td>\n",
              "      <td>80</td>\n",
              "      <td>0</td>\n",
              "      <td>0</td>\n",
              "      <td>349</td>\n",
              "      <td>351</td>\n",
              "      <td>0</td>\n",
              "      <td>0</td>\n",
              "      <td>226</td>\n",
              "      <td>0</td>\n",
              "      <td>544</td>\n",
              "    </tr>\n",
              "    <tr>\n",
              "      <th>28141</th>\n",
              "      <td>461</td>\n",
              "      <td>0</td>\n",
              "      <td>889</td>\n",
              "      <td>719</td>\n",
              "      <td>605</td>\n",
              "      <td>0</td>\n",
              "      <td>2</td>\n",
              "      <td>0</td>\n",
              "      <td>0</td>\n",
              "      <td>0</td>\n",
              "      <td>...</td>\n",
              "      <td>0</td>\n",
              "      <td>0</td>\n",
              "      <td>0</td>\n",
              "      <td>0</td>\n",
              "      <td>379</td>\n",
              "      <td>499</td>\n",
              "      <td>0</td>\n",
              "      <td>0</td>\n",
              "      <td>75</td>\n",
              "      <td>544</td>\n",
              "    </tr>\n",
              "    <tr>\n",
              "      <th>28142</th>\n",
              "      <td>0</td>\n",
              "      <td>0</td>\n",
              "      <td>0</td>\n",
              "      <td>0</td>\n",
              "      <td>0</td>\n",
              "      <td>0</td>\n",
              "      <td>619</td>\n",
              "      <td>0</td>\n",
              "      <td>0</td>\n",
              "      <td>0</td>\n",
              "      <td>...</td>\n",
              "      <td>0</td>\n",
              "      <td>610</td>\n",
              "      <td>0</td>\n",
              "      <td>0</td>\n",
              "      <td>895</td>\n",
              "      <td>740</td>\n",
              "      <td>0</td>\n",
              "      <td>0</td>\n",
              "      <td>75</td>\n",
              "      <td>91</td>\n",
              "    </tr>\n",
              "    <tr>\n",
              "      <th>28143</th>\n",
              "      <td>0</td>\n",
              "      <td>0</td>\n",
              "      <td>0</td>\n",
              "      <td>0</td>\n",
              "      <td>0</td>\n",
              "      <td>0</td>\n",
              "      <td>798</td>\n",
              "      <td>0</td>\n",
              "      <td>0</td>\n",
              "      <td>0</td>\n",
              "      <td>...</td>\n",
              "      <td>0</td>\n",
              "      <td>0</td>\n",
              "      <td>0</td>\n",
              "      <td>0</td>\n",
              "      <td>351</td>\n",
              "      <td>499</td>\n",
              "      <td>0</td>\n",
              "      <td>0</td>\n",
              "      <td>371</td>\n",
              "      <td>91</td>\n",
              "    </tr>\n",
              "  </tbody>\n",
              "</table>\n",
              "<p>23691 rows × 73 columns</p>\n",
              "</div>\n",
              "      <button class=\"colab-df-convert\" onclick=\"convertToInteractive('df-84bbaf25-20ce-414b-ae0d-37fee40aab98')\"\n",
              "              title=\"Convert this dataframe to an interactive table.\"\n",
              "              style=\"display:none;\">\n",
              "        \n",
              "  <svg xmlns=\"http://www.w3.org/2000/svg\" height=\"24px\"viewBox=\"0 0 24 24\"\n",
              "       width=\"24px\">\n",
              "    <path d=\"M0 0h24v24H0V0z\" fill=\"none\"/>\n",
              "    <path d=\"M18.56 5.44l.94 2.06.94-2.06 2.06-.94-2.06-.94-.94-2.06-.94 2.06-2.06.94zm-11 1L8.5 8.5l.94-2.06 2.06-.94-2.06-.94L8.5 2.5l-.94 2.06-2.06.94zm10 10l.94 2.06.94-2.06 2.06-.94-2.06-.94-.94-2.06-.94 2.06-2.06.94z\"/><path d=\"M17.41 7.96l-1.37-1.37c-.4-.4-.92-.59-1.43-.59-.52 0-1.04.2-1.43.59L10.3 9.45l-7.72 7.72c-.78.78-.78 2.05 0 2.83L4 21.41c.39.39.9.59 1.41.59.51 0 1.02-.2 1.41-.59l7.78-7.78 2.81-2.81c.8-.78.8-2.07 0-2.86zM5.41 20L4 18.59l7.72-7.72 1.47 1.35L5.41 20z\"/>\n",
              "  </svg>\n",
              "      </button>\n",
              "      \n",
              "  <style>\n",
              "    .colab-df-container {\n",
              "      display:flex;\n",
              "      flex-wrap:wrap;\n",
              "      gap: 12px;\n",
              "    }\n",
              "\n",
              "    .colab-df-convert {\n",
              "      background-color: #E8F0FE;\n",
              "      border: none;\n",
              "      border-radius: 50%;\n",
              "      cursor: pointer;\n",
              "      display: none;\n",
              "      fill: #1967D2;\n",
              "      height: 32px;\n",
              "      padding: 0 0 0 0;\n",
              "      width: 32px;\n",
              "    }\n",
              "\n",
              "    .colab-df-convert:hover {\n",
              "      background-color: #E2EBFA;\n",
              "      box-shadow: 0px 1px 2px rgba(60, 64, 67, 0.3), 0px 1px 3px 1px rgba(60, 64, 67, 0.15);\n",
              "      fill: #174EA6;\n",
              "    }\n",
              "\n",
              "    [theme=dark] .colab-df-convert {\n",
              "      background-color: #3B4455;\n",
              "      fill: #D2E3FC;\n",
              "    }\n",
              "\n",
              "    [theme=dark] .colab-df-convert:hover {\n",
              "      background-color: #434B5C;\n",
              "      box-shadow: 0px 1px 3px 1px rgba(0, 0, 0, 0.15);\n",
              "      filter: drop-shadow(0px 1px 2px rgba(0, 0, 0, 0.3));\n",
              "      fill: #FFFFFF;\n",
              "    }\n",
              "  </style>\n",
              "\n",
              "      <script>\n",
              "        const buttonEl =\n",
              "          document.querySelector('#df-84bbaf25-20ce-414b-ae0d-37fee40aab98 button.colab-df-convert');\n",
              "        buttonEl.style.display =\n",
              "          google.colab.kernel.accessAllowed ? 'block' : 'none';\n",
              "\n",
              "        async function convertToInteractive(key) {\n",
              "          const element = document.querySelector('#df-84bbaf25-20ce-414b-ae0d-37fee40aab98');\n",
              "          const dataTable =\n",
              "            await google.colab.kernel.invokeFunction('convertToInteractive',\n",
              "                                                     [key], {});\n",
              "          if (!dataTable) return;\n",
              "\n",
              "          const docLinkHtml = 'Like what you see? Visit the ' +\n",
              "            '<a target=\"_blank\" href=https://colab.research.google.com/notebooks/data_table.ipynb>data table notebook</a>'\n",
              "            + ' to learn more about interactive tables.';\n",
              "          element.innerHTML = '';\n",
              "          dataTable['output_type'] = 'display_data';\n",
              "          await google.colab.output.renderOutput(dataTable, element);\n",
              "          const docLink = document.createElement('div');\n",
              "          docLink.innerHTML = docLinkHtml;\n",
              "          element.appendChild(docLink);\n",
              "        }\n",
              "      </script>\n",
              "    </div>\n",
              "  </div>\n",
              "  "
            ]
          },
          "metadata": {},
          "execution_count": 64
        }
      ]
    },
    {
      "cell_type": "code",
      "source": [
        "feature_pivtable[feature_pivtable.index==2].values.mean()"
      ],
      "metadata": {
        "colab": {
          "base_uri": "https://localhost:8080/"
        },
        "id": "C86Q0VINe3P0",
        "outputId": "3be3a518-e147-40a8-96ea-42d2a0634df2"
      },
      "execution_count": 45,
      "outputs": [
        {
          "output_type": "execute_result",
          "data": {
            "text/plain": [
              "61.657534246575345"
            ]
          },
          "metadata": {},
          "execution_count": 45
        }
      ]
    },
    {
      "cell_type": "code",
      "source": [
        "feature_pivtable.transpose().nunique().mean()"
      ],
      "metadata": {
        "id": "gIk6l8mXe3XW",
        "outputId": "c153c2b1-0188-4448-d78d-087c6d0fc614",
        "colab": {
          "base_uri": "https://localhost:8080/"
        }
      },
      "execution_count": 46,
      "outputs": [
        {
          "output_type": "execute_result",
          "data": {
            "text/plain": [
              "20.41817567852771"
            ]
          },
          "metadata": {},
          "execution_count": 46
        }
      ]
    },
    {
      "cell_type": "markdown",
      "source": [
        "### Doppelte Einträge zusammenfassen"
      ],
      "metadata": {
        "id": "yRNZumR1WPXJ"
      }
    },
    {
      "cell_type": "markdown",
      "source": [
        ""
      ],
      "metadata": {
        "id": "K7lZa1G3m-L0"
      }
    },
    {
      "cell_type": "code",
      "source": [
        "features[features['feature_category_id'] == 4].describe()"
      ],
      "metadata": {
        "id": "Z5rbjaUHlaiN",
        "colab": {
          "base_uri": "https://localhost:8080/",
          "height": 300
        },
        "outputId": "9b956c99-6920-423b-e29b-53726fe5c49e"
      },
      "execution_count": 47,
      "outputs": [
        {
          "output_type": "execute_result",
          "data": {
            "text/plain": [
              "            item_id  feature_category_id  feature_value_id\n",
              "count  14954.000000              14954.0      14954.000000\n",
              "mean   14032.217801                  4.0        608.258058\n",
              "std     8133.800410                  0.0         85.961140\n",
              "min        3.000000                  4.0        214.000000\n",
              "25%     6983.250000                  4.0        618.000000\n",
              "50%    13978.000000                  4.0        618.000000\n",
              "75%    21112.750000                  4.0        618.000000\n",
              "max    28141.000000                  4.0        865.000000"
            ],
            "text/html": [
              "\n",
              "  <div id=\"df-40e3b2bd-2353-47e0-a3bf-c37785c4f1e5\">\n",
              "    <div class=\"colab-df-container\">\n",
              "      <div>\n",
              "<style scoped>\n",
              "    .dataframe tbody tr th:only-of-type {\n",
              "        vertical-align: middle;\n",
              "    }\n",
              "\n",
              "    .dataframe tbody tr th {\n",
              "        vertical-align: top;\n",
              "    }\n",
              "\n",
              "    .dataframe thead th {\n",
              "        text-align: right;\n",
              "    }\n",
              "</style>\n",
              "<table border=\"1\" class=\"dataframe\">\n",
              "  <thead>\n",
              "    <tr style=\"text-align: right;\">\n",
              "      <th></th>\n",
              "      <th>item_id</th>\n",
              "      <th>feature_category_id</th>\n",
              "      <th>feature_value_id</th>\n",
              "    </tr>\n",
              "  </thead>\n",
              "  <tbody>\n",
              "    <tr>\n",
              "      <th>count</th>\n",
              "      <td>14954.000000</td>\n",
              "      <td>14954.0</td>\n",
              "      <td>14954.000000</td>\n",
              "    </tr>\n",
              "    <tr>\n",
              "      <th>mean</th>\n",
              "      <td>14032.217801</td>\n",
              "      <td>4.0</td>\n",
              "      <td>608.258058</td>\n",
              "    </tr>\n",
              "    <tr>\n",
              "      <th>std</th>\n",
              "      <td>8133.800410</td>\n",
              "      <td>0.0</td>\n",
              "      <td>85.961140</td>\n",
              "    </tr>\n",
              "    <tr>\n",
              "      <th>min</th>\n",
              "      <td>3.000000</td>\n",
              "      <td>4.0</td>\n",
              "      <td>214.000000</td>\n",
              "    </tr>\n",
              "    <tr>\n",
              "      <th>25%</th>\n",
              "      <td>6983.250000</td>\n",
              "      <td>4.0</td>\n",
              "      <td>618.000000</td>\n",
              "    </tr>\n",
              "    <tr>\n",
              "      <th>50%</th>\n",
              "      <td>13978.000000</td>\n",
              "      <td>4.0</td>\n",
              "      <td>618.000000</td>\n",
              "    </tr>\n",
              "    <tr>\n",
              "      <th>75%</th>\n",
              "      <td>21112.750000</td>\n",
              "      <td>4.0</td>\n",
              "      <td>618.000000</td>\n",
              "    </tr>\n",
              "    <tr>\n",
              "      <th>max</th>\n",
              "      <td>28141.000000</td>\n",
              "      <td>4.0</td>\n",
              "      <td>865.000000</td>\n",
              "    </tr>\n",
              "  </tbody>\n",
              "</table>\n",
              "</div>\n",
              "      <button class=\"colab-df-convert\" onclick=\"convertToInteractive('df-40e3b2bd-2353-47e0-a3bf-c37785c4f1e5')\"\n",
              "              title=\"Convert this dataframe to an interactive table.\"\n",
              "              style=\"display:none;\">\n",
              "        \n",
              "  <svg xmlns=\"http://www.w3.org/2000/svg\" height=\"24px\"viewBox=\"0 0 24 24\"\n",
              "       width=\"24px\">\n",
              "    <path d=\"M0 0h24v24H0V0z\" fill=\"none\"/>\n",
              "    <path d=\"M18.56 5.44l.94 2.06.94-2.06 2.06-.94-2.06-.94-.94-2.06-.94 2.06-2.06.94zm-11 1L8.5 8.5l.94-2.06 2.06-.94-2.06-.94L8.5 2.5l-.94 2.06-2.06.94zm10 10l.94 2.06.94-2.06 2.06-.94-2.06-.94-.94-2.06-.94 2.06-2.06.94z\"/><path d=\"M17.41 7.96l-1.37-1.37c-.4-.4-.92-.59-1.43-.59-.52 0-1.04.2-1.43.59L10.3 9.45l-7.72 7.72c-.78.78-.78 2.05 0 2.83L4 21.41c.39.39.9.59 1.41.59.51 0 1.02-.2 1.41-.59l7.78-7.78 2.81-2.81c.8-.78.8-2.07 0-2.86zM5.41 20L4 18.59l7.72-7.72 1.47 1.35L5.41 20z\"/>\n",
              "  </svg>\n",
              "      </button>\n",
              "      \n",
              "  <style>\n",
              "    .colab-df-container {\n",
              "      display:flex;\n",
              "      flex-wrap:wrap;\n",
              "      gap: 12px;\n",
              "    }\n",
              "\n",
              "    .colab-df-convert {\n",
              "      background-color: #E8F0FE;\n",
              "      border: none;\n",
              "      border-radius: 50%;\n",
              "      cursor: pointer;\n",
              "      display: none;\n",
              "      fill: #1967D2;\n",
              "      height: 32px;\n",
              "      padding: 0 0 0 0;\n",
              "      width: 32px;\n",
              "    }\n",
              "\n",
              "    .colab-df-convert:hover {\n",
              "      background-color: #E2EBFA;\n",
              "      box-shadow: 0px 1px 2px rgba(60, 64, 67, 0.3), 0px 1px 3px 1px rgba(60, 64, 67, 0.15);\n",
              "      fill: #174EA6;\n",
              "    }\n",
              "\n",
              "    [theme=dark] .colab-df-convert {\n",
              "      background-color: #3B4455;\n",
              "      fill: #D2E3FC;\n",
              "    }\n",
              "\n",
              "    [theme=dark] .colab-df-convert:hover {\n",
              "      background-color: #434B5C;\n",
              "      box-shadow: 0px 1px 3px 1px rgba(0, 0, 0, 0.15);\n",
              "      filter: drop-shadow(0px 1px 2px rgba(0, 0, 0, 0.3));\n",
              "      fill: #FFFFFF;\n",
              "    }\n",
              "  </style>\n",
              "\n",
              "      <script>\n",
              "        const buttonEl =\n",
              "          document.querySelector('#df-40e3b2bd-2353-47e0-a3bf-c37785c4f1e5 button.colab-df-convert');\n",
              "        buttonEl.style.display =\n",
              "          google.colab.kernel.accessAllowed ? 'block' : 'none';\n",
              "\n",
              "        async function convertToInteractive(key) {\n",
              "          const element = document.querySelector('#df-40e3b2bd-2353-47e0-a3bf-c37785c4f1e5');\n",
              "          const dataTable =\n",
              "            await google.colab.kernel.invokeFunction('convertToInteractive',\n",
              "                                                     [key], {});\n",
              "          if (!dataTable) return;\n",
              "\n",
              "          const docLinkHtml = 'Like what you see? Visit the ' +\n",
              "            '<a target=\"_blank\" href=https://colab.research.google.com/notebooks/data_table.ipynb>data table notebook</a>'\n",
              "            + ' to learn more about interactive tables.';\n",
              "          element.innerHTML = '';\n",
              "          dataTable['output_type'] = 'display_data';\n",
              "          await google.colab.output.renderOutput(dataTable, element);\n",
              "          const docLink = document.createElement('div');\n",
              "          docLink.innerHTML = docLinkHtml;\n",
              "          element.appendChild(docLink);\n",
              "        }\n",
              "      </script>\n",
              "    </div>\n",
              "  </div>\n",
              "  "
            ]
          },
          "metadata": {},
          "execution_count": 47
        }
      ]
    },
    {
      "cell_type": "code",
      "source": [
        "#q = features\n",
        "#q.iloc[0,2] = hex(9|10<<4)\n",
        "#q"
      ],
      "metadata": {
        "id": "zhZiycSgpblQ"
      },
      "execution_count": 48,
      "outputs": []
    },
    {
      "cell_type": "code",
      "source": [
        "a[a['feature_category_id']== 30].duplicated()"
      ],
      "metadata": {
        "id": "fpT5834QphT1",
        "colab": {
          "base_uri": "https://localhost:8080/"
        },
        "outputId": "7286255d-5b80-4099-9ae9-14e1c5dc4389"
      },
      "execution_count": 49,
      "outputs": [
        {
          "output_type": "execute_result",
          "data": {
            "text/plain": [
              "129       False\n",
              "134        True\n",
              "153       False\n",
              "154        True\n",
              "156        True\n",
              "          ...  \n",
              "471557     True\n",
              "471561     True\n",
              "471590    False\n",
              "471593     True\n",
              "471597     True\n",
              "Length: 15412, dtype: bool"
            ]
          },
          "metadata": {},
          "execution_count": 49
        }
      ]
    },
    {
      "cell_type": "code",
      "source": [
        "b = a[a['feature_category_id']== 30]\n",
        "b['feature_category_id'] = 0\n",
        "b.loc[a[a['feature_category_id']== 30].duplicated(), 'feature_category_id'] = 1\n",
        "b"
      ],
      "metadata": {
        "id": "uqN9tibIYPTI",
        "colab": {
          "base_uri": "https://localhost:8080/",
          "height": 710
        },
        "outputId": "0eaf43be-88bb-4ed6-c00b-ee4ee14915bc"
      },
      "execution_count": 50,
      "outputs": [
        {
          "output_type": "stream",
          "name": "stderr",
          "text": [
            "/usr/local/lib/python3.7/dist-packages/ipykernel_launcher.py:2: SettingWithCopyWarning: \n",
            "A value is trying to be set on a copy of a slice from a DataFrame.\n",
            "Try using .loc[row_indexer,col_indexer] = value instead\n",
            "\n",
            "See the caveats in the documentation: https://pandas.pydata.org/pandas-docs/stable/user_guide/indexing.html#returning-a-view-versus-a-copy\n",
            "  \n",
            "/usr/local/lib/python3.7/dist-packages/pandas/core/indexing.py:1732: SettingWithCopyWarning: \n",
            "A value is trying to be set on a copy of a slice from a DataFrame\n",
            "\n",
            "See the caveats in the documentation: https://pandas.pydata.org/pandas-docs/stable/user_guide/indexing.html#returning-a-view-versus-a-copy\n",
            "  self._setitem_single_block(indexer, value, name)\n",
            "/usr/local/lib/python3.7/dist-packages/pandas/core/indexing.py:723: SettingWithCopyWarning: \n",
            "A value is trying to be set on a copy of a slice from a DataFrame\n",
            "\n",
            "See the caveats in the documentation: https://pandas.pydata.org/pandas-docs/stable/user_guide/indexing.html#returning-a-view-versus-a-copy\n",
            "  iloc._setitem_with_indexer(indexer, value, self.name)\n"
          ]
        },
        {
          "output_type": "execute_result",
          "data": {
            "text/plain": [
              "        item_id  feature_category_id\n",
              "129          10                    0\n",
              "134          10                    1\n",
              "153          11                    0\n",
              "154          11                    1\n",
              "156          11                    1\n",
              "...         ...                  ...\n",
              "471557    28133                    1\n",
              "471561    28133                    1\n",
              "471590    28135                    0\n",
              "471593    28135                    1\n",
              "471597    28135                    1\n",
              "\n",
              "[15412 rows x 2 columns]"
            ],
            "text/html": [
              "\n",
              "  <div id=\"df-24404518-a9f4-4605-9cf9-f8ddba61511b\">\n",
              "    <div class=\"colab-df-container\">\n",
              "      <div>\n",
              "<style scoped>\n",
              "    .dataframe tbody tr th:only-of-type {\n",
              "        vertical-align: middle;\n",
              "    }\n",
              "\n",
              "    .dataframe tbody tr th {\n",
              "        vertical-align: top;\n",
              "    }\n",
              "\n",
              "    .dataframe thead th {\n",
              "        text-align: right;\n",
              "    }\n",
              "</style>\n",
              "<table border=\"1\" class=\"dataframe\">\n",
              "  <thead>\n",
              "    <tr style=\"text-align: right;\">\n",
              "      <th></th>\n",
              "      <th>item_id</th>\n",
              "      <th>feature_category_id</th>\n",
              "    </tr>\n",
              "  </thead>\n",
              "  <tbody>\n",
              "    <tr>\n",
              "      <th>129</th>\n",
              "      <td>10</td>\n",
              "      <td>0</td>\n",
              "    </tr>\n",
              "    <tr>\n",
              "      <th>134</th>\n",
              "      <td>10</td>\n",
              "      <td>1</td>\n",
              "    </tr>\n",
              "    <tr>\n",
              "      <th>153</th>\n",
              "      <td>11</td>\n",
              "      <td>0</td>\n",
              "    </tr>\n",
              "    <tr>\n",
              "      <th>154</th>\n",
              "      <td>11</td>\n",
              "      <td>1</td>\n",
              "    </tr>\n",
              "    <tr>\n",
              "      <th>156</th>\n",
              "      <td>11</td>\n",
              "      <td>1</td>\n",
              "    </tr>\n",
              "    <tr>\n",
              "      <th>...</th>\n",
              "      <td>...</td>\n",
              "      <td>...</td>\n",
              "    </tr>\n",
              "    <tr>\n",
              "      <th>471557</th>\n",
              "      <td>28133</td>\n",
              "      <td>1</td>\n",
              "    </tr>\n",
              "    <tr>\n",
              "      <th>471561</th>\n",
              "      <td>28133</td>\n",
              "      <td>1</td>\n",
              "    </tr>\n",
              "    <tr>\n",
              "      <th>471590</th>\n",
              "      <td>28135</td>\n",
              "      <td>0</td>\n",
              "    </tr>\n",
              "    <tr>\n",
              "      <th>471593</th>\n",
              "      <td>28135</td>\n",
              "      <td>1</td>\n",
              "    </tr>\n",
              "    <tr>\n",
              "      <th>471597</th>\n",
              "      <td>28135</td>\n",
              "      <td>1</td>\n",
              "    </tr>\n",
              "  </tbody>\n",
              "</table>\n",
              "<p>15412 rows × 2 columns</p>\n",
              "</div>\n",
              "      <button class=\"colab-df-convert\" onclick=\"convertToInteractive('df-24404518-a9f4-4605-9cf9-f8ddba61511b')\"\n",
              "              title=\"Convert this dataframe to an interactive table.\"\n",
              "              style=\"display:none;\">\n",
              "        \n",
              "  <svg xmlns=\"http://www.w3.org/2000/svg\" height=\"24px\"viewBox=\"0 0 24 24\"\n",
              "       width=\"24px\">\n",
              "    <path d=\"M0 0h24v24H0V0z\" fill=\"none\"/>\n",
              "    <path d=\"M18.56 5.44l.94 2.06.94-2.06 2.06-.94-2.06-.94-.94-2.06-.94 2.06-2.06.94zm-11 1L8.5 8.5l.94-2.06 2.06-.94-2.06-.94L8.5 2.5l-.94 2.06-2.06.94zm10 10l.94 2.06.94-2.06 2.06-.94-2.06-.94-.94-2.06-.94 2.06-2.06.94z\"/><path d=\"M17.41 7.96l-1.37-1.37c-.4-.4-.92-.59-1.43-.59-.52 0-1.04.2-1.43.59L10.3 9.45l-7.72 7.72c-.78.78-.78 2.05 0 2.83L4 21.41c.39.39.9.59 1.41.59.51 0 1.02-.2 1.41-.59l7.78-7.78 2.81-2.81c.8-.78.8-2.07 0-2.86zM5.41 20L4 18.59l7.72-7.72 1.47 1.35L5.41 20z\"/>\n",
              "  </svg>\n",
              "      </button>\n",
              "      \n",
              "  <style>\n",
              "    .colab-df-container {\n",
              "      display:flex;\n",
              "      flex-wrap:wrap;\n",
              "      gap: 12px;\n",
              "    }\n",
              "\n",
              "    .colab-df-convert {\n",
              "      background-color: #E8F0FE;\n",
              "      border: none;\n",
              "      border-radius: 50%;\n",
              "      cursor: pointer;\n",
              "      display: none;\n",
              "      fill: #1967D2;\n",
              "      height: 32px;\n",
              "      padding: 0 0 0 0;\n",
              "      width: 32px;\n",
              "    }\n",
              "\n",
              "    .colab-df-convert:hover {\n",
              "      background-color: #E2EBFA;\n",
              "      box-shadow: 0px 1px 2px rgba(60, 64, 67, 0.3), 0px 1px 3px 1px rgba(60, 64, 67, 0.15);\n",
              "      fill: #174EA6;\n",
              "    }\n",
              "\n",
              "    [theme=dark] .colab-df-convert {\n",
              "      background-color: #3B4455;\n",
              "      fill: #D2E3FC;\n",
              "    }\n",
              "\n",
              "    [theme=dark] .colab-df-convert:hover {\n",
              "      background-color: #434B5C;\n",
              "      box-shadow: 0px 1px 3px 1px rgba(0, 0, 0, 0.15);\n",
              "      filter: drop-shadow(0px 1px 2px rgba(0, 0, 0, 0.3));\n",
              "      fill: #FFFFFF;\n",
              "    }\n",
              "  </style>\n",
              "\n",
              "      <script>\n",
              "        const buttonEl =\n",
              "          document.querySelector('#df-24404518-a9f4-4605-9cf9-f8ddba61511b button.colab-df-convert');\n",
              "        buttonEl.style.display =\n",
              "          google.colab.kernel.accessAllowed ? 'block' : 'none';\n",
              "\n",
              "        async function convertToInteractive(key) {\n",
              "          const element = document.querySelector('#df-24404518-a9f4-4605-9cf9-f8ddba61511b');\n",
              "          const dataTable =\n",
              "            await google.colab.kernel.invokeFunction('convertToInteractive',\n",
              "                                                     [key], {});\n",
              "          if (!dataTable) return;\n",
              "\n",
              "          const docLinkHtml = 'Like what you see? Visit the ' +\n",
              "            '<a target=\"_blank\" href=https://colab.research.google.com/notebooks/data_table.ipynb>data table notebook</a>'\n",
              "            + ' to learn more about interactive tables.';\n",
              "          element.innerHTML = '';\n",
              "          dataTable['output_type'] = 'display_data';\n",
              "          await google.colab.output.renderOutput(dataTable, element);\n",
              "          const docLink = document.createElement('div');\n",
              "          docLink.innerHTML = docLinkHtml;\n",
              "          element.appendChild(docLink);\n",
              "        }\n",
              "      </script>\n",
              "    </div>\n",
              "  </div>\n",
              "  "
            ]
          },
          "metadata": {},
          "execution_count": 50
        }
      ]
    },
    {
      "cell_type": "code",
      "source": [
        "a[a['feature_category_id']== 30].duplicated()"
      ],
      "metadata": {
        "id": "bTGKMWtqbLNe",
        "colab": {
          "base_uri": "https://localhost:8080/"
        },
        "outputId": "96a380a7-6167-42ed-aba7-20737d8073c2"
      },
      "execution_count": 51,
      "outputs": [
        {
          "output_type": "execute_result",
          "data": {
            "text/plain": [
              "129       False\n",
              "134        True\n",
              "153       False\n",
              "154        True\n",
              "156        True\n",
              "          ...  \n",
              "471557     True\n",
              "471561     True\n",
              "471590    False\n",
              "471593     True\n",
              "471597     True\n",
              "Length: 15412, dtype: bool"
            ]
          },
          "metadata": {},
          "execution_count": 51
        }
      ]
    },
    {
      "cell_type": "code",
      "source": [
        "features[features['feature_category_id'] == 30]['item_id']"
      ],
      "metadata": {
        "id": "qoJRDNQGcXoF",
        "colab": {
          "base_uri": "https://localhost:8080/"
        },
        "outputId": "f35ce1dd-feb4-456b-ef47-cb4541347dab"
      },
      "execution_count": 52,
      "outputs": [
        {
          "output_type": "execute_result",
          "data": {
            "text/plain": [
              "129          10\n",
              "134          10\n",
              "153          11\n",
              "154          11\n",
              "156          11\n",
              "          ...  \n",
              "471557    28133\n",
              "471561    28133\n",
              "471590    28135\n",
              "471593    28135\n",
              "471597    28135\n",
              "Name: item_id, Length: 15412, dtype: int64"
            ]
          },
          "metadata": {},
          "execution_count": 52
        }
      ]
    },
    {
      "cell_type": "code",
      "source": [
        "features[features['feature_category_id'] == 46]['item_id'].duplicated()[features[features['feature_category_id'] == 46]['item_id'].duplicated()].index"
      ],
      "metadata": {
        "id": "ZRmKg2lzc5QP",
        "colab": {
          "base_uri": "https://localhost:8080/"
        },
        "outputId": "8d4226eb-079c-46d3-a333-e8e7e6e86418"
      },
      "execution_count": 53,
      "outputs": [
        {
          "output_type": "execute_result",
          "data": {
            "text/plain": [
              "Int64Index([5512, 99900, 273506, 456442], dtype='int64')"
            ]
          },
          "metadata": {},
          "execution_count": 53
        }
      ]
    },
    {
      "cell_type": "code",
      "source": [
        "features[features.index == 99900]"
      ],
      "metadata": {
        "id": "87rlaK6CdeRt",
        "colab": {
          "base_uri": "https://localhost:8080/",
          "height": 81
        },
        "outputId": "205391b4-1122-457e-a489-56d2a824d9f5"
      },
      "execution_count": 54,
      "outputs": [
        {
          "output_type": "execute_result",
          "data": {
            "text/plain": [
              "       item_id  feature_category_id  feature_value_id\n",
              "99900     5969                   46               882"
            ],
            "text/html": [
              "\n",
              "  <div id=\"df-7304066f-343e-48a9-844f-1c3495928797\">\n",
              "    <div class=\"colab-df-container\">\n",
              "      <div>\n",
              "<style scoped>\n",
              "    .dataframe tbody tr th:only-of-type {\n",
              "        vertical-align: middle;\n",
              "    }\n",
              "\n",
              "    .dataframe tbody tr th {\n",
              "        vertical-align: top;\n",
              "    }\n",
              "\n",
              "    .dataframe thead th {\n",
              "        text-align: right;\n",
              "    }\n",
              "</style>\n",
              "<table border=\"1\" class=\"dataframe\">\n",
              "  <thead>\n",
              "    <tr style=\"text-align: right;\">\n",
              "      <th></th>\n",
              "      <th>item_id</th>\n",
              "      <th>feature_category_id</th>\n",
              "      <th>feature_value_id</th>\n",
              "    </tr>\n",
              "  </thead>\n",
              "  <tbody>\n",
              "    <tr>\n",
              "      <th>99900</th>\n",
              "      <td>5969</td>\n",
              "      <td>46</td>\n",
              "      <td>882</td>\n",
              "    </tr>\n",
              "  </tbody>\n",
              "</table>\n",
              "</div>\n",
              "      <button class=\"colab-df-convert\" onclick=\"convertToInteractive('df-7304066f-343e-48a9-844f-1c3495928797')\"\n",
              "              title=\"Convert this dataframe to an interactive table.\"\n",
              "              style=\"display:none;\">\n",
              "        \n",
              "  <svg xmlns=\"http://www.w3.org/2000/svg\" height=\"24px\"viewBox=\"0 0 24 24\"\n",
              "       width=\"24px\">\n",
              "    <path d=\"M0 0h24v24H0V0z\" fill=\"none\"/>\n",
              "    <path d=\"M18.56 5.44l.94 2.06.94-2.06 2.06-.94-2.06-.94-.94-2.06-.94 2.06-2.06.94zm-11 1L8.5 8.5l.94-2.06 2.06-.94-2.06-.94L8.5 2.5l-.94 2.06-2.06.94zm10 10l.94 2.06.94-2.06 2.06-.94-2.06-.94-.94-2.06-.94 2.06-2.06.94z\"/><path d=\"M17.41 7.96l-1.37-1.37c-.4-.4-.92-.59-1.43-.59-.52 0-1.04.2-1.43.59L10.3 9.45l-7.72 7.72c-.78.78-.78 2.05 0 2.83L4 21.41c.39.39.9.59 1.41.59.51 0 1.02-.2 1.41-.59l7.78-7.78 2.81-2.81c.8-.78.8-2.07 0-2.86zM5.41 20L4 18.59l7.72-7.72 1.47 1.35L5.41 20z\"/>\n",
              "  </svg>\n",
              "      </button>\n",
              "      \n",
              "  <style>\n",
              "    .colab-df-container {\n",
              "      display:flex;\n",
              "      flex-wrap:wrap;\n",
              "      gap: 12px;\n",
              "    }\n",
              "\n",
              "    .colab-df-convert {\n",
              "      background-color: #E8F0FE;\n",
              "      border: none;\n",
              "      border-radius: 50%;\n",
              "      cursor: pointer;\n",
              "      display: none;\n",
              "      fill: #1967D2;\n",
              "      height: 32px;\n",
              "      padding: 0 0 0 0;\n",
              "      width: 32px;\n",
              "    }\n",
              "\n",
              "    .colab-df-convert:hover {\n",
              "      background-color: #E2EBFA;\n",
              "      box-shadow: 0px 1px 2px rgba(60, 64, 67, 0.3), 0px 1px 3px 1px rgba(60, 64, 67, 0.15);\n",
              "      fill: #174EA6;\n",
              "    }\n",
              "\n",
              "    [theme=dark] .colab-df-convert {\n",
              "      background-color: #3B4455;\n",
              "      fill: #D2E3FC;\n",
              "    }\n",
              "\n",
              "    [theme=dark] .colab-df-convert:hover {\n",
              "      background-color: #434B5C;\n",
              "      box-shadow: 0px 1px 3px 1px rgba(0, 0, 0, 0.15);\n",
              "      filter: drop-shadow(0px 1px 2px rgba(0, 0, 0, 0.3));\n",
              "      fill: #FFFFFF;\n",
              "    }\n",
              "  </style>\n",
              "\n",
              "      <script>\n",
              "        const buttonEl =\n",
              "          document.querySelector('#df-7304066f-343e-48a9-844f-1c3495928797 button.colab-df-convert');\n",
              "        buttonEl.style.display =\n",
              "          google.colab.kernel.accessAllowed ? 'block' : 'none';\n",
              "\n",
              "        async function convertToInteractive(key) {\n",
              "          const element = document.querySelector('#df-7304066f-343e-48a9-844f-1c3495928797');\n",
              "          const dataTable =\n",
              "            await google.colab.kernel.invokeFunction('convertToInteractive',\n",
              "                                                     [key], {});\n",
              "          if (!dataTable) return;\n",
              "\n",
              "          const docLinkHtml = 'Like what you see? Visit the ' +\n",
              "            '<a target=\"_blank\" href=https://colab.research.google.com/notebooks/data_table.ipynb>data table notebook</a>'\n",
              "            + ' to learn more about interactive tables.';\n",
              "          element.innerHTML = '';\n",
              "          dataTable['output_type'] = 'display_data';\n",
              "          await google.colab.output.renderOutput(dataTable, element);\n",
              "          const docLink = document.createElement('div');\n",
              "          docLink.innerHTML = docLinkHtml;\n",
              "          element.appendChild(docLink);\n",
              "        }\n",
              "      </script>\n",
              "    </div>\n",
              "  </div>\n",
              "  "
            ]
          },
          "metadata": {},
          "execution_count": 54
        }
      ]
    },
    {
      "cell_type": "code",
      "source": [
        "features[features['item_id']== 5969]"
      ],
      "metadata": {
        "id": "7mYnEmfndz6E",
        "colab": {
          "base_uri": "https://localhost:8080/",
          "height": 583
        },
        "outputId": "442dbaba-4403-41b0-f3cc-03dd54afed1c"
      },
      "execution_count": 55,
      "outputs": [
        {
          "output_type": "execute_result",
          "data": {
            "text/plain": [
              "       item_id  feature_category_id  feature_value_id\n",
              "99896     5969                   56               153\n",
              "99897     5969                   47                36\n",
              "99898     5969                   46                71\n",
              "99899     5969                   50               901\n",
              "99900     5969                   46               882\n",
              "99901     5969                   61               898\n",
              "99902     5969                    7               452\n",
              "99903     5969                   72                 7\n",
              "99904     5969                   34               275\n",
              "99905     5969                   32               101\n",
              "99906     5969                   69               592\n",
              "99907     5969                   68               216\n",
              "99908     5969                   41               210\n",
              "99909     5969                   26               553\n",
              "99910     5969                   19               112\n",
              "99911     5969                   15               584\n",
              "99912     5969                   44               870"
            ],
            "text/html": [
              "\n",
              "  <div id=\"df-6bc96be6-a80a-4b06-a253-a4abebd24053\">\n",
              "    <div class=\"colab-df-container\">\n",
              "      <div>\n",
              "<style scoped>\n",
              "    .dataframe tbody tr th:only-of-type {\n",
              "        vertical-align: middle;\n",
              "    }\n",
              "\n",
              "    .dataframe tbody tr th {\n",
              "        vertical-align: top;\n",
              "    }\n",
              "\n",
              "    .dataframe thead th {\n",
              "        text-align: right;\n",
              "    }\n",
              "</style>\n",
              "<table border=\"1\" class=\"dataframe\">\n",
              "  <thead>\n",
              "    <tr style=\"text-align: right;\">\n",
              "      <th></th>\n",
              "      <th>item_id</th>\n",
              "      <th>feature_category_id</th>\n",
              "      <th>feature_value_id</th>\n",
              "    </tr>\n",
              "  </thead>\n",
              "  <tbody>\n",
              "    <tr>\n",
              "      <th>99896</th>\n",
              "      <td>5969</td>\n",
              "      <td>56</td>\n",
              "      <td>153</td>\n",
              "    </tr>\n",
              "    <tr>\n",
              "      <th>99897</th>\n",
              "      <td>5969</td>\n",
              "      <td>47</td>\n",
              "      <td>36</td>\n",
              "    </tr>\n",
              "    <tr>\n",
              "      <th>99898</th>\n",
              "      <td>5969</td>\n",
              "      <td>46</td>\n",
              "      <td>71</td>\n",
              "    </tr>\n",
              "    <tr>\n",
              "      <th>99899</th>\n",
              "      <td>5969</td>\n",
              "      <td>50</td>\n",
              "      <td>901</td>\n",
              "    </tr>\n",
              "    <tr>\n",
              "      <th>99900</th>\n",
              "      <td>5969</td>\n",
              "      <td>46</td>\n",
              "      <td>882</td>\n",
              "    </tr>\n",
              "    <tr>\n",
              "      <th>99901</th>\n",
              "      <td>5969</td>\n",
              "      <td>61</td>\n",
              "      <td>898</td>\n",
              "    </tr>\n",
              "    <tr>\n",
              "      <th>99902</th>\n",
              "      <td>5969</td>\n",
              "      <td>7</td>\n",
              "      <td>452</td>\n",
              "    </tr>\n",
              "    <tr>\n",
              "      <th>99903</th>\n",
              "      <td>5969</td>\n",
              "      <td>72</td>\n",
              "      <td>7</td>\n",
              "    </tr>\n",
              "    <tr>\n",
              "      <th>99904</th>\n",
              "      <td>5969</td>\n",
              "      <td>34</td>\n",
              "      <td>275</td>\n",
              "    </tr>\n",
              "    <tr>\n",
              "      <th>99905</th>\n",
              "      <td>5969</td>\n",
              "      <td>32</td>\n",
              "      <td>101</td>\n",
              "    </tr>\n",
              "    <tr>\n",
              "      <th>99906</th>\n",
              "      <td>5969</td>\n",
              "      <td>69</td>\n",
              "      <td>592</td>\n",
              "    </tr>\n",
              "    <tr>\n",
              "      <th>99907</th>\n",
              "      <td>5969</td>\n",
              "      <td>68</td>\n",
              "      <td>216</td>\n",
              "    </tr>\n",
              "    <tr>\n",
              "      <th>99908</th>\n",
              "      <td>5969</td>\n",
              "      <td>41</td>\n",
              "      <td>210</td>\n",
              "    </tr>\n",
              "    <tr>\n",
              "      <th>99909</th>\n",
              "      <td>5969</td>\n",
              "      <td>26</td>\n",
              "      <td>553</td>\n",
              "    </tr>\n",
              "    <tr>\n",
              "      <th>99910</th>\n",
              "      <td>5969</td>\n",
              "      <td>19</td>\n",
              "      <td>112</td>\n",
              "    </tr>\n",
              "    <tr>\n",
              "      <th>99911</th>\n",
              "      <td>5969</td>\n",
              "      <td>15</td>\n",
              "      <td>584</td>\n",
              "    </tr>\n",
              "    <tr>\n",
              "      <th>99912</th>\n",
              "      <td>5969</td>\n",
              "      <td>44</td>\n",
              "      <td>870</td>\n",
              "    </tr>\n",
              "  </tbody>\n",
              "</table>\n",
              "</div>\n",
              "      <button class=\"colab-df-convert\" onclick=\"convertToInteractive('df-6bc96be6-a80a-4b06-a253-a4abebd24053')\"\n",
              "              title=\"Convert this dataframe to an interactive table.\"\n",
              "              style=\"display:none;\">\n",
              "        \n",
              "  <svg xmlns=\"http://www.w3.org/2000/svg\" height=\"24px\"viewBox=\"0 0 24 24\"\n",
              "       width=\"24px\">\n",
              "    <path d=\"M0 0h24v24H0V0z\" fill=\"none\"/>\n",
              "    <path d=\"M18.56 5.44l.94 2.06.94-2.06 2.06-.94-2.06-.94-.94-2.06-.94 2.06-2.06.94zm-11 1L8.5 8.5l.94-2.06 2.06-.94-2.06-.94L8.5 2.5l-.94 2.06-2.06.94zm10 10l.94 2.06.94-2.06 2.06-.94-2.06-.94-.94-2.06-.94 2.06-2.06.94z\"/><path d=\"M17.41 7.96l-1.37-1.37c-.4-.4-.92-.59-1.43-.59-.52 0-1.04.2-1.43.59L10.3 9.45l-7.72 7.72c-.78.78-.78 2.05 0 2.83L4 21.41c.39.39.9.59 1.41.59.51 0 1.02-.2 1.41-.59l7.78-7.78 2.81-2.81c.8-.78.8-2.07 0-2.86zM5.41 20L4 18.59l7.72-7.72 1.47 1.35L5.41 20z\"/>\n",
              "  </svg>\n",
              "      </button>\n",
              "      \n",
              "  <style>\n",
              "    .colab-df-container {\n",
              "      display:flex;\n",
              "      flex-wrap:wrap;\n",
              "      gap: 12px;\n",
              "    }\n",
              "\n",
              "    .colab-df-convert {\n",
              "      background-color: #E8F0FE;\n",
              "      border: none;\n",
              "      border-radius: 50%;\n",
              "      cursor: pointer;\n",
              "      display: none;\n",
              "      fill: #1967D2;\n",
              "      height: 32px;\n",
              "      padding: 0 0 0 0;\n",
              "      width: 32px;\n",
              "    }\n",
              "\n",
              "    .colab-df-convert:hover {\n",
              "      background-color: #E2EBFA;\n",
              "      box-shadow: 0px 1px 2px rgba(60, 64, 67, 0.3), 0px 1px 3px 1px rgba(60, 64, 67, 0.15);\n",
              "      fill: #174EA6;\n",
              "    }\n",
              "\n",
              "    [theme=dark] .colab-df-convert {\n",
              "      background-color: #3B4455;\n",
              "      fill: #D2E3FC;\n",
              "    }\n",
              "\n",
              "    [theme=dark] .colab-df-convert:hover {\n",
              "      background-color: #434B5C;\n",
              "      box-shadow: 0px 1px 3px 1px rgba(0, 0, 0, 0.15);\n",
              "      filter: drop-shadow(0px 1px 2px rgba(0, 0, 0, 0.3));\n",
              "      fill: #FFFFFF;\n",
              "    }\n",
              "  </style>\n",
              "\n",
              "      <script>\n",
              "        const buttonEl =\n",
              "          document.querySelector('#df-6bc96be6-a80a-4b06-a253-a4abebd24053 button.colab-df-convert');\n",
              "        buttonEl.style.display =\n",
              "          google.colab.kernel.accessAllowed ? 'block' : 'none';\n",
              "\n",
              "        async function convertToInteractive(key) {\n",
              "          const element = document.querySelector('#df-6bc96be6-a80a-4b06-a253-a4abebd24053');\n",
              "          const dataTable =\n",
              "            await google.colab.kernel.invokeFunction('convertToInteractive',\n",
              "                                                     [key], {});\n",
              "          if (!dataTable) return;\n",
              "\n",
              "          const docLinkHtml = 'Like what you see? Visit the ' +\n",
              "            '<a target=\"_blank\" href=https://colab.research.google.com/notebooks/data_table.ipynb>data table notebook</a>'\n",
              "            + ' to learn more about interactive tables.';\n",
              "          element.innerHTML = '';\n",
              "          dataTable['output_type'] = 'display_data';\n",
              "          await google.colab.output.renderOutput(dataTable, element);\n",
              "          const docLink = document.createElement('div');\n",
              "          docLink.innerHTML = docLinkHtml;\n",
              "          element.appendChild(docLink);\n",
              "        }\n",
              "      </script>\n",
              "    </div>\n",
              "  </div>\n",
              "  "
            ]
          },
          "metadata": {},
          "execution_count": 55
        }
      ]
    },
    {
      "cell_type": "code",
      "source": [
        "s = features[features['item_id']== 5969]['feature_category_id']==46\n",
        "s[s].index"
      ],
      "metadata": {
        "id": "pTXz2Rgwi-OB",
        "colab": {
          "base_uri": "https://localhost:8080/"
        },
        "outputId": "373daa85-d620-4654-9653-90766c737090"
      },
      "execution_count": 56,
      "outputs": [
        {
          "output_type": "execute_result",
          "data": {
            "text/plain": [
              "Int64Index([99898, 99900], dtype='int64')"
            ]
          },
          "metadata": {},
          "execution_count": 56
        }
      ]
    },
    {
      "cell_type": "code",
      "source": [
        "features[features.index == 99898]#['feature_value_id']"
      ],
      "metadata": {
        "id": "-knCaZg9lJYI",
        "colab": {
          "base_uri": "https://localhost:8080/",
          "height": 81
        },
        "outputId": "94c55312-9fdc-4579-a197-3f762f891163"
      },
      "execution_count": 57,
      "outputs": [
        {
          "output_type": "execute_result",
          "data": {
            "text/plain": [
              "       item_id  feature_category_id  feature_value_id\n",
              "99898     5969                   46                71"
            ],
            "text/html": [
              "\n",
              "  <div id=\"df-c7f8445b-fbc3-485f-add0-449f47322b9f\">\n",
              "    <div class=\"colab-df-container\">\n",
              "      <div>\n",
              "<style scoped>\n",
              "    .dataframe tbody tr th:only-of-type {\n",
              "        vertical-align: middle;\n",
              "    }\n",
              "\n",
              "    .dataframe tbody tr th {\n",
              "        vertical-align: top;\n",
              "    }\n",
              "\n",
              "    .dataframe thead th {\n",
              "        text-align: right;\n",
              "    }\n",
              "</style>\n",
              "<table border=\"1\" class=\"dataframe\">\n",
              "  <thead>\n",
              "    <tr style=\"text-align: right;\">\n",
              "      <th></th>\n",
              "      <th>item_id</th>\n",
              "      <th>feature_category_id</th>\n",
              "      <th>feature_value_id</th>\n",
              "    </tr>\n",
              "  </thead>\n",
              "  <tbody>\n",
              "    <tr>\n",
              "      <th>99898</th>\n",
              "      <td>5969</td>\n",
              "      <td>46</td>\n",
              "      <td>71</td>\n",
              "    </tr>\n",
              "  </tbody>\n",
              "</table>\n",
              "</div>\n",
              "      <button class=\"colab-df-convert\" onclick=\"convertToInteractive('df-c7f8445b-fbc3-485f-add0-449f47322b9f')\"\n",
              "              title=\"Convert this dataframe to an interactive table.\"\n",
              "              style=\"display:none;\">\n",
              "        \n",
              "  <svg xmlns=\"http://www.w3.org/2000/svg\" height=\"24px\"viewBox=\"0 0 24 24\"\n",
              "       width=\"24px\">\n",
              "    <path d=\"M0 0h24v24H0V0z\" fill=\"none\"/>\n",
              "    <path d=\"M18.56 5.44l.94 2.06.94-2.06 2.06-.94-2.06-.94-.94-2.06-.94 2.06-2.06.94zm-11 1L8.5 8.5l.94-2.06 2.06-.94-2.06-.94L8.5 2.5l-.94 2.06-2.06.94zm10 10l.94 2.06.94-2.06 2.06-.94-2.06-.94-.94-2.06-.94 2.06-2.06.94z\"/><path d=\"M17.41 7.96l-1.37-1.37c-.4-.4-.92-.59-1.43-.59-.52 0-1.04.2-1.43.59L10.3 9.45l-7.72 7.72c-.78.78-.78 2.05 0 2.83L4 21.41c.39.39.9.59 1.41.59.51 0 1.02-.2 1.41-.59l7.78-7.78 2.81-2.81c.8-.78.8-2.07 0-2.86zM5.41 20L4 18.59l7.72-7.72 1.47 1.35L5.41 20z\"/>\n",
              "  </svg>\n",
              "      </button>\n",
              "      \n",
              "  <style>\n",
              "    .colab-df-container {\n",
              "      display:flex;\n",
              "      flex-wrap:wrap;\n",
              "      gap: 12px;\n",
              "    }\n",
              "\n",
              "    .colab-df-convert {\n",
              "      background-color: #E8F0FE;\n",
              "      border: none;\n",
              "      border-radius: 50%;\n",
              "      cursor: pointer;\n",
              "      display: none;\n",
              "      fill: #1967D2;\n",
              "      height: 32px;\n",
              "      padding: 0 0 0 0;\n",
              "      width: 32px;\n",
              "    }\n",
              "\n",
              "    .colab-df-convert:hover {\n",
              "      background-color: #E2EBFA;\n",
              "      box-shadow: 0px 1px 2px rgba(60, 64, 67, 0.3), 0px 1px 3px 1px rgba(60, 64, 67, 0.15);\n",
              "      fill: #174EA6;\n",
              "    }\n",
              "\n",
              "    [theme=dark] .colab-df-convert {\n",
              "      background-color: #3B4455;\n",
              "      fill: #D2E3FC;\n",
              "    }\n",
              "\n",
              "    [theme=dark] .colab-df-convert:hover {\n",
              "      background-color: #434B5C;\n",
              "      box-shadow: 0px 1px 3px 1px rgba(0, 0, 0, 0.15);\n",
              "      filter: drop-shadow(0px 1px 2px rgba(0, 0, 0, 0.3));\n",
              "      fill: #FFFFFF;\n",
              "    }\n",
              "  </style>\n",
              "\n",
              "      <script>\n",
              "        const buttonEl =\n",
              "          document.querySelector('#df-c7f8445b-fbc3-485f-add0-449f47322b9f button.colab-df-convert');\n",
              "        buttonEl.style.display =\n",
              "          google.colab.kernel.accessAllowed ? 'block' : 'none';\n",
              "\n",
              "        async function convertToInteractive(key) {\n",
              "          const element = document.querySelector('#df-c7f8445b-fbc3-485f-add0-449f47322b9f');\n",
              "          const dataTable =\n",
              "            await google.colab.kernel.invokeFunction('convertToInteractive',\n",
              "                                                     [key], {});\n",
              "          if (!dataTable) return;\n",
              "\n",
              "          const docLinkHtml = 'Like what you see? Visit the ' +\n",
              "            '<a target=\"_blank\" href=https://colab.research.google.com/notebooks/data_table.ipynb>data table notebook</a>'\n",
              "            + ' to learn more about interactive tables.';\n",
              "          element.innerHTML = '';\n",
              "          dataTable['output_type'] = 'display_data';\n",
              "          await google.colab.output.renderOutput(dataTable, element);\n",
              "          const docLink = document.createElement('div');\n",
              "          docLink.innerHTML = docLinkHtml;\n",
              "          element.appendChild(docLink);\n",
              "        }\n",
              "      </script>\n",
              "    </div>\n",
              "  </div>\n",
              "  "
            ]
          },
          "metadata": {},
          "execution_count": 57
        }
      ]
    },
    {
      "cell_type": "code",
      "source": [
        "Stop"
      ],
      "metadata": {
        "id": "8I5Vx2iglBiC",
        "outputId": "5857a4dd-8aee-423f-e267-2411a5cd6222",
        "colab": {
          "base_uri": "https://localhost:8080/",
          "height": 169
        }
      },
      "execution_count": 58,
      "outputs": [
        {
          "output_type": "error",
          "ename": "NameError",
          "evalue": "ignored",
          "traceback": [
            "\u001b[0;31m---------------------------------------------------------------------------\u001b[0m",
            "\u001b[0;31mNameError\u001b[0m                                 Traceback (most recent call last)",
            "\u001b[0;32m<ipython-input-58-c10bb777ae2e>\u001b[0m in \u001b[0;36m<module>\u001b[0;34m()\u001b[0m\n\u001b[0;32m----> 1\u001b[0;31m \u001b[0mStop\u001b[0m\u001b[0;34m\u001b[0m\u001b[0;34m\u001b[0m\u001b[0m\n\u001b[0m",
            "\u001b[0;31mNameError\u001b[0m: name 'Stop' is not defined"
          ]
        }
      ]
    },
    {
      "cell_type": "markdown",
      "source": [
        "### Neuer Abschnitt"
      ],
      "metadata": {
        "id": "X8KDJQDFSUia"
      }
    },
    {
      "cell_type": "code",
      "source": [
        "import tensorflow as tf\n",
        "from tensorflow import keras\n",
        "from tensorflow.keras.layers.experimental.preprocessing import Normalization\n",
        "from tensorflow.keras import layers\n"
      ],
      "metadata": {
        "id": "lkIG90wYVrwh"
      },
      "execution_count": 59,
      "outputs": []
    },
    {
      "cell_type": "code",
      "source": [
        "# Let's say we expect our inputs to be RGB images of arbitrary size\n",
        "inputs = keras.Input(shape=(73 ))\n",
        "\n",
        "# Add a dense classifier on top\n",
        "encoded1  = layers.Dense( 10, activation=\"relu\")(inputs)\n",
        "#encoded2  = layers.Dense( 35, activation=\"relu\")(encoded1)\n",
        "#encoded3  = layers.Dense( 10, activation=\"relu\")(encoded2)\n"
      ],
      "metadata": {
        "id": "BVMqXyERYjvQ"
      },
      "execution_count": 115,
      "outputs": []
    },
    {
      "cell_type": "code",
      "source": [
        "autoencoder = keras.Model(inputs, encoded1 )\n"
      ],
      "metadata": {
        "id": "rITjUx0DaaYK"
      },
      "execution_count": 116,
      "outputs": []
    },
    {
      "cell_type": "code",
      "source": [
        "comprimized = autoencoder(feature_pivtable.to_numpy())"
      ],
      "metadata": {
        "id": "PLCLTbWebotH"
      },
      "execution_count": 117,
      "outputs": []
    },
    {
      "cell_type": "code",
      "source": [
        "comprimized = pd.DataFrame(comprimized.numpy())\n",
        "comprimized"
      ],
      "metadata": {
        "id": "-xHBniOXJh4_",
        "outputId": "b7ba98ba-5e8e-4c22-b94f-5d523f1a85b5",
        "colab": {
          "base_uri": "https://localhost:8080/",
          "height": 424
        }
      },
      "execution_count": 118,
      "outputs": [
        {
          "output_type": "execute_result",
          "data": {
            "text/plain": [
              "               0           1           2           3        4           5  \\\n",
              "0      68.076118    0.000000  156.141342  407.514038   0.0000  283.373932   \n",
              "1       0.000000    0.000000   72.781967    0.000000   0.0000  345.882507   \n",
              "2       0.000000    0.000000  216.039551  499.906860   0.0000  643.428162   \n",
              "3       0.000000    0.000000    0.000000  302.969269   0.0000  153.017502   \n",
              "4       0.000000    0.000000  371.111572    0.000000   0.0000  436.233124   \n",
              "...          ...         ...         ...         ...      ...         ...   \n",
              "23686   0.000000    0.000000    0.000000  370.470245   0.0000  840.691650   \n",
              "23687   0.000000  205.745911    0.000000    0.000000  17.7649  231.463409   \n",
              "23688   0.000000    0.000000    0.000000    0.000000   0.0000  326.190643   \n",
              "23689   0.000000   35.377987   18.466993    4.222428   0.0000  165.099854   \n",
              "23690   0.000000   23.707096  107.996094    0.000000   0.0000    0.000000   \n",
              "\n",
              "                6           7    8           9  \n",
              "0      567.841492    0.000000  0.0  220.301193  \n",
              "1      396.412109  302.101837  0.0    0.000000  \n",
              "2      197.688828   56.421490  0.0   85.670563  \n",
              "3      650.800110    0.000000  0.0  670.523315  \n",
              "4      397.051147  360.091583  0.0  188.657150  \n",
              "...           ...         ...  ...         ...  \n",
              "23686  330.698792    0.000000  0.0    0.000000  \n",
              "23687    0.000000    0.000000  0.0   99.945297  \n",
              "23688    0.000000  210.126968  0.0    0.000000  \n",
              "23689  673.255188    0.000000  0.0  576.135193  \n",
              "23690  561.396790   72.095009  0.0  606.933289  \n",
              "\n",
              "[23691 rows x 10 columns]"
            ],
            "text/html": [
              "\n",
              "  <div id=\"df-e95525b8-308e-4aec-896a-dd7de900f0f3\">\n",
              "    <div class=\"colab-df-container\">\n",
              "      <div>\n",
              "<style scoped>\n",
              "    .dataframe tbody tr th:only-of-type {\n",
              "        vertical-align: middle;\n",
              "    }\n",
              "\n",
              "    .dataframe tbody tr th {\n",
              "        vertical-align: top;\n",
              "    }\n",
              "\n",
              "    .dataframe thead th {\n",
              "        text-align: right;\n",
              "    }\n",
              "</style>\n",
              "<table border=\"1\" class=\"dataframe\">\n",
              "  <thead>\n",
              "    <tr style=\"text-align: right;\">\n",
              "      <th></th>\n",
              "      <th>0</th>\n",
              "      <th>1</th>\n",
              "      <th>2</th>\n",
              "      <th>3</th>\n",
              "      <th>4</th>\n",
              "      <th>5</th>\n",
              "      <th>6</th>\n",
              "      <th>7</th>\n",
              "      <th>8</th>\n",
              "      <th>9</th>\n",
              "    </tr>\n",
              "  </thead>\n",
              "  <tbody>\n",
              "    <tr>\n",
              "      <th>0</th>\n",
              "      <td>68.076118</td>\n",
              "      <td>0.000000</td>\n",
              "      <td>156.141342</td>\n",
              "      <td>407.514038</td>\n",
              "      <td>0.0000</td>\n",
              "      <td>283.373932</td>\n",
              "      <td>567.841492</td>\n",
              "      <td>0.000000</td>\n",
              "      <td>0.0</td>\n",
              "      <td>220.301193</td>\n",
              "    </tr>\n",
              "    <tr>\n",
              "      <th>1</th>\n",
              "      <td>0.000000</td>\n",
              "      <td>0.000000</td>\n",
              "      <td>72.781967</td>\n",
              "      <td>0.000000</td>\n",
              "      <td>0.0000</td>\n",
              "      <td>345.882507</td>\n",
              "      <td>396.412109</td>\n",
              "      <td>302.101837</td>\n",
              "      <td>0.0</td>\n",
              "      <td>0.000000</td>\n",
              "    </tr>\n",
              "    <tr>\n",
              "      <th>2</th>\n",
              "      <td>0.000000</td>\n",
              "      <td>0.000000</td>\n",
              "      <td>216.039551</td>\n",
              "      <td>499.906860</td>\n",
              "      <td>0.0000</td>\n",
              "      <td>643.428162</td>\n",
              "      <td>197.688828</td>\n",
              "      <td>56.421490</td>\n",
              "      <td>0.0</td>\n",
              "      <td>85.670563</td>\n",
              "    </tr>\n",
              "    <tr>\n",
              "      <th>3</th>\n",
              "      <td>0.000000</td>\n",
              "      <td>0.000000</td>\n",
              "      <td>0.000000</td>\n",
              "      <td>302.969269</td>\n",
              "      <td>0.0000</td>\n",
              "      <td>153.017502</td>\n",
              "      <td>650.800110</td>\n",
              "      <td>0.000000</td>\n",
              "      <td>0.0</td>\n",
              "      <td>670.523315</td>\n",
              "    </tr>\n",
              "    <tr>\n",
              "      <th>4</th>\n",
              "      <td>0.000000</td>\n",
              "      <td>0.000000</td>\n",
              "      <td>371.111572</td>\n",
              "      <td>0.000000</td>\n",
              "      <td>0.0000</td>\n",
              "      <td>436.233124</td>\n",
              "      <td>397.051147</td>\n",
              "      <td>360.091583</td>\n",
              "      <td>0.0</td>\n",
              "      <td>188.657150</td>\n",
              "    </tr>\n",
              "    <tr>\n",
              "      <th>...</th>\n",
              "      <td>...</td>\n",
              "      <td>...</td>\n",
              "      <td>...</td>\n",
              "      <td>...</td>\n",
              "      <td>...</td>\n",
              "      <td>...</td>\n",
              "      <td>...</td>\n",
              "      <td>...</td>\n",
              "      <td>...</td>\n",
              "      <td>...</td>\n",
              "    </tr>\n",
              "    <tr>\n",
              "      <th>23686</th>\n",
              "      <td>0.000000</td>\n",
              "      <td>0.000000</td>\n",
              "      <td>0.000000</td>\n",
              "      <td>370.470245</td>\n",
              "      <td>0.0000</td>\n",
              "      <td>840.691650</td>\n",
              "      <td>330.698792</td>\n",
              "      <td>0.000000</td>\n",
              "      <td>0.0</td>\n",
              "      <td>0.000000</td>\n",
              "    </tr>\n",
              "    <tr>\n",
              "      <th>23687</th>\n",
              "      <td>0.000000</td>\n",
              "      <td>205.745911</td>\n",
              "      <td>0.000000</td>\n",
              "      <td>0.000000</td>\n",
              "      <td>17.7649</td>\n",
              "      <td>231.463409</td>\n",
              "      <td>0.000000</td>\n",
              "      <td>0.000000</td>\n",
              "      <td>0.0</td>\n",
              "      <td>99.945297</td>\n",
              "    </tr>\n",
              "    <tr>\n",
              "      <th>23688</th>\n",
              "      <td>0.000000</td>\n",
              "      <td>0.000000</td>\n",
              "      <td>0.000000</td>\n",
              "      <td>0.000000</td>\n",
              "      <td>0.0000</td>\n",
              "      <td>326.190643</td>\n",
              "      <td>0.000000</td>\n",
              "      <td>210.126968</td>\n",
              "      <td>0.0</td>\n",
              "      <td>0.000000</td>\n",
              "    </tr>\n",
              "    <tr>\n",
              "      <th>23689</th>\n",
              "      <td>0.000000</td>\n",
              "      <td>35.377987</td>\n",
              "      <td>18.466993</td>\n",
              "      <td>4.222428</td>\n",
              "      <td>0.0000</td>\n",
              "      <td>165.099854</td>\n",
              "      <td>673.255188</td>\n",
              "      <td>0.000000</td>\n",
              "      <td>0.0</td>\n",
              "      <td>576.135193</td>\n",
              "    </tr>\n",
              "    <tr>\n",
              "      <th>23690</th>\n",
              "      <td>0.000000</td>\n",
              "      <td>23.707096</td>\n",
              "      <td>107.996094</td>\n",
              "      <td>0.000000</td>\n",
              "      <td>0.0000</td>\n",
              "      <td>0.000000</td>\n",
              "      <td>561.396790</td>\n",
              "      <td>72.095009</td>\n",
              "      <td>0.0</td>\n",
              "      <td>606.933289</td>\n",
              "    </tr>\n",
              "  </tbody>\n",
              "</table>\n",
              "<p>23691 rows × 10 columns</p>\n",
              "</div>\n",
              "      <button class=\"colab-df-convert\" onclick=\"convertToInteractive('df-e95525b8-308e-4aec-896a-dd7de900f0f3')\"\n",
              "              title=\"Convert this dataframe to an interactive table.\"\n",
              "              style=\"display:none;\">\n",
              "        \n",
              "  <svg xmlns=\"http://www.w3.org/2000/svg\" height=\"24px\"viewBox=\"0 0 24 24\"\n",
              "       width=\"24px\">\n",
              "    <path d=\"M0 0h24v24H0V0z\" fill=\"none\"/>\n",
              "    <path d=\"M18.56 5.44l.94 2.06.94-2.06 2.06-.94-2.06-.94-.94-2.06-.94 2.06-2.06.94zm-11 1L8.5 8.5l.94-2.06 2.06-.94-2.06-.94L8.5 2.5l-.94 2.06-2.06.94zm10 10l.94 2.06.94-2.06 2.06-.94-2.06-.94-.94-2.06-.94 2.06-2.06.94z\"/><path d=\"M17.41 7.96l-1.37-1.37c-.4-.4-.92-.59-1.43-.59-.52 0-1.04.2-1.43.59L10.3 9.45l-7.72 7.72c-.78.78-.78 2.05 0 2.83L4 21.41c.39.39.9.59 1.41.59.51 0 1.02-.2 1.41-.59l7.78-7.78 2.81-2.81c.8-.78.8-2.07 0-2.86zM5.41 20L4 18.59l7.72-7.72 1.47 1.35L5.41 20z\"/>\n",
              "  </svg>\n",
              "      </button>\n",
              "      \n",
              "  <style>\n",
              "    .colab-df-container {\n",
              "      display:flex;\n",
              "      flex-wrap:wrap;\n",
              "      gap: 12px;\n",
              "    }\n",
              "\n",
              "    .colab-df-convert {\n",
              "      background-color: #E8F0FE;\n",
              "      border: none;\n",
              "      border-radius: 50%;\n",
              "      cursor: pointer;\n",
              "      display: none;\n",
              "      fill: #1967D2;\n",
              "      height: 32px;\n",
              "      padding: 0 0 0 0;\n",
              "      width: 32px;\n",
              "    }\n",
              "\n",
              "    .colab-df-convert:hover {\n",
              "      background-color: #E2EBFA;\n",
              "      box-shadow: 0px 1px 2px rgba(60, 64, 67, 0.3), 0px 1px 3px 1px rgba(60, 64, 67, 0.15);\n",
              "      fill: #174EA6;\n",
              "    }\n",
              "\n",
              "    [theme=dark] .colab-df-convert {\n",
              "      background-color: #3B4455;\n",
              "      fill: #D2E3FC;\n",
              "    }\n",
              "\n",
              "    [theme=dark] .colab-df-convert:hover {\n",
              "      background-color: #434B5C;\n",
              "      box-shadow: 0px 1px 3px 1px rgba(0, 0, 0, 0.15);\n",
              "      filter: drop-shadow(0px 1px 2px rgba(0, 0, 0, 0.3));\n",
              "      fill: #FFFFFF;\n",
              "    }\n",
              "  </style>\n",
              "\n",
              "      <script>\n",
              "        const buttonEl =\n",
              "          document.querySelector('#df-e95525b8-308e-4aec-896a-dd7de900f0f3 button.colab-df-convert');\n",
              "        buttonEl.style.display =\n",
              "          google.colab.kernel.accessAllowed ? 'block' : 'none';\n",
              "\n",
              "        async function convertToInteractive(key) {\n",
              "          const element = document.querySelector('#df-e95525b8-308e-4aec-896a-dd7de900f0f3');\n",
              "          const dataTable =\n",
              "            await google.colab.kernel.invokeFunction('convertToInteractive',\n",
              "                                                     [key], {});\n",
              "          if (!dataTable) return;\n",
              "\n",
              "          const docLinkHtml = 'Like what you see? Visit the ' +\n",
              "            '<a target=\"_blank\" href=https://colab.research.google.com/notebooks/data_table.ipynb>data table notebook</a>'\n",
              "            + ' to learn more about interactive tables.';\n",
              "          element.innerHTML = '';\n",
              "          dataTable['output_type'] = 'display_data';\n",
              "          await google.colab.output.renderOutput(dataTable, element);\n",
              "          const docLink = document.createElement('div');\n",
              "          docLink.innerHTML = docLinkHtml;\n",
              "          element.appendChild(docLink);\n",
              "        }\n",
              "      </script>\n",
              "    </div>\n",
              "  </div>\n",
              "  "
            ]
          },
          "metadata": {},
          "execution_count": 118
        }
      ]
    },
    {
      "cell_type": "code",
      "source": [
        "comprimized['item_id'] = feature_pivtable.index\n",
        "comprimized = comprimized.set_index('item_id')"
      ],
      "metadata": {
        "id": "VAApvQo2LACD"
      },
      "execution_count": 119,
      "outputs": []
    },
    {
      "cell_type": "code",
      "source": [
        "comprimized"
      ],
      "metadata": {
        "id": "FejxSgn5Ohqf",
        "outputId": "ecc68a08-a6ae-41b3-a100-3f7715637a3b",
        "colab": {
          "base_uri": "https://localhost:8080/",
          "height": 455
        }
      },
      "execution_count": 120,
      "outputs": [
        {
          "output_type": "execute_result",
          "data": {
            "text/plain": [
              "                 0           1           2           3        4           5  \\\n",
              "item_id                                                                       \n",
              "2        68.076118    0.000000  156.141342  407.514038   0.0000  283.373932   \n",
              "3         0.000000    0.000000   72.781967    0.000000   0.0000  345.882507   \n",
              "4         0.000000    0.000000  216.039551  499.906860   0.0000  643.428162   \n",
              "7         0.000000    0.000000    0.000000  302.969269   0.0000  153.017502   \n",
              "8         0.000000    0.000000  371.111572    0.000000   0.0000  436.233124   \n",
              "...            ...         ...         ...         ...      ...         ...   \n",
              "28139     0.000000    0.000000    0.000000  370.470245   0.0000  840.691650   \n",
              "28140     0.000000  205.745911    0.000000    0.000000  17.7649  231.463409   \n",
              "28141     0.000000    0.000000    0.000000    0.000000   0.0000  326.190643   \n",
              "28142     0.000000   35.377987   18.466993    4.222428   0.0000  165.099854   \n",
              "28143     0.000000   23.707096  107.996094    0.000000   0.0000    0.000000   \n",
              "\n",
              "                  6           7    8           9  \n",
              "item_id                                           \n",
              "2        567.841492    0.000000  0.0  220.301193  \n",
              "3        396.412109  302.101837  0.0    0.000000  \n",
              "4        197.688828   56.421490  0.0   85.670563  \n",
              "7        650.800110    0.000000  0.0  670.523315  \n",
              "8        397.051147  360.091583  0.0  188.657150  \n",
              "...             ...         ...  ...         ...  \n",
              "28139    330.698792    0.000000  0.0    0.000000  \n",
              "28140      0.000000    0.000000  0.0   99.945297  \n",
              "28141      0.000000  210.126968  0.0    0.000000  \n",
              "28142    673.255188    0.000000  0.0  576.135193  \n",
              "28143    561.396790   72.095009  0.0  606.933289  \n",
              "\n",
              "[23691 rows x 10 columns]"
            ],
            "text/html": [
              "\n",
              "  <div id=\"df-f75e3fa0-4f50-4593-acec-af433bb8a77a\">\n",
              "    <div class=\"colab-df-container\">\n",
              "      <div>\n",
              "<style scoped>\n",
              "    .dataframe tbody tr th:only-of-type {\n",
              "        vertical-align: middle;\n",
              "    }\n",
              "\n",
              "    .dataframe tbody tr th {\n",
              "        vertical-align: top;\n",
              "    }\n",
              "\n",
              "    .dataframe thead th {\n",
              "        text-align: right;\n",
              "    }\n",
              "</style>\n",
              "<table border=\"1\" class=\"dataframe\">\n",
              "  <thead>\n",
              "    <tr style=\"text-align: right;\">\n",
              "      <th></th>\n",
              "      <th>0</th>\n",
              "      <th>1</th>\n",
              "      <th>2</th>\n",
              "      <th>3</th>\n",
              "      <th>4</th>\n",
              "      <th>5</th>\n",
              "      <th>6</th>\n",
              "      <th>7</th>\n",
              "      <th>8</th>\n",
              "      <th>9</th>\n",
              "    </tr>\n",
              "    <tr>\n",
              "      <th>item_id</th>\n",
              "      <th></th>\n",
              "      <th></th>\n",
              "      <th></th>\n",
              "      <th></th>\n",
              "      <th></th>\n",
              "      <th></th>\n",
              "      <th></th>\n",
              "      <th></th>\n",
              "      <th></th>\n",
              "      <th></th>\n",
              "    </tr>\n",
              "  </thead>\n",
              "  <tbody>\n",
              "    <tr>\n",
              "      <th>2</th>\n",
              "      <td>68.076118</td>\n",
              "      <td>0.000000</td>\n",
              "      <td>156.141342</td>\n",
              "      <td>407.514038</td>\n",
              "      <td>0.0000</td>\n",
              "      <td>283.373932</td>\n",
              "      <td>567.841492</td>\n",
              "      <td>0.000000</td>\n",
              "      <td>0.0</td>\n",
              "      <td>220.301193</td>\n",
              "    </tr>\n",
              "    <tr>\n",
              "      <th>3</th>\n",
              "      <td>0.000000</td>\n",
              "      <td>0.000000</td>\n",
              "      <td>72.781967</td>\n",
              "      <td>0.000000</td>\n",
              "      <td>0.0000</td>\n",
              "      <td>345.882507</td>\n",
              "      <td>396.412109</td>\n",
              "      <td>302.101837</td>\n",
              "      <td>0.0</td>\n",
              "      <td>0.000000</td>\n",
              "    </tr>\n",
              "    <tr>\n",
              "      <th>4</th>\n",
              "      <td>0.000000</td>\n",
              "      <td>0.000000</td>\n",
              "      <td>216.039551</td>\n",
              "      <td>499.906860</td>\n",
              "      <td>0.0000</td>\n",
              "      <td>643.428162</td>\n",
              "      <td>197.688828</td>\n",
              "      <td>56.421490</td>\n",
              "      <td>0.0</td>\n",
              "      <td>85.670563</td>\n",
              "    </tr>\n",
              "    <tr>\n",
              "      <th>7</th>\n",
              "      <td>0.000000</td>\n",
              "      <td>0.000000</td>\n",
              "      <td>0.000000</td>\n",
              "      <td>302.969269</td>\n",
              "      <td>0.0000</td>\n",
              "      <td>153.017502</td>\n",
              "      <td>650.800110</td>\n",
              "      <td>0.000000</td>\n",
              "      <td>0.0</td>\n",
              "      <td>670.523315</td>\n",
              "    </tr>\n",
              "    <tr>\n",
              "      <th>8</th>\n",
              "      <td>0.000000</td>\n",
              "      <td>0.000000</td>\n",
              "      <td>371.111572</td>\n",
              "      <td>0.000000</td>\n",
              "      <td>0.0000</td>\n",
              "      <td>436.233124</td>\n",
              "      <td>397.051147</td>\n",
              "      <td>360.091583</td>\n",
              "      <td>0.0</td>\n",
              "      <td>188.657150</td>\n",
              "    </tr>\n",
              "    <tr>\n",
              "      <th>...</th>\n",
              "      <td>...</td>\n",
              "      <td>...</td>\n",
              "      <td>...</td>\n",
              "      <td>...</td>\n",
              "      <td>...</td>\n",
              "      <td>...</td>\n",
              "      <td>...</td>\n",
              "      <td>...</td>\n",
              "      <td>...</td>\n",
              "      <td>...</td>\n",
              "    </tr>\n",
              "    <tr>\n",
              "      <th>28139</th>\n",
              "      <td>0.000000</td>\n",
              "      <td>0.000000</td>\n",
              "      <td>0.000000</td>\n",
              "      <td>370.470245</td>\n",
              "      <td>0.0000</td>\n",
              "      <td>840.691650</td>\n",
              "      <td>330.698792</td>\n",
              "      <td>0.000000</td>\n",
              "      <td>0.0</td>\n",
              "      <td>0.000000</td>\n",
              "    </tr>\n",
              "    <tr>\n",
              "      <th>28140</th>\n",
              "      <td>0.000000</td>\n",
              "      <td>205.745911</td>\n",
              "      <td>0.000000</td>\n",
              "      <td>0.000000</td>\n",
              "      <td>17.7649</td>\n",
              "      <td>231.463409</td>\n",
              "      <td>0.000000</td>\n",
              "      <td>0.000000</td>\n",
              "      <td>0.0</td>\n",
              "      <td>99.945297</td>\n",
              "    </tr>\n",
              "    <tr>\n",
              "      <th>28141</th>\n",
              "      <td>0.000000</td>\n",
              "      <td>0.000000</td>\n",
              "      <td>0.000000</td>\n",
              "      <td>0.000000</td>\n",
              "      <td>0.0000</td>\n",
              "      <td>326.190643</td>\n",
              "      <td>0.000000</td>\n",
              "      <td>210.126968</td>\n",
              "      <td>0.0</td>\n",
              "      <td>0.000000</td>\n",
              "    </tr>\n",
              "    <tr>\n",
              "      <th>28142</th>\n",
              "      <td>0.000000</td>\n",
              "      <td>35.377987</td>\n",
              "      <td>18.466993</td>\n",
              "      <td>4.222428</td>\n",
              "      <td>0.0000</td>\n",
              "      <td>165.099854</td>\n",
              "      <td>673.255188</td>\n",
              "      <td>0.000000</td>\n",
              "      <td>0.0</td>\n",
              "      <td>576.135193</td>\n",
              "    </tr>\n",
              "    <tr>\n",
              "      <th>28143</th>\n",
              "      <td>0.000000</td>\n",
              "      <td>23.707096</td>\n",
              "      <td>107.996094</td>\n",
              "      <td>0.000000</td>\n",
              "      <td>0.0000</td>\n",
              "      <td>0.000000</td>\n",
              "      <td>561.396790</td>\n",
              "      <td>72.095009</td>\n",
              "      <td>0.0</td>\n",
              "      <td>606.933289</td>\n",
              "    </tr>\n",
              "  </tbody>\n",
              "</table>\n",
              "<p>23691 rows × 10 columns</p>\n",
              "</div>\n",
              "      <button class=\"colab-df-convert\" onclick=\"convertToInteractive('df-f75e3fa0-4f50-4593-acec-af433bb8a77a')\"\n",
              "              title=\"Convert this dataframe to an interactive table.\"\n",
              "              style=\"display:none;\">\n",
              "        \n",
              "  <svg xmlns=\"http://www.w3.org/2000/svg\" height=\"24px\"viewBox=\"0 0 24 24\"\n",
              "       width=\"24px\">\n",
              "    <path d=\"M0 0h24v24H0V0z\" fill=\"none\"/>\n",
              "    <path d=\"M18.56 5.44l.94 2.06.94-2.06 2.06-.94-2.06-.94-.94-2.06-.94 2.06-2.06.94zm-11 1L8.5 8.5l.94-2.06 2.06-.94-2.06-.94L8.5 2.5l-.94 2.06-2.06.94zm10 10l.94 2.06.94-2.06 2.06-.94-2.06-.94-.94-2.06-.94 2.06-2.06.94z\"/><path d=\"M17.41 7.96l-1.37-1.37c-.4-.4-.92-.59-1.43-.59-.52 0-1.04.2-1.43.59L10.3 9.45l-7.72 7.72c-.78.78-.78 2.05 0 2.83L4 21.41c.39.39.9.59 1.41.59.51 0 1.02-.2 1.41-.59l7.78-7.78 2.81-2.81c.8-.78.8-2.07 0-2.86zM5.41 20L4 18.59l7.72-7.72 1.47 1.35L5.41 20z\"/>\n",
              "  </svg>\n",
              "      </button>\n",
              "      \n",
              "  <style>\n",
              "    .colab-df-container {\n",
              "      display:flex;\n",
              "      flex-wrap:wrap;\n",
              "      gap: 12px;\n",
              "    }\n",
              "\n",
              "    .colab-df-convert {\n",
              "      background-color: #E8F0FE;\n",
              "      border: none;\n",
              "      border-radius: 50%;\n",
              "      cursor: pointer;\n",
              "      display: none;\n",
              "      fill: #1967D2;\n",
              "      height: 32px;\n",
              "      padding: 0 0 0 0;\n",
              "      width: 32px;\n",
              "    }\n",
              "\n",
              "    .colab-df-convert:hover {\n",
              "      background-color: #E2EBFA;\n",
              "      box-shadow: 0px 1px 2px rgba(60, 64, 67, 0.3), 0px 1px 3px 1px rgba(60, 64, 67, 0.15);\n",
              "      fill: #174EA6;\n",
              "    }\n",
              "\n",
              "    [theme=dark] .colab-df-convert {\n",
              "      background-color: #3B4455;\n",
              "      fill: #D2E3FC;\n",
              "    }\n",
              "\n",
              "    [theme=dark] .colab-df-convert:hover {\n",
              "      background-color: #434B5C;\n",
              "      box-shadow: 0px 1px 3px 1px rgba(0, 0, 0, 0.15);\n",
              "      filter: drop-shadow(0px 1px 2px rgba(0, 0, 0, 0.3));\n",
              "      fill: #FFFFFF;\n",
              "    }\n",
              "  </style>\n",
              "\n",
              "      <script>\n",
              "        const buttonEl =\n",
              "          document.querySelector('#df-f75e3fa0-4f50-4593-acec-af433bb8a77a button.colab-df-convert');\n",
              "        buttonEl.style.display =\n",
              "          google.colab.kernel.accessAllowed ? 'block' : 'none';\n",
              "\n",
              "        async function convertToInteractive(key) {\n",
              "          const element = document.querySelector('#df-f75e3fa0-4f50-4593-acec-af433bb8a77a');\n",
              "          const dataTable =\n",
              "            await google.colab.kernel.invokeFunction('convertToInteractive',\n",
              "                                                     [key], {});\n",
              "          if (!dataTable) return;\n",
              "\n",
              "          const docLinkHtml = 'Like what you see? Visit the ' +\n",
              "            '<a target=\"_blank\" href=https://colab.research.google.com/notebooks/data_table.ipynb>data table notebook</a>'\n",
              "            + ' to learn more about interactive tables.';\n",
              "          element.innerHTML = '';\n",
              "          dataTable['output_type'] = 'display_data';\n",
              "          await google.colab.output.renderOutput(dataTable, element);\n",
              "          const docLink = document.createElement('div');\n",
              "          docLink.innerHTML = docLinkHtml;\n",
              "          element.appendChild(docLink);\n",
              "        }\n",
              "      </script>\n",
              "    </div>\n",
              "  </div>\n",
              "  "
            ]
          },
          "metadata": {},
          "execution_count": 120
        }
      ]
    },
    {
      "cell_type": "code",
      "source": [
        "train_sessions"
      ],
      "metadata": {
        "colab": {
          "base_uri": "https://localhost:8080/",
          "height": 424
        },
        "id": "-rgSxqmcj_8t",
        "outputId": "8e38a5ab-b233-4ed0-8101-4266cef033f6"
      },
      "execution_count": 121,
      "outputs": [
        {
          "output_type": "execute_result",
          "data": {
            "text/plain": [
              "         session_id  item_id                     date\n",
              "0                 3     9655  2020-12-18 21:25:00.373\n",
              "1                 3     9655  2020-12-18 21:19:48.093\n",
              "2                13    15654  2020-03-13 19:35:27.136\n",
              "3                18    18316  2020-08-26 19:18:30.833\n",
              "4                18     2507  2020-08-26 19:16:31.211\n",
              "...             ...      ...                      ...\n",
              "4743815     4440001    20409  2020-10-30 23:37:20.658\n",
              "4743816     4440001    14155  2020-10-30 23:31:56.607\n",
              "4743817     4440001    14303  2020-10-30 23:36:17.934\n",
              "4743818     4440001    27852  2020-10-30 23:39:55.186\n",
              "4743819     4440001      305  2020-10-30 23:27:37.873\n",
              "\n",
              "[4743820 rows x 3 columns]"
            ],
            "text/html": [
              "\n",
              "  <div id=\"df-905869f6-2106-4ea0-9e2f-649211837b1a\">\n",
              "    <div class=\"colab-df-container\">\n",
              "      <div>\n",
              "<style scoped>\n",
              "    .dataframe tbody tr th:only-of-type {\n",
              "        vertical-align: middle;\n",
              "    }\n",
              "\n",
              "    .dataframe tbody tr th {\n",
              "        vertical-align: top;\n",
              "    }\n",
              "\n",
              "    .dataframe thead th {\n",
              "        text-align: right;\n",
              "    }\n",
              "</style>\n",
              "<table border=\"1\" class=\"dataframe\">\n",
              "  <thead>\n",
              "    <tr style=\"text-align: right;\">\n",
              "      <th></th>\n",
              "      <th>session_id</th>\n",
              "      <th>item_id</th>\n",
              "      <th>date</th>\n",
              "    </tr>\n",
              "  </thead>\n",
              "  <tbody>\n",
              "    <tr>\n",
              "      <th>0</th>\n",
              "      <td>3</td>\n",
              "      <td>9655</td>\n",
              "      <td>2020-12-18 21:25:00.373</td>\n",
              "    </tr>\n",
              "    <tr>\n",
              "      <th>1</th>\n",
              "      <td>3</td>\n",
              "      <td>9655</td>\n",
              "      <td>2020-12-18 21:19:48.093</td>\n",
              "    </tr>\n",
              "    <tr>\n",
              "      <th>2</th>\n",
              "      <td>13</td>\n",
              "      <td>15654</td>\n",
              "      <td>2020-03-13 19:35:27.136</td>\n",
              "    </tr>\n",
              "    <tr>\n",
              "      <th>3</th>\n",
              "      <td>18</td>\n",
              "      <td>18316</td>\n",
              "      <td>2020-08-26 19:18:30.833</td>\n",
              "    </tr>\n",
              "    <tr>\n",
              "      <th>4</th>\n",
              "      <td>18</td>\n",
              "      <td>2507</td>\n",
              "      <td>2020-08-26 19:16:31.211</td>\n",
              "    </tr>\n",
              "    <tr>\n",
              "      <th>...</th>\n",
              "      <td>...</td>\n",
              "      <td>...</td>\n",
              "      <td>...</td>\n",
              "    </tr>\n",
              "    <tr>\n",
              "      <th>4743815</th>\n",
              "      <td>4440001</td>\n",
              "      <td>20409</td>\n",
              "      <td>2020-10-30 23:37:20.658</td>\n",
              "    </tr>\n",
              "    <tr>\n",
              "      <th>4743816</th>\n",
              "      <td>4440001</td>\n",
              "      <td>14155</td>\n",
              "      <td>2020-10-30 23:31:56.607</td>\n",
              "    </tr>\n",
              "    <tr>\n",
              "      <th>4743817</th>\n",
              "      <td>4440001</td>\n",
              "      <td>14303</td>\n",
              "      <td>2020-10-30 23:36:17.934</td>\n",
              "    </tr>\n",
              "    <tr>\n",
              "      <th>4743818</th>\n",
              "      <td>4440001</td>\n",
              "      <td>27852</td>\n",
              "      <td>2020-10-30 23:39:55.186</td>\n",
              "    </tr>\n",
              "    <tr>\n",
              "      <th>4743819</th>\n",
              "      <td>4440001</td>\n",
              "      <td>305</td>\n",
              "      <td>2020-10-30 23:27:37.873</td>\n",
              "    </tr>\n",
              "  </tbody>\n",
              "</table>\n",
              "<p>4743820 rows × 3 columns</p>\n",
              "</div>\n",
              "      <button class=\"colab-df-convert\" onclick=\"convertToInteractive('df-905869f6-2106-4ea0-9e2f-649211837b1a')\"\n",
              "              title=\"Convert this dataframe to an interactive table.\"\n",
              "              style=\"display:none;\">\n",
              "        \n",
              "  <svg xmlns=\"http://www.w3.org/2000/svg\" height=\"24px\"viewBox=\"0 0 24 24\"\n",
              "       width=\"24px\">\n",
              "    <path d=\"M0 0h24v24H0V0z\" fill=\"none\"/>\n",
              "    <path d=\"M18.56 5.44l.94 2.06.94-2.06 2.06-.94-2.06-.94-.94-2.06-.94 2.06-2.06.94zm-11 1L8.5 8.5l.94-2.06 2.06-.94-2.06-.94L8.5 2.5l-.94 2.06-2.06.94zm10 10l.94 2.06.94-2.06 2.06-.94-2.06-.94-.94-2.06-.94 2.06-2.06.94z\"/><path d=\"M17.41 7.96l-1.37-1.37c-.4-.4-.92-.59-1.43-.59-.52 0-1.04.2-1.43.59L10.3 9.45l-7.72 7.72c-.78.78-.78 2.05 0 2.83L4 21.41c.39.39.9.59 1.41.59.51 0 1.02-.2 1.41-.59l7.78-7.78 2.81-2.81c.8-.78.8-2.07 0-2.86zM5.41 20L4 18.59l7.72-7.72 1.47 1.35L5.41 20z\"/>\n",
              "  </svg>\n",
              "      </button>\n",
              "      \n",
              "  <style>\n",
              "    .colab-df-container {\n",
              "      display:flex;\n",
              "      flex-wrap:wrap;\n",
              "      gap: 12px;\n",
              "    }\n",
              "\n",
              "    .colab-df-convert {\n",
              "      background-color: #E8F0FE;\n",
              "      border: none;\n",
              "      border-radius: 50%;\n",
              "      cursor: pointer;\n",
              "      display: none;\n",
              "      fill: #1967D2;\n",
              "      height: 32px;\n",
              "      padding: 0 0 0 0;\n",
              "      width: 32px;\n",
              "    }\n",
              "\n",
              "    .colab-df-convert:hover {\n",
              "      background-color: #E2EBFA;\n",
              "      box-shadow: 0px 1px 2px rgba(60, 64, 67, 0.3), 0px 1px 3px 1px rgba(60, 64, 67, 0.15);\n",
              "      fill: #174EA6;\n",
              "    }\n",
              "\n",
              "    [theme=dark] .colab-df-convert {\n",
              "      background-color: #3B4455;\n",
              "      fill: #D2E3FC;\n",
              "    }\n",
              "\n",
              "    [theme=dark] .colab-df-convert:hover {\n",
              "      background-color: #434B5C;\n",
              "      box-shadow: 0px 1px 3px 1px rgba(0, 0, 0, 0.15);\n",
              "      filter: drop-shadow(0px 1px 2px rgba(0, 0, 0, 0.3));\n",
              "      fill: #FFFFFF;\n",
              "    }\n",
              "  </style>\n",
              "\n",
              "      <script>\n",
              "        const buttonEl =\n",
              "          document.querySelector('#df-905869f6-2106-4ea0-9e2f-649211837b1a button.colab-df-convert');\n",
              "        buttonEl.style.display =\n",
              "          google.colab.kernel.accessAllowed ? 'block' : 'none';\n",
              "\n",
              "        async function convertToInteractive(key) {\n",
              "          const element = document.querySelector('#df-905869f6-2106-4ea0-9e2f-649211837b1a');\n",
              "          const dataTable =\n",
              "            await google.colab.kernel.invokeFunction('convertToInteractive',\n",
              "                                                     [key], {});\n",
              "          if (!dataTable) return;\n",
              "\n",
              "          const docLinkHtml = 'Like what you see? Visit the ' +\n",
              "            '<a target=\"_blank\" href=https://colab.research.google.com/notebooks/data_table.ipynb>data table notebook</a>'\n",
              "            + ' to learn more about interactive tables.';\n",
              "          element.innerHTML = '';\n",
              "          dataTable['output_type'] = 'display_data';\n",
              "          await google.colab.output.renderOutput(dataTable, element);\n",
              "          const docLink = document.createElement('div');\n",
              "          docLink.innerHTML = docLinkHtml;\n",
              "          element.appendChild(docLink);\n",
              "        }\n",
              "      </script>\n",
              "    </div>\n",
              "  </div>\n",
              "  "
            ]
          },
          "metadata": {},
          "execution_count": 121
        }
      ]
    },
    {
      "cell_type": "code",
      "source": [
        "X = pd.merge(train_sessions, comprimized, left_on='item_id', right_on='item_id')\n",
        "X = X.sort_values(by=['session_id','date'])\n",
        "X"
      ],
      "metadata": {
        "id": "x6KoHGh_c-N0",
        "colab": {
          "base_uri": "https://localhost:8080/",
          "height": 424
        },
        "outputId": "36d64da3-1a05-49fe-a7da-ed0206269b2c"
      },
      "execution_count": 137,
      "outputs": [
        {
          "output_type": "execute_result",
          "data": {
            "text/plain": [
              "         session_id  item_id                     date    0           1  \\\n",
              "1                 3     9655  2020-12-18 21:19:48.093  0.0  185.967712   \n",
              "0                 3     9655  2020-12-18 21:25:00.373  0.0  185.967712   \n",
              "117              13    15654  2020-03-13 19:35:27.136  0.0    0.000000   \n",
              "790              18     4026  2020-08-26 19:15:47.232  0.0    0.000000   \n",
              "254              18     2507  2020-08-26 19:16:31.211  0.0    0.000000   \n",
              "...             ...      ...                      ...  ...         ...   \n",
              "2656413     4440001    14303  2020-10-30 23:36:17.934  0.0    0.000000   \n",
              "3778618     4440001    19539   2020-10-30 23:37:09.46  0.0    0.000000   \n",
              "1656723     4440001    20409  2020-10-30 23:37:20.658  0.0    0.000000   \n",
              "853151      4440001    27852  2020-10-30 23:39:55.186  0.0    0.000000   \n",
              "2101612     4440001    20449  2020-10-30 23:40:28.149  0.0    0.000000   \n",
              "\n",
              "                  2           3          4           5           6  \\\n",
              "1          1.849105    0.000000  86.659485   84.474655    0.000000   \n",
              "0          1.849105    0.000000  86.659485   84.474655    0.000000   \n",
              "117      117.877022  241.889023   0.000000  350.867950  434.576416   \n",
              "790      112.933975  128.545929   0.000000  382.237823    0.000000   \n",
              "254      152.210678  251.758743   0.000000  755.144958  239.941635   \n",
              "...             ...         ...        ...         ...         ...   \n",
              "2656413  162.142334  341.530518   0.000000  805.109619  188.715088   \n",
              "3778618  219.443283  535.231689   0.000000  579.807861  524.371155   \n",
              "1656723  331.686920  496.280640   0.000000  662.987488  517.306274   \n",
              "853151   192.018387  123.135262   0.000000  195.896225  394.200897   \n",
              "2101612   93.456963    0.000000   0.000000  224.084839  376.990112   \n",
              "\n",
              "                  7    8           9  \n",
              "1          0.000000  0.0  360.686493  \n",
              "0          0.000000  0.0  360.686493  \n",
              "117        0.000000  0.0  801.528809  \n",
              "790      133.625122  0.0    0.000000  \n",
              "254      224.369476  0.0    0.000000  \n",
              "...             ...  ...         ...  \n",
              "2656413  321.061188  0.0    0.000000  \n",
              "3778618    0.000000  0.0   46.323143  \n",
              "1656723    0.000000  0.0    0.000000  \n",
              "853151     0.000000  0.0  213.502762  \n",
              "2101612    0.000000  0.0  369.419891  \n",
              "\n",
              "[4743820 rows x 13 columns]"
            ],
            "text/html": [
              "\n",
              "  <div id=\"df-97947c19-ec26-4835-91e4-fc26118a3dfa\">\n",
              "    <div class=\"colab-df-container\">\n",
              "      <div>\n",
              "<style scoped>\n",
              "    .dataframe tbody tr th:only-of-type {\n",
              "        vertical-align: middle;\n",
              "    }\n",
              "\n",
              "    .dataframe tbody tr th {\n",
              "        vertical-align: top;\n",
              "    }\n",
              "\n",
              "    .dataframe thead th {\n",
              "        text-align: right;\n",
              "    }\n",
              "</style>\n",
              "<table border=\"1\" class=\"dataframe\">\n",
              "  <thead>\n",
              "    <tr style=\"text-align: right;\">\n",
              "      <th></th>\n",
              "      <th>session_id</th>\n",
              "      <th>item_id</th>\n",
              "      <th>date</th>\n",
              "      <th>0</th>\n",
              "      <th>1</th>\n",
              "      <th>2</th>\n",
              "      <th>3</th>\n",
              "      <th>4</th>\n",
              "      <th>5</th>\n",
              "      <th>6</th>\n",
              "      <th>7</th>\n",
              "      <th>8</th>\n",
              "      <th>9</th>\n",
              "    </tr>\n",
              "  </thead>\n",
              "  <tbody>\n",
              "    <tr>\n",
              "      <th>1</th>\n",
              "      <td>3</td>\n",
              "      <td>9655</td>\n",
              "      <td>2020-12-18 21:19:48.093</td>\n",
              "      <td>0.0</td>\n",
              "      <td>185.967712</td>\n",
              "      <td>1.849105</td>\n",
              "      <td>0.000000</td>\n",
              "      <td>86.659485</td>\n",
              "      <td>84.474655</td>\n",
              "      <td>0.000000</td>\n",
              "      <td>0.000000</td>\n",
              "      <td>0.0</td>\n",
              "      <td>360.686493</td>\n",
              "    </tr>\n",
              "    <tr>\n",
              "      <th>0</th>\n",
              "      <td>3</td>\n",
              "      <td>9655</td>\n",
              "      <td>2020-12-18 21:25:00.373</td>\n",
              "      <td>0.0</td>\n",
              "      <td>185.967712</td>\n",
              "      <td>1.849105</td>\n",
              "      <td>0.000000</td>\n",
              "      <td>86.659485</td>\n",
              "      <td>84.474655</td>\n",
              "      <td>0.000000</td>\n",
              "      <td>0.000000</td>\n",
              "      <td>0.0</td>\n",
              "      <td>360.686493</td>\n",
              "    </tr>\n",
              "    <tr>\n",
              "      <th>117</th>\n",
              "      <td>13</td>\n",
              "      <td>15654</td>\n",
              "      <td>2020-03-13 19:35:27.136</td>\n",
              "      <td>0.0</td>\n",
              "      <td>0.000000</td>\n",
              "      <td>117.877022</td>\n",
              "      <td>241.889023</td>\n",
              "      <td>0.000000</td>\n",
              "      <td>350.867950</td>\n",
              "      <td>434.576416</td>\n",
              "      <td>0.000000</td>\n",
              "      <td>0.0</td>\n",
              "      <td>801.528809</td>\n",
              "    </tr>\n",
              "    <tr>\n",
              "      <th>790</th>\n",
              "      <td>18</td>\n",
              "      <td>4026</td>\n",
              "      <td>2020-08-26 19:15:47.232</td>\n",
              "      <td>0.0</td>\n",
              "      <td>0.000000</td>\n",
              "      <td>112.933975</td>\n",
              "      <td>128.545929</td>\n",
              "      <td>0.000000</td>\n",
              "      <td>382.237823</td>\n",
              "      <td>0.000000</td>\n",
              "      <td>133.625122</td>\n",
              "      <td>0.0</td>\n",
              "      <td>0.000000</td>\n",
              "    </tr>\n",
              "    <tr>\n",
              "      <th>254</th>\n",
              "      <td>18</td>\n",
              "      <td>2507</td>\n",
              "      <td>2020-08-26 19:16:31.211</td>\n",
              "      <td>0.0</td>\n",
              "      <td>0.000000</td>\n",
              "      <td>152.210678</td>\n",
              "      <td>251.758743</td>\n",
              "      <td>0.000000</td>\n",
              "      <td>755.144958</td>\n",
              "      <td>239.941635</td>\n",
              "      <td>224.369476</td>\n",
              "      <td>0.0</td>\n",
              "      <td>0.000000</td>\n",
              "    </tr>\n",
              "    <tr>\n",
              "      <th>...</th>\n",
              "      <td>...</td>\n",
              "      <td>...</td>\n",
              "      <td>...</td>\n",
              "      <td>...</td>\n",
              "      <td>...</td>\n",
              "      <td>...</td>\n",
              "      <td>...</td>\n",
              "      <td>...</td>\n",
              "      <td>...</td>\n",
              "      <td>...</td>\n",
              "      <td>...</td>\n",
              "      <td>...</td>\n",
              "      <td>...</td>\n",
              "    </tr>\n",
              "    <tr>\n",
              "      <th>2656413</th>\n",
              "      <td>4440001</td>\n",
              "      <td>14303</td>\n",
              "      <td>2020-10-30 23:36:17.934</td>\n",
              "      <td>0.0</td>\n",
              "      <td>0.000000</td>\n",
              "      <td>162.142334</td>\n",
              "      <td>341.530518</td>\n",
              "      <td>0.000000</td>\n",
              "      <td>805.109619</td>\n",
              "      <td>188.715088</td>\n",
              "      <td>321.061188</td>\n",
              "      <td>0.0</td>\n",
              "      <td>0.000000</td>\n",
              "    </tr>\n",
              "    <tr>\n",
              "      <th>3778618</th>\n",
              "      <td>4440001</td>\n",
              "      <td>19539</td>\n",
              "      <td>2020-10-30 23:37:09.46</td>\n",
              "      <td>0.0</td>\n",
              "      <td>0.000000</td>\n",
              "      <td>219.443283</td>\n",
              "      <td>535.231689</td>\n",
              "      <td>0.000000</td>\n",
              "      <td>579.807861</td>\n",
              "      <td>524.371155</td>\n",
              "      <td>0.000000</td>\n",
              "      <td>0.0</td>\n",
              "      <td>46.323143</td>\n",
              "    </tr>\n",
              "    <tr>\n",
              "      <th>1656723</th>\n",
              "      <td>4440001</td>\n",
              "      <td>20409</td>\n",
              "      <td>2020-10-30 23:37:20.658</td>\n",
              "      <td>0.0</td>\n",
              "      <td>0.000000</td>\n",
              "      <td>331.686920</td>\n",
              "      <td>496.280640</td>\n",
              "      <td>0.000000</td>\n",
              "      <td>662.987488</td>\n",
              "      <td>517.306274</td>\n",
              "      <td>0.000000</td>\n",
              "      <td>0.0</td>\n",
              "      <td>0.000000</td>\n",
              "    </tr>\n",
              "    <tr>\n",
              "      <th>853151</th>\n",
              "      <td>4440001</td>\n",
              "      <td>27852</td>\n",
              "      <td>2020-10-30 23:39:55.186</td>\n",
              "      <td>0.0</td>\n",
              "      <td>0.000000</td>\n",
              "      <td>192.018387</td>\n",
              "      <td>123.135262</td>\n",
              "      <td>0.000000</td>\n",
              "      <td>195.896225</td>\n",
              "      <td>394.200897</td>\n",
              "      <td>0.000000</td>\n",
              "      <td>0.0</td>\n",
              "      <td>213.502762</td>\n",
              "    </tr>\n",
              "    <tr>\n",
              "      <th>2101612</th>\n",
              "      <td>4440001</td>\n",
              "      <td>20449</td>\n",
              "      <td>2020-10-30 23:40:28.149</td>\n",
              "      <td>0.0</td>\n",
              "      <td>0.000000</td>\n",
              "      <td>93.456963</td>\n",
              "      <td>0.000000</td>\n",
              "      <td>0.000000</td>\n",
              "      <td>224.084839</td>\n",
              "      <td>376.990112</td>\n",
              "      <td>0.000000</td>\n",
              "      <td>0.0</td>\n",
              "      <td>369.419891</td>\n",
              "    </tr>\n",
              "  </tbody>\n",
              "</table>\n",
              "<p>4743820 rows × 13 columns</p>\n",
              "</div>\n",
              "      <button class=\"colab-df-convert\" onclick=\"convertToInteractive('df-97947c19-ec26-4835-91e4-fc26118a3dfa')\"\n",
              "              title=\"Convert this dataframe to an interactive table.\"\n",
              "              style=\"display:none;\">\n",
              "        \n",
              "  <svg xmlns=\"http://www.w3.org/2000/svg\" height=\"24px\"viewBox=\"0 0 24 24\"\n",
              "       width=\"24px\">\n",
              "    <path d=\"M0 0h24v24H0V0z\" fill=\"none\"/>\n",
              "    <path d=\"M18.56 5.44l.94 2.06.94-2.06 2.06-.94-2.06-.94-.94-2.06-.94 2.06-2.06.94zm-11 1L8.5 8.5l.94-2.06 2.06-.94-2.06-.94L8.5 2.5l-.94 2.06-2.06.94zm10 10l.94 2.06.94-2.06 2.06-.94-2.06-.94-.94-2.06-.94 2.06-2.06.94z\"/><path d=\"M17.41 7.96l-1.37-1.37c-.4-.4-.92-.59-1.43-.59-.52 0-1.04.2-1.43.59L10.3 9.45l-7.72 7.72c-.78.78-.78 2.05 0 2.83L4 21.41c.39.39.9.59 1.41.59.51 0 1.02-.2 1.41-.59l7.78-7.78 2.81-2.81c.8-.78.8-2.07 0-2.86zM5.41 20L4 18.59l7.72-7.72 1.47 1.35L5.41 20z\"/>\n",
              "  </svg>\n",
              "      </button>\n",
              "      \n",
              "  <style>\n",
              "    .colab-df-container {\n",
              "      display:flex;\n",
              "      flex-wrap:wrap;\n",
              "      gap: 12px;\n",
              "    }\n",
              "\n",
              "    .colab-df-convert {\n",
              "      background-color: #E8F0FE;\n",
              "      border: none;\n",
              "      border-radius: 50%;\n",
              "      cursor: pointer;\n",
              "      display: none;\n",
              "      fill: #1967D2;\n",
              "      height: 32px;\n",
              "      padding: 0 0 0 0;\n",
              "      width: 32px;\n",
              "    }\n",
              "\n",
              "    .colab-df-convert:hover {\n",
              "      background-color: #E2EBFA;\n",
              "      box-shadow: 0px 1px 2px rgba(60, 64, 67, 0.3), 0px 1px 3px 1px rgba(60, 64, 67, 0.15);\n",
              "      fill: #174EA6;\n",
              "    }\n",
              "\n",
              "    [theme=dark] .colab-df-convert {\n",
              "      background-color: #3B4455;\n",
              "      fill: #D2E3FC;\n",
              "    }\n",
              "\n",
              "    [theme=dark] .colab-df-convert:hover {\n",
              "      background-color: #434B5C;\n",
              "      box-shadow: 0px 1px 3px 1px rgba(0, 0, 0, 0.15);\n",
              "      filter: drop-shadow(0px 1px 2px rgba(0, 0, 0, 0.3));\n",
              "      fill: #FFFFFF;\n",
              "    }\n",
              "  </style>\n",
              "\n",
              "      <script>\n",
              "        const buttonEl =\n",
              "          document.querySelector('#df-97947c19-ec26-4835-91e4-fc26118a3dfa button.colab-df-convert');\n",
              "        buttonEl.style.display =\n",
              "          google.colab.kernel.accessAllowed ? 'block' : 'none';\n",
              "\n",
              "        async function convertToInteractive(key) {\n",
              "          const element = document.querySelector('#df-97947c19-ec26-4835-91e4-fc26118a3dfa');\n",
              "          const dataTable =\n",
              "            await google.colab.kernel.invokeFunction('convertToInteractive',\n",
              "                                                     [key], {});\n",
              "          if (!dataTable) return;\n",
              "\n",
              "          const docLinkHtml = 'Like what you see? Visit the ' +\n",
              "            '<a target=\"_blank\" href=https://colab.research.google.com/notebooks/data_table.ipynb>data table notebook</a>'\n",
              "            + ' to learn more about interactive tables.';\n",
              "          element.innerHTML = '';\n",
              "          dataTable['output_type'] = 'display_data';\n",
              "          await google.colab.output.renderOutput(dataTable, element);\n",
              "          const docLink = document.createElement('div');\n",
              "          docLink.innerHTML = docLinkHtml;\n",
              "          element.appendChild(docLink);\n",
              "        }\n",
              "      </script>\n",
              "    </div>\n",
              "  </div>\n",
              "  "
            ]
          },
          "metadata": {},
          "execution_count": 137
        }
      ]
    },
    {
      "cell_type": "code",
      "source": [
        "X[9].value_counts()"
      ],
      "metadata": {
        "colab": {
          "base_uri": "https://localhost:8080/"
        },
        "id": "P17uTVrrlqNd",
        "outputId": "c883c2f1-427b-41ef-9f40-e5aec00e55b1"
      },
      "execution_count": 133,
      "outputs": [
        {
          "output_type": "execute_result",
          "data": {
            "text/plain": [
              "0.000000      1273878\n",
              "46.323143       14860\n",
              "33.291245       14714\n",
              "701.559143      13192\n",
              "115.421371      10951\n",
              "               ...   \n",
              "303.002747          1\n",
              "555.236389          1\n",
              "308.625397          1\n",
              "276.977875          1\n",
              "141.417358          1\n",
              "Name: 9, Length: 17794, dtype: int64"
            ]
          },
          "metadata": {},
          "execution_count": 133
        }
      ]
    },
    {
      "cell_type": "code",
      "source": [
        ""
      ],
      "metadata": {
        "id": "Y9BFhV4nnO0e"
      },
      "execution_count": null,
      "outputs": []
    },
    {
      "cell_type": "code",
      "source": [
        "#randomly split into train and test data\n",
        "from sklearn.model_selection import train_test_split\n",
        "X_train, X_test, y_train, y_test = train_test_split(X, y, test_size=0.5, random_state=42)"
      ],
      "metadata": {
        "id": "DD3kKmloQgs_",
        "colab": {
          "base_uri": "https://localhost:8080/",
          "height": 205
        },
        "outputId": "2b54b141-6dd5-47bf-b8a4-3b447f2d3324"
      },
      "execution_count": 108,
      "outputs": [
        {
          "output_type": "error",
          "ename": "NameError",
          "evalue": "ignored",
          "traceback": [
            "\u001b[0;31m---------------------------------------------------------------------------\u001b[0m",
            "\u001b[0;31mNameError\u001b[0m                                 Traceback (most recent call last)",
            "\u001b[0;32m<ipython-input-108-7521ede9bd7a>\u001b[0m in \u001b[0;36m<module>\u001b[0;34m()\u001b[0m\n\u001b[1;32m      1\u001b[0m \u001b[0;36m3\u001b[0m\u001b[0;31m#randomly split into train and test data\u001b[0m\u001b[0;34m\u001b[0m\u001b[0;34m\u001b[0m\u001b[0m\n\u001b[1;32m      2\u001b[0m \u001b[0;32mfrom\u001b[0m \u001b[0msklearn\u001b[0m\u001b[0;34m.\u001b[0m\u001b[0mmodel_selection\u001b[0m \u001b[0;32mimport\u001b[0m \u001b[0mtrain_test_split\u001b[0m\u001b[0;34m\u001b[0m\u001b[0;34m\u001b[0m\u001b[0m\n\u001b[0;32m----> 3\u001b[0;31m \u001b[0mX_train\u001b[0m\u001b[0;34m,\u001b[0m \u001b[0mX_test\u001b[0m\u001b[0;34m,\u001b[0m \u001b[0my_train\u001b[0m\u001b[0;34m,\u001b[0m \u001b[0my_test\u001b[0m \u001b[0;34m=\u001b[0m \u001b[0mtrain_test_split\u001b[0m\u001b[0;34m(\u001b[0m\u001b[0mX\u001b[0m\u001b[0;34m,\u001b[0m \u001b[0my\u001b[0m\u001b[0;34m,\u001b[0m \u001b[0mtest_size\u001b[0m\u001b[0;34m=\u001b[0m\u001b[0;36m0.5\u001b[0m\u001b[0;34m,\u001b[0m \u001b[0mrandom_state\u001b[0m\u001b[0;34m=\u001b[0m\u001b[0;36m42\u001b[0m\u001b[0;34m)\u001b[0m\u001b[0;34m\u001b[0m\u001b[0;34m\u001b[0m\u001b[0m\n\u001b[0m",
            "\u001b[0;31mNameError\u001b[0m: name 'y' is not defined"
          ]
        }
      ]
    },
    {
      "cell_type": "markdown",
      "source": [
        "# Baseline "
      ],
      "metadata": {
        "id": "CJXOJk3WqA68"
      }
    },
    {
      "cell_type": "markdown",
      "source": [
        "## Erstellen eines zufälligen Test scores\n",
        "Erstellen eines Zufälligen Testscores mit je 100 zufälligen Item ids pro Session. Die item ids werden hierfür aus der items liste entnommen."
      ],
      "metadata": {
        "id": "5L3X1fsPU9ag"
      }
    },
    {
      "cell_type": "code",
      "source": [
        "rand_pred = pd.DataFrame();\n",
        "rand_pred['session_id'] = test_leaderboard_sessions['session_id'].unique()\n",
        "rand_pred  = rand_pred.loc[rand_pred.index.repeat(100)].reset_index(drop=True)\n",
        "rand_pred['item_id'] = pd.DataFrame(np.random.randint(items['item_id'].min(), items['item_id'].max(), size=(len(rand_pred),1)))\n",
        "rand_pred['rank'] = rand_pred.groupby('session_id').cumcount()+1\n",
        "rand_pred = rand_pred.set_index('session_id')\n"
      ],
      "metadata": {
        "id": "CBLKUmnwsIaY"
      },
      "execution_count": null,
      "outputs": []
    },
    {
      "cell_type": "code",
      "source": [
        "rand_pred = pd.DataFrame();\n",
        "rand_pred['session_id'] = test_leaderboard_sessions['session_id'].unique()\n",
        "rand_pred  = rand_pred.loc[rand_pred.index.repeat(100)].reset_index(drop=True)\n",
        "rand_pred['item_id'] = np.random.choice(items['item_id'], size=(len(rand_pred)))\n",
        "rand_pred['rank'] = rand_pred.groupby('session_id').cumcount()+1\n",
        "rand_pred = rand_pred.set_index('session_id')"
      ],
      "metadata": {
        "id": "Qgd7Dqddm4Br"
      },
      "execution_count": null,
      "outputs": []
    },
    {
      "cell_type": "code",
      "source": [
        "rand_pred.head(102)"
      ],
      "metadata": {
        "id": "la0Lqs5v01hq"
      },
      "execution_count": null,
      "outputs": []
    },
    {
      "cell_type": "code",
      "source": [
        "rand_pred.to_csv('rand_pred.csv')"
      ],
      "metadata": {
        "id": "_Gw3siblBtdo"
      },
      "execution_count": null,
      "outputs": []
    },
    {
      "cell_type": "markdown",
      "source": [
        "## Vorschlagen des letzten angesehen item"
      ],
      "metadata": {
        "id": "kDiRbF5RP14i"
      }
    },
    {
      "cell_type": "markdown",
      "source": [
        "Da in den meisten sessions nur ein item angesehen wird, werden als nächstes die ids vorgeschlagen, wechle zuletzt in der Session angesehen wurden."
      ],
      "metadata": {
        "id": "_LzBMqsgVrun"
      }
    },
    {
      "cell_type": "code",
      "source": [
        "test2 = pd.DataFrame();"
      ],
      "metadata": {
        "id": "E5mEum00XqoJ"
      },
      "execution_count": null,
      "outputs": []
    },
    {
      "cell_type": "code",
      "source": [
        "#test2['session_id'] = test_leaderboard_sessions['session_id'].unique();\n",
        "idx = test_leaderboard_sessions.groupby(['session_id'])['date'].transform(max) == test_leaderboard_sessions['date']"
      ],
      "metadata": {
        "id": "vxQTvDiXPgr3"
      },
      "execution_count": null,
      "outputs": []
    },
    {
      "cell_type": "code",
      "source": [
        "test2 = test_leaderboard_sessions[idx]"
      ],
      "metadata": {
        "id": "HYjBD2pWa5cF"
      },
      "execution_count": null,
      "outputs": []
    },
    {
      "cell_type": "code",
      "source": [
        "test2 = test2.reset_index()"
      ],
      "metadata": {
        "id": "4d8faxLWeotc"
      },
      "execution_count": null,
      "outputs": []
    },
    {
      "cell_type": "code",
      "source": [
        "test2['session_id']"
      ],
      "metadata": {
        "id": "AU0zMNxRdsYa"
      },
      "execution_count": null,
      "outputs": []
    },
    {
      "cell_type": "code",
      "source": [
        "test2"
      ],
      "metadata": {
        "id": "u5GwiN5jfHaX"
      },
      "execution_count": null,
      "outputs": []
    },
    {
      "cell_type": "code",
      "source": [
        "test_leaderboard_sessions.head(20)"
      ],
      "metadata": {
        "id": "WtGH8OLpSEFI"
      },
      "execution_count": null,
      "outputs": []
    },
    {
      "cell_type": "code",
      "source": [
        "a = test2['session_id'].duplicated() == test2['session_id']"
      ],
      "metadata": {
        "id": "TAmVHnD7X1ZJ"
      },
      "execution_count": null,
      "outputs": []
    },
    {
      "cell_type": "code",
      "source": [
        "a"
      ],
      "metadata": {
        "id": "982g290HbbKZ"
      },
      "execution_count": null,
      "outputs": []
    },
    {
      "cell_type": "code",
      "source": [
        "test3  = pd.DataFrame()"
      ],
      "metadata": {
        "id": "IlDF20cFcDZP"
      },
      "execution_count": null,
      "outputs": []
    },
    {
      "cell_type": "code",
      "source": [
        "test3['session_id'] = test_leaderboard_sessions['session_id'].unique()\n",
        "test3['item_id'] = test2['item_id']\n",
        "test3['rank'] = 1\n",
        "test3 = test3.set_index('session_id')"
      ],
      "metadata": {
        "id": "XHHSfI_mdfOZ"
      },
      "execution_count": null,
      "outputs": []
    },
    {
      "cell_type": "code",
      "source": [
        "test3"
      ],
      "metadata": {
        "id": "N47xDmw4eCV2"
      },
      "execution_count": null,
      "outputs": []
    },
    {
      "cell_type": "code",
      "source": [
        "test3.to_csv('test3.csv')"
      ],
      "metadata": {
        "id": "ILrRjWW_eC93"
      },
      "execution_count": null,
      "outputs": []
    },
    {
      "cell_type": "markdown",
      "source": [
        "## Vorschlagen zufälliger items aus den X meistgekauften items\n",
        "Wie in Abschnitt Datenalyse/Welche items wurden oft gekauft/ gezeigt sind die meisten verkäufe auf vergleichsweise wenige items zurückzuführen. Aus diesem Grund werden hier für drei Beispiele zufällige Vorhersagen erstellt. Mit den\n",
        "\n",
        "\n",
        "*   900 meist verkauften items\n",
        "*   2500 meist verkauften items\n",
        "*   9454 meist verkauften items\n",
        "*   500 meist verkauften items\n",
        "\n"
      ],
      "metadata": {
        "id": "RuL6Gyufx06o"
      }
    },
    {
      "cell_type": "markdown",
      "source": [
        "\n",
        "\n",
        "---\n",
        "\n",
        "900 meist verkaufte items (Score = 0,002149192564937604)"
      ],
      "metadata": {
        "id": "DLTZpTj9pwMn"
      }
    },
    {
      "cell_type": "code",
      "source": [
        "#write the item its of the 900 most bought items in the variable MBI900\n",
        "MBI900 = train_purchases['item_id'].value_counts().head(900).index\n",
        "MBI900"
      ],
      "metadata": {
        "id": "KicHaHlAlEWI"
      },
      "execution_count": null,
      "outputs": []
    },
    {
      "cell_type": "code",
      "source": [
        "# generate a random prediction with the 500 most bougth items \n",
        "mbi900_pred = pd.DataFrame();\n",
        "mbi900_pred['session_id'] = test_leaderboard_sessions['session_id'].unique()\n",
        "mbi900_pred  = mbi900_pred.loc[mbi900_pred.index.repeat(100)].reset_index(drop=True)\n",
        "mbi900_pred['item_id'] = np.random.choice(MBI900, size=(len(mbi900_pred)))\n",
        "mbi900_pred['rank'] = mbi900_pred.groupby('session_id').cumcount()+1\n",
        "mbi900_pred = mbi900_pred.set_index('session_id')"
      ],
      "metadata": {
        "id": "46CSRWdooQJQ"
      },
      "execution_count": null,
      "outputs": []
    },
    {
      "cell_type": "code",
      "source": [
        "mbi900_pred"
      ],
      "metadata": {
        "id": "AUUDx570mPhv"
      },
      "execution_count": null,
      "outputs": []
    },
    {
      "cell_type": "code",
      "source": [
        "mbi900_pred.to_csv('mbi900_pred.csv')"
      ],
      "metadata": {
        "id": "z7xC5Sa1mpcr"
      },
      "execution_count": null,
      "outputs": []
    },
    {
      "cell_type": "markdown",
      "source": [
        "\n",
        "\n",
        "---\n",
        "\n",
        "2500 meist verkaufte items (Score =  8.35697856586405e-05 )"
      ],
      "metadata": {
        "id": "L9aGzYn9oG_1"
      }
    },
    {
      "cell_type": "code",
      "source": [
        "#write the item its of the 2500 most bought items in the variable MBI2500\n",
        "MBI2500 = train_purchases['item_id'].value_counts().head(2500).index\n",
        "# generate a random prediction with the 500 most bougth items \n",
        "mbi2500_pred = pd.DataFrame();\n",
        "mbi2500_pred['session_id'] = test_leaderboard_sessions['session_id'].unique()\n",
        "mbi2500_pred  = mbi2500_pred.loc[mbi2500_pred.index.repeat(100)].reset_index(drop=True)\n",
        "mbi2500_pred['item_id'] = np.random.choice(MBI2500, size=(len(mbi2500_pred)))\n",
        "mbi2500_pred['rank'] = mbi2500_pred.groupby('session_id').cumcount()+1\n",
        "mbi2500_pred = mbi2500_pred.set_index('session_id')\n",
        "\n",
        "mbi2500_pred.to_csv('mbi2500_pred.csv')"
      ],
      "metadata": {
        "id": "CLOvnqZQl59Y"
      },
      "execution_count": null,
      "outputs": []
    },
    {
      "cell_type": "markdown",
      "source": [
        "\n",
        "\n",
        "---\n",
        "\n",
        "9454 meist verkaufte items (Score =  0.0004470316405966391)"
      ],
      "metadata": {
        "id": "8maUwz5ZpUmw"
      }
    },
    {
      "cell_type": "code",
      "source": [
        "#write the item its of the 9454 most bought items in the variable MBI9454\n",
        "MBI9454 = train_purchases['item_id'].value_counts().head(9454).index\n",
        "# generate a random prediction with the 500 most bougth items \n",
        "mbi9454_pred = pd.DataFrame();\n",
        "mbi9454_pred['session_id'] = test_leaderboard_sessions['session_id'].unique()\n",
        "mbi9454_pred  = mbi9454_pred.loc[mbi9454_pred.index.repeat(100)].reset_index(drop=True)\n",
        "mbi9454_pred['item_id'] = np.random.choice(MBI9454, size=(len(mbi9454_pred)))\n",
        "mbi9454_pred['rank'] = mbi9454_pred.groupby('session_id').cumcount()+1\n",
        "mbi9454_pred = mbi9454_pred.set_index('session_id')\n",
        "\n",
        "mbi9454_pred.to_csv('mbi9454_pred.csv')"
      ],
      "metadata": {
        "id": "eGUl7OLsmDz2"
      },
      "execution_count": null,
      "outputs": []
    },
    {
      "cell_type": "markdown",
      "source": [
        "\n",
        "\n",
        "---\n",
        "\n",
        "500 meist verkaufte items (Score =   0.0030179652295973616)"
      ],
      "metadata": {
        "id": "hcR9RcrqSfJz"
      }
    },
    {
      "cell_type": "code",
      "source": [
        "#write the item its of the 9454 most bought items in the variable MBI9454\n",
        "MBI500 = train_purchases['item_id'].value_counts().head(500).index\n",
        "# generate a random prediction with the 500 most bougth items \n",
        "mbi500_pred = pd.DataFrame();\n",
        "mbi500_pred['session_id'] = test_leaderboard_sessions['session_id'].unique()\n",
        "mbi500_pred  = mbi500_pred.loc[mbi500_pred.index.repeat(100)].reset_index(drop=True)\n",
        "mbi500_pred['item_id'] = np.random.choice(MBI500, size=(len(mbi500_pred)))\n",
        "mbi500_pred['rank'] = mbi500_pred.groupby('session_id').cumcount()+1\n",
        "mbi500_pred = mbi500_pred.set_index('session_id')\n",
        "\n",
        "mbi500_pred.to_csv('mbi500_pred.csv')"
      ],
      "metadata": {
        "id": "ctB2QKamM0Qv"
      },
      "execution_count": null,
      "outputs": []
    },
    {
      "cell_type": "markdown",
      "source": [
        "# Euklidische Distanz"
      ],
      "metadata": {
        "id": "etJdCGlLS_sN"
      }
    },
    {
      "cell_type": "code",
      "source": [
        "stop"
      ],
      "metadata": {
        "id": "-TNUBvEmVVX-"
      },
      "execution_count": null,
      "outputs": []
    },
    {
      "cell_type": "code",
      "source": [
        "q = np.array(feature_pivtable[feature_pivtable.index==2])+np.array(feature_pivtable[feature_pivtable.index==30])\n",
        "w = np.array(feature_pivtable[feature_pivtable.index==11])+np.array(feature_pivtable[feature_pivtable.index==46])\n",
        "\n",
        "q = q/np.linalg.norm(q)\n",
        "w = w/np.linalg.norm(w)\n",
        "\n",
        "np.linalg.norm(q-w)"
      ],
      "metadata": {
        "id": "IGQ4BhOiAEPi"
      },
      "execution_count": null,
      "outputs": []
    },
    {
      "cell_type": "code",
      "source": [
        "q"
      ],
      "metadata": {
        "id": "dbT-efFnCKPR"
      },
      "execution_count": null,
      "outputs": []
    },
    {
      "cell_type": "code",
      "source": [
        "\n",
        "pd.concat([pd.DataFrame(q),pd.DataFrame(w)])"
      ],
      "metadata": {
        "id": "t927d1_iFhYa"
      },
      "execution_count": null,
      "outputs": []
    },
    {
      "cell_type": "code",
      "source": [
        "#euclidean distance\n",
        "temp  = [0 for a in range(len(np.array(feature_pivtable)))]\n",
        "q = np.array(feature_pivtable[feature_pivtable.index==2])\n",
        "q = q/np.linalg.norm(q)\n",
        "ii = 0;\n",
        "for i in np.array(feature_pivtable.index):\n",
        "  w = np.array(feature_pivtable[feature_pivtable.index==i])\n",
        "  w = w/np.linalg.norm(w)\n",
        "  temp[ii] = np.linalg.norm(q-w)\n",
        "  ii = ii+1;"
      ],
      "metadata": {
        "id": "VaNyDn_RGqI5"
      },
      "execution_count": null,
      "outputs": []
    },
    {
      "cell_type": "code",
      "source": [
        "temp = pd.DataFrame(temp)\n",
        "temp['item_id'] = features['item_id'].unique()\n",
        "temp = temp.set_index('item_id')"
      ],
      "metadata": {
        "id": "mMtZb_oPI6NP"
      },
      "execution_count": null,
      "outputs": []
    },
    {
      "cell_type": "code",
      "source": [
        "temp.sort_values(by=0).head(100)"
      ],
      "metadata": {
        "id": "8smstAVdJzvq"
      },
      "execution_count": null,
      "outputs": []
    },
    {
      "cell_type": "code",
      "source": [
        "#cosine distance\n",
        "from scipy.spatial import distance\n",
        "\n",
        "\n",
        "temp  = [0 for a in range(len(np.array(feature_pivtable)))]\n",
        "q = np.array(feature_pivtable[feature_pivtable.index==2])\n",
        "q = q/np.linalg.norm(q)\n",
        "ii = 0\n",
        "for i in np.array(feature_pivtable.index):\n",
        "  w = np.array(feature_pivtable[feature_pivtable.index==i])\n",
        "  w = w/np.linalg.norm(w)\n",
        "  temp[ii] = 1 - distance.cosine(q,w)\n",
        "  ii = ii+1"
      ],
      "metadata": {
        "id": "l2K26ejGNI5H"
      },
      "execution_count": null,
      "outputs": []
    },
    {
      "cell_type": "code",
      "source": [
        "temp = pd.DataFrame(temp)\n",
        "temp['item_id'] = features['item_id'].unique()\n",
        "temp = temp.set_index('item_id')"
      ],
      "metadata": {
        "id": "ld-vvMjAOMMm"
      },
      "execution_count": null,
      "outputs": []
    },
    {
      "cell_type": "code",
      "source": [
        "temp.sort_values(by=0).tail(100)"
      ],
      "metadata": {
        "id": "5xVDvtYQPBPn"
      },
      "execution_count": null,
      "outputs": []
    },
    {
      "cell_type": "markdown",
      "source": [
        "## Präparieren der Daten"
      ],
      "metadata": {
        "id": "P9gLZ5AyMBVR"
      }
    },
    {
      "cell_type": "code",
      "source": [
        "eucl = test_leaderboard_sessions.drop('date', axis= 1)\n",
        "eucl"
      ],
      "metadata": {
        "id": "ak6NcUrD49rF"
      },
      "execution_count": null,
      "outputs": []
    },
    {
      "cell_type": "code",
      "source": [
        "test = eucl.set_index('item_id').join(feature_pivtable['feature_value_id'],how='inner')"
      ],
      "metadata": {
        "id": "y49-WB2zFggx"
      },
      "execution_count": null,
      "outputs": []
    },
    {
      "cell_type": "code",
      "source": [
        "# summarize all vectors from one session \n",
        "test = test.groupby('session_id').sum()\n",
        "test"
      ],
      "metadata": {
        "id": "vJGYHOAWHdbk"
      },
      "execution_count": null,
      "outputs": []
    },
    {
      "cell_type": "markdown",
      "source": [
        "## Berechnen der Euklidischen Distanz"
      ],
      "metadata": {
        "id": "dous5c6eMHMW"
      }
    },
    {
      "cell_type": "code",
      "source": [
        "w = np.zeros((len(np.array(feature_pivtable)),73))\n",
        "ii = 0\n",
        "for i in feature_pivtable.index:\n",
        "  w[ii] = feature_pivtable[feature_pivtable.index==i]['feature_value_id']\n",
        "  w[ii] = w[ii]/np.linalg.norm(w[ii])\n",
        "  ii = ii+1\n",
        "w = pd.DataFrame(w)\n",
        "w = w.transpose()\n",
        "w"
      ],
      "metadata": {
        "id": "1zWQiUuktotn"
      },
      "execution_count": null,
      "outputs": []
    },
    {
      "cell_type": "code",
      "source": [
        "def Euclidean_Dist(df1, df2, cols=list(w.columns)):\n",
        "    return np.linalg.norm(df1[cols].values - df2[cols].values,\n",
        "                   axis=0)"
      ],
      "metadata": {
        "id": "kvh18B3miN-m"
      },
      "execution_count": null,
      "outputs": []
    },
    {
      "cell_type": "code",
      "source": [
        "#euclidean distance\n",
        "def euclidean_dist(x):\n",
        "  q = np.array(test[test.index==x])\n",
        "  q = q/np.linalg.norm(q)\n",
        "  q = np.array([q[0],]*len(np.array(feature_pivtable)))\n",
        "  q = pd.DataFrame(q)\n",
        "  q = q.transpose()\n",
        "\n",
        "  temp = Euclidean_Dist(q, w)\n",
        "\n",
        "  temp = pd.DataFrame(temp)\n",
        "  temp['item_id'] = features['item_id'].unique()\n",
        "  temp = temp.set_index('item_id')\n",
        "\n",
        "  return temp.sort_values(by=0).head(100).index"
      ],
      "metadata": {
        "id": "sVs84JZ6gHkt"
      },
      "execution_count": null,
      "outputs": []
    },
    {
      "cell_type": "code",
      "source": [
        "def eucl_reduce(a,b):\n",
        "  return pd.concat([pd.DataFrame(a),pd.DataFrame(b)], ignore_index=True)#a.append(b) #"
      ],
      "metadata": {
        "id": "glHS9lilTEdk"
      },
      "execution_count": null,
      "outputs": []
    },
    {
      "cell_type": "code",
      "source": [
        "%%time\n",
        "l = list(map(euclidean_dist,lst))"
      ],
      "metadata": {
        "id": "YYkCow641noR"
      },
      "execution_count": null,
      "outputs": []
    },
    {
      "cell_type": "code",
      "source": [
        "l"
      ],
      "metadata": {
        "id": "guaP0z-UZyq5"
      },
      "execution_count": null,
      "outputs": []
    },
    {
      "cell_type": "code",
      "source": [
        "temp = Euclidean_Dist(q, w)\n",
        "\n",
        "temp = pd.DataFrame(temp)\n",
        "temp['item_id'] = features['item_id'].unique()\n",
        "temp = temp.set_index('item_id')\n",
        "\n",
        "temp.sort_values(by=0)\n"
      ],
      "metadata": {
        "id": "qUN12_fzXd_Q"
      },
      "execution_count": null,
      "outputs": []
    },
    {
      "cell_type": "code",
      "source": [
        "%%time\n",
        "\n",
        "import functools \n",
        "\n",
        "k = (functools.reduce(eucl_reduce,l)) "
      ],
      "metadata": {
        "id": "mA03X1js18sF"
      },
      "execution_count": null,
      "outputs": []
    },
    {
      "cell_type": "code",
      "source": [
        "k"
      ],
      "metadata": {
        "id": "z0aEIC8d1-EM"
      },
      "execution_count": null,
      "outputs": []
    },
    {
      "cell_type": "code",
      "source": [
        "# generate the Dataframe for the leaderboard score\n",
        "eucl_dist = pd.DataFrame();\n",
        "eucl_dist['session_id'] = test_leaderboard_sessions['session_id'].unique()\n",
        "eucl_dist  = eucl_dist.loc[eucl_dist.index.repeat(100)].reset_index(drop=True)\n",
        "eucl_dist['item_id'] = k\n",
        "eucl_dist['rank'] = eucl_dist.groupby('session_id').cumcount()+1\n",
        "eucl_dist = eucl_dist.set_index('session_id')\n",
        "eucl_dist"
      ],
      "metadata": {
        "id": "F1Mn8DoqT2uv"
      },
      "execution_count": null,
      "outputs": []
    },
    {
      "cell_type": "code",
      "source": [
        "eneucl_dist.to_csv('eucl_dist.csv')"
      ],
      "metadata": {
        "id": "t9Ucrd4zXrvM"
      },
      "execution_count": null,
      "outputs": []
    },
    {
      "cell_type": "markdown",
      "source": [
        "Finden der ids, welche nicht in eucl_dist vorhanden sind\n",
        "\n",
        "![Screenshot 2022-05-29 161240.png](data:image/png;base64,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)"
      ],
      "metadata": {
        "id": "HJewdOF9KYtU"
      }
    },
    {
      "cell_type": "markdown",
      "source": [
        "Wird geprüft wie viele der erhaltenen Items aus eucl_dist sich in dem items Datensatz befinden, erhält man 57,77986 %. Damit sind in dieser Vorherssage über die Hälfte der Vorgeschalgenen Items tatsächlich gekauft worden.\n",
        "\n",
        "Der score betrug für eucl_dist 0.02395626959030891 -> ~ 2.4 %. "
      ],
      "metadata": {
        "id": "UFJmnypkGxau"
      }
    },
    {
      "cell_type": "code",
      "source": [
        "s = list(items['item_id'].values)\n",
        "#the values in o are not in eucl_dist, so they get removed\n",
        "o =[1840, 2151, 3629, 4430, 5353, 5995, 11301, 12358, 12830, 14518, 14643, 15493, 18749, 20224, 26431, 26528]\n",
        "for i in o:\n",
        "  s.remove(i)\n",
        "#print the percentage of the item ids witch contained in items  \n",
        "eucl_dist['item_id'].value_counts()[s].sum() / eucl_dist['item_id'].value_counts().sum()*100"
      ],
      "metadata": {
        "id": "z4bukczWGYXG"
      },
      "execution_count": null,
      "outputs": []
    },
    {
      "cell_type": "markdown",
      "source": [
        "\n",
        "\n",
        "---\n",
        "\n",
        "### Nicht Normiert\n",
        "\n",
        "Zum Vergleich wird hier nocheinmal eine Vorhersage mit der Euklidischen Distanz getätigt, allerdings werden die Vektoren diesmal nicht Normiert."
      ],
      "metadata": {
        "id": "ZB_27jncrgBM"
      }
    },
    {
      "cell_type": "code",
      "source": [
        "w2 = np.zeros((len(np.array(feature_pivtable)),73))\n",
        "ii = 0\n",
        "for i in feature_pivtable.index:\n",
        "  w2[ii] = feature_pivtable[feature_pivtable.index==i]['feature_value_id']\n",
        "  #w[ii] = w[ii]/np.linalg.norm(w[ii])\n",
        "  ii = ii+1\n",
        "w2 = pd.DataFrame(w2)\n",
        "w2 = w2.transpose()\n",
        "w2"
      ],
      "metadata": {
        "id": "nE13ZEbho-bn"
      },
      "execution_count": null,
      "outputs": []
    },
    {
      "cell_type": "code",
      "source": [
        "#euclidean distance nicht normiert\n",
        "def euclidean_dist2(x):\n",
        "  q = np.array(test[test.index==x])\n",
        "  #q = q/np.linalg.norm(q)\n",
        "  q = np.array([q[0],]*len(np.array(feature_pivtable)))\n",
        "  q = pd.DataFrame(q)\n",
        "  q = q.transpose()\n",
        "\n",
        "  temp = Euclidean_Dist(q, w2)\n",
        "\n",
        "  temp = pd.DataFrame(temp)\n",
        "  temp['item_id'] = features['item_id'].unique()\n",
        "  temp = temp.set_index('item_id')\n",
        "\n",
        "  return temp.sort_values(by=0).head(100).index\n"
      ],
      "metadata": {
        "id": "hlHJGQGKo6vX"
      },
      "execution_count": null,
      "outputs": []
    },
    {
      "cell_type": "code",
      "source": [
        "%%time\n",
        "l2 = (map(euclidean_dist2,list(test.index)))"
      ],
      "metadata": {
        "id": "5PnjnC_6pTAU"
      },
      "execution_count": null,
      "outputs": []
    },
    {
      "cell_type": "code",
      "source": [
        "%%time\n",
        "\n",
        "import functools \n",
        "\n",
        "k2 = (functools.reduce(eucl_reduce,l2)) "
      ],
      "metadata": {
        "id": "SlFr4_qmpZ1W"
      },
      "execution_count": null,
      "outputs": []
    },
    {
      "cell_type": "code",
      "source": [
        "k2"
      ],
      "metadata": {
        "id": "elijEKH-pa4I"
      },
      "execution_count": null,
      "outputs": []
    },
    {
      "cell_type": "code",
      "source": [
        "# generate the Dataframe for the leaderboard score\n",
        "eucl_dist2 = pd.DataFrame();\n",
        "eucl_dist2['session_id'] = test_leaderboard_sessions['session_id'].unique()\n",
        "eucl_dist2  = eucl_dist2.loc[eucl_dist2.index.repeat(100)].reset_index(drop=True)\n",
        "eucl_dist2['item_id'] = k2\n",
        "eucl_dist2['rank'] = eucl_dist2.groupby('session_id').cumcount()+1\n",
        "eucl_dist2 = eucl_dist2.set_index('session_id')\n",
        "eucl_dist2"
      ],
      "metadata": {
        "id": "_uH2-tTMYAmD"
      },
      "execution_count": null,
      "outputs": []
    },
    {
      "cell_type": "code",
      "source": [
        "eucl_dist2.to_csv('eucl_dist2.csv')"
      ],
      "metadata": {
        "id": "cxKL7QSnY-x4"
      },
      "execution_count": null,
      "outputs": []
    },
    {
      "cell_type": "markdown",
      "source": [
        "Finden der ids, welche nicht in eucl_dist2 vorhanden sind.\n",
        "\n",
        "![Screenshot 2022-05-29 161052.png](data:image/png;base64,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)"
      ],
      "metadata": {
        "id": "leevCjU8KBNd"
      }
    },
    {
      "cell_type": "markdown",
      "source": [
        "Wird geprüft wie viele der erhaltenen Items aus eucl_dist2 sich in dem items Datensatz befinden, erhält man 42,60928 %. Damit sind in dieser Vorherssage weniger als die Hälfte der Vorgeschalgenen Items tatsächlich gekauft worden.\n",
        "\n",
        "Der score betrug für eucl_dist2 0,015383501137446897  -> ~  \t1,54  %. "
      ],
      "metadata": {
        "id": "rnTCuL9CIbzg"
      }
    },
    {
      "cell_type": "code",
      "source": [
        "s = list(items['item_id'].values)\n",
        "#the values in o are not in eucl_dist, so they get removed\n",
        "o =[2937, 3629, 5353, 5995, 8310, 11091, 11301, 12460, 13943, 14643, 20224, 22583, 25791, 26431, 26528, 27103]\n",
        "for i in o:\n",
        "  s.remove(i)\n",
        "#print the percentage of the item ids witch contained in items \n",
        "eucl_dist2['item_id'].value_counts()[s].sum() / eucl_dist2['item_id'].value_counts().sum()*100"
      ],
      "metadata": {
        "id": "GbMyKTYD9jtk"
      },
      "execution_count": null,
      "outputs": []
    },
    {
      "cell_type": "code",
      "source": [
        ""
      ],
      "metadata": {
        "id": "qrqAaDfGBgFf"
      },
      "execution_count": null,
      "outputs": []
    },
    {
      "cell_type": "code",
      "source": [
        "lst = [26 ,200]"
      ],
      "metadata": {
        "id": "s5bcnEMND-uE"
      },
      "execution_count": null,
      "outputs": []
    },
    {
      "cell_type": "code",
      "source": [
        "w3 = np.zeros((len(np.array(feature_pivtable)),73))\n",
        "ii = 0\n",
        "for i in feature_pivtable.index:\n",
        "  w3[ii] = feature_pivtable[feature_pivtable.index==i]['feature_value_id']\n",
        "  w3[ii] = w3[ii]/np.linalg.norm(w3[ii])\n",
        "  ii = ii+1\n",
        "w3 = pd.DataFrame(w3)\n",
        "#w3 = w3.transpose()\n",
        "w3"
      ],
      "metadata": {
        "id": "dODhEYS7BgI4"
      },
      "execution_count": null,
      "outputs": []
    },
    {
      "cell_type": "code",
      "source": [
        "def Euclidean_Dist3(df1, df2):\n",
        "    #return Lst.apply(lambda columns: cosine(df2[columns], df1[columns]), axis=1)\n",
        "    return paired_cosine_distances(df1,df2)"
      ],
      "metadata": {
        "id": "v3JEaf64DD_V"
      },
      "execution_count": null,
      "outputs": []
    },
    {
      "cell_type": "code",
      "source": [
        "#euclidean distance\n",
        "def euclidean_dist3(x):\n",
        "  q = np.array(test[test.index==x])\n",
        "  q = q/np.linalg.norm(q)\n",
        "  q = np.array([q[0],]*len(np.array(feature_pivtable)))\n",
        "  q = pd.DataFrame(q)\n",
        "  #q = q.transpose()\n",
        "\n",
        "  temp = Euclidean_Dist3(q, w3)\n",
        "\n",
        "  temp = pd.DataFrame(temp)\n",
        "  temp['item_id'] = features['item_id'].unique()\n",
        "  temp = temp.set_index('item_id')\n",
        "\n",
        "  return temp.sort_values(by=0).head(100).index"
      ],
      "metadata": {
        "id": "U3xIAt7ZDJnC"
      },
      "execution_count": null,
      "outputs": []
    },
    {
      "cell_type": "code",
      "source": [
        "def eucl_reduce3(a,b):\n",
        "  return pd.concat([pd.DataFrame(a),pd.DataFrame(b)], ignore_index=True)"
      ],
      "metadata": {
        "id": "dUKJkFffBmkD"
      },
      "execution_count": null,
      "outputs": []
    },
    {
      "cell_type": "code",
      "source": [
        "%%time\n",
        "l3 = (map(euclidean_dist3,list(test.index)))"
      ],
      "metadata": {
        "id": "-eZ82yFbDR1u"
      },
      "execution_count": null,
      "outputs": []
    },
    {
      "cell_type": "code",
      "source": [
        "q = np.array(test[test.index==26])\n",
        "q = q/np.linalg.norm(q)\n",
        "#q = np.array([q[0],]*len(np.array(feature_pivtable)))\n",
        "q = pd.DataFrame(q)\n",
        "q = q.transpose()\n",
        "\n",
        "  #temp = Euclidean_Dist3(q, w3)\n",
        "\n",
        "\n",
        "q\n",
        "  "
      ],
      "metadata": {
        "id": "LCmMOge5U0fB"
      },
      "execution_count": null,
      "outputs": []
    },
    {
      "cell_type": "code",
      "source": [
        "cosine(q[0],w3[w3.index==18])"
      ],
      "metadata": {
        "id": "IQyJLIXecDkM"
      },
      "execution_count": null,
      "outputs": []
    },
    {
      "cell_type": "code",
      "source": [
        "q[0]"
      ],
      "metadata": {
        "id": "m5U-_lpzckOI"
      },
      "execution_count": null,
      "outputs": []
    },
    {
      "cell_type": "code",
      "source": [
        "w3[w3.index==18]"
      ],
      "metadata": {
        "id": "OUTIpf15cmb2"
      },
      "execution_count": null,
      "outputs": []
    },
    {
      "cell_type": "code",
      "source": [
        "temp[temp.index==26]"
      ],
      "metadata": {
        "id": "ytwwFp9Sa389"
      },
      "execution_count": null,
      "outputs": []
    },
    {
      "cell_type": "code",
      "source": [
        "%%time\n",
        "\n",
        "import functools \n",
        "\n",
        "k3 = (functools.reduce(eucl_reduce3,l3)) "
      ],
      "metadata": {
        "id": "Qv8pp1jUDWX3"
      },
      "execution_count": null,
      "outputs": []
    },
    {
      "cell_type": "code",
      "source": [
        "k3"
      ],
      "metadata": {
        "id": "OcKGWufLWzXZ"
      },
      "execution_count": null,
      "outputs": []
    },
    {
      "cell_type": "code",
      "source": [
        "# generate the Dataframe for the leaderboard score\n",
        "eucl_dist3 = pd.DataFrame();\n",
        "eucl_dist3['session_id'] = test_leaderboard_sessions['session_id'].unique()\n",
        "eucl_dist3  = eucl_dist3.loc[eucl_dist3.index.repeat(100)].reset_index(drop=True)\n",
        "eucl_dist3['item_id'] = k3\n",
        "eucl_dist3['rank'] = eucl_dist3.groupby('session_id').cumcount()+1\n",
        "eucl_dist3 = eucl_dist3.set_index('session_id')\n",
        "eucl_dist3\n"
      ],
      "metadata": {
        "id": "UauCwsKcfBLH"
      },
      "execution_count": null,
      "outputs": []
    },
    {
      "cell_type": "code",
      "source": [
        "eucl_dist3.to_csv('eucl_dist3.csv')"
      ],
      "metadata": {
        "id": "GJao0FZ9fI2s"
      },
      "execution_count": null,
      "outputs": []
    },
    {
      "cell_type": "code",
      "source": [
        "from sklearn.metrics.pairwise import cosine_similarity,paired_cosine_distances\n",
        "from scipy.spatial.distance import cosine"
      ],
      "metadata": {
        "id": "vqf5joxfRZat"
      },
      "execution_count": null,
      "outputs": []
    },
    {
      "cell_type": "code",
      "source": [
        "A = pd.DataFrame()\n",
        "A[0] = [2,2,3]\n",
        "A[1] = [2,3,2]\n",
        "\n",
        "B = pd.DataFrame()\n",
        "B[0] = [8,2,3]\n",
        "B[1] = [2,3,2]\n",
        "\n",
        "list(A.columns)\n",
        "paired_cosine_distances(A,B)\n"
      ],
      "metadata": {
        "id": "A-Cn4U87YByz"
      },
      "execution_count": null,
      "outputs": []
    },
    {
      "cell_type": "code",
      "source": [
        "cosine(A[A.index==1],B[B.index==1])"
      ],
      "metadata": {
        "id": "NAkyvfv-aDJo"
      },
      "execution_count": null,
      "outputs": []
    },
    {
      "cell_type": "code",
      "source": [
        "A"
      ],
      "metadata": {
        "id": "dyiKHvBcaf42"
      },
      "execution_count": null,
      "outputs": []
    },
    {
      "cell_type": "code",
      "source": [
        "B"
      ],
      "metadata": {
        "id": "iKGJv8tbahR3"
      },
      "execution_count": null,
      "outputs": []
    },
    {
      "cell_type": "code",
      "source": [
        "k3[k3['item_id']==19185]"
      ],
      "metadata": {
        "id": "fZfA7uGRFxl2"
      },
      "execution_count": null,
      "outputs": []
    },
    {
      "cell_type": "code",
      "source": [
        "  q = np.array(test[test.index==26])\n",
        "  q = q/np.linalg.norm(q)\n",
        "  q = np.array([q[0],]*len(np.array(feature_pivtable)))\n",
        "  q = pd.DataFrame(q)\n",
        "  q = q.transpose()\n",
        "  q"
      ],
      "metadata": {
        "id": "jk-22O8_KZTW"
      },
      "execution_count": null,
      "outputs": []
    },
    {
      "cell_type": "code",
      "source": [
        "lst = pd.DataFrame(lst)"
      ],
      "metadata": {
        "id": "GHQukQuiMx0p"
      },
      "execution_count": null,
      "outputs": []
    },
    {
      "cell_type": "code",
      "source": [
        "%%time\n",
        "from scipy.spatial.distance import cosine\n",
        "\n",
        "df =Lst.apply(lambda row: 1 - cosine(w3[row], q[row]), axis=1)"
      ],
      "metadata": {
        "id": "ooX6ESisKA6q"
      },
      "execution_count": null,
      "outputs": []
    },
    {
      "cell_type": "code",
      "source": [
        "df"
      ],
      "metadata": {
        "id": "j4wr0EkmL7Cm"
      },
      "execution_count": null,
      "outputs": []
    },
    {
      "cell_type": "code",
      "source": [
        "A = np.array(q[200])"
      ],
      "metadata": {
        "id": "B9mFVZcDLnr0"
      },
      "execution_count": null,
      "outputs": []
    },
    {
      "cell_type": "code",
      "source": [
        "B = np.array(w3[200])"
      ],
      "metadata": {
        "id": "aU45h8XfKhzO"
      },
      "execution_count": null,
      "outputs": []
    },
    {
      "cell_type": "code",
      "source": [
        "1 - cosine(A, B)"
      ],
      "metadata": {
        "id": "XGxXCvw_PCHO"
      },
      "execution_count": null,
      "outputs": []
    },
    {
      "cell_type": "code",
      "source": [
        "Lst = pd.DataFrame(list(range(23691 )))"
      ],
      "metadata": {
        "id": "2bjAyke6Ph3Q"
      },
      "execution_count": null,
      "outputs": []
    },
    {
      "cell_type": "markdown",
      "source": [
        "# Tensorflow recomenders"
      ],
      "metadata": {
        "id": "kf57mmmZTOgO"
      }
    },
    {
      "cell_type": "code",
      "source": [
        ""
      ],
      "metadata": {
        "id": "wI8A8nvdbYnV"
      },
      "execution_count": null,
      "outputs": []
    }
  ],
  "metadata": {
    "kernelspec": {
      "display_name": "Python 3",
      "language": "python",
      "name": "python3"
    },
    "language_info": {
      "codemirror_mode": {
        "name": "ipython",
        "version": 3
      },
      "file_extension": ".py",
      "mimetype": "text/x-python",
      "name": "python",
      "nbconvert_exporter": "python",
      "pygments_lexer": "ipython3",
      "version": "3.7.6"
    },
    "colab": {
      "name": "data.ipynb",
      "provenance": [],
      "toc_visible": true,
      "include_colab_link": true
    }
  },
  "nbformat": 4,
  "nbformat_minor": 0
}