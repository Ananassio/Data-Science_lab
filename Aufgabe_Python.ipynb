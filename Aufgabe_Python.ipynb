{
  "cells": [
    {
      "cell_type": "markdown",
      "metadata": {
        "id": "view-in-github",
        "colab_type": "text"
      },
      "source": [
        "<a href=\"https://colab.research.google.com/github/Ananassio/Data-Science_lab/blob/main/Aufgabe_Python.ipynb\" target=\"_parent\"><img src=\"https://colab.research.google.com/assets/colab-badge.svg\" alt=\"Open In Colab\"/></a>"
      ]
    },
    {
      "cell_type": "markdown",
      "metadata": {
        "id": "Ptsu2IY2flll"
      },
      "source": [
        "# Exercise I: Your own Python module "
      ]
    },
    {
      "cell_type": "code",
      "source": [
        "%%writefile MySuperModule.py\n",
        "# create a new Module with the name MySuperModule.py\n",
        "\n",
        "class ListKeeper:\n",
        "# create the class ListKeeper \n",
        "\n",
        "  listx={}\n",
        "  # define a dictionary inside the class\n",
        "\n",
        "  def __init__(self):\n",
        "    self.listx[\"example\"] = [1,2,3,4,5]\n",
        "    # create initial a dictionary example\n",
        "\n",
        "  def add(self,name,val):\n",
        "    self.listx[name]=val\n",
        "    # add function for adding a new list\n",
        "\n",
        "  def show(self):\n",
        "    print(self.listx)\n",
        "    # print all created lists\n",
        "\n",
        "  def delete(self,name):\n",
        "    self.listx.pop(name)\n",
        "    # delete one list out of the dictionary\n",
        "\n",
        "  def sort(self,name):\n",
        "    self.listx[name].sort()\n",
        "    # sort on of the lists\n",
        "\n",
        "  def append(self,name,val):\n",
        "    self.listx[name].append(val)\n",
        "    # append values to a list\n",
        "\n",
        "  def clear(self):\n",
        "    self.listx.clear()\n",
        "    # clear the dictionary\n",
        "\n",
        "\n",
        "\n"
      ],
      "metadata": {
        "id": "hRl4qp_IftDM",
        "colab": {
          "base_uri": "https://localhost:8080/"
        },
        "outputId": "f549769d-7cdf-4d87-abde-83dacd65d27a"
      },
      "execution_count": 82,
      "outputs": [
        {
          "output_type": "stream",
          "name": "stdout",
          "text": [
            "Overwriting MySuperModule.py\n"
          ]
        }
      ]
    },
    {
      "cell_type": "markdown",
      "metadata": {
        "id": "p6hgbryKfllm"
      },
      "source": [
        "Write your own python module (choose a name) with the following properties:\n",
        "\n",
        "1. start new python file for the module\n",
        "2. define a class ***ListKeeper*** with the following properties and API:\n",
        "   1. ***Listkeeper*** strores named lists (hint: use dictionaries) \n",
        "   2. it initializes with a list named *example*: [1,2,3,4,5]\n",
        "   3. ``show()`` returns all list names\n",
        "   4. ``add(name, list)`` adds a new list\n",
        "   5. ``delete(name)`` deletes list\n",
        "   6. ``sort(name)`` returns the sorted list *name*\n",
        "   7. ``append(name, list)`` appends *list* to *name* \n",
        "3. add comments and documentation to your class\n",
        "4. Import your module in this notebook\n",
        "5. write tests to check the functionality of your class "
      ]
    },
    {
      "cell_type": "code",
      "execution_count": 84,
      "metadata": {
        "colab": {
          "base_uri": "https://localhost:8080/",
          "height": 411
        },
        "id": "5u4c0vuwfllp",
        "outputId": "1465c204-a6c0-4e7e-f2ed-c60587492a7b"
      },
      "outputs": [
        {
          "output_type": "stream",
          "name": "stdout",
          "text": [
            "{'zahlen': [1, 5, 4, 3, 2, 6], 'example': [1, 2, 3, 4, 5], 'eins': 1}\n",
            "{'zahlen': [1, 5, 4, 3, 2, 6], 'example': [1, 2, 3, 4, 5], 'eins': 1}\n"
          ]
        },
        {
          "output_type": "error",
          "ename": "AttributeError",
          "evalue": "ignored",
          "traceback": [
            "\u001b[0;31m---------------------------------------------------------------------------\u001b[0m",
            "\u001b[0;31mAttributeError\u001b[0m                            Traceback (most recent call last)",
            "\u001b[0;32m<ipython-input-84-24452e75624d>\u001b[0m in \u001b[0;36m<module>\u001b[0;34m()\u001b[0m\n\u001b[1;32m     23\u001b[0m \u001b[0ma\u001b[0m\u001b[0;34m.\u001b[0m\u001b[0mshow\u001b[0m\u001b[0;34m(\u001b[0m\u001b[0;34m)\u001b[0m              \u001b[0;31m# show the lists\u001b[0m\u001b[0;34m\u001b[0m\u001b[0;34m\u001b[0m\u001b[0m\n\u001b[1;32m     24\u001b[0m \u001b[0;34m\u001b[0m\u001b[0m\n\u001b[0;32m---> 25\u001b[0;31m \u001b[0ma\u001b[0m\u001b[0;34m.\u001b[0m\u001b[0msort\u001b[0m\u001b[0;34m(\u001b[0m\u001b[0;34m'zahlen'\u001b[0m\u001b[0;34m)\u001b[0m      \u001b[0;31m# sort the list zahlen\u001b[0m\u001b[0;34m\u001b[0m\u001b[0;34m\u001b[0m\u001b[0m\n\u001b[0m\u001b[1;32m     26\u001b[0m \u001b[0;34m\u001b[0m\u001b[0m\n\u001b[1;32m     27\u001b[0m \u001b[0ma\u001b[0m\u001b[0;34m.\u001b[0m\u001b[0mshow\u001b[0m\u001b[0;34m(\u001b[0m\u001b[0;34m)\u001b[0m              \u001b[0;31m# show the lists now\u001b[0m\u001b[0;34m\u001b[0m\u001b[0;34m\u001b[0m\u001b[0m\n",
            "\u001b[0;32m<ipython-input-16-4613db3a9cf4>\u001b[0m in \u001b[0;36msort\u001b[0;34m(self, name)\u001b[0m\n\u001b[1;32m     16\u001b[0m \u001b[0;34m\u001b[0m\u001b[0m\n\u001b[1;32m     17\u001b[0m   \u001b[0;32mdef\u001b[0m \u001b[0msort\u001b[0m\u001b[0;34m(\u001b[0m\u001b[0mself\u001b[0m\u001b[0;34m,\u001b[0m\u001b[0mname\u001b[0m\u001b[0;34m)\u001b[0m\u001b[0;34m:\u001b[0m\u001b[0;34m\u001b[0m\u001b[0;34m\u001b[0m\u001b[0m\n\u001b[0;32m---> 18\u001b[0;31m     \u001b[0mself\u001b[0m\u001b[0;34m.\u001b[0m\u001b[0mlistx\u001b[0m\u001b[0;34m.\u001b[0m\u001b[0msort\u001b[0m\u001b[0;34m(\u001b[0m\u001b[0mname\u001b[0m\u001b[0;34m)\u001b[0m\u001b[0;34m\u001b[0m\u001b[0;34m\u001b[0m\u001b[0m\n\u001b[0m\u001b[1;32m     19\u001b[0m \u001b[0;34m\u001b[0m\u001b[0m\n\u001b[1;32m     20\u001b[0m   \u001b[0;32mdef\u001b[0m \u001b[0mappend\u001b[0m\u001b[0;34m(\u001b[0m\u001b[0mself\u001b[0m\u001b[0;34m,\u001b[0m\u001b[0mname\u001b[0m\u001b[0;34m,\u001b[0m\u001b[0mval\u001b[0m\u001b[0;34m)\u001b[0m\u001b[0;34m:\u001b[0m\u001b[0;34m\u001b[0m\u001b[0;34m\u001b[0m\u001b[0m\n",
            "\u001b[0;31mAttributeError\u001b[0m: 'dict' object has no attribute 'sort'"
          ]
        }
      ],
      "source": [
        "# load the autoreload extension\n",
        "%reload_ext autoreload\n",
        "# Set extension to reload modules every time before executing code\n",
        "%autoreload 2\n",
        "\n",
        "import MySuperModule # import the module\n",
        "\n",
        "# load the autoreload extension\n",
        "%reload_ext autoreload\n",
        "# Set extension to reload modules every time before executing code\n",
        "%autoreload 2\n",
        "\n",
        "a=ListKeeper()        # initialize the class\n",
        "\n",
        "#a.clear()\n",
        "\n",
        "a.show()              # show the lists of the class\n",
        "\n",
        "a.add('eins',1)       # add a new list \n",
        "\n",
        "a.add('zahlen',[1,5,4,3,2,6]) # add another list\n",
        "\n",
        "a.show()              # show the lists\n",
        "\n",
        "a.sort('zahlen')      # sort the list zahlen\n",
        "\n",
        "a.show()              # show the lists now\n",
        "\n",
        "a.append('zahlen', [10,11]) # add 10 11 to the list zahlen\n",
        "\n",
        "a.show()              # show the lists\n",
        "\n",
        "a.delete('eins')      # delete list eins\n",
        "\n",
        "a.show()              # show the lists\n"
      ]
    },
    {
      "cell_type": "code",
      "source": [
        ""
      ],
      "metadata": {
        "id": "R9kswajnHNLg"
      },
      "execution_count": null,
      "outputs": []
    }
  ],
  "metadata": {
    "kernelspec": {
      "display_name": "Python 3",
      "language": "python",
      "name": "python3"
    },
    "language_info": {
      "codemirror_mode": {
        "name": "ipython",
        "version": 3
      },
      "file_extension": ".py",
      "mimetype": "text/x-python",
      "name": "python",
      "nbconvert_exporter": "python",
      "pygments_lexer": "ipython3",
      "version": "3.7.6"
    },
    "colab": {
      "name": "Aufgabe_Python.ipynb",
      "provenance": [],
      "include_colab_link": true
    }
  },
  "nbformat": 4,
  "nbformat_minor": 0
}