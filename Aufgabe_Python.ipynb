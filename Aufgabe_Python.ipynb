{
  "cells": [
    {
      "cell_type": "markdown",
      "metadata": {
        "id": "view-in-github",
        "colab_type": "text"
      },
      "source": [
        "<a href=\"https://colab.research.google.com/github/Ananassio/Data-Science_lab/blob/main/Aufgabe_Python.ipynb\" target=\"_parent\"><img src=\"https://colab.research.google.com/assets/colab-badge.svg\" alt=\"Open In Colab\"/></a>"
      ]
    },
    {
      "cell_type": "markdown",
      "metadata": {
        "id": "Ptsu2IY2flll"
      },
      "source": [
        "# Exercise I: Your own Python module "
      ]
    },
    {
      "cell_type": "code",
      "source": [
        "%%writefile MySuperModule.py\n",
        "# create a new Module with the name MySuperModule.py\n",
        "\n",
        "class ListKeeper:\n",
        "# create the class ListKeeper \n",
        "\n",
        "  listx={}\n",
        "  # define a dictionary inside the class\n",
        "\n",
        "  def __init__(self):\n",
        "    self.listx[\"example\"] = [1,2,3,4,5]\n",
        "    # create initial a dictionary example\n",
        "\n",
        "  def add(self,name,val):\n",
        "    self.listx[name]=val\n",
        "    # add function for adding a new list\n",
        "\n",
        "  def show(self):\n",
        "    print(self.listx)\n",
        "    # print all created lists\n",
        "\n",
        "  def delete(self,name):\n",
        "    self.listx.pop(name)\n",
        "    # delete one list out of the dictionary\n",
        "\n",
        "  def sorted(self,name):\n",
        "    self.listx.sorted(name)\n",
        "    # sort on of the lists\n",
        "\n",
        "  def append(self,name,val):\n",
        "    self.listx[name].append(val)\n",
        "    # append values to a list\n",
        "\n",
        "  def clear(self):\n",
        "    self.listx.clear()\n",
        "    # clear the dictionary\n",
        "\n",
        "\n",
        "\n"
      ],
      "metadata": {
        "id": "hRl4qp_IftDM",
        "colab": {
          "base_uri": "https://localhost:8080/"
        },
        "outputId": "3b297841-b352-490c-8fd7-fe49ad8ce5fb"
      },
      "execution_count": 61,
      "outputs": [
        {
          "output_type": "stream",
          "name": "stdout",
          "text": [
            "Overwriting MySuperModule.py\n"
          ]
        }
      ]
    },
    {
      "cell_type": "markdown",
      "metadata": {
        "id": "p6hgbryKfllm"
      },
      "source": [
        "Write your own python module (choose a name) with the following properties:\n",
        "\n",
        "1. start new python file for the module\n",
        "2. define a class ***ListKeeper*** with the following properties and API:\n",
        "   1. ***Listkeeper*** strores named lists (hint: use dictionaries) \n",
        "   2. it initializes with a list named *example*: [1,2,3,4,5]\n",
        "   3. ``show()`` returns all list names\n",
        "   4. ``add(name, list)`` adds a new list\n",
        "   5. ``delete(name)`` deletes list\n",
        "   6. ``sort(name)`` returns the sorted list *name*\n",
        "   7. ``append(name, list)`` appends *list* to *name* \n",
        "3. add comments and documentation to your class\n",
        "4. Import your module in this notebook\n",
        "5. write tests to check the functionality of your class "
      ]
    },
    {
      "cell_type": "code",
      "execution_count": 63,
      "metadata": {
        "colab": {
          "base_uri": "https://localhost:8080/",
          "height": 319
        },
        "id": "5u4c0vuwfllp",
        "outputId": "2ddb0553-e15c-4ea9-8635-76d16a2e3c74"
      },
      "outputs": [
        {
          "output_type": "stream",
          "name": "stdout",
          "text": [
            "The autoreload extension is already loaded. To reload it, use:\n",
            "  %reload_ext autoreload\n",
            "{'example': [1, 2, 3, 4, 5], 'zahlen': [1, 5, 4, 3, 2, 6], 'eins': 1}\n",
            "{'example': [1, 2, 3, 4, 5], 'zahlen': [1, 5, 4, 3, 2, 6], 'eins': 1}\n"
          ]
        },
        {
          "output_type": "error",
          "ename": "AttributeError",
          "evalue": "ignored",
          "traceback": [
            "\u001b[0;31m---------------------------------------------------------------------------\u001b[0m",
            "\u001b[0;31mAttributeError\u001b[0m                            Traceback (most recent call last)",
            "\u001b[0;32m<ipython-input-63-14aa831444b7>\u001b[0m in \u001b[0;36m<module>\u001b[0;34m()\u001b[0m\n\u001b[1;32m     19\u001b[0m \u001b[0ma\u001b[0m\u001b[0;34m.\u001b[0m\u001b[0mshow\u001b[0m\u001b[0;34m(\u001b[0m\u001b[0;34m)\u001b[0m              \u001b[0;31m# show the lists\u001b[0m\u001b[0;34m\u001b[0m\u001b[0;34m\u001b[0m\u001b[0m\n\u001b[1;32m     20\u001b[0m \u001b[0;34m\u001b[0m\u001b[0m\n\u001b[0;32m---> 21\u001b[0;31m \u001b[0ma\u001b[0m\u001b[0;34m.\u001b[0m\u001b[0msorted\u001b[0m\u001b[0;34m(\u001b[0m\u001b[0;34m'zahlen'\u001b[0m\u001b[0;34m)\u001b[0m      \u001b[0;31m# sort the list zahlen\u001b[0m\u001b[0;34m\u001b[0m\u001b[0;34m\u001b[0m\u001b[0m\n\u001b[0m\u001b[1;32m     22\u001b[0m \u001b[0;34m\u001b[0m\u001b[0m\n\u001b[1;32m     23\u001b[0m \u001b[0ma\u001b[0m\u001b[0;34m.\u001b[0m\u001b[0mshow\u001b[0m\u001b[0;34m(\u001b[0m\u001b[0;34m)\u001b[0m              \u001b[0;31m# show the lists now\u001b[0m\u001b[0;34m\u001b[0m\u001b[0;34m\u001b[0m\u001b[0m\n",
            "\u001b[0;31mAttributeError\u001b[0m: 'ListKeeper' object has no attribute 'sorted'"
          ]
        }
      ],
      "source": [
        "# load the autoreload extension\n",
        "%load_ext autoreload\n",
        "# Set extension to reload modules every time before executing code\n",
        "%autoreload 2\n",
        "\n",
        "import MySuperModule # import the module\n",
        "\n",
        "\n",
        "a=ListKeeper()        # initialize the class\n",
        "\n",
        "#a.clear()\n",
        "\n",
        "a.show()              # show the lists of the class\n",
        "\n",
        "a.add('eins',1)       # add a new list \n",
        "\n",
        "a.add('zahlen',[1,5,4,3,2,6]) # add another list\n",
        "\n",
        "a.show()              # show the lists\n",
        "\n",
        "a.sorted('zahlen')      # sort the list zahlen\n",
        "\n",
        "a.show()              # show the lists now\n",
        "\n",
        "a.append('zahlen', [10,11]) # add 10 11 to the list zahlen\n",
        "\n",
        "a.show()              # show the lists\n",
        "\n",
        "#a.delete('eins')      # delete list eins\n",
        "\n",
        "a.show()              # show the lists\n"
      ]
    },
    {
      "cell_type": "code",
      "source": [
        ""
      ],
      "metadata": {
        "id": "R9kswajnHNLg"
      },
      "execution_count": null,
      "outputs": []
    }
  ],
  "metadata": {
    "kernelspec": {
      "display_name": "Python 3",
      "language": "python",
      "name": "python3"
    },
    "language_info": {
      "codemirror_mode": {
        "name": "ipython",
        "version": 3
      },
      "file_extension": ".py",
      "mimetype": "text/x-python",
      "name": "python",
      "nbconvert_exporter": "python",
      "pygments_lexer": "ipython3",
      "version": "3.7.6"
    },
    "colab": {
      "name": "Aufgabe_Python.ipynb",
      "provenance": [],
      "include_colab_link": true
    }
  },
  "nbformat": 4,
  "nbformat_minor": 0
}