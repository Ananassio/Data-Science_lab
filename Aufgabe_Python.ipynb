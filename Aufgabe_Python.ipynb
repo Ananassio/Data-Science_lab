{
  "cells": [
    {
      "cell_type": "markdown",
      "metadata": {
        "id": "view-in-github",
        "colab_type": "text"
      },
      "source": [
        "<a href=\"https://colab.research.google.com/github/Ananassio/Data-Science_lab/blob/main/Aufgabe_Python.ipynb\" target=\"_parent\"><img src=\"https://colab.research.google.com/assets/colab-badge.svg\" alt=\"Open In Colab\"/></a>"
      ]
    },
    {
      "cell_type": "markdown",
      "metadata": {
        "id": "Ptsu2IY2flll"
      },
      "source": [
        "# Exercise I: Your own Python module "
      ]
    },
    {
      "cell_type": "code",
      "source": [
        "%%writefile MySuperModule.py\n",
        "# create a new Module with the name MySuperModule.py\n",
        "\n",
        "class ListKeeper:\n",
        "# create the class ListKeeper \n",
        "\n",
        "  listx={}\n",
        "  # define a dictionary inside the class\n",
        "\n",
        "  def __init__(self):\n",
        "    self.listx[\"example\"] = [1,2,3,4,5]\n",
        "    # create initial a dictionary example\n",
        "\n",
        "  def add(self,name,val):\n",
        "    self.listx[name]=val\n",
        "    # add function for adding a new list\n",
        "\n",
        "  def show(self):\n",
        "    print(self.listx)\n",
        "    # print all created lists\n",
        "\n",
        "  def delete(self,name):\n",
        "    self.listx.pop(name)\n",
        "    # delete one list out of the dictionary\n",
        "\n",
        "  def sort(self,name):\n",
        "    self.listx[name].sort()\n",
        "    # sort one of the lists\n",
        "\n",
        "  def append(self,name,val):\n",
        "    self.listx[name].append(val)\n",
        "    # append values to a list\n",
        "\n",
        "  def clear(self):\n",
        "    self.listx.clear()\n",
        "    # clear the dictionary\n",
        "\n",
        "\n",
        "\n"
      ],
      "metadata": {
        "id": "hRl4qp_IftDM",
        "colab": {
          "base_uri": "https://localhost:8080/"
        },
        "outputId": "e7e615e2-834d-4d4d-deae-579045367f0b"
      },
      "execution_count": 85,
      "outputs": [
        {
          "output_type": "stream",
          "name": "stdout",
          "text": [
            "Overwriting MySuperModule.py\n"
          ]
        }
      ]
    },
    {
      "cell_type": "markdown",
      "metadata": {
        "id": "p6hgbryKfllm"
      },
      "source": [
        "Write your own python module (choose a name) with the following properties:\n",
        "\n",
        "1. start new python file for the module\n",
        "2. define a class ***ListKeeper*** with the following properties and API:\n",
        "   1. ***Listkeeper*** strores named lists (hint: use dictionaries) \n",
        "   2. it initializes with a list named *example*: [1,2,3,4,5]\n",
        "   3. ``show()`` returns all list names\n",
        "   4. ``add(name, list)`` adds a new list\n",
        "   5. ``delete(name)`` deletes list\n",
        "   6. ``sort(name)`` returns the sorted list *name*\n",
        "   7. ``append(name, list)`` appends *list* to *name* \n",
        "3. add comments and documentation to your class\n",
        "4. Import your module in this notebook\n",
        "5. write tests to check the functionality of your class "
      ]
    },
    {
      "cell_type": "code",
      "execution_count": null,
      "metadata": {
        "id": "5u4c0vuwfllp"
      },
      "outputs": [],
      "source": [
        "import MySuperModule as MSM # import the module\n",
        "\n",
        "# load the autoreload extension\n",
        "%reload_ext autoreload\n",
        "# Set extension to reload modules every time before executing code\n",
        "%autoreload 2\n",
        "\n",
        "# initialize the module\n",
        "b=MSM.ListKeeper()\n",
        "\n",
        "print('-------------------------------------------------------------------------\\n\\ninitial data')\n",
        "# show the initial data of the module\n",
        "b.show()\n",
        "\n",
        "print('\\n-------------------------------------------------------------------------\\n\\nadd another list')\n",
        "# add another list \n",
        "b.add('numbers',[2,5,4,3])\n",
        "b.show()\n",
        "\n",
        "print('\\n-------------------------------------------------------------------------\\n\\nsort the added list')\n",
        "# sort the added list\n",
        "b.sort('numbers')\n",
        "b.show()\n",
        "\n",
        "print('\\n-------------------------------------------------------------------------\\n\\nappend 10 and 12 to the added list')\n",
        "# append 10 and 12 to 'numbers'\n",
        "b.append('numbers',10)\n",
        "b.append('numbers',12)\n",
        "b.show()\n",
        "\n",
        "print('\\n-------------------------------------------------------------------------\\n\\ndelete the list numbers')\n",
        "# delete the list 'numbers'\n",
        "b.delete('numbers')\n",
        "b.show()\n",
        "\n",
        "print('\\n-------------------------------------------------------------------------\\n\\nclear the hole dictionary')\n",
        "# clear the hole dictionary\n",
        "b.clear()\n",
        "b.show()\n"
      ]
    }
  ],
  "metadata": {
    "kernelspec": {
      "display_name": "Python 3",
      "language": "python",
      "name": "python3"
    },
    "language_info": {
      "codemirror_mode": {
        "name": "ipython",
        "version": 3
      },
      "file_extension": ".py",
      "mimetype": "text/x-python",
      "name": "python",
      "nbconvert_exporter": "python",
      "pygments_lexer": "ipython3",
      "version": "3.7.6"
    },
    "colab": {
      "name": "Aufgabe_Python.ipynb",
      "provenance": [],
      "include_colab_link": true
    }
  },
  "nbformat": 4,
  "nbformat_minor": 0
}