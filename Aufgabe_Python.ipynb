{
  "cells": [
    {
      "cell_type": "markdown",
      "metadata": {
        "id": "view-in-github",
        "colab_type": "text"
      },
      "source": [
        "<a href=\"https://colab.research.google.com/github/Ananassio/Data-Science_lab/blob/main/Aufgabe_Python.ipynb\" target=\"_parent\"><img src=\"https://colab.research.google.com/assets/colab-badge.svg\" alt=\"Open In Colab\"/></a>"
      ]
    },
    {
      "cell_type": "markdown",
      "metadata": {
        "id": "Ptsu2IY2flll"
      },
      "source": [
        "# Exercise I: Your own Python module "
      ]
    },
    {
      "cell_type": "code",
      "source": [
        "#def MSM():\n",
        "class ListKeeper:\n",
        "  listx={}\n",
        "\n",
        "  def __init__(self):\n",
        "    self.listx[\"example\"] = [1,2,3,4,5]\n",
        "\n",
        "  def add(self,name,val):\n",
        "    self.listx[name]=val\n",
        "\n",
        "  def show(self):\n",
        "    print(self.listx)\n",
        "\n",
        "  def delete(self,name):\n",
        "    self.listx.pop(name)\n",
        "\n",
        "  def sort(self,name):\n",
        "    self.listx.sort(name)\n",
        "\n",
        "  def append(self,name,val):\n",
        "    self.listx[name].append(val)\n",
        "\n",
        "\n",
        "\n",
        "a=ListKeeper()\n",
        "a.show()\n",
        "a.add('eins',1)\n",
        "a.show()"
      ],
      "metadata": {
        "id": "hRl4qp_IftDM",
        "outputId": "547a95cc-2170-4c3c-ec5a-0911f5cd70dd",
        "colab": {
          "base_uri": "https://localhost:8080/"
        }
      },
      "execution_count": 16,
      "outputs": [
        {
          "output_type": "stream",
          "name": "stdout",
          "text": [
            "{'example': [1, 2, 3, 4, 5]}\n",
            "{'example': [1, 2, 3, 4, 5], 'eins': 1}\n"
          ]
        }
      ]
    },
    {
      "cell_type": "markdown",
      "metadata": {
        "id": "p6hgbryKfllm"
      },
      "source": [
        "Write your own python module (choose a name) with the following properties:\n",
        "\n",
        "1. start new python file for the module\n",
        "2. define a class ***ListKeeper*** with the following properties and API:\n",
        "   1. ***Listkeeper*** strores named lists (hint: use dictionaries) \n",
        "   2. it initializes with a list named *example*: [1,2,3,4,5]\n",
        "   3. ``show()`` returns all list names\n",
        "   4. ``add(name, list)`` adds a new list\n",
        "   5. ``delete(name)`` deletes list\n",
        "   6. ``sort(name)`` returns the sorted list *name*\n",
        "   7. ``append(name, list)`` appends *list* to *name* \n",
        "3. add comments and documentation to your class\n",
        "4. Import your module in this notebook\n",
        "5. write tests to check the functionality of your class "
      ]
    },
    {
      "cell_type": "code",
      "execution_count": null,
      "metadata": {
        "id": "5u4c0vuwfllp"
      },
      "outputs": [],
      "source": [
        "#import MySuperModule\n",
        "\n"
      ]
    },
    {
      "cell_type": "code",
      "source": [
        ""
      ],
      "metadata": {
        "id": "3PR06ao8stWn"
      },
      "execution_count": null,
      "outputs": []
    }
  ],
  "metadata": {
    "kernelspec": {
      "display_name": "Python 3",
      "language": "python",
      "name": "python3"
    },
    "language_info": {
      "codemirror_mode": {
        "name": "ipython",
        "version": 3
      },
      "file_extension": ".py",
      "mimetype": "text/x-python",
      "name": "python",
      "nbconvert_exporter": "python",
      "pygments_lexer": "ipython3",
      "version": "3.7.6"
    },
    "colab": {
      "name": "Aufgabe_Python.ipynb",
      "provenance": [],
      "include_colab_link": true
    }
  },
  "nbformat": 4,
  "nbformat_minor": 0
}